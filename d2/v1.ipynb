{
 "cells": [
  {
   "cell_type": "code",
   "execution_count": 2,
   "metadata": {},
   "outputs": [],
   "source": [
    "import cv2 as cv\n",
    "import numpy as np"
   ]
  },
  {
   "cell_type": "code",
   "execution_count": 7,
   "metadata": {},
   "outputs": [
    {
     "data": {
      "text/plain": [
       "'d:\\\\DPythonProjects\\\\yt_summarizer\\\\d2'"
      ]
     },
     "execution_count": 7,
     "metadata": {},
     "output_type": "execute_result"
    }
   ],
   "source": [
    "%pwd"
   ]
  },
  {
   "cell_type": "code",
   "execution_count": 8,
   "metadata": {},
   "outputs": [],
   "source": [
    "img = \"v1.png\"\n",
    "img = cv.imread(img)"
   ]
  },
  {
   "cell_type": "code",
   "execution_count": 14,
   "metadata": {},
   "outputs": [
    {
     "data": {
      "text/plain": [
       "array([[[0, 0, 0],\n",
       "        [0, 0, 0],\n",
       "        [0, 0, 0],\n",
       "        ...,\n",
       "        [0, 0, 0],\n",
       "        [0, 0, 0],\n",
       "        [0, 0, 0]],\n",
       "\n",
       "       [[0, 0, 0],\n",
       "        [0, 0, 0],\n",
       "        [0, 0, 0],\n",
       "        ...,\n",
       "        [0, 0, 0],\n",
       "        [0, 0, 0],\n",
       "        [0, 0, 0]],\n",
       "\n",
       "       [[0, 0, 0],\n",
       "        [0, 0, 0],\n",
       "        [0, 0, 0],\n",
       "        ...,\n",
       "        [0, 0, 0],\n",
       "        [0, 0, 0],\n",
       "        [0, 0, 0]],\n",
       "\n",
       "       ...,\n",
       "\n",
       "       [[0, 0, 0],\n",
       "        [0, 0, 0],\n",
       "        [0, 0, 0],\n",
       "        ...,\n",
       "        [0, 0, 0],\n",
       "        [0, 0, 0],\n",
       "        [0, 0, 0]],\n",
       "\n",
       "       [[0, 0, 0],\n",
       "        [0, 0, 0],\n",
       "        [0, 0, 0],\n",
       "        ...,\n",
       "        [0, 0, 0],\n",
       "        [0, 0, 0],\n",
       "        [0, 0, 0]],\n",
       "\n",
       "       [[0, 0, 0],\n",
       "        [0, 0, 0],\n",
       "        [0, 0, 0],\n",
       "        ...,\n",
       "        [0, 0, 0],\n",
       "        [0, 0, 0],\n",
       "        [0, 0, 0]]], dtype=uint8)"
      ]
     },
     "execution_count": 14,
     "metadata": {},
     "output_type": "execute_result"
    }
   ],
   "source": [
    "img"
   ]
  },
  {
   "cell_type": "code",
   "execution_count": 15,
   "metadata": {},
   "outputs": [
    {
     "ename": "ValueError",
     "evalue": "cannot resize this array: it does not own its data",
     "output_type": "error",
     "traceback": [
      "\u001b[1;31m---------------------------------------------------------------------------\u001b[0m",
      "\u001b[1;31mValueError\u001b[0m                                Traceback (most recent call last)",
      "Cell \u001b[1;32mIn[15], line 2\u001b[0m\n\u001b[0;32m      1\u001b[0m img\u001b[38;5;241m.\u001b[39mshape\n\u001b[1;32m----> 2\u001b[0m img \u001b[38;5;241m=\u001b[39m img\u001b[38;5;241m.\u001b[39mresize((\u001b[38;5;241m255\u001b[39m, \u001b[38;5;241m255\u001b[39m))\n\u001b[0;32m      3\u001b[0m img\u001b[38;5;241m.\u001b[39mshape\n",
      "\u001b[1;31mValueError\u001b[0m: cannot resize this array: it does not own its data"
     ]
    }
   ],
   "source": [
    "img.shape\n",
    "img = img.resize((255, 255))\n",
    "img.shape"
   ]
  },
  {
   "cell_type": "code",
   "execution_count": 10,
   "metadata": {},
   "outputs": [
    {
     "ename": "TypeError",
     "evalue": "only integer scalar arrays can be converted to a scalar index",
     "output_type": "error",
     "traceback": [
      "\u001b[1;31m---------------------------------------------------------------------------\u001b[0m",
      "\u001b[1;31mTypeError\u001b[0m                                 Traceback (most recent call last)",
      "Cell \u001b[1;32mIn[10], line 18\u001b[0m\n\u001b[0;32m     16\u001b[0m c \u001b[38;5;241m=\u001b[39m \u001b[38;5;241m0\u001b[39m\n\u001b[0;32m     17\u001b[0m \u001b[38;5;28;01mwhile\u001b[39;00m( c \u001b[38;5;241m<\u001b[39m \u001b[38;5;241m225\u001b[39m\u001b[38;5;241m*\u001b[39m\u001b[38;5;241m225\u001b[39m):\n\u001b[1;32m---> 18\u001b[0m     bit_planes\u001b[38;5;241m.\u001b[39mappend (np\u001b[38;5;241m.\u001b[39mbinary_repr( img[c][\u001b[38;5;241m0\u001b[39m] ,width\u001b[38;5;241m=\u001b[39m\u001b[38;5;241m8\u001b[39m  ) )\n\u001b[0;32m     19\u001b[0m     c  \u001b[38;5;241m=\u001b[39m c \u001b[38;5;241m+\u001b[39m \u001b[38;5;241m1\u001b[39m\n\u001b[0;32m     20\u001b[0m c \u001b[38;5;241m=\u001b[39m \u001b[38;5;241m0\u001b[39m\n",
      "File \u001b[1;32mc:\\Users\\Vedant\\anaconda3\\Lib\\site-packages\\numpy\\core\\numeric.py:2017\u001b[0m, in \u001b[0;36mbinary_repr\u001b[1;34m(num, width)\u001b[0m\n\u001b[0;32m   2010\u001b[0m         warnings\u001b[38;5;241m.\u001b[39mwarn(\n\u001b[0;32m   2011\u001b[0m             \u001b[38;5;124m\"\u001b[39m\u001b[38;5;124mInsufficient bit width provided. This behavior \u001b[39m\u001b[38;5;124m\"\u001b[39m\n\u001b[0;32m   2012\u001b[0m             \u001b[38;5;124m\"\u001b[39m\u001b[38;5;124mwill raise an error in the future.\u001b[39m\u001b[38;5;124m\"\u001b[39m, \u001b[38;5;167;01mDeprecationWarning\u001b[39;00m,\n\u001b[0;32m   2013\u001b[0m             stacklevel\u001b[38;5;241m=\u001b[39m\u001b[38;5;241m3\u001b[39m)\n\u001b[0;32m   2015\u001b[0m \u001b[38;5;66;03m# Ensure that num is a Python integer to avoid overflow or unwanted\u001b[39;00m\n\u001b[0;32m   2016\u001b[0m \u001b[38;5;66;03m# casts to floating point.\u001b[39;00m\n\u001b[1;32m-> 2017\u001b[0m num \u001b[38;5;241m=\u001b[39m operator\u001b[38;5;241m.\u001b[39mindex(num)\n\u001b[0;32m   2019\u001b[0m \u001b[38;5;28;01mif\u001b[39;00m num \u001b[38;5;241m==\u001b[39m \u001b[38;5;241m0\u001b[39m:\n\u001b[0;32m   2020\u001b[0m     \u001b[38;5;28;01mreturn\u001b[39;00m \u001b[38;5;124m'\u001b[39m\u001b[38;5;124m0\u001b[39m\u001b[38;5;124m'\u001b[39m \u001b[38;5;241m*\u001b[39m (width \u001b[38;5;129;01mor\u001b[39;00m \u001b[38;5;241m1\u001b[39m)\n",
      "\u001b[1;31mTypeError\u001b[0m: only integer scalar arrays can be converted to a scalar index"
     ]
    }
   ],
   "source": [
    "def getPlane(planeId, binary_image):\n",
    "    switcher = {\n",
    "        7:[int(b[0] + '0'*7) for b in binary_image],\n",
    "        6:[int( '0' + b[1] + '0'*6) for b in binary_image],\n",
    "        5:[int( '0'*2 + b[2] + '0'*5) for b in binary_image],\n",
    "        4:[int( '0'*3 + b[3] + '0'*4) for b in binary_image],\n",
    "        3:[int( '0'*4 + b[4] + '0'*3) for b in binary_image],\n",
    "        2:[int( '0'*5 + b[5] + '0'*2) for b in binary_image],\n",
    "        1:[int( '0'*6 + b[6] + '0') for b in binary_image],\n",
    "        0:[int( '0'*7 + b[7]) for b in binary_image]\n",
    "    }\n",
    "    return switcher.get(planeId, None)\n",
    "\n",
    "# image size is (225, 225)\n",
    "bit_planes = []\n",
    "c = 0\n",
    "while( c < 225*225):\n",
    "    bit_planes.append (np.binary_repr( img[c][0] ,width=8  ) )\n",
    "    c  = c + 1\n",
    "c = 0\n",
    "while(c < 8):\n",
    "    cv.imwrite('plane'+str(c)+ '.jpg', np.array(getPlane(c, bit_planes)).reshape(225, 225))\n",
    "    c = c + 1"
   ]
  },
  {
   "cell_type": "code",
   "execution_count": 17,
   "metadata": {},
   "outputs": [],
   "source": [
    "import cv2\n",
    "import numpy as np\n"
   ]
  },
  {
   "cell_type": "code",
   "execution_count": 22,
   "metadata": {},
   "outputs": [],
   "source": [
    "\n",
    "# Load the image\n",
    "image = cv2.imread(\"v2.png\")\n"
   ]
  },
  {
   "cell_type": "code",
   "execution_count": null,
   "metadata": {},
   "outputs": [],
   "source": [
    "\n",
    "# Get the image shape\n",
    "height, width, channels = image.shape\n",
    "\n",
    "# Create a new image with the least significant bit set to zero\n",
    "new_image = np.zeros((height, width, channels), dtype=np.uint8)\n",
    "\n",
    "for i in range(height):\n",
    "    for j in range(width):\n",
    "        for k in range(channels):\n",
    "            # Get the current pixel value\n",
    "            pixel_value = image[i, j, k]\n",
    "            \n",
    "            # Set the least significant bit to zero\n",
    "            new_pixel_value = pixel_value & ~1\n",
    "            \n",
    "            # Update the new image with the modified pixel value\n",
    "            new_image[i, j, k] = new_pixel_value\n",
    "\n",
    "# Display the original and modified images\n",
    "cv2.imshow('Original Image', image)\n",
    "cv2.imshow('Modified Image', new_image)\n",
    "cv2.waitKey(0)\n",
    "cv2.destroyAllWindows()"
   ]
  },
  {
   "cell_type": "code",
   "execution_count": 24,
   "metadata": {},
   "outputs": [],
   "source": [
    "\n",
    "# Get the image shape\n",
    "height, width, channels = image.shape\n",
    "\n",
    "# Create a new image with the 5 least significant bits set to zero\n",
    "new_image = np.zeros((height, width, channels), dtype=np.uint8)\n",
    "\n",
    "for i in range(height):\n",
    "    for j in range(width):\n",
    "        for k in range(channels):\n",
    "            # Get the current pixel value\n",
    "            pixel_value = image[i, j, k]\n",
    "            \n",
    "            # Set the 5 least significant bits to zero\n",
    "            # new_pixel_value = pixel_value & ~127 #for black works\n",
    "            new_pixel_value = pixel_value & ~63\n",
    "            \n",
    "            # Update the new image with the modified pixel value\n",
    "            new_image[i, j, k] = new_pixel_value\n",
    "\n",
    "# Display the original and modified images\n",
    "cv2.imshow('Original Image', image)\n",
    "cv2.imshow('Modified Image', new_image)\n",
    "cv2.waitKey(0)\n",
    "cv2.destroyAllWindows()"
   ]
  },
  {
   "cell_type": "code",
   "execution_count": null,
   "metadata": {},
   "outputs": [],
   "source": []
  }
 ],
 "metadata": {
  "kernelspec": {
   "display_name": "base",
   "language": "python",
   "name": "python3"
  },
  "language_info": {
   "codemirror_mode": {
    "name": "ipython",
    "version": 3
   },
   "file_extension": ".py",
   "mimetype": "text/x-python",
   "name": "python",
   "nbconvert_exporter": "python",
   "pygments_lexer": "ipython3",
   "version": "3.11.8"
  }
 },
 "nbformat": 4,
 "nbformat_minor": 2
}
