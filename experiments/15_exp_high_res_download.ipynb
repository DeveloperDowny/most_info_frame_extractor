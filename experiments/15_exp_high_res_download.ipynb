{
 "cells": [
  {
   "cell_type": "code",
   "execution_count": 2,
   "metadata": {},
   "outputs": [
    {
     "name": "stdout",
     "output_type": "stream",
     "text": [
      "1\n",
      "1080p\n",
      "<Stream: itag=\"137\" mime_type=\"video/mp4\" res=\"1080p\" fps=\"24fps\" vcodec=\"avc1.640028\" progressive=\"False\" type=\"video\">\n",
      " ↳ |████████████████████████████████████████████| 100.0%\r"
     ]
    },
    {
     "data": {
      "text/plain": [
       "'d:\\\\DPythonProjects\\\\personal-local-machine-running-code-for-glimpsify\\\\most_info_frame_extractor\\\\experiments\\\\What Is Organic Chemistry Crash Course Organic Chemistry #1.mp4'"
      ]
     },
     "execution_count": 2,
     "metadata": {},
     "output_type": "execute_result"
    }
   ],
   "source": [
    "from pytubefix.cli import on_progress\n",
    "from pytubefix import YouTube\n",
    "\n",
    "url = \"https://www.youtube.com/watch?v=PmvLB5dIEp8&list=PL8dPuuaLjXtONguuhLdVmq0HTKS0jksS4&index=3\"\n",
    "RES = '1080p'\n",
    "yt = YouTube(url, on_progress_callback = on_progress)\n",
    "\n",
    "for idx,i in enumerate(yt.streams):\n",
    "   if i.resolution ==RES:\n",
    "      print(idx)\n",
    "      print(i.resolution)\n",
    "      break\n",
    "print(yt.streams[idx])\n",
    "yt.streams[idx].download()"
   ]
  },
  {
   "cell_type": "code",
   "execution_count": null,
   "metadata": {},
   "outputs": [],
   "source": []
  }
 ],
 "metadata": {
  "kernelspec": {
   "display_name": "base",
   "language": "python",
   "name": "python3"
  },
  "language_info": {
   "codemirror_mode": {
    "name": "ipython",
    "version": 3
   },
   "file_extension": ".py",
   "mimetype": "text/x-python",
   "name": "python",
   "nbconvert_exporter": "python",
   "pygments_lexer": "ipython3",
   "version": "3.11.8"
  }
 },
 "nbformat": 4,
 "nbformat_minor": 2
}
