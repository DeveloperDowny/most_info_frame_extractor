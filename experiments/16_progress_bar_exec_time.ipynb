{
 "cells": [
  {
   "cell_type": "code",
   "execution_count": 2,
   "metadata": {},
   "outputs": [
    {
     "name": "stderr",
     "output_type": "stream",
     "text": [
      "Processing: 100%|██████████| 1000/1000 [00:10<00:00, 95.56iter/s]"
     ]
    },
    {
     "name": "stdout",
     "output_type": "stream",
     "text": [
      "\n",
      "Processing complete!\n",
      "Elapsed time: 10.47 seconds\n",
      "Average time per iteration: 10.47 ms\n",
      "First few results: [0, 2, 4, 6, 8]\n"
     ]
    },
    {
     "name": "stderr",
     "output_type": "stream",
     "text": [
      "\n"
     ]
    }
   ],
   "source": [
    "import time\n",
    "from tqdm import tqdm\n",
    "\n",
    "def main():\n",
    "    # Start the timer\n",
    "    start_time = time.time()\n",
    "    \n",
    "    # Number of iterations\n",
    "    total_iterations = 1000\n",
    "    \n",
    "    # Your results or data can be stored here\n",
    "    results = []\n",
    "    \n",
    "    # Create a loop with tqdm progress bar\n",
    "    for i in tqdm(range(total_iterations), desc=\"Processing\", unit=\"iter\"):\n",
    "        # Your code here\n",
    "        # This is just a placeholder - replace with your actual code\n",
    "        time.sleep(0.01)  # Simulating some work\n",
    "        results.append(i * 2)  # Example operation\n",
    "    \n",
    "    # Calculate the elapsed time\n",
    "    elapsed_time = time.time() - start_time\n",
    "    \n",
    "    # Print results\n",
    "    print(f\"\\nProcessing complete!\")\n",
    "    print(f\"Elapsed time: {elapsed_time:.2f} seconds\")\n",
    "    print(f\"Average time per iteration: {(elapsed_time/total_iterations)*1000:.2f} ms\")\n",
    "    \n",
    "    # Return or do something with your results\n",
    "    return results\n",
    "\n",
    "if __name__ == \"__main__\":\n",
    "    results = main()\n",
    "    print(f\"First few results: {results[:5]}\")"
   ]
  },
  {
   "cell_type": "code",
   "execution_count": null,
   "metadata": {},
   "outputs": [],
   "source": []
  }
 ],
 "metadata": {
  "kernelspec": {
   "display_name": "base",
   "language": "python",
   "name": "python3"
  },
  "language_info": {
   "codemirror_mode": {
    "name": "ipython",
    "version": 3
   },
   "file_extension": ".py",
   "mimetype": "text/x-python",
   "name": "python",
   "nbconvert_exporter": "python",
   "pygments_lexer": "ipython3",
   "version": "3.11.8"
  }
 },
 "nbformat": 4,
 "nbformat_minor": 2
}
