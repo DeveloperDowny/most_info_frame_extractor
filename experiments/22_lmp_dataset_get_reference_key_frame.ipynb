{
 "cells": [
  {
   "cell_type": "code",
   "metadata": {
    "ExecuteTime": {
     "end_time": "2025-05-11T05:40:06.846490Z",
     "start_time": "2025-05-11T05:40:06.830075Z"
    }
   },
   "source": [
    "from collections import defaultdict\n",
    "from pathlib import Path\n",
    "from pytubefix import YouTube\n"
   ],
   "outputs": [],
   "execution_count": 1
  },
  {
   "cell_type": "code",
   "metadata": {
    "ExecuteTime": {
     "end_time": "2025-05-11T05:40:07.009409Z",
     "start_time": "2025-05-11T05:40:07.007220Z"
    }
   },
   "source": "base_folder = r\"/media/vedant/New Volume/DPythonProjects/yt_summarizer/experiments/data_oct\"",
   "outputs": [],
   "execution_count": 2
  },
  {
   "cell_type": "code",
   "metadata": {
    "ExecuteTime": {
     "end_time": "2025-05-11T05:40:07.075645Z",
     "start_time": "2025-05-11T05:40:07.074026Z"
    }
   },
   "source": [
    "base_folder = Path(base_folder)"
   ],
   "outputs": [],
   "execution_count": 3
  },
  {
   "cell_type": "code",
   "metadata": {
    "ExecuteTime": {
     "end_time": "2025-05-11T05:40:07.114647Z",
     "start_time": "2025-05-11T05:40:07.109517Z"
    }
   },
   "source": [
    "csv_files = list(base_folder.rglob(\"*.csv\"))\n",
    "csv_files"
   ],
   "outputs": [
    {
     "data": {
      "text/plain": [
       "[]"
      ]
     },
     "execution_count": 4,
     "metadata": {},
     "output_type": "execute_result"
    }
   ],
   "execution_count": 4
  },
  {
   "metadata": {
    "ExecuteTime": {
     "end_time": "2025-05-11T05:40:07.161861Z",
     "start_time": "2025-05-11T05:40:07.159615Z"
    }
   },
   "cell_type": "code",
   "source": "from collections import defaultdict",
   "outputs": [],
   "execution_count": 5
  },
  {
   "metadata": {
    "ExecuteTime": {
     "end_time": "2025-05-11T05:40:07.211135Z",
     "start_time": "2025-05-11T05:40:07.208829Z"
    }
   },
   "cell_type": "code",
   "source": "csv_file_categories = set()",
   "outputs": [],
   "execution_count": 6
  },
  {
   "metadata": {
    "ExecuteTime": {
     "end_time": "2025-05-11T05:40:07.260730Z",
     "start_time": "2025-05-11T05:40:07.258273Z"
    }
   },
   "cell_type": "code",
   "source": [
    "for csv_file in csv_files:\n",
    "    file_name = csv_file.stem\n",
    "    category = file_name.split(\"_\")[-1]\n",
    "    csv_file_categories.add(category)"
   ],
   "outputs": [],
   "execution_count": 7
  },
  {
   "metadata": {
    "ExecuteTime": {
     "end_time": "2025-05-11T05:40:07.318222Z",
     "start_time": "2025-05-11T05:40:07.313315Z"
    }
   },
   "cell_type": "code",
   "source": "list(csv_file_categories)",
   "outputs": [
    {
     "data": {
      "text/plain": [
       "[]"
      ]
     },
     "execution_count": 8,
     "metadata": {},
     "output_type": "execute_result"
    }
   ],
   "execution_count": 8
  },
  {
   "cell_type": "code",
   "metadata": {
    "ExecuteTime": {
     "end_time": "2025-05-11T05:40:07.375583Z",
     "start_time": "2025-05-11T05:40:07.371639Z"
    }
   },
   "source": "raw_video_links = \"/home/vedant/Downloads/lpmdata_102023/data_oct/raw_video_links.csv\"",
   "outputs": [],
   "execution_count": 9
  },
  {
   "cell_type": "code",
   "metadata": {
    "ExecuteTime": {
     "end_time": "2025-05-11T05:40:07.702929Z",
     "start_time": "2025-05-11T05:40:07.425397Z"
    }
   },
   "source": "import pandas as pd",
   "outputs": [],
   "execution_count": 10
  },
  {
   "metadata": {
    "ExecuteTime": {
     "end_time": "2025-05-11T05:40:07.718148Z",
     "start_time": "2025-05-11T05:40:07.711151Z"
    }
   },
   "cell_type": "code",
   "source": "df = pd.read_csv(raw_video_links)",
   "outputs": [],
   "execution_count": 11
  },
  {
   "metadata": {
    "ExecuteTime": {
     "end_time": "2025-05-11T05:40:07.770128Z",
     "start_time": "2025-05-11T05:40:07.762378Z"
    }
   },
   "cell_type": "code",
   "source": "df.head()",
   "outputs": [
    {
     "data": {
      "text/plain": [
       "   Unnamed: 0                               Answer.startTimeList  seconds  \\\n",
       "0         309  Start Time|5.4833|34.9833|101.9833|165.4833|23...   250.27   \n",
       "1         210  Start Time|30.3946|55.0392|157.0121|542.5121|7...  4130.41   \n",
       "2          49  Start Time|24.9610|70.2913|107.3214|145.5609|1...  2289.09   \n",
       "3         127  Start Time|32.3223|48.3223|95.8223|258.6495|27...  1643.51   \n",
       "4          89  Start Time|6|34|157.9999|280.9999|347.4999|411...  3171.08   \n",
       "\n",
       "    speaker         video_id                                  youtube_url  \\\n",
       "0    dental  _8xHh1tk7jY.mp4  https://www.youtube.com/watch?v=_8xHh1tk7jY   \n",
       "1  speaking  _Awekr6-ilg.mp4  https://www.youtube.com/watch?v=_Awekr6-ilg   \n",
       "2     bio-4  _BvFr9HEiQg.mp4  https://www.youtube.com/watch?v=_BvFr9HEiQg   \n",
       "3    dental  _e_B8rTl_rU.mp4  https://www.youtube.com/watch?v=_e_B8rTl_rU   \n",
       "4     bio-4  _Jw3DQ7_pxg.mp4  https://www.youtube.com/watch?v=_Jw3DQ7_pxg   \n",
       "\n",
       "  learning_objectives  \n",
       "0                none  \n",
       "1       slide_002.jpg  \n",
       "2                none  \n",
       "3                none  \n",
       "4       slide_001.jpg  "
      ],
      "text/html": [
       "<div>\n",
       "<style scoped>\n",
       "    .dataframe tbody tr th:only-of-type {\n",
       "        vertical-align: middle;\n",
       "    }\n",
       "\n",
       "    .dataframe tbody tr th {\n",
       "        vertical-align: top;\n",
       "    }\n",
       "\n",
       "    .dataframe thead th {\n",
       "        text-align: right;\n",
       "    }\n",
       "</style>\n",
       "<table border=\"1\" class=\"dataframe\">\n",
       "  <thead>\n",
       "    <tr style=\"text-align: right;\">\n",
       "      <th></th>\n",
       "      <th>Unnamed: 0</th>\n",
       "      <th>Answer.startTimeList</th>\n",
       "      <th>seconds</th>\n",
       "      <th>speaker</th>\n",
       "      <th>video_id</th>\n",
       "      <th>youtube_url</th>\n",
       "      <th>learning_objectives</th>\n",
       "    </tr>\n",
       "  </thead>\n",
       "  <tbody>\n",
       "    <tr>\n",
       "      <th>0</th>\n",
       "      <td>309</td>\n",
       "      <td>Start Time|5.4833|34.9833|101.9833|165.4833|23...</td>\n",
       "      <td>250.27</td>\n",
       "      <td>dental</td>\n",
       "      <td>_8xHh1tk7jY.mp4</td>\n",
       "      <td>https://www.youtube.com/watch?v=_8xHh1tk7jY</td>\n",
       "      <td>none</td>\n",
       "    </tr>\n",
       "    <tr>\n",
       "      <th>1</th>\n",
       "      <td>210</td>\n",
       "      <td>Start Time|30.3946|55.0392|157.0121|542.5121|7...</td>\n",
       "      <td>4130.41</td>\n",
       "      <td>speaking</td>\n",
       "      <td>_Awekr6-ilg.mp4</td>\n",
       "      <td>https://www.youtube.com/watch?v=_Awekr6-ilg</td>\n",
       "      <td>slide_002.jpg</td>\n",
       "    </tr>\n",
       "    <tr>\n",
       "      <th>2</th>\n",
       "      <td>49</td>\n",
       "      <td>Start Time|24.9610|70.2913|107.3214|145.5609|1...</td>\n",
       "      <td>2289.09</td>\n",
       "      <td>bio-4</td>\n",
       "      <td>_BvFr9HEiQg.mp4</td>\n",
       "      <td>https://www.youtube.com/watch?v=_BvFr9HEiQg</td>\n",
       "      <td>none</td>\n",
       "    </tr>\n",
       "    <tr>\n",
       "      <th>3</th>\n",
       "      <td>127</td>\n",
       "      <td>Start Time|32.3223|48.3223|95.8223|258.6495|27...</td>\n",
       "      <td>1643.51</td>\n",
       "      <td>dental</td>\n",
       "      <td>_e_B8rTl_rU.mp4</td>\n",
       "      <td>https://www.youtube.com/watch?v=_e_B8rTl_rU</td>\n",
       "      <td>none</td>\n",
       "    </tr>\n",
       "    <tr>\n",
       "      <th>4</th>\n",
       "      <td>89</td>\n",
       "      <td>Start Time|6|34|157.9999|280.9999|347.4999|411...</td>\n",
       "      <td>3171.08</td>\n",
       "      <td>bio-4</td>\n",
       "      <td>_Jw3DQ7_pxg.mp4</td>\n",
       "      <td>https://www.youtube.com/watch?v=_Jw3DQ7_pxg</td>\n",
       "      <td>slide_001.jpg</td>\n",
       "    </tr>\n",
       "  </tbody>\n",
       "</table>\n",
       "</div>"
      ]
     },
     "execution_count": 12,
     "metadata": {},
     "output_type": "execute_result"
    }
   ],
   "execution_count": 12
  },
  {
   "cell_type": "code",
   "metadata": {
    "ExecuteTime": {
     "end_time": "2025-05-11T05:40:07.835136Z",
     "start_time": "2025-05-11T05:40:07.833397Z"
    }
   },
   "source": "timestamps = list(map(float, df.iloc[0][\"Answer.startTimeList\"].split(\"|\")[1:]))",
   "outputs": [],
   "execution_count": 13
  },
  {
   "metadata": {
    "ExecuteTime": {
     "end_time": "2025-05-11T05:40:07.920061Z",
     "start_time": "2025-05-11T05:40:07.918392Z"
    }
   },
   "cell_type": "code",
   "source": "from pytubefix import YouTube",
   "outputs": [],
   "execution_count": 14
  },
  {
   "metadata": {
    "ExecuteTime": {
     "end_time": "2025-05-11T05:40:07.982161Z",
     "start_time": "2025-05-11T05:40:07.978863Z"
    }
   },
   "cell_type": "code",
   "source": "df.columns",
   "outputs": [
    {
     "data": {
      "text/plain": [
       "Index(['Unnamed: 0', 'Answer.startTimeList', 'seconds', 'speaker', 'video_id',\n",
       "       'youtube_url', 'learning_objectives'],\n",
       "      dtype='object')"
      ]
     },
     "execution_count": 15,
     "metadata": {},
     "output_type": "execute_result"
    }
   ],
   "execution_count": 15
  },
  {
   "metadata": {
    "ExecuteTime": {
     "end_time": "2025-05-11T05:40:08.032514Z",
     "start_time": "2025-05-11T05:40:08.029906Z"
    }
   },
   "cell_type": "code",
   "source": [
    "video_id = df.iloc[0][\"video_id\"][:-4]\n",
    "video_id"
   ],
   "outputs": [
    {
     "data": {
      "text/plain": [
       "'_8xHh1tk7jY'"
      ]
     },
     "execution_count": 16,
     "metadata": {},
     "output_type": "execute_result"
    }
   ],
   "execution_count": 16
  },
  {
   "metadata": {
    "ExecuteTime": {
     "end_time": "2025-05-11T05:40:08.081792Z",
     "start_time": "2025-05-11T05:40:08.079798Z"
    }
   },
   "cell_type": "code",
   "source": "df2 = df.copy()",
   "outputs": [],
   "execution_count": 17
  },
  {
   "metadata": {
    "ExecuteTime": {
     "end_time": "2025-05-11T05:40:08.138928Z",
     "start_time": "2025-05-11T05:40:08.133461Z"
    }
   },
   "cell_type": "code",
   "source": "df2.head()",
   "outputs": [
    {
     "data": {
      "text/plain": [
       "   Unnamed: 0                               Answer.startTimeList  seconds  \\\n",
       "0         309  Start Time|5.4833|34.9833|101.9833|165.4833|23...   250.27   \n",
       "1         210  Start Time|30.3946|55.0392|157.0121|542.5121|7...  4130.41   \n",
       "2          49  Start Time|24.9610|70.2913|107.3214|145.5609|1...  2289.09   \n",
       "3         127  Start Time|32.3223|48.3223|95.8223|258.6495|27...  1643.51   \n",
       "4          89  Start Time|6|34|157.9999|280.9999|347.4999|411...  3171.08   \n",
       "\n",
       "    speaker         video_id                                  youtube_url  \\\n",
       "0    dental  _8xHh1tk7jY.mp4  https://www.youtube.com/watch?v=_8xHh1tk7jY   \n",
       "1  speaking  _Awekr6-ilg.mp4  https://www.youtube.com/watch?v=_Awekr6-ilg   \n",
       "2     bio-4  _BvFr9HEiQg.mp4  https://www.youtube.com/watch?v=_BvFr9HEiQg   \n",
       "3    dental  _e_B8rTl_rU.mp4  https://www.youtube.com/watch?v=_e_B8rTl_rU   \n",
       "4     bio-4  _Jw3DQ7_pxg.mp4  https://www.youtube.com/watch?v=_Jw3DQ7_pxg   \n",
       "\n",
       "  learning_objectives  \n",
       "0                none  \n",
       "1       slide_002.jpg  \n",
       "2                none  \n",
       "3                none  \n",
       "4       slide_001.jpg  "
      ],
      "text/html": [
       "<div>\n",
       "<style scoped>\n",
       "    .dataframe tbody tr th:only-of-type {\n",
       "        vertical-align: middle;\n",
       "    }\n",
       "\n",
       "    .dataframe tbody tr th {\n",
       "        vertical-align: top;\n",
       "    }\n",
       "\n",
       "    .dataframe thead th {\n",
       "        text-align: right;\n",
       "    }\n",
       "</style>\n",
       "<table border=\"1\" class=\"dataframe\">\n",
       "  <thead>\n",
       "    <tr style=\"text-align: right;\">\n",
       "      <th></th>\n",
       "      <th>Unnamed: 0</th>\n",
       "      <th>Answer.startTimeList</th>\n",
       "      <th>seconds</th>\n",
       "      <th>speaker</th>\n",
       "      <th>video_id</th>\n",
       "      <th>youtube_url</th>\n",
       "      <th>learning_objectives</th>\n",
       "    </tr>\n",
       "  </thead>\n",
       "  <tbody>\n",
       "    <tr>\n",
       "      <th>0</th>\n",
       "      <td>309</td>\n",
       "      <td>Start Time|5.4833|34.9833|101.9833|165.4833|23...</td>\n",
       "      <td>250.27</td>\n",
       "      <td>dental</td>\n",
       "      <td>_8xHh1tk7jY.mp4</td>\n",
       "      <td>https://www.youtube.com/watch?v=_8xHh1tk7jY</td>\n",
       "      <td>none</td>\n",
       "    </tr>\n",
       "    <tr>\n",
       "      <th>1</th>\n",
       "      <td>210</td>\n",
       "      <td>Start Time|30.3946|55.0392|157.0121|542.5121|7...</td>\n",
       "      <td>4130.41</td>\n",
       "      <td>speaking</td>\n",
       "      <td>_Awekr6-ilg.mp4</td>\n",
       "      <td>https://www.youtube.com/watch?v=_Awekr6-ilg</td>\n",
       "      <td>slide_002.jpg</td>\n",
       "    </tr>\n",
       "    <tr>\n",
       "      <th>2</th>\n",
       "      <td>49</td>\n",
       "      <td>Start Time|24.9610|70.2913|107.3214|145.5609|1...</td>\n",
       "      <td>2289.09</td>\n",
       "      <td>bio-4</td>\n",
       "      <td>_BvFr9HEiQg.mp4</td>\n",
       "      <td>https://www.youtube.com/watch?v=_BvFr9HEiQg</td>\n",
       "      <td>none</td>\n",
       "    </tr>\n",
       "    <tr>\n",
       "      <th>3</th>\n",
       "      <td>127</td>\n",
       "      <td>Start Time|32.3223|48.3223|95.8223|258.6495|27...</td>\n",
       "      <td>1643.51</td>\n",
       "      <td>dental</td>\n",
       "      <td>_e_B8rTl_rU.mp4</td>\n",
       "      <td>https://www.youtube.com/watch?v=_e_B8rTl_rU</td>\n",
       "      <td>none</td>\n",
       "    </tr>\n",
       "    <tr>\n",
       "      <th>4</th>\n",
       "      <td>89</td>\n",
       "      <td>Start Time|6|34|157.9999|280.9999|347.4999|411...</td>\n",
       "      <td>3171.08</td>\n",
       "      <td>bio-4</td>\n",
       "      <td>_Jw3DQ7_pxg.mp4</td>\n",
       "      <td>https://www.youtube.com/watch?v=_Jw3DQ7_pxg</td>\n",
       "      <td>slide_001.jpg</td>\n",
       "    </tr>\n",
       "  </tbody>\n",
       "</table>\n",
       "</div>"
      ]
     },
     "execution_count": 18,
     "metadata": {},
     "output_type": "execute_result"
    }
   ],
   "execution_count": 18
  },
  {
   "metadata": {
    "ExecuteTime": {
     "end_time": "2025-05-11T05:40:08.209772Z",
     "start_time": "2025-05-11T05:40:08.204916Z"
    }
   },
   "cell_type": "code",
   "source": [
    "df2 = df2[[\"Answer.startTimeList\", \"video_id\"]]\n",
    "df2.head()"
   ],
   "outputs": [
    {
     "data": {
      "text/plain": [
       "                                Answer.startTimeList         video_id\n",
       "0  Start Time|5.4833|34.9833|101.9833|165.4833|23...  _8xHh1tk7jY.mp4\n",
       "1  Start Time|30.3946|55.0392|157.0121|542.5121|7...  _Awekr6-ilg.mp4\n",
       "2  Start Time|24.9610|70.2913|107.3214|145.5609|1...  _BvFr9HEiQg.mp4\n",
       "3  Start Time|32.3223|48.3223|95.8223|258.6495|27...  _e_B8rTl_rU.mp4\n",
       "4  Start Time|6|34|157.9999|280.9999|347.4999|411...  _Jw3DQ7_pxg.mp4"
      ],
      "text/html": [
       "<div>\n",
       "<style scoped>\n",
       "    .dataframe tbody tr th:only-of-type {\n",
       "        vertical-align: middle;\n",
       "    }\n",
       "\n",
       "    .dataframe tbody tr th {\n",
       "        vertical-align: top;\n",
       "    }\n",
       "\n",
       "    .dataframe thead th {\n",
       "        text-align: right;\n",
       "    }\n",
       "</style>\n",
       "<table border=\"1\" class=\"dataframe\">\n",
       "  <thead>\n",
       "    <tr style=\"text-align: right;\">\n",
       "      <th></th>\n",
       "      <th>Answer.startTimeList</th>\n",
       "      <th>video_id</th>\n",
       "    </tr>\n",
       "  </thead>\n",
       "  <tbody>\n",
       "    <tr>\n",
       "      <th>0</th>\n",
       "      <td>Start Time|5.4833|34.9833|101.9833|165.4833|23...</td>\n",
       "      <td>_8xHh1tk7jY.mp4</td>\n",
       "    </tr>\n",
       "    <tr>\n",
       "      <th>1</th>\n",
       "      <td>Start Time|30.3946|55.0392|157.0121|542.5121|7...</td>\n",
       "      <td>_Awekr6-ilg.mp4</td>\n",
       "    </tr>\n",
       "    <tr>\n",
       "      <th>2</th>\n",
       "      <td>Start Time|24.9610|70.2913|107.3214|145.5609|1...</td>\n",
       "      <td>_BvFr9HEiQg.mp4</td>\n",
       "    </tr>\n",
       "    <tr>\n",
       "      <th>3</th>\n",
       "      <td>Start Time|32.3223|48.3223|95.8223|258.6495|27...</td>\n",
       "      <td>_e_B8rTl_rU.mp4</td>\n",
       "    </tr>\n",
       "    <tr>\n",
       "      <th>4</th>\n",
       "      <td>Start Time|6|34|157.9999|280.9999|347.4999|411...</td>\n",
       "      <td>_Jw3DQ7_pxg.mp4</td>\n",
       "    </tr>\n",
       "  </tbody>\n",
       "</table>\n",
       "</div>"
      ]
     },
     "execution_count": 19,
     "metadata": {},
     "output_type": "execute_result"
    }
   ],
   "execution_count": 19
  },
  {
   "metadata": {
    "ExecuteTime": {
     "end_time": "2025-05-11T05:40:08.299955Z",
     "start_time": "2025-05-11T05:40:08.292062Z"
    }
   },
   "cell_type": "code",
   "source": [
    "df2[\"timestamps\"] = df2[\"Answer.startTimeList\"].apply(lambda x: list(map(float, x.split(\"|\")[1:])))\n",
    "df2.head()"
   ],
   "outputs": [
    {
     "data": {
      "text/plain": [
       "                                Answer.startTimeList         video_id  \\\n",
       "0  Start Time|5.4833|34.9833|101.9833|165.4833|23...  _8xHh1tk7jY.mp4   \n",
       "1  Start Time|30.3946|55.0392|157.0121|542.5121|7...  _Awekr6-ilg.mp4   \n",
       "2  Start Time|24.9610|70.2913|107.3214|145.5609|1...  _BvFr9HEiQg.mp4   \n",
       "3  Start Time|32.3223|48.3223|95.8223|258.6495|27...  _e_B8rTl_rU.mp4   \n",
       "4  Start Time|6|34|157.9999|280.9999|347.4999|411...  _Jw3DQ7_pxg.mp4   \n",
       "\n",
       "                                          timestamps  \n",
       "0    [5.4833, 34.9833, 101.9833, 165.4833, 232.9833]  \n",
       "1  [30.3946, 55.0392, 157.0121, 542.5121, 703.012...  \n",
       "2  [24.961, 70.2913, 107.3214, 145.5609, 187.3366...  \n",
       "3  [32.3223, 48.3223, 95.8223, 258.6495, 273.6494...  \n",
       "4  [6.0, 34.0, 157.9999, 280.9999, 347.4999, 411....  "
      ],
      "text/html": [
       "<div>\n",
       "<style scoped>\n",
       "    .dataframe tbody tr th:only-of-type {\n",
       "        vertical-align: middle;\n",
       "    }\n",
       "\n",
       "    .dataframe tbody tr th {\n",
       "        vertical-align: top;\n",
       "    }\n",
       "\n",
       "    .dataframe thead th {\n",
       "        text-align: right;\n",
       "    }\n",
       "</style>\n",
       "<table border=\"1\" class=\"dataframe\">\n",
       "  <thead>\n",
       "    <tr style=\"text-align: right;\">\n",
       "      <th></th>\n",
       "      <th>Answer.startTimeList</th>\n",
       "      <th>video_id</th>\n",
       "      <th>timestamps</th>\n",
       "    </tr>\n",
       "  </thead>\n",
       "  <tbody>\n",
       "    <tr>\n",
       "      <th>0</th>\n",
       "      <td>Start Time|5.4833|34.9833|101.9833|165.4833|23...</td>\n",
       "      <td>_8xHh1tk7jY.mp4</td>\n",
       "      <td>[5.4833, 34.9833, 101.9833, 165.4833, 232.9833]</td>\n",
       "    </tr>\n",
       "    <tr>\n",
       "      <th>1</th>\n",
       "      <td>Start Time|30.3946|55.0392|157.0121|542.5121|7...</td>\n",
       "      <td>_Awekr6-ilg.mp4</td>\n",
       "      <td>[30.3946, 55.0392, 157.0121, 542.5121, 703.012...</td>\n",
       "    </tr>\n",
       "    <tr>\n",
       "      <th>2</th>\n",
       "      <td>Start Time|24.9610|70.2913|107.3214|145.5609|1...</td>\n",
       "      <td>_BvFr9HEiQg.mp4</td>\n",
       "      <td>[24.961, 70.2913, 107.3214, 145.5609, 187.3366...</td>\n",
       "    </tr>\n",
       "    <tr>\n",
       "      <th>3</th>\n",
       "      <td>Start Time|32.3223|48.3223|95.8223|258.6495|27...</td>\n",
       "      <td>_e_B8rTl_rU.mp4</td>\n",
       "      <td>[32.3223, 48.3223, 95.8223, 258.6495, 273.6494...</td>\n",
       "    </tr>\n",
       "    <tr>\n",
       "      <th>4</th>\n",
       "      <td>Start Time|6|34|157.9999|280.9999|347.4999|411...</td>\n",
       "      <td>_Jw3DQ7_pxg.mp4</td>\n",
       "      <td>[6.0, 34.0, 157.9999, 280.9999, 347.4999, 411....</td>\n",
       "    </tr>\n",
       "  </tbody>\n",
       "</table>\n",
       "</div>"
      ]
     },
     "execution_count": 20,
     "metadata": {},
     "output_type": "execute_result"
    }
   ],
   "execution_count": 20
  },
  {
   "metadata": {
    "ExecuteTime": {
     "end_time": "2025-05-11T05:40:08.399740Z",
     "start_time": "2025-05-11T05:40:08.396239Z"
    }
   },
   "cell_type": "code",
   "source": [
    "\n",
    "df2.iloc[0][\"timestamps\"]"
   ],
   "outputs": [
    {
     "data": {
      "text/plain": [
       "[5.4833, 34.9833, 101.9833, 165.4833, 232.9833]"
      ]
     },
     "execution_count": 21,
     "metadata": {},
     "output_type": "execute_result"
    }
   ],
   "execution_count": 21
  },
  {
   "metadata": {
    "ExecuteTime": {
     "end_time": "2025-05-11T05:40:08.472377Z",
     "start_time": "2025-05-11T05:40:08.470483Z"
    }
   },
   "cell_type": "code",
   "source": [
    "# num of duplicates (they better) (can make this via distance metric using only generated pdf [within])\n",
    "# num of missed (they better) (iterate ref frames, look up in generated -> if not found, missed)\n",
    "# num of non-key frames  (they better, we made false positive) (iterate generated frames, lookup in ref -> if not found, then non-key frames)\n",
    "\n",
    "\n",
    "# key frames I identified correctly / total num of key frames\n",
    "# accuracy -> no of key frames identified / total no. of key frames present\n",
    "# (formula) => accuracy -> no of generated - no of duplicated - num of non-key frames / ref key frames length\n",
    "\n",
    "# similarity score => A (intersection) B / A (union) B"
   ],
   "outputs": [],
   "execution_count": 22
  },
  {
   "metadata": {
    "ExecuteTime": {
     "end_time": "2025-05-11T05:40:08.519487Z",
     "start_time": "2025-05-11T05:40:08.513482Z"
    }
   },
   "cell_type": "code",
   "source": [
    "df2[\"video_id\"] = df2[\"video_id\"].apply(lambda x: x[:-4])\n",
    "df2.head()"
   ],
   "outputs": [
    {
     "data": {
      "text/plain": [
       "                                Answer.startTimeList     video_id  \\\n",
       "0  Start Time|5.4833|34.9833|101.9833|165.4833|23...  _8xHh1tk7jY   \n",
       "1  Start Time|30.3946|55.0392|157.0121|542.5121|7...  _Awekr6-ilg   \n",
       "2  Start Time|24.9610|70.2913|107.3214|145.5609|1...  _BvFr9HEiQg   \n",
       "3  Start Time|32.3223|48.3223|95.8223|258.6495|27...  _e_B8rTl_rU   \n",
       "4  Start Time|6|34|157.9999|280.9999|347.4999|411...  _Jw3DQ7_pxg   \n",
       "\n",
       "                                          timestamps  \n",
       "0    [5.4833, 34.9833, 101.9833, 165.4833, 232.9833]  \n",
       "1  [30.3946, 55.0392, 157.0121, 542.5121, 703.012...  \n",
       "2  [24.961, 70.2913, 107.3214, 145.5609, 187.3366...  \n",
       "3  [32.3223, 48.3223, 95.8223, 258.6495, 273.6494...  \n",
       "4  [6.0, 34.0, 157.9999, 280.9999, 347.4999, 411....  "
      ],
      "text/html": [
       "<div>\n",
       "<style scoped>\n",
       "    .dataframe tbody tr th:only-of-type {\n",
       "        vertical-align: middle;\n",
       "    }\n",
       "\n",
       "    .dataframe tbody tr th {\n",
       "        vertical-align: top;\n",
       "    }\n",
       "\n",
       "    .dataframe thead th {\n",
       "        text-align: right;\n",
       "    }\n",
       "</style>\n",
       "<table border=\"1\" class=\"dataframe\">\n",
       "  <thead>\n",
       "    <tr style=\"text-align: right;\">\n",
       "      <th></th>\n",
       "      <th>Answer.startTimeList</th>\n",
       "      <th>video_id</th>\n",
       "      <th>timestamps</th>\n",
       "    </tr>\n",
       "  </thead>\n",
       "  <tbody>\n",
       "    <tr>\n",
       "      <th>0</th>\n",
       "      <td>Start Time|5.4833|34.9833|101.9833|165.4833|23...</td>\n",
       "      <td>_8xHh1tk7jY</td>\n",
       "      <td>[5.4833, 34.9833, 101.9833, 165.4833, 232.9833]</td>\n",
       "    </tr>\n",
       "    <tr>\n",
       "      <th>1</th>\n",
       "      <td>Start Time|30.3946|55.0392|157.0121|542.5121|7...</td>\n",
       "      <td>_Awekr6-ilg</td>\n",
       "      <td>[30.3946, 55.0392, 157.0121, 542.5121, 703.012...</td>\n",
       "    </tr>\n",
       "    <tr>\n",
       "      <th>2</th>\n",
       "      <td>Start Time|24.9610|70.2913|107.3214|145.5609|1...</td>\n",
       "      <td>_BvFr9HEiQg</td>\n",
       "      <td>[24.961, 70.2913, 107.3214, 145.5609, 187.3366...</td>\n",
       "    </tr>\n",
       "    <tr>\n",
       "      <th>3</th>\n",
       "      <td>Start Time|32.3223|48.3223|95.8223|258.6495|27...</td>\n",
       "      <td>_e_B8rTl_rU</td>\n",
       "      <td>[32.3223, 48.3223, 95.8223, 258.6495, 273.6494...</td>\n",
       "    </tr>\n",
       "    <tr>\n",
       "      <th>4</th>\n",
       "      <td>Start Time|6|34|157.9999|280.9999|347.4999|411...</td>\n",
       "      <td>_Jw3DQ7_pxg</td>\n",
       "      <td>[6.0, 34.0, 157.9999, 280.9999, 347.4999, 411....</td>\n",
       "    </tr>\n",
       "  </tbody>\n",
       "</table>\n",
       "</div>"
      ]
     },
     "execution_count": 23,
     "metadata": {},
     "output_type": "execute_result"
    }
   ],
   "execution_count": 23
  },
  {
   "metadata": {
    "ExecuteTime": {
     "end_time": "2025-05-11T05:40:08.629936Z",
     "start_time": "2025-05-11T05:40:08.625067Z"
    }
   },
   "cell_type": "code",
   "source": [
    "df2 = df2[[\"video_id\", \"timestamps\"]]\n",
    "df2.head()"
   ],
   "outputs": [
    {
     "data": {
      "text/plain": [
       "      video_id                                         timestamps\n",
       "0  _8xHh1tk7jY    [5.4833, 34.9833, 101.9833, 165.4833, 232.9833]\n",
       "1  _Awekr6-ilg  [30.3946, 55.0392, 157.0121, 542.5121, 703.012...\n",
       "2  _BvFr9HEiQg  [24.961, 70.2913, 107.3214, 145.5609, 187.3366...\n",
       "3  _e_B8rTl_rU  [32.3223, 48.3223, 95.8223, 258.6495, 273.6494...\n",
       "4  _Jw3DQ7_pxg  [6.0, 34.0, 157.9999, 280.9999, 347.4999, 411...."
      ],
      "text/html": [
       "<div>\n",
       "<style scoped>\n",
       "    .dataframe tbody tr th:only-of-type {\n",
       "        vertical-align: middle;\n",
       "    }\n",
       "\n",
       "    .dataframe tbody tr th {\n",
       "        vertical-align: top;\n",
       "    }\n",
       "\n",
       "    .dataframe thead th {\n",
       "        text-align: right;\n",
       "    }\n",
       "</style>\n",
       "<table border=\"1\" class=\"dataframe\">\n",
       "  <thead>\n",
       "    <tr style=\"text-align: right;\">\n",
       "      <th></th>\n",
       "      <th>video_id</th>\n",
       "      <th>timestamps</th>\n",
       "    </tr>\n",
       "  </thead>\n",
       "  <tbody>\n",
       "    <tr>\n",
       "      <th>0</th>\n",
       "      <td>_8xHh1tk7jY</td>\n",
       "      <td>[5.4833, 34.9833, 101.9833, 165.4833, 232.9833]</td>\n",
       "    </tr>\n",
       "    <tr>\n",
       "      <th>1</th>\n",
       "      <td>_Awekr6-ilg</td>\n",
       "      <td>[30.3946, 55.0392, 157.0121, 542.5121, 703.012...</td>\n",
       "    </tr>\n",
       "    <tr>\n",
       "      <th>2</th>\n",
       "      <td>_BvFr9HEiQg</td>\n",
       "      <td>[24.961, 70.2913, 107.3214, 145.5609, 187.3366...</td>\n",
       "    </tr>\n",
       "    <tr>\n",
       "      <th>3</th>\n",
       "      <td>_e_B8rTl_rU</td>\n",
       "      <td>[32.3223, 48.3223, 95.8223, 258.6495, 273.6494...</td>\n",
       "    </tr>\n",
       "    <tr>\n",
       "      <th>4</th>\n",
       "      <td>_Jw3DQ7_pxg</td>\n",
       "      <td>[6.0, 34.0, 157.9999, 280.9999, 347.4999, 411....</td>\n",
       "    </tr>\n",
       "  </tbody>\n",
       "</table>\n",
       "</div>"
      ]
     },
     "execution_count": 24,
     "metadata": {},
     "output_type": "execute_result"
    }
   ],
   "execution_count": 24
  },
  {
   "metadata": {
    "ExecuteTime": {
     "end_time": "2025-05-11T05:40:08.713284Z",
     "start_time": "2025-05-11T05:40:08.710759Z"
    }
   },
   "cell_type": "code",
   "source": "output_dir = r\"/home/vedant/Desktop/glimpsify/most_info_frame_extractor/experiments/22\"",
   "outputs": [],
   "execution_count": 25
  },
  {
   "metadata": {
    "ExecuteTime": {
     "end_time": "2025-05-11T05:40:08.772178Z",
     "start_time": "2025-05-11T05:40:08.770064Z"
    }
   },
   "cell_type": "code",
   "source": "output_dir = Path(output_dir)",
   "outputs": [],
   "execution_count": 26
  },
  {
   "metadata": {
    "ExecuteTime": {
     "end_time": "2025-05-11T05:40:08.831387Z",
     "start_time": "2025-05-11T05:40:08.822152Z"
    }
   },
   "cell_type": "code",
   "source": [
    "output_file_name = output_dir / \"reference_key_frame_timestamps.csv\"\n",
    "df2.to_csv(output_file_name, index=False)"
   ],
   "outputs": [],
   "execution_count": 27
  },
  {
   "metadata": {
    "ExecuteTime": {
     "end_time": "2025-05-11T05:40:08.883520Z",
     "start_time": "2025-05-11T05:40:08.877707Z"
    }
   },
   "cell_type": "code",
   "source": "df2.head()",
   "outputs": [
    {
     "data": {
      "text/plain": [
       "      video_id                                         timestamps\n",
       "0  _8xHh1tk7jY    [5.4833, 34.9833, 101.9833, 165.4833, 232.9833]\n",
       "1  _Awekr6-ilg  [30.3946, 55.0392, 157.0121, 542.5121, 703.012...\n",
       "2  _BvFr9HEiQg  [24.961, 70.2913, 107.3214, 145.5609, 187.3366...\n",
       "3  _e_B8rTl_rU  [32.3223, 48.3223, 95.8223, 258.6495, 273.6494...\n",
       "4  _Jw3DQ7_pxg  [6.0, 34.0, 157.9999, 280.9999, 347.4999, 411...."
      ],
      "text/html": [
       "<div>\n",
       "<style scoped>\n",
       "    .dataframe tbody tr th:only-of-type {\n",
       "        vertical-align: middle;\n",
       "    }\n",
       "\n",
       "    .dataframe tbody tr th {\n",
       "        vertical-align: top;\n",
       "    }\n",
       "\n",
       "    .dataframe thead th {\n",
       "        text-align: right;\n",
       "    }\n",
       "</style>\n",
       "<table border=\"1\" class=\"dataframe\">\n",
       "  <thead>\n",
       "    <tr style=\"text-align: right;\">\n",
       "      <th></th>\n",
       "      <th>video_id</th>\n",
       "      <th>timestamps</th>\n",
       "    </tr>\n",
       "  </thead>\n",
       "  <tbody>\n",
       "    <tr>\n",
       "      <th>0</th>\n",
       "      <td>_8xHh1tk7jY</td>\n",
       "      <td>[5.4833, 34.9833, 101.9833, 165.4833, 232.9833]</td>\n",
       "    </tr>\n",
       "    <tr>\n",
       "      <th>1</th>\n",
       "      <td>_Awekr6-ilg</td>\n",
       "      <td>[30.3946, 55.0392, 157.0121, 542.5121, 703.012...</td>\n",
       "    </tr>\n",
       "    <tr>\n",
       "      <th>2</th>\n",
       "      <td>_BvFr9HEiQg</td>\n",
       "      <td>[24.961, 70.2913, 107.3214, 145.5609, 187.3366...</td>\n",
       "    </tr>\n",
       "    <tr>\n",
       "      <th>3</th>\n",
       "      <td>_e_B8rTl_rU</td>\n",
       "      <td>[32.3223, 48.3223, 95.8223, 258.6495, 273.6494...</td>\n",
       "    </tr>\n",
       "    <tr>\n",
       "      <th>4</th>\n",
       "      <td>_Jw3DQ7_pxg</td>\n",
       "      <td>[6.0, 34.0, 157.9999, 280.9999, 347.4999, 411....</td>\n",
       "    </tr>\n",
       "  </tbody>\n",
       "</table>\n",
       "</div>"
      ]
     },
     "execution_count": 28,
     "metadata": {},
     "output_type": "execute_result"
    }
   ],
   "execution_count": 28
  },
  {
   "metadata": {
    "ExecuteTime": {
     "end_time": "2025-05-11T05:40:08.957107Z",
     "start_time": "2025-05-11T05:40:08.953963Z"
    }
   },
   "cell_type": "code",
   "source": "df2.shape",
   "outputs": [
    {
     "data": {
      "text/plain": [
       "(333, 2)"
      ]
     },
     "execution_count": 29,
     "metadata": {},
     "output_type": "execute_result"
    }
   ],
   "execution_count": 29
  },
  {
   "metadata": {
    "ExecuteTime": {
     "end_time": "2025-05-11T05:40:09.024517Z",
     "start_time": "2025-05-11T05:40:09.023040Z"
    }
   },
   "cell_type": "code",
   "source": "",
   "outputs": [],
   "execution_count": null
  }
 ],
 "metadata": {
  "kernelspec": {
   "display_name": "base",
   "language": "python",
   "name": "python3"
  },
  "language_info": {
   "codemirror_mode": {
    "name": "ipython",
    "version": 3
   },
   "file_extension": ".py",
   "mimetype": "text/x-python",
   "name": "python",
   "nbconvert_exporter": "python",
   "pygments_lexer": "ipython3",
   "version": "3.12.2"
  }
 },
 "nbformat": 4,
 "nbformat_minor": 2
}
