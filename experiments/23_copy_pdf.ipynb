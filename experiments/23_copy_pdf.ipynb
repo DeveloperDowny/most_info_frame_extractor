{
 "cells": [
  {
   "metadata": {
    "ExecuteTime": {
     "end_time": "2025-05-04T07:43:56.641913Z",
     "start_time": "2025-05-04T07:43:56.615451Z"
    }
   },
   "cell_type": "code",
   "outputs": [],
   "execution_count": 2,
   "source": [
    "from pathlib import Path\n",
    "from pytubefix import YouTube"
   ]
  },
  {
   "metadata": {
    "ExecuteTime": {
     "end_time": "2025-05-04T07:43:56.998231Z",
     "start_time": "2025-05-04T07:43:56.993925Z"
    }
   },
   "cell_type": "code",
   "outputs": [],
   "execution_count": 3,
   "source": "src_folder = Path(r\"/home/vedant/Desktop/glimpsify/most_info_frame_extractor/video2pdf/data\")"
  },
  {
   "metadata": {
    "ExecuteTime": {
     "end_time": "2025-05-04T07:43:57.729655Z",
     "start_time": "2025-05-04T07:43:57.725133Z"
    }
   },
   "cell_type": "code",
   "outputs": [],
   "execution_count": 4,
   "source": "dst_folder = r\"/home/vedant/Downloads/python_objects_to_send/\""
  },
  {
   "metadata": {
    "ExecuteTime": {
     "end_time": "2025-05-04T07:44:02.271172Z",
     "start_time": "2025-05-04T07:44:02.265538Z"
    }
   },
   "cell_type": "code",
   "outputs": [],
   "execution_count": 5,
   "source": "dst_folder = Path(dst_folder)"
  },
  {
   "metadata": {
    "ExecuteTime": {
     "end_time": "2025-05-04T07:44:32.674997Z",
     "start_time": "2025-05-04T07:44:32.631839Z"
    }
   },
   "cell_type": "code",
   "outputs": [],
   "execution_count": 7,
   "source": "pdf_files = list(src_folder.parent.parent.rglob(\"*.pdf\"))"
  },
  {
   "metadata": {
    "ExecuteTime": {
     "end_time": "2025-05-04T07:46:48.384137Z",
     "start_time": "2025-05-04T07:46:48.266236Z"
    }
   },
   "cell_type": "code",
   "source": [
    "import shutil\n",
    "\n",
    "for pdf_file in pdf_files:\n",
    "    shutil.copy(pdf_file, dst_folder / pdf_file.name)"
   ],
   "outputs": [],
   "execution_count": 9
  },
  {
   "metadata": {},
   "cell_type": "code",
   "outputs": [],
   "execution_count": null,
   "source": ""
  }
 ],
 "metadata": {
  "kernelspec": {
   "display_name": "base",
   "language": "python",
   "name": "python3"
  },
  "language_info": {
   "codemirror_mode": {
    "name": "ipython",
    "version": 3
   },
   "file_extension": ".py",
   "mimetype": "text/x-python",
   "name": "python",
   "nbconvert_exporter": "python",
   "pygments_lexer": "ipython3",
   "version": "3.12.2"
  }
 },
 "nbformat": 4,
 "nbformat_minor": 2
}
