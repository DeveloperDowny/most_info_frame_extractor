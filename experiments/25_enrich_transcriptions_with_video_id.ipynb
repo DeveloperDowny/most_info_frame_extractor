{
 "cells": [
  {
   "metadata": {
    "ExecuteTime": {
     "end_time": "2025-05-04T10:34:56.289827Z",
     "start_time": "2025-05-04T10:34:56.285149Z"
    }
   },
   "cell_type": "code",
   "source": "import pandas as pd",
   "outputs": [],
   "execution_count": 63
  },
  {
   "metadata": {
    "ExecuteTime": {
     "end_time": "2025-05-04T10:34:56.612424Z",
     "start_time": "2025-05-04T10:34:56.608226Z"
    }
   },
   "cell_type": "code",
   "source": "from pathlib import Path",
   "outputs": [],
   "execution_count": 64
  },
  {
   "metadata": {
    "ExecuteTime": {
     "end_time": "2025-05-04T10:34:57.359279Z",
     "start_time": "2025-05-04T10:34:57.357308Z"
    }
   },
   "cell_type": "code",
   "source": [
    "pth = r\"/home/vedant/Desktop/glimpsify/most_info_frame_extractor/experiments/26/timestamps_v3.csv\"\n",
    "pth = Path(pth)"
   ],
   "outputs": [],
   "execution_count": 65
  },
  {
   "metadata": {
    "ExecuteTime": {
     "end_time": "2025-05-04T10:34:57.801555Z",
     "start_time": "2025-05-04T10:34:57.781841Z"
    }
   },
   "cell_type": "code",
   "source": [
    "\n",
    "df = pd.read_csv(pth)\n",
    "df.head()"
   ],
   "outputs": [
    {
     "data": {
      "text/plain": [
       "   Unnamed: 0 internal_id                                         timestamps\n",
       "0           0      plllkw                               [18.0, 240.0, 345.0]\n",
       "1           0      xpetji  [867.0, 1017.0, 1053.0, 1437.0, 1152.0, 810.0,...\n",
       "2           0      cxqeox                 [39.0, 621.0, 561.0, 456.0, 219.0]\n",
       "3           0      ufwmpg  [801.0, 3393.0, 3813.0, 1290.0, 543.0, 4017.0,...\n",
       "4           0      xfzngr                         [276.0, 450.0, 90.0, 30.0]"
      ],
      "text/html": [
       "<div>\n",
       "<style scoped>\n",
       "    .dataframe tbody tr th:only-of-type {\n",
       "        vertical-align: middle;\n",
       "    }\n",
       "\n",
       "    .dataframe tbody tr th {\n",
       "        vertical-align: top;\n",
       "    }\n",
       "\n",
       "    .dataframe thead th {\n",
       "        text-align: right;\n",
       "    }\n",
       "</style>\n",
       "<table border=\"1\" class=\"dataframe\">\n",
       "  <thead>\n",
       "    <tr style=\"text-align: right;\">\n",
       "      <th></th>\n",
       "      <th>Unnamed: 0</th>\n",
       "      <th>internal_id</th>\n",
       "      <th>timestamps</th>\n",
       "    </tr>\n",
       "  </thead>\n",
       "  <tbody>\n",
       "    <tr>\n",
       "      <th>0</th>\n",
       "      <td>0</td>\n",
       "      <td>plllkw</td>\n",
       "      <td>[18.0, 240.0, 345.0]</td>\n",
       "    </tr>\n",
       "    <tr>\n",
       "      <th>1</th>\n",
       "      <td>0</td>\n",
       "      <td>xpetji</td>\n",
       "      <td>[867.0, 1017.0, 1053.0, 1437.0, 1152.0, 810.0,...</td>\n",
       "    </tr>\n",
       "    <tr>\n",
       "      <th>2</th>\n",
       "      <td>0</td>\n",
       "      <td>cxqeox</td>\n",
       "      <td>[39.0, 621.0, 561.0, 456.0, 219.0]</td>\n",
       "    </tr>\n",
       "    <tr>\n",
       "      <th>3</th>\n",
       "      <td>0</td>\n",
       "      <td>ufwmpg</td>\n",
       "      <td>[801.0, 3393.0, 3813.0, 1290.0, 543.0, 4017.0,...</td>\n",
       "    </tr>\n",
       "    <tr>\n",
       "      <th>4</th>\n",
       "      <td>0</td>\n",
       "      <td>xfzngr</td>\n",
       "      <td>[276.0, 450.0, 90.0, 30.0]</td>\n",
       "    </tr>\n",
       "  </tbody>\n",
       "</table>\n",
       "</div>"
      ]
     },
     "execution_count": 66,
     "metadata": {},
     "output_type": "execute_result"
    }
   ],
   "execution_count": 66
  },
  {
   "metadata": {
    "ExecuteTime": {
     "end_time": "2025-05-04T10:35:00.795744Z",
     "start_time": "2025-05-04T10:35:00.789979Z"
    }
   },
   "cell_type": "code",
   "source": "results_file = Path(r\"/home/vedant/Desktop/glimpsify/most_info_frame_extractor/video2pdf/data_archive_1/results.txt\")",
   "outputs": [],
   "execution_count": 67
  },
  {
   "metadata": {
    "ExecuteTime": {
     "end_time": "2025-05-04T10:35:02.873996Z",
     "start_time": "2025-05-04T10:35:02.865499Z"
    }
   },
   "cell_type": "code",
   "source": [
    "with open(results_file, \"r\") as f:\n",
    "    results = f.readlines()\n",
    "results = [i.strip() for i in results if i.strip()]\n",
    "results[:5]"
   ],
   "outputs": [
    {
     "data": {
      "text/plain": [
       "['data/afsikc_dye -> data/afsikc/Oral Surgery | Orofacial Pain | INBDE, ADAT.mp4',\n",
       " 'data/afsikc_qsa -> data/afsikc/Oral Surgery | Orofacial Pain | INBDE, ADAT.mp4',\n",
       " 'data/afsikc_uba -> data/afsikc/Oral Surgery | Orofacial Pain | INBDE, ADAT.mp4',\n",
       " 'data/afsikc_xxh -> data/afsikc/Oral Surgery | Orofacial Pain | INBDE, ADAT.mp4',\n",
       " 'data/aryrsb -> data/aryrsb/Evidence-Based Dentistry Part 2.mp4']"
      ]
     },
     "execution_count": 68,
     "metadata": {},
     "output_type": "execute_result"
    }
   ],
   "execution_count": 68
  },
  {
   "metadata": {
    "ExecuteTime": {
     "end_time": "2025-05-04T10:35:04.563944Z",
     "start_time": "2025-05-04T10:35:04.558306Z"
    }
   },
   "cell_type": "code",
   "source": "df2 = pd.DataFrame()",
   "outputs": [],
   "execution_count": 69
  },
  {
   "metadata": {
    "ExecuteTime": {
     "end_time": "2025-05-04T10:35:11.343356Z",
     "start_time": "2025-05-04T10:35:11.284627Z"
    }
   },
   "cell_type": "code",
   "source": [
    "for result in results:\n",
    "    internal_id, video_name = result.split(\"->\")\n",
    "    internal_id = internal_id.strip()\n",
    "    video_name = video_name.strip()\n",
    "\n",
    "    internal_id = Path(internal_id).name\n",
    "    internal_id = internal_id.split(\"_\")[0]\n",
    "\n",
    "    video_name = Path(video_name).name\n",
    "\n",
    "    new_row = {\n",
    "        \"internal_id\": internal_id,\n",
    "        \"video_name\": video_name,\n",
    "    }\n",
    "    df2 = pd.concat([df2, pd.DataFrame([new_row])])"
   ],
   "outputs": [],
   "execution_count": 70
  },
  {
   "metadata": {
    "ExecuteTime": {
     "end_time": "2025-05-04T10:35:12.045196Z",
     "start_time": "2025-05-04T10:35:12.033412Z"
    }
   },
   "cell_type": "code",
   "source": "df2.head()",
   "outputs": [
    {
     "data": {
      "text/plain": [
       "  internal_id                                       video_name\n",
       "0      afsikc  Oral Surgery | Orofacial Pain | INBDE, ADAT.mp4\n",
       "0      afsikc  Oral Surgery | Orofacial Pain | INBDE, ADAT.mp4\n",
       "0      afsikc  Oral Surgery | Orofacial Pain | INBDE, ADAT.mp4\n",
       "0      afsikc  Oral Surgery | Orofacial Pain | INBDE, ADAT.mp4\n",
       "0      aryrsb              Evidence-Based Dentistry Part 2.mp4"
      ],
      "text/html": [
       "<div>\n",
       "<style scoped>\n",
       "    .dataframe tbody tr th:only-of-type {\n",
       "        vertical-align: middle;\n",
       "    }\n",
       "\n",
       "    .dataframe tbody tr th {\n",
       "        vertical-align: top;\n",
       "    }\n",
       "\n",
       "    .dataframe thead th {\n",
       "        text-align: right;\n",
       "    }\n",
       "</style>\n",
       "<table border=\"1\" class=\"dataframe\">\n",
       "  <thead>\n",
       "    <tr style=\"text-align: right;\">\n",
       "      <th></th>\n",
       "      <th>internal_id</th>\n",
       "      <th>video_name</th>\n",
       "    </tr>\n",
       "  </thead>\n",
       "  <tbody>\n",
       "    <tr>\n",
       "      <th>0</th>\n",
       "      <td>afsikc</td>\n",
       "      <td>Oral Surgery | Orofacial Pain | INBDE, ADAT.mp4</td>\n",
       "    </tr>\n",
       "    <tr>\n",
       "      <th>0</th>\n",
       "      <td>afsikc</td>\n",
       "      <td>Oral Surgery | Orofacial Pain | INBDE, ADAT.mp4</td>\n",
       "    </tr>\n",
       "    <tr>\n",
       "      <th>0</th>\n",
       "      <td>afsikc</td>\n",
       "      <td>Oral Surgery | Orofacial Pain | INBDE, ADAT.mp4</td>\n",
       "    </tr>\n",
       "    <tr>\n",
       "      <th>0</th>\n",
       "      <td>afsikc</td>\n",
       "      <td>Oral Surgery | Orofacial Pain | INBDE, ADAT.mp4</td>\n",
       "    </tr>\n",
       "    <tr>\n",
       "      <th>0</th>\n",
       "      <td>aryrsb</td>\n",
       "      <td>Evidence-Based Dentistry Part 2.mp4</td>\n",
       "    </tr>\n",
       "  </tbody>\n",
       "</table>\n",
       "</div>"
      ]
     },
     "execution_count": 71,
     "metadata": {},
     "output_type": "execute_result"
    }
   ],
   "execution_count": 71
  },
  {
   "metadata": {
    "ExecuteTime": {
     "end_time": "2025-05-04T10:35:15.193075Z",
     "start_time": "2025-05-04T10:35:15.180657Z"
    }
   },
   "cell_type": "code",
   "source": "df2.info()",
   "outputs": [
    {
     "name": "stdout",
     "output_type": "stream",
     "text": [
      "<class 'pandas.core.frame.DataFrame'>\n",
      "Index: 168 entries, 0 to 0\n",
      "Data columns (total 2 columns):\n",
      " #   Column       Non-Null Count  Dtype \n",
      "---  ------       --------------  ----- \n",
      " 0   internal_id  168 non-null    object\n",
      " 1   video_name   168 non-null    object\n",
      "dtypes: object(2)\n",
      "memory usage: 3.9+ KB\n"
     ]
    }
   ],
   "execution_count": 72
  },
  {
   "metadata": {
    "ExecuteTime": {
     "end_time": "2025-05-04T10:35:30.903765Z",
     "start_time": "2025-05-04T10:35:30.888569Z"
    }
   },
   "cell_type": "code",
   "source": [
    "df2 = df2.drop_duplicates()\n",
    "df2.info()"
   ],
   "outputs": [
    {
     "name": "stdout",
     "output_type": "stream",
     "text": [
      "<class 'pandas.core.frame.DataFrame'>\n",
      "Index: 156 entries, 0 to 0\n",
      "Data columns (total 2 columns):\n",
      " #   Column       Non-Null Count  Dtype \n",
      "---  ------       --------------  ----- \n",
      " 0   internal_id  156 non-null    object\n",
      " 1   video_name   156 non-null    object\n",
      "dtypes: object(2)\n",
      "memory usage: 3.7+ KB\n"
     ]
    }
   ],
   "execution_count": 73
  },
  {
   "metadata": {
    "ExecuteTime": {
     "end_time": "2025-05-04T10:35:36.574504Z",
     "start_time": "2025-05-04T10:35:36.562579Z"
    }
   },
   "cell_type": "code",
   "source": "df.head()",
   "outputs": [
    {
     "data": {
      "text/plain": [
       "   Unnamed: 0 internal_id                                         timestamps\n",
       "0           0      plllkw                               [18.0, 240.0, 345.0]\n",
       "1           0      xpetji  [867.0, 1017.0, 1053.0, 1437.0, 1152.0, 810.0,...\n",
       "2           0      cxqeox                 [39.0, 621.0, 561.0, 456.0, 219.0]\n",
       "3           0      ufwmpg  [801.0, 3393.0, 3813.0, 1290.0, 543.0, 4017.0,...\n",
       "4           0      xfzngr                         [276.0, 450.0, 90.0, 30.0]"
      ],
      "text/html": [
       "<div>\n",
       "<style scoped>\n",
       "    .dataframe tbody tr th:only-of-type {\n",
       "        vertical-align: middle;\n",
       "    }\n",
       "\n",
       "    .dataframe tbody tr th {\n",
       "        vertical-align: top;\n",
       "    }\n",
       "\n",
       "    .dataframe thead th {\n",
       "        text-align: right;\n",
       "    }\n",
       "</style>\n",
       "<table border=\"1\" class=\"dataframe\">\n",
       "  <thead>\n",
       "    <tr style=\"text-align: right;\">\n",
       "      <th></th>\n",
       "      <th>Unnamed: 0</th>\n",
       "      <th>internal_id</th>\n",
       "      <th>timestamps</th>\n",
       "    </tr>\n",
       "  </thead>\n",
       "  <tbody>\n",
       "    <tr>\n",
       "      <th>0</th>\n",
       "      <td>0</td>\n",
       "      <td>plllkw</td>\n",
       "      <td>[18.0, 240.0, 345.0]</td>\n",
       "    </tr>\n",
       "    <tr>\n",
       "      <th>1</th>\n",
       "      <td>0</td>\n",
       "      <td>xpetji</td>\n",
       "      <td>[867.0, 1017.0, 1053.0, 1437.0, 1152.0, 810.0,...</td>\n",
       "    </tr>\n",
       "    <tr>\n",
       "      <th>2</th>\n",
       "      <td>0</td>\n",
       "      <td>cxqeox</td>\n",
       "      <td>[39.0, 621.0, 561.0, 456.0, 219.0]</td>\n",
       "    </tr>\n",
       "    <tr>\n",
       "      <th>3</th>\n",
       "      <td>0</td>\n",
       "      <td>ufwmpg</td>\n",
       "      <td>[801.0, 3393.0, 3813.0, 1290.0, 543.0, 4017.0,...</td>\n",
       "    </tr>\n",
       "    <tr>\n",
       "      <th>4</th>\n",
       "      <td>0</td>\n",
       "      <td>xfzngr</td>\n",
       "      <td>[276.0, 450.0, 90.0, 30.0]</td>\n",
       "    </tr>\n",
       "  </tbody>\n",
       "</table>\n",
       "</div>"
      ]
     },
     "execution_count": 74,
     "metadata": {},
     "output_type": "execute_result"
    }
   ],
   "execution_count": 74
  },
  {
   "metadata": {
    "ExecuteTime": {
     "end_time": "2025-05-04T10:35:38.716585Z",
     "start_time": "2025-05-04T10:35:38.704359Z"
    }
   },
   "cell_type": "code",
   "source": "df2.head()",
   "outputs": [
    {
     "data": {
      "text/plain": [
       "  internal_id                                       video_name\n",
       "0      afsikc  Oral Surgery | Orofacial Pain | INBDE, ADAT.mp4\n",
       "0      aryrsb              Evidence-Based Dentistry Part 2.mp4\n",
       "0      pldnrz              Evidence-Based Dentistry Part 2.mp4\n",
       "0      vqesbr              Evidence-Based Dentistry Part 2.mp4\n",
       "0      srmqde              Evidence-Based Dentistry Part 2.mp4"
      ],
      "text/html": [
       "<div>\n",
       "<style scoped>\n",
       "    .dataframe tbody tr th:only-of-type {\n",
       "        vertical-align: middle;\n",
       "    }\n",
       "\n",
       "    .dataframe tbody tr th {\n",
       "        vertical-align: top;\n",
       "    }\n",
       "\n",
       "    .dataframe thead th {\n",
       "        text-align: right;\n",
       "    }\n",
       "</style>\n",
       "<table border=\"1\" class=\"dataframe\">\n",
       "  <thead>\n",
       "    <tr style=\"text-align: right;\">\n",
       "      <th></th>\n",
       "      <th>internal_id</th>\n",
       "      <th>video_name</th>\n",
       "    </tr>\n",
       "  </thead>\n",
       "  <tbody>\n",
       "    <tr>\n",
       "      <th>0</th>\n",
       "      <td>afsikc</td>\n",
       "      <td>Oral Surgery | Orofacial Pain | INBDE, ADAT.mp4</td>\n",
       "    </tr>\n",
       "    <tr>\n",
       "      <th>0</th>\n",
       "      <td>aryrsb</td>\n",
       "      <td>Evidence-Based Dentistry Part 2.mp4</td>\n",
       "    </tr>\n",
       "    <tr>\n",
       "      <th>0</th>\n",
       "      <td>pldnrz</td>\n",
       "      <td>Evidence-Based Dentistry Part 2.mp4</td>\n",
       "    </tr>\n",
       "    <tr>\n",
       "      <th>0</th>\n",
       "      <td>vqesbr</td>\n",
       "      <td>Evidence-Based Dentistry Part 2.mp4</td>\n",
       "    </tr>\n",
       "    <tr>\n",
       "      <th>0</th>\n",
       "      <td>srmqde</td>\n",
       "      <td>Evidence-Based Dentistry Part 2.mp4</td>\n",
       "    </tr>\n",
       "  </tbody>\n",
       "</table>\n",
       "</div>"
      ]
     },
     "execution_count": 75,
     "metadata": {},
     "output_type": "execute_result"
    }
   ],
   "execution_count": 75
  },
  {
   "metadata": {
    "ExecuteTime": {
     "end_time": "2025-05-04T10:35:55.352402Z",
     "start_time": "2025-05-04T10:35:55.350271Z"
    }
   },
   "cell_type": "code",
   "source": "# df2.set_index(\"internal_id\", inplace=True)",
   "outputs": [],
   "execution_count": 76
  },
  {
   "metadata": {
    "ExecuteTime": {
     "end_time": "2025-05-04T10:35:55.891123Z",
     "start_time": "2025-05-04T10:35:55.879595Z"
    }
   },
   "cell_type": "code",
   "source": "df2.head()",
   "outputs": [
    {
     "data": {
      "text/plain": [
       "  internal_id                                       video_name\n",
       "0      afsikc  Oral Surgery | Orofacial Pain | INBDE, ADAT.mp4\n",
       "0      aryrsb              Evidence-Based Dentistry Part 2.mp4\n",
       "0      pldnrz              Evidence-Based Dentistry Part 2.mp4\n",
       "0      vqesbr              Evidence-Based Dentistry Part 2.mp4\n",
       "0      srmqde              Evidence-Based Dentistry Part 2.mp4"
      ],
      "text/html": [
       "<div>\n",
       "<style scoped>\n",
       "    .dataframe tbody tr th:only-of-type {\n",
       "        vertical-align: middle;\n",
       "    }\n",
       "\n",
       "    .dataframe tbody tr th {\n",
       "        vertical-align: top;\n",
       "    }\n",
       "\n",
       "    .dataframe thead th {\n",
       "        text-align: right;\n",
       "    }\n",
       "</style>\n",
       "<table border=\"1\" class=\"dataframe\">\n",
       "  <thead>\n",
       "    <tr style=\"text-align: right;\">\n",
       "      <th></th>\n",
       "      <th>internal_id</th>\n",
       "      <th>video_name</th>\n",
       "    </tr>\n",
       "  </thead>\n",
       "  <tbody>\n",
       "    <tr>\n",
       "      <th>0</th>\n",
       "      <td>afsikc</td>\n",
       "      <td>Oral Surgery | Orofacial Pain | INBDE, ADAT.mp4</td>\n",
       "    </tr>\n",
       "    <tr>\n",
       "      <th>0</th>\n",
       "      <td>aryrsb</td>\n",
       "      <td>Evidence-Based Dentistry Part 2.mp4</td>\n",
       "    </tr>\n",
       "    <tr>\n",
       "      <th>0</th>\n",
       "      <td>pldnrz</td>\n",
       "      <td>Evidence-Based Dentistry Part 2.mp4</td>\n",
       "    </tr>\n",
       "    <tr>\n",
       "      <th>0</th>\n",
       "      <td>vqesbr</td>\n",
       "      <td>Evidence-Based Dentistry Part 2.mp4</td>\n",
       "    </tr>\n",
       "    <tr>\n",
       "      <th>0</th>\n",
       "      <td>srmqde</td>\n",
       "      <td>Evidence-Based Dentistry Part 2.mp4</td>\n",
       "    </tr>\n",
       "  </tbody>\n",
       "</table>\n",
       "</div>"
      ]
     },
     "execution_count": 77,
     "metadata": {},
     "output_type": "execute_result"
    }
   ],
   "execution_count": 77
  },
  {
   "metadata": {
    "ExecuteTime": {
     "end_time": "2025-05-04T10:36:08.462436Z",
     "start_time": "2025-05-04T10:36:08.454553Z"
    }
   },
   "cell_type": "code",
   "source": [
    "enriched_df = df.merge(df2, on=\"internal_id\", how=\"left\")\n",
    "enriched_df.head()"
   ],
   "outputs": [
    {
     "data": {
      "text/plain": [
       "   Unnamed: 0 internal_id                                         timestamps  \\\n",
       "0           0      plllkw                               [18.0, 240.0, 345.0]   \n",
       "1           0      xpetji  [867.0, 1017.0, 1053.0, 1437.0, 1152.0, 810.0,...   \n",
       "2           0      cxqeox                 [39.0, 621.0, 561.0, 456.0, 219.0]   \n",
       "3           0      ufwmpg  [801.0, 3393.0, 3813.0, 1290.0, 543.0, 4017.0,...   \n",
       "4           0      xfzngr                         [276.0, 450.0, 90.0, 30.0]   \n",
       "\n",
       "                                          video_name  \n",
       "0  Patient Management | Materials & Equipment Saf...  \n",
       "1  Endodontics | Adjunctive Treatment | INBDE, AD...  \n",
       "2                Evidence-Based Dentistry Part 2.mp4  \n",
       "3  Anatomy and Physiology Chapter 7 Part B Lectur...  \n",
       "4  Patient Management | Public Health & Epidemiol...  "
      ],
      "text/html": [
       "<div>\n",
       "<style scoped>\n",
       "    .dataframe tbody tr th:only-of-type {\n",
       "        vertical-align: middle;\n",
       "    }\n",
       "\n",
       "    .dataframe tbody tr th {\n",
       "        vertical-align: top;\n",
       "    }\n",
       "\n",
       "    .dataframe thead th {\n",
       "        text-align: right;\n",
       "    }\n",
       "</style>\n",
       "<table border=\"1\" class=\"dataframe\">\n",
       "  <thead>\n",
       "    <tr style=\"text-align: right;\">\n",
       "      <th></th>\n",
       "      <th>Unnamed: 0</th>\n",
       "      <th>internal_id</th>\n",
       "      <th>timestamps</th>\n",
       "      <th>video_name</th>\n",
       "    </tr>\n",
       "  </thead>\n",
       "  <tbody>\n",
       "    <tr>\n",
       "      <th>0</th>\n",
       "      <td>0</td>\n",
       "      <td>plllkw</td>\n",
       "      <td>[18.0, 240.0, 345.0]</td>\n",
       "      <td>Patient Management | Materials &amp; Equipment Saf...</td>\n",
       "    </tr>\n",
       "    <tr>\n",
       "      <th>1</th>\n",
       "      <td>0</td>\n",
       "      <td>xpetji</td>\n",
       "      <td>[867.0, 1017.0, 1053.0, 1437.0, 1152.0, 810.0,...</td>\n",
       "      <td>Endodontics | Adjunctive Treatment | INBDE, AD...</td>\n",
       "    </tr>\n",
       "    <tr>\n",
       "      <th>2</th>\n",
       "      <td>0</td>\n",
       "      <td>cxqeox</td>\n",
       "      <td>[39.0, 621.0, 561.0, 456.0, 219.0]</td>\n",
       "      <td>Evidence-Based Dentistry Part 2.mp4</td>\n",
       "    </tr>\n",
       "    <tr>\n",
       "      <th>3</th>\n",
       "      <td>0</td>\n",
       "      <td>ufwmpg</td>\n",
       "      <td>[801.0, 3393.0, 3813.0, 1290.0, 543.0, 4017.0,...</td>\n",
       "      <td>Anatomy and Physiology Chapter 7 Part B Lectur...</td>\n",
       "    </tr>\n",
       "    <tr>\n",
       "      <th>4</th>\n",
       "      <td>0</td>\n",
       "      <td>xfzngr</td>\n",
       "      <td>[276.0, 450.0, 90.0, 30.0]</td>\n",
       "      <td>Patient Management | Public Health &amp; Epidemiol...</td>\n",
       "    </tr>\n",
       "  </tbody>\n",
       "</table>\n",
       "</div>"
      ]
     },
     "execution_count": 79,
     "metadata": {},
     "output_type": "execute_result"
    }
   ],
   "execution_count": 79
  },
  {
   "metadata": {
    "ExecuteTime": {
     "end_time": "2025-05-04T10:36:21.949557Z",
     "start_time": "2025-05-04T10:36:21.935855Z"
    }
   },
   "cell_type": "code",
   "source": "enriched_df.info()",
   "outputs": [
    {
     "name": "stdout",
     "output_type": "stream",
     "text": [
      "<class 'pandas.core.frame.DataFrame'>\n",
      "RangeIndex: 134 entries, 0 to 133\n",
      "Data columns (total 4 columns):\n",
      " #   Column       Non-Null Count  Dtype \n",
      "---  ------       --------------  ----- \n",
      " 0   Unnamed: 0   134 non-null    int64 \n",
      " 1   internal_id  134 non-null    object\n",
      " 2   timestamps   134 non-null    object\n",
      " 3   video_name   134 non-null    object\n",
      "dtypes: int64(1), object(3)\n",
      "memory usage: 4.3+ KB\n"
     ]
    }
   ],
   "execution_count": 80
  },
  {
   "metadata": {
    "ExecuteTime": {
     "end_time": "2025-05-04T10:37:14.846447Z",
     "start_time": "2025-05-04T10:37:14.840987Z"
    }
   },
   "cell_type": "code",
   "source": "enriched_df = enriched_df.drop(\"Unnamed: 0\", axis=1)",
   "outputs": [],
   "execution_count": 82
  },
  {
   "metadata": {
    "ExecuteTime": {
     "end_time": "2025-05-04T10:38:06.076721Z",
     "start_time": "2025-05-04T10:38:06.064676Z"
    }
   },
   "cell_type": "code",
   "source": "enriched_df",
   "outputs": [
    {
     "data": {
      "text/plain": [
       "    internal_id                                         timestamps  \\\n",
       "0        plllkw                               [18.0, 240.0, 345.0]   \n",
       "1        xpetji  [867.0, 1017.0, 1053.0, 1437.0, 1152.0, 810.0,...   \n",
       "2        cxqeox                 [39.0, 621.0, 561.0, 456.0, 219.0]   \n",
       "3        ufwmpg  [801.0, 3393.0, 3813.0, 1290.0, 543.0, 4017.0,...   \n",
       "4        xfzngr                         [276.0, 450.0, 90.0, 30.0]   \n",
       "..          ...                                                ...   \n",
       "129      fcxvmr  [1656.0, 786.0, 1026.0, 1392.0, 591.0, 84.0, 1...   \n",
       "130      eupjay  [1245.0, 1029.0, 1560.0, 684.0, 1386.0, 1746.0...   \n",
       "131      hrpnxe  [942.0, 132.0, 867.0, 1539.0, 1584.0, 216.0, 7...   \n",
       "132      dlfoyw  [2415.0, 840.0, 1197.0, 588.0, 174.0, 1836.0, ...   \n",
       "133      yirczy                        [582.0, 69.0, 531.0, 372.0]   \n",
       "\n",
       "                                            video_name  \n",
       "0    Patient Management | Materials & Equipment Saf...  \n",
       "1    Endodontics | Adjunctive Treatment | INBDE, AD...  \n",
       "2                  Evidence-Based Dentistry Part 2.mp4  \n",
       "3    Anatomy and Physiology Chapter 7 Part B Lectur...  \n",
       "4    Patient Management | Public Health & Epidemiol...  \n",
       "..                                                 ...  \n",
       "129  Pediatric Dentistry | Tooth Development and Er...  \n",
       "130    Human Anatomy Lecture  Ch 19 The Heart Pt 2.mp4  \n",
       "131  Human Biology Lecture: Ch 6- Reproduction at t...  \n",
       "132  Orthodontics | Diagnosis & Treatment Planning ...  \n",
       "133  Head & Neck Anatomy | Muscles of Mastication |...  \n",
       "\n",
       "[134 rows x 3 columns]"
      ],
      "text/html": [
       "<div>\n",
       "<style scoped>\n",
       "    .dataframe tbody tr th:only-of-type {\n",
       "        vertical-align: middle;\n",
       "    }\n",
       "\n",
       "    .dataframe tbody tr th {\n",
       "        vertical-align: top;\n",
       "    }\n",
       "\n",
       "    .dataframe thead th {\n",
       "        text-align: right;\n",
       "    }\n",
       "</style>\n",
       "<table border=\"1\" class=\"dataframe\">\n",
       "  <thead>\n",
       "    <tr style=\"text-align: right;\">\n",
       "      <th></th>\n",
       "      <th>internal_id</th>\n",
       "      <th>timestamps</th>\n",
       "      <th>video_name</th>\n",
       "    </tr>\n",
       "  </thead>\n",
       "  <tbody>\n",
       "    <tr>\n",
       "      <th>0</th>\n",
       "      <td>plllkw</td>\n",
       "      <td>[18.0, 240.0, 345.0]</td>\n",
       "      <td>Patient Management | Materials &amp; Equipment Saf...</td>\n",
       "    </tr>\n",
       "    <tr>\n",
       "      <th>1</th>\n",
       "      <td>xpetji</td>\n",
       "      <td>[867.0, 1017.0, 1053.0, 1437.0, 1152.0, 810.0,...</td>\n",
       "      <td>Endodontics | Adjunctive Treatment | INBDE, AD...</td>\n",
       "    </tr>\n",
       "    <tr>\n",
       "      <th>2</th>\n",
       "      <td>cxqeox</td>\n",
       "      <td>[39.0, 621.0, 561.0, 456.0, 219.0]</td>\n",
       "      <td>Evidence-Based Dentistry Part 2.mp4</td>\n",
       "    </tr>\n",
       "    <tr>\n",
       "      <th>3</th>\n",
       "      <td>ufwmpg</td>\n",
       "      <td>[801.0, 3393.0, 3813.0, 1290.0, 543.0, 4017.0,...</td>\n",
       "      <td>Anatomy and Physiology Chapter 7 Part B Lectur...</td>\n",
       "    </tr>\n",
       "    <tr>\n",
       "      <th>4</th>\n",
       "      <td>xfzngr</td>\n",
       "      <td>[276.0, 450.0, 90.0, 30.0]</td>\n",
       "      <td>Patient Management | Public Health &amp; Epidemiol...</td>\n",
       "    </tr>\n",
       "    <tr>\n",
       "      <th>...</th>\n",
       "      <td>...</td>\n",
       "      <td>...</td>\n",
       "      <td>...</td>\n",
       "    </tr>\n",
       "    <tr>\n",
       "      <th>129</th>\n",
       "      <td>fcxvmr</td>\n",
       "      <td>[1656.0, 786.0, 1026.0, 1392.0, 591.0, 84.0, 1...</td>\n",
       "      <td>Pediatric Dentistry | Tooth Development and Er...</td>\n",
       "    </tr>\n",
       "    <tr>\n",
       "      <th>130</th>\n",
       "      <td>eupjay</td>\n",
       "      <td>[1245.0, 1029.0, 1560.0, 684.0, 1386.0, 1746.0...</td>\n",
       "      <td>Human Anatomy Lecture  Ch 19 The Heart Pt 2.mp4</td>\n",
       "    </tr>\n",
       "    <tr>\n",
       "      <th>131</th>\n",
       "      <td>hrpnxe</td>\n",
       "      <td>[942.0, 132.0, 867.0, 1539.0, 1584.0, 216.0, 7...</td>\n",
       "      <td>Human Biology Lecture: Ch 6- Reproduction at t...</td>\n",
       "    </tr>\n",
       "    <tr>\n",
       "      <th>132</th>\n",
       "      <td>dlfoyw</td>\n",
       "      <td>[2415.0, 840.0, 1197.0, 588.0, 174.0, 1836.0, ...</td>\n",
       "      <td>Orthodontics | Diagnosis &amp; Treatment Planning ...</td>\n",
       "    </tr>\n",
       "    <tr>\n",
       "      <th>133</th>\n",
       "      <td>yirczy</td>\n",
       "      <td>[582.0, 69.0, 531.0, 372.0]</td>\n",
       "      <td>Head &amp; Neck Anatomy | Muscles of Mastication |...</td>\n",
       "    </tr>\n",
       "  </tbody>\n",
       "</table>\n",
       "<p>134 rows × 3 columns</p>\n",
       "</div>"
      ]
     },
     "execution_count": 84,
     "metadata": {},
     "output_type": "execute_result"
    }
   ],
   "execution_count": 84
  },
  {
   "metadata": {
    "ExecuteTime": {
     "end_time": "2025-05-04T10:40:22.802188Z",
     "start_time": "2025-05-04T10:40:22.797127Z"
    }
   },
   "cell_type": "code",
   "source": "from pytubefix import YouTube, Search",
   "outputs": [],
   "execution_count": 90
  },
  {
   "metadata": {},
   "cell_type": "code",
   "outputs": [],
   "execution_count": null,
   "source": ""
  },
  {
   "metadata": {
    "ExecuteTime": {
     "end_time": "2025-05-04T10:40:53.040287Z",
     "start_time": "2025-05-04T10:40:53.034665Z"
    }
   },
   "cell_type": "code",
   "source": [
    "def get_video_id_from_video_name(video_name):\n",
    "    video = Search(video_name).videos[0]\n",
    "    return video.video_id"
   ],
   "outputs": [],
   "execution_count": 91
  },
  {
   "metadata": {
    "ExecuteTime": {
     "end_time": "2025-05-04T10:42:55.889936Z",
     "start_time": "2025-05-04T10:40:53.187118Z"
    }
   },
   "cell_type": "code",
   "source": "enriched_df[\"video_id\"] = enriched_df[\"video_name\"].apply(get_video_id_from_video_name)",
   "outputs": [],
   "execution_count": 92
  },
  {
   "metadata": {
    "ExecuteTime": {
     "end_time": "2025-05-04T10:44:11.045248Z",
     "start_time": "2025-05-04T10:44:11.038841Z"
    }
   },
   "cell_type": "code",
   "source": "enriched_df",
   "outputs": [
    {
     "data": {
      "text/plain": [
       "    internal_id                                         timestamps  \\\n",
       "0        plllkw                               [18.0, 240.0, 345.0]   \n",
       "1        xpetji  [867.0, 1017.0, 1053.0, 1437.0, 1152.0, 810.0,...   \n",
       "2        cxqeox                 [39.0, 621.0, 561.0, 456.0, 219.0]   \n",
       "3        ufwmpg  [801.0, 3393.0, 3813.0, 1290.0, 543.0, 4017.0,...   \n",
       "4        xfzngr                         [276.0, 450.0, 90.0, 30.0]   \n",
       "..          ...                                                ...   \n",
       "129      fcxvmr  [1656.0, 786.0, 1026.0, 1392.0, 591.0, 84.0, 1...   \n",
       "130      eupjay  [1245.0, 1029.0, 1560.0, 684.0, 1386.0, 1746.0...   \n",
       "131      hrpnxe  [942.0, 132.0, 867.0, 1539.0, 1584.0, 216.0, 7...   \n",
       "132      dlfoyw  [2415.0, 840.0, 1197.0, 588.0, 174.0, 1836.0, ...   \n",
       "133      yirczy                        [582.0, 69.0, 531.0, 372.0]   \n",
       "\n",
       "                                            video_name     video_id  \n",
       "0    Patient Management | Materials & Equipment Saf...  hgk8-2Fweb8  \n",
       "1    Endodontics | Adjunctive Treatment | INBDE, AD...  U6XA28g9tEE  \n",
       "2                  Evidence-Based Dentistry Part 2.mp4  j0VTYFUMW_M  \n",
       "3    Anatomy and Physiology Chapter 7 Part B Lectur...  3p1-xzfdJCA  \n",
       "4    Patient Management | Public Health & Epidemiol...  CmION0EvzLc  \n",
       "..                                                 ...          ...  \n",
       "129  Pediatric Dentistry | Tooth Development and Er...  PLAMJJfZ-eo  \n",
       "130    Human Anatomy Lecture  Ch 19 The Heart Pt 2.mp4  OYCRLL9_P-U  \n",
       "131  Human Biology Lecture: Ch 6- Reproduction at t...  tKcLwCPQc1U  \n",
       "132  Orthodontics | Diagnosis & Treatment Planning ...  IRxyWfmXLXA  \n",
       "133  Head & Neck Anatomy | Muscles of Mastication |...  reqF1EORKSg  \n",
       "\n",
       "[134 rows x 4 columns]"
      ],
      "text/html": [
       "<div>\n",
       "<style scoped>\n",
       "    .dataframe tbody tr th:only-of-type {\n",
       "        vertical-align: middle;\n",
       "    }\n",
       "\n",
       "    .dataframe tbody tr th {\n",
       "        vertical-align: top;\n",
       "    }\n",
       "\n",
       "    .dataframe thead th {\n",
       "        text-align: right;\n",
       "    }\n",
       "</style>\n",
       "<table border=\"1\" class=\"dataframe\">\n",
       "  <thead>\n",
       "    <tr style=\"text-align: right;\">\n",
       "      <th></th>\n",
       "      <th>internal_id</th>\n",
       "      <th>timestamps</th>\n",
       "      <th>video_name</th>\n",
       "      <th>video_id</th>\n",
       "    </tr>\n",
       "  </thead>\n",
       "  <tbody>\n",
       "    <tr>\n",
       "      <th>0</th>\n",
       "      <td>plllkw</td>\n",
       "      <td>[18.0, 240.0, 345.0]</td>\n",
       "      <td>Patient Management | Materials &amp; Equipment Saf...</td>\n",
       "      <td>hgk8-2Fweb8</td>\n",
       "    </tr>\n",
       "    <tr>\n",
       "      <th>1</th>\n",
       "      <td>xpetji</td>\n",
       "      <td>[867.0, 1017.0, 1053.0, 1437.0, 1152.0, 810.0,...</td>\n",
       "      <td>Endodontics | Adjunctive Treatment | INBDE, AD...</td>\n",
       "      <td>U6XA28g9tEE</td>\n",
       "    </tr>\n",
       "    <tr>\n",
       "      <th>2</th>\n",
       "      <td>cxqeox</td>\n",
       "      <td>[39.0, 621.0, 561.0, 456.0, 219.0]</td>\n",
       "      <td>Evidence-Based Dentistry Part 2.mp4</td>\n",
       "      <td>j0VTYFUMW_M</td>\n",
       "    </tr>\n",
       "    <tr>\n",
       "      <th>3</th>\n",
       "      <td>ufwmpg</td>\n",
       "      <td>[801.0, 3393.0, 3813.0, 1290.0, 543.0, 4017.0,...</td>\n",
       "      <td>Anatomy and Physiology Chapter 7 Part B Lectur...</td>\n",
       "      <td>3p1-xzfdJCA</td>\n",
       "    </tr>\n",
       "    <tr>\n",
       "      <th>4</th>\n",
       "      <td>xfzngr</td>\n",
       "      <td>[276.0, 450.0, 90.0, 30.0]</td>\n",
       "      <td>Patient Management | Public Health &amp; Epidemiol...</td>\n",
       "      <td>CmION0EvzLc</td>\n",
       "    </tr>\n",
       "    <tr>\n",
       "      <th>...</th>\n",
       "      <td>...</td>\n",
       "      <td>...</td>\n",
       "      <td>...</td>\n",
       "      <td>...</td>\n",
       "    </tr>\n",
       "    <tr>\n",
       "      <th>129</th>\n",
       "      <td>fcxvmr</td>\n",
       "      <td>[1656.0, 786.0, 1026.0, 1392.0, 591.0, 84.0, 1...</td>\n",
       "      <td>Pediatric Dentistry | Tooth Development and Er...</td>\n",
       "      <td>PLAMJJfZ-eo</td>\n",
       "    </tr>\n",
       "    <tr>\n",
       "      <th>130</th>\n",
       "      <td>eupjay</td>\n",
       "      <td>[1245.0, 1029.0, 1560.0, 684.0, 1386.0, 1746.0...</td>\n",
       "      <td>Human Anatomy Lecture  Ch 19 The Heart Pt 2.mp4</td>\n",
       "      <td>OYCRLL9_P-U</td>\n",
       "    </tr>\n",
       "    <tr>\n",
       "      <th>131</th>\n",
       "      <td>hrpnxe</td>\n",
       "      <td>[942.0, 132.0, 867.0, 1539.0, 1584.0, 216.0, 7...</td>\n",
       "      <td>Human Biology Lecture: Ch 6- Reproduction at t...</td>\n",
       "      <td>tKcLwCPQc1U</td>\n",
       "    </tr>\n",
       "    <tr>\n",
       "      <th>132</th>\n",
       "      <td>dlfoyw</td>\n",
       "      <td>[2415.0, 840.0, 1197.0, 588.0, 174.0, 1836.0, ...</td>\n",
       "      <td>Orthodontics | Diagnosis &amp; Treatment Planning ...</td>\n",
       "      <td>IRxyWfmXLXA</td>\n",
       "    </tr>\n",
       "    <tr>\n",
       "      <th>133</th>\n",
       "      <td>yirczy</td>\n",
       "      <td>[582.0, 69.0, 531.0, 372.0]</td>\n",
       "      <td>Head &amp; Neck Anatomy | Muscles of Mastication |...</td>\n",
       "      <td>reqF1EORKSg</td>\n",
       "    </tr>\n",
       "  </tbody>\n",
       "</table>\n",
       "<p>134 rows × 4 columns</p>\n",
       "</div>"
      ]
     },
     "execution_count": 93,
     "metadata": {},
     "output_type": "execute_result"
    }
   ],
   "execution_count": 93
  },
  {
   "metadata": {
    "ExecuteTime": {
     "end_time": "2025-05-04T10:46:12.342197Z",
     "start_time": "2025-05-04T10:46:12.339043Z"
    }
   },
   "cell_type": "code",
   "source": "enriched_df.columns",
   "outputs": [
    {
     "data": {
      "text/plain": [
       "Index(['internal_id', 'timestamps', 'video_name', 'video_id'], dtype='object')"
      ]
     },
     "execution_count": 95,
     "metadata": {},
     "output_type": "execute_result"
    }
   ],
   "execution_count": 95
  },
  {
   "metadata": {
    "ExecuteTime": {
     "end_time": "2025-05-04T10:48:22.828265Z",
     "start_time": "2025-05-04T10:48:22.824594Z"
    }
   },
   "cell_type": "code",
   "source": [
    "col_names = [\n",
    "    'internal_id',\n",
    "    'video_id',\n",
    "    'video_name',\n",
    "    'timestamps',\n",
    "]"
   ],
   "outputs": [],
   "execution_count": 98
  },
  {
   "metadata": {
    "ExecuteTime": {
     "end_time": "2025-05-04T10:48:23.358440Z",
     "start_time": "2025-05-04T10:48:23.355005Z"
    }
   },
   "cell_type": "code",
   "source": "enriched_df = enriched_df[col_names]",
   "outputs": [],
   "execution_count": 99
  },
  {
   "metadata": {
    "ExecuteTime": {
     "end_time": "2025-05-04T10:48:26.185431Z",
     "start_time": "2025-05-04T10:48:26.178301Z"
    }
   },
   "cell_type": "code",
   "source": "enriched_df",
   "outputs": [
    {
     "data": {
      "text/plain": [
       "    internal_id     video_id  \\\n",
       "0        plllkw  hgk8-2Fweb8   \n",
       "1        xpetji  U6XA28g9tEE   \n",
       "2        cxqeox  j0VTYFUMW_M   \n",
       "3        ufwmpg  3p1-xzfdJCA   \n",
       "4        xfzngr  CmION0EvzLc   \n",
       "..          ...          ...   \n",
       "129      fcxvmr  PLAMJJfZ-eo   \n",
       "130      eupjay  OYCRLL9_P-U   \n",
       "131      hrpnxe  tKcLwCPQc1U   \n",
       "132      dlfoyw  IRxyWfmXLXA   \n",
       "133      yirczy  reqF1EORKSg   \n",
       "\n",
       "                                            video_name  \\\n",
       "0    Patient Management | Materials & Equipment Saf...   \n",
       "1    Endodontics | Adjunctive Treatment | INBDE, AD...   \n",
       "2                  Evidence-Based Dentistry Part 2.mp4   \n",
       "3    Anatomy and Physiology Chapter 7 Part B Lectur...   \n",
       "4    Patient Management | Public Health & Epidemiol...   \n",
       "..                                                 ...   \n",
       "129  Pediatric Dentistry | Tooth Development and Er...   \n",
       "130    Human Anatomy Lecture  Ch 19 The Heart Pt 2.mp4   \n",
       "131  Human Biology Lecture: Ch 6- Reproduction at t...   \n",
       "132  Orthodontics | Diagnosis & Treatment Planning ...   \n",
       "133  Head & Neck Anatomy | Muscles of Mastication |...   \n",
       "\n",
       "                                            timestamps  \n",
       "0                                 [18.0, 240.0, 345.0]  \n",
       "1    [867.0, 1017.0, 1053.0, 1437.0, 1152.0, 810.0,...  \n",
       "2                   [39.0, 621.0, 561.0, 456.0, 219.0]  \n",
       "3    [801.0, 3393.0, 3813.0, 1290.0, 543.0, 4017.0,...  \n",
       "4                           [276.0, 450.0, 90.0, 30.0]  \n",
       "..                                                 ...  \n",
       "129  [1656.0, 786.0, 1026.0, 1392.0, 591.0, 84.0, 1...  \n",
       "130  [1245.0, 1029.0, 1560.0, 684.0, 1386.0, 1746.0...  \n",
       "131  [942.0, 132.0, 867.0, 1539.0, 1584.0, 216.0, 7...  \n",
       "132  [2415.0, 840.0, 1197.0, 588.0, 174.0, 1836.0, ...  \n",
       "133                        [582.0, 69.0, 531.0, 372.0]  \n",
       "\n",
       "[134 rows x 4 columns]"
      ],
      "text/html": [
       "<div>\n",
       "<style scoped>\n",
       "    .dataframe tbody tr th:only-of-type {\n",
       "        vertical-align: middle;\n",
       "    }\n",
       "\n",
       "    .dataframe tbody tr th {\n",
       "        vertical-align: top;\n",
       "    }\n",
       "\n",
       "    .dataframe thead th {\n",
       "        text-align: right;\n",
       "    }\n",
       "</style>\n",
       "<table border=\"1\" class=\"dataframe\">\n",
       "  <thead>\n",
       "    <tr style=\"text-align: right;\">\n",
       "      <th></th>\n",
       "      <th>internal_id</th>\n",
       "      <th>video_id</th>\n",
       "      <th>video_name</th>\n",
       "      <th>timestamps</th>\n",
       "    </tr>\n",
       "  </thead>\n",
       "  <tbody>\n",
       "    <tr>\n",
       "      <th>0</th>\n",
       "      <td>plllkw</td>\n",
       "      <td>hgk8-2Fweb8</td>\n",
       "      <td>Patient Management | Materials &amp; Equipment Saf...</td>\n",
       "      <td>[18.0, 240.0, 345.0]</td>\n",
       "    </tr>\n",
       "    <tr>\n",
       "      <th>1</th>\n",
       "      <td>xpetji</td>\n",
       "      <td>U6XA28g9tEE</td>\n",
       "      <td>Endodontics | Adjunctive Treatment | INBDE, AD...</td>\n",
       "      <td>[867.0, 1017.0, 1053.0, 1437.0, 1152.0, 810.0,...</td>\n",
       "    </tr>\n",
       "    <tr>\n",
       "      <th>2</th>\n",
       "      <td>cxqeox</td>\n",
       "      <td>j0VTYFUMW_M</td>\n",
       "      <td>Evidence-Based Dentistry Part 2.mp4</td>\n",
       "      <td>[39.0, 621.0, 561.0, 456.0, 219.0]</td>\n",
       "    </tr>\n",
       "    <tr>\n",
       "      <th>3</th>\n",
       "      <td>ufwmpg</td>\n",
       "      <td>3p1-xzfdJCA</td>\n",
       "      <td>Anatomy and Physiology Chapter 7 Part B Lectur...</td>\n",
       "      <td>[801.0, 3393.0, 3813.0, 1290.0, 543.0, 4017.0,...</td>\n",
       "    </tr>\n",
       "    <tr>\n",
       "      <th>4</th>\n",
       "      <td>xfzngr</td>\n",
       "      <td>CmION0EvzLc</td>\n",
       "      <td>Patient Management | Public Health &amp; Epidemiol...</td>\n",
       "      <td>[276.0, 450.0, 90.0, 30.0]</td>\n",
       "    </tr>\n",
       "    <tr>\n",
       "      <th>...</th>\n",
       "      <td>...</td>\n",
       "      <td>...</td>\n",
       "      <td>...</td>\n",
       "      <td>...</td>\n",
       "    </tr>\n",
       "    <tr>\n",
       "      <th>129</th>\n",
       "      <td>fcxvmr</td>\n",
       "      <td>PLAMJJfZ-eo</td>\n",
       "      <td>Pediatric Dentistry | Tooth Development and Er...</td>\n",
       "      <td>[1656.0, 786.0, 1026.0, 1392.0, 591.0, 84.0, 1...</td>\n",
       "    </tr>\n",
       "    <tr>\n",
       "      <th>130</th>\n",
       "      <td>eupjay</td>\n",
       "      <td>OYCRLL9_P-U</td>\n",
       "      <td>Human Anatomy Lecture  Ch 19 The Heart Pt 2.mp4</td>\n",
       "      <td>[1245.0, 1029.0, 1560.0, 684.0, 1386.0, 1746.0...</td>\n",
       "    </tr>\n",
       "    <tr>\n",
       "      <th>131</th>\n",
       "      <td>hrpnxe</td>\n",
       "      <td>tKcLwCPQc1U</td>\n",
       "      <td>Human Biology Lecture: Ch 6- Reproduction at t...</td>\n",
       "      <td>[942.0, 132.0, 867.0, 1539.0, 1584.0, 216.0, 7...</td>\n",
       "    </tr>\n",
       "    <tr>\n",
       "      <th>132</th>\n",
       "      <td>dlfoyw</td>\n",
       "      <td>IRxyWfmXLXA</td>\n",
       "      <td>Orthodontics | Diagnosis &amp; Treatment Planning ...</td>\n",
       "      <td>[2415.0, 840.0, 1197.0, 588.0, 174.0, 1836.0, ...</td>\n",
       "    </tr>\n",
       "    <tr>\n",
       "      <th>133</th>\n",
       "      <td>yirczy</td>\n",
       "      <td>reqF1EORKSg</td>\n",
       "      <td>Head &amp; Neck Anatomy | Muscles of Mastication |...</td>\n",
       "      <td>[582.0, 69.0, 531.0, 372.0]</td>\n",
       "    </tr>\n",
       "  </tbody>\n",
       "</table>\n",
       "<p>134 rows × 4 columns</p>\n",
       "</div>"
      ]
     },
     "execution_count": 100,
     "metadata": {},
     "output_type": "execute_result"
    }
   ],
   "execution_count": 100
  },
  {
   "metadata": {
    "ExecuteTime": {
     "end_time": "2025-05-04T10:49:26.141925Z",
     "start_time": "2025-05-04T10:49:26.134819Z"
    }
   },
   "cell_type": "code",
   "source": "enriched_df.to_csv(r\"/home/vedant/Downloads/python_objects_to_send/timestamps_v4.csv\")",
   "outputs": [],
   "execution_count": 101
  },
  {
   "metadata": {},
   "cell_type": "code",
   "outputs": [],
   "execution_count": null,
   "source": ""
  }
 ],
 "metadata": {
  "kernelspec": {
   "display_name": "base",
   "language": "python",
   "name": "python3"
  },
  "language_info": {
   "codemirror_mode": {
    "name": "ipython",
    "version": 3
   },
   "file_extension": ".py",
   "mimetype": "text/x-python",
   "name": "python",
   "nbconvert_exporter": "python",
   "pygments_lexer": "ipython3",
   "version": "3.12.2"
  }
 },
 "nbformat": 4,
 "nbformat_minor": 2
}
