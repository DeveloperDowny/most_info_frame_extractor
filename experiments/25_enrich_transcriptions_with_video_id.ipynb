{
 "cells": [
  {
   "metadata": {
    "ExecuteTime": {
     "end_time": "2025-05-06T17:56:27.638977Z",
     "start_time": "2025-05-06T17:56:27.636893Z"
    }
   },
   "cell_type": "code",
   "source": "import pandas as pd",
   "outputs": [],
   "execution_count": 7
  },
  {
   "metadata": {
    "ExecuteTime": {
     "end_time": "2025-05-06T17:56:27.652518Z",
     "start_time": "2025-05-06T17:56:27.650511Z"
    }
   },
   "cell_type": "code",
   "source": "from pathlib import Path",
   "outputs": [],
   "execution_count": 8
  },
  {
   "metadata": {
    "ExecuteTime": {
     "end_time": "2025-05-06T17:56:27.701627Z",
     "start_time": "2025-05-06T17:56:27.699656Z"
    }
   },
   "cell_type": "code",
   "source": [
    "pth = r\"/home/vedant/Desktop/glimpsify/most_info_frame_extractor/experiments/26/timestamps_v3.csv\"\n",
    "pth = Path(pth)"
   ],
   "outputs": [],
   "execution_count": 9
  },
  {
   "metadata": {
    "ExecuteTime": {
     "end_time": "2025-05-06T17:56:27.755244Z",
     "start_time": "2025-05-06T17:56:27.747972Z"
    }
   },
   "cell_type": "code",
   "source": [
    "\n",
    "df = pd.read_csv(pth)\n",
    "df.head()"
   ],
   "outputs": [
    {
     "data": {
      "text/plain": [
       "   Unnamed: 0 internal_id                                         timestamps\n",
       "0           0      plllkw                               [18.0, 240.0, 345.0]\n",
       "1           0      xpetji  [867.0, 1017.0, 1053.0, 1437.0, 1152.0, 810.0,...\n",
       "2           0      cxqeox                 [39.0, 621.0, 561.0, 456.0, 219.0]\n",
       "3           0      ufwmpg  [801.0, 3393.0, 3813.0, 1290.0, 543.0, 4017.0,...\n",
       "4           0      xfzngr                         [276.0, 450.0, 90.0, 30.0]"
      ],
      "text/html": [
       "<div>\n",
       "<style scoped>\n",
       "    .dataframe tbody tr th:only-of-type {\n",
       "        vertical-align: middle;\n",
       "    }\n",
       "\n",
       "    .dataframe tbody tr th {\n",
       "        vertical-align: top;\n",
       "    }\n",
       "\n",
       "    .dataframe thead th {\n",
       "        text-align: right;\n",
       "    }\n",
       "</style>\n",
       "<table border=\"1\" class=\"dataframe\">\n",
       "  <thead>\n",
       "    <tr style=\"text-align: right;\">\n",
       "      <th></th>\n",
       "      <th>Unnamed: 0</th>\n",
       "      <th>internal_id</th>\n",
       "      <th>timestamps</th>\n",
       "    </tr>\n",
       "  </thead>\n",
       "  <tbody>\n",
       "    <tr>\n",
       "      <th>0</th>\n",
       "      <td>0</td>\n",
       "      <td>plllkw</td>\n",
       "      <td>[18.0, 240.0, 345.0]</td>\n",
       "    </tr>\n",
       "    <tr>\n",
       "      <th>1</th>\n",
       "      <td>0</td>\n",
       "      <td>xpetji</td>\n",
       "      <td>[867.0, 1017.0, 1053.0, 1437.0, 1152.0, 810.0,...</td>\n",
       "    </tr>\n",
       "    <tr>\n",
       "      <th>2</th>\n",
       "      <td>0</td>\n",
       "      <td>cxqeox</td>\n",
       "      <td>[39.0, 621.0, 561.0, 456.0, 219.0]</td>\n",
       "    </tr>\n",
       "    <tr>\n",
       "      <th>3</th>\n",
       "      <td>0</td>\n",
       "      <td>ufwmpg</td>\n",
       "      <td>[801.0, 3393.0, 3813.0, 1290.0, 543.0, 4017.0,...</td>\n",
       "    </tr>\n",
       "    <tr>\n",
       "      <th>4</th>\n",
       "      <td>0</td>\n",
       "      <td>xfzngr</td>\n",
       "      <td>[276.0, 450.0, 90.0, 30.0]</td>\n",
       "    </tr>\n",
       "  </tbody>\n",
       "</table>\n",
       "</div>"
      ]
     },
     "execution_count": 10,
     "metadata": {},
     "output_type": "execute_result"
    }
   ],
   "execution_count": 10
  },
  {
   "metadata": {
    "ExecuteTime": {
     "end_time": "2025-05-06T17:56:27.820176Z",
     "start_time": "2025-05-06T17:56:27.818426Z"
    }
   },
   "cell_type": "code",
   "source": "results_file = Path(r\"/home/vedant/Desktop/glimpsify/most_info_frame_extractor/video2pdf/data/results.txt\")",
   "outputs": [],
   "execution_count": 11
  },
  {
   "metadata": {
    "ExecuteTime": {
     "end_time": "2025-05-06T17:56:27.896052Z",
     "start_time": "2025-05-06T17:56:27.892691Z"
    }
   },
   "cell_type": "code",
   "source": [
    "with open(results_file, \"r\") as f:\n",
    "    results = f.readlines()\n",
    "results = [i.strip() for i in results if i.strip()]\n",
    "results[:5]"
   ],
   "outputs": [
    {
     "data": {
      "text/plain": [
       "['../data/whsuyw_gqa -> ../data/whsuyw/What Is Organic Chemistry?: Crash Course Organic Chemistry #1.mp4',\n",
       " '../data/tvtjdv_qzy -> ../data/tvtjdv/Oral Surgery | Medical Emergencies | INBDE, ADAT.mp4',\n",
       " '../data/tabwoi_nvk -> ../data/tabwoi/Histology- Taste Buds and Lingual Papillae.mp4',\n",
       " '../data/etdnlx_yfu -> ../data/etdnlx/Chapter 39   Muscoloskeletal System.mp4',\n",
       " '../data/ufwmpg_lyx -> ../data/ufwmpg/Anatomy and Physiology Chapter 7 Part B Lecture: The Skelton.mp4']"
      ]
     },
     "execution_count": 12,
     "metadata": {},
     "output_type": "execute_result"
    }
   ],
   "execution_count": 12
  },
  {
   "metadata": {
    "ExecuteTime": {
     "end_time": "2025-05-06T17:56:27.969482Z",
     "start_time": "2025-05-06T17:56:27.966634Z"
    }
   },
   "cell_type": "code",
   "source": "df2 = pd.DataFrame()",
   "outputs": [],
   "execution_count": 13
  },
  {
   "metadata": {
    "ExecuteTime": {
     "end_time": "2025-05-06T17:56:28.079802Z",
     "start_time": "2025-05-06T17:56:28.022682Z"
    }
   },
   "cell_type": "code",
   "source": [
    "for result in results:\n",
    "    internal_id, video_name = result.split(\"->\")\n",
    "    internal_id = internal_id.strip()\n",
    "    video_name = video_name.strip()\n",
    "\n",
    "    internal_id = Path(internal_id).name\n",
    "    internal_id = internal_id.split(\"_\")[0]\n",
    "\n",
    "    video_name = Path(video_name).name\n",
    "\n",
    "    new_row = {\n",
    "        \"internal_id\": internal_id,\n",
    "        \"video_name\": video_name,\n",
    "    }\n",
    "    df2 = pd.concat([df2, pd.DataFrame([new_row])])"
   ],
   "outputs": [],
   "execution_count": 14
  },
  {
   "metadata": {
    "ExecuteTime": {
     "end_time": "2025-05-06T17:56:28.134218Z",
     "start_time": "2025-05-06T17:56:28.129685Z"
    }
   },
   "cell_type": "code",
   "source": "df2.head()",
   "outputs": [
    {
     "data": {
      "text/plain": [
       "  internal_id                                         video_name\n",
       "0      whsuyw  What Is Organic Chemistry?: Crash Course Organ...\n",
       "0      tvtjdv  Oral Surgery | Medical Emergencies | INBDE, AD...\n",
       "0      tabwoi     Histology- Taste Buds and Lingual Papillae.mp4\n",
       "0      etdnlx            Chapter 39   Muscoloskeletal System.mp4\n",
       "0      ufwmpg  Anatomy and Physiology Chapter 7 Part B Lectur..."
      ],
      "text/html": [
       "<div>\n",
       "<style scoped>\n",
       "    .dataframe tbody tr th:only-of-type {\n",
       "        vertical-align: middle;\n",
       "    }\n",
       "\n",
       "    .dataframe tbody tr th {\n",
       "        vertical-align: top;\n",
       "    }\n",
       "\n",
       "    .dataframe thead th {\n",
       "        text-align: right;\n",
       "    }\n",
       "</style>\n",
       "<table border=\"1\" class=\"dataframe\">\n",
       "  <thead>\n",
       "    <tr style=\"text-align: right;\">\n",
       "      <th></th>\n",
       "      <th>internal_id</th>\n",
       "      <th>video_name</th>\n",
       "    </tr>\n",
       "  </thead>\n",
       "  <tbody>\n",
       "    <tr>\n",
       "      <th>0</th>\n",
       "      <td>whsuyw</td>\n",
       "      <td>What Is Organic Chemistry?: Crash Course Organ...</td>\n",
       "    </tr>\n",
       "    <tr>\n",
       "      <th>0</th>\n",
       "      <td>tvtjdv</td>\n",
       "      <td>Oral Surgery | Medical Emergencies | INBDE, AD...</td>\n",
       "    </tr>\n",
       "    <tr>\n",
       "      <th>0</th>\n",
       "      <td>tabwoi</td>\n",
       "      <td>Histology- Taste Buds and Lingual Papillae.mp4</td>\n",
       "    </tr>\n",
       "    <tr>\n",
       "      <th>0</th>\n",
       "      <td>etdnlx</td>\n",
       "      <td>Chapter 39   Muscoloskeletal System.mp4</td>\n",
       "    </tr>\n",
       "    <tr>\n",
       "      <th>0</th>\n",
       "      <td>ufwmpg</td>\n",
       "      <td>Anatomy and Physiology Chapter 7 Part B Lectur...</td>\n",
       "    </tr>\n",
       "  </tbody>\n",
       "</table>\n",
       "</div>"
      ]
     },
     "execution_count": 15,
     "metadata": {},
     "output_type": "execute_result"
    }
   ],
   "execution_count": 15
  },
  {
   "metadata": {
    "ExecuteTime": {
     "end_time": "2025-05-06T17:56:28.214075Z",
     "start_time": "2025-05-06T17:56:28.204760Z"
    }
   },
   "cell_type": "code",
   "source": "df2.info()",
   "outputs": [
    {
     "name": "stdout",
     "output_type": "stream",
     "text": [
      "<class 'pandas.core.frame.DataFrame'>\n",
      "Index: 162 entries, 0 to 0\n",
      "Data columns (total 2 columns):\n",
      " #   Column       Non-Null Count  Dtype \n",
      "---  ------       --------------  ----- \n",
      " 0   internal_id  162 non-null    object\n",
      " 1   video_name   162 non-null    object\n",
      "dtypes: object(2)\n",
      "memory usage: 3.8+ KB\n"
     ]
    }
   ],
   "execution_count": 16
  },
  {
   "metadata": {
    "ExecuteTime": {
     "end_time": "2025-05-06T17:56:28.290727Z",
     "start_time": "2025-05-06T17:56:28.284339Z"
    }
   },
   "cell_type": "code",
   "source": [
    "df2 = df2.drop_duplicates()\n",
    "df2.info()"
   ],
   "outputs": [
    {
     "name": "stdout",
     "output_type": "stream",
     "text": [
      "<class 'pandas.core.frame.DataFrame'>\n",
      "Index: 156 entries, 0 to 0\n",
      "Data columns (total 2 columns):\n",
      " #   Column       Non-Null Count  Dtype \n",
      "---  ------       --------------  ----- \n",
      " 0   internal_id  156 non-null    object\n",
      " 1   video_name   156 non-null    object\n",
      "dtypes: object(2)\n",
      "memory usage: 3.7+ KB\n"
     ]
    }
   ],
   "execution_count": 17
  },
  {
   "metadata": {
    "ExecuteTime": {
     "end_time": "2025-05-06T17:56:28.374217Z",
     "start_time": "2025-05-06T17:56:28.369766Z"
    }
   },
   "cell_type": "code",
   "source": "df.head()",
   "outputs": [
    {
     "data": {
      "text/plain": [
       "   Unnamed: 0 internal_id                                         timestamps\n",
       "0           0      plllkw                               [18.0, 240.0, 345.0]\n",
       "1           0      xpetji  [867.0, 1017.0, 1053.0, 1437.0, 1152.0, 810.0,...\n",
       "2           0      cxqeox                 [39.0, 621.0, 561.0, 456.0, 219.0]\n",
       "3           0      ufwmpg  [801.0, 3393.0, 3813.0, 1290.0, 543.0, 4017.0,...\n",
       "4           0      xfzngr                         [276.0, 450.0, 90.0, 30.0]"
      ],
      "text/html": [
       "<div>\n",
       "<style scoped>\n",
       "    .dataframe tbody tr th:only-of-type {\n",
       "        vertical-align: middle;\n",
       "    }\n",
       "\n",
       "    .dataframe tbody tr th {\n",
       "        vertical-align: top;\n",
       "    }\n",
       "\n",
       "    .dataframe thead th {\n",
       "        text-align: right;\n",
       "    }\n",
       "</style>\n",
       "<table border=\"1\" class=\"dataframe\">\n",
       "  <thead>\n",
       "    <tr style=\"text-align: right;\">\n",
       "      <th></th>\n",
       "      <th>Unnamed: 0</th>\n",
       "      <th>internal_id</th>\n",
       "      <th>timestamps</th>\n",
       "    </tr>\n",
       "  </thead>\n",
       "  <tbody>\n",
       "    <tr>\n",
       "      <th>0</th>\n",
       "      <td>0</td>\n",
       "      <td>plllkw</td>\n",
       "      <td>[18.0, 240.0, 345.0]</td>\n",
       "    </tr>\n",
       "    <tr>\n",
       "      <th>1</th>\n",
       "      <td>0</td>\n",
       "      <td>xpetji</td>\n",
       "      <td>[867.0, 1017.0, 1053.0, 1437.0, 1152.0, 810.0,...</td>\n",
       "    </tr>\n",
       "    <tr>\n",
       "      <th>2</th>\n",
       "      <td>0</td>\n",
       "      <td>cxqeox</td>\n",
       "      <td>[39.0, 621.0, 561.0, 456.0, 219.0]</td>\n",
       "    </tr>\n",
       "    <tr>\n",
       "      <th>3</th>\n",
       "      <td>0</td>\n",
       "      <td>ufwmpg</td>\n",
       "      <td>[801.0, 3393.0, 3813.0, 1290.0, 543.0, 4017.0,...</td>\n",
       "    </tr>\n",
       "    <tr>\n",
       "      <th>4</th>\n",
       "      <td>0</td>\n",
       "      <td>xfzngr</td>\n",
       "      <td>[276.0, 450.0, 90.0, 30.0]</td>\n",
       "    </tr>\n",
       "  </tbody>\n",
       "</table>\n",
       "</div>"
      ]
     },
     "execution_count": 18,
     "metadata": {},
     "output_type": "execute_result"
    }
   ],
   "execution_count": 18
  },
  {
   "metadata": {
    "ExecuteTime": {
     "end_time": "2025-05-06T17:56:28.450809Z",
     "start_time": "2025-05-06T17:56:28.445848Z"
    }
   },
   "cell_type": "code",
   "source": "df2.head()",
   "outputs": [
    {
     "data": {
      "text/plain": [
       "  internal_id                                         video_name\n",
       "0      whsuyw  What Is Organic Chemistry?: Crash Course Organ...\n",
       "0      tvtjdv  Oral Surgery | Medical Emergencies | INBDE, AD...\n",
       "0      tabwoi     Histology- Taste Buds and Lingual Papillae.mp4\n",
       "0      etdnlx            Chapter 39   Muscoloskeletal System.mp4\n",
       "0      ufwmpg  Anatomy and Physiology Chapter 7 Part B Lectur..."
      ],
      "text/html": [
       "<div>\n",
       "<style scoped>\n",
       "    .dataframe tbody tr th:only-of-type {\n",
       "        vertical-align: middle;\n",
       "    }\n",
       "\n",
       "    .dataframe tbody tr th {\n",
       "        vertical-align: top;\n",
       "    }\n",
       "\n",
       "    .dataframe thead th {\n",
       "        text-align: right;\n",
       "    }\n",
       "</style>\n",
       "<table border=\"1\" class=\"dataframe\">\n",
       "  <thead>\n",
       "    <tr style=\"text-align: right;\">\n",
       "      <th></th>\n",
       "      <th>internal_id</th>\n",
       "      <th>video_name</th>\n",
       "    </tr>\n",
       "  </thead>\n",
       "  <tbody>\n",
       "    <tr>\n",
       "      <th>0</th>\n",
       "      <td>whsuyw</td>\n",
       "      <td>What Is Organic Chemistry?: Crash Course Organ...</td>\n",
       "    </tr>\n",
       "    <tr>\n",
       "      <th>0</th>\n",
       "      <td>tvtjdv</td>\n",
       "      <td>Oral Surgery | Medical Emergencies | INBDE, AD...</td>\n",
       "    </tr>\n",
       "    <tr>\n",
       "      <th>0</th>\n",
       "      <td>tabwoi</td>\n",
       "      <td>Histology- Taste Buds and Lingual Papillae.mp4</td>\n",
       "    </tr>\n",
       "    <tr>\n",
       "      <th>0</th>\n",
       "      <td>etdnlx</td>\n",
       "      <td>Chapter 39   Muscoloskeletal System.mp4</td>\n",
       "    </tr>\n",
       "    <tr>\n",
       "      <th>0</th>\n",
       "      <td>ufwmpg</td>\n",
       "      <td>Anatomy and Physiology Chapter 7 Part B Lectur...</td>\n",
       "    </tr>\n",
       "  </tbody>\n",
       "</table>\n",
       "</div>"
      ]
     },
     "execution_count": 19,
     "metadata": {},
     "output_type": "execute_result"
    }
   ],
   "execution_count": 19
  },
  {
   "metadata": {
    "ExecuteTime": {
     "end_time": "2025-05-06T17:56:28.621689Z",
     "start_time": "2025-05-06T17:56:28.618198Z"
    }
   },
   "cell_type": "code",
   "source": "# df2.set_index(\"internal_id\", inplace=True)",
   "outputs": [],
   "execution_count": 20
  },
  {
   "metadata": {
    "ExecuteTime": {
     "end_time": "2025-05-06T17:56:28.697384Z",
     "start_time": "2025-05-06T17:56:28.692467Z"
    }
   },
   "cell_type": "code",
   "source": "df2.head()",
   "outputs": [
    {
     "data": {
      "text/plain": [
       "  internal_id                                         video_name\n",
       "0      whsuyw  What Is Organic Chemistry?: Crash Course Organ...\n",
       "0      tvtjdv  Oral Surgery | Medical Emergencies | INBDE, AD...\n",
       "0      tabwoi     Histology- Taste Buds and Lingual Papillae.mp4\n",
       "0      etdnlx            Chapter 39   Muscoloskeletal System.mp4\n",
       "0      ufwmpg  Anatomy and Physiology Chapter 7 Part B Lectur..."
      ],
      "text/html": [
       "<div>\n",
       "<style scoped>\n",
       "    .dataframe tbody tr th:only-of-type {\n",
       "        vertical-align: middle;\n",
       "    }\n",
       "\n",
       "    .dataframe tbody tr th {\n",
       "        vertical-align: top;\n",
       "    }\n",
       "\n",
       "    .dataframe thead th {\n",
       "        text-align: right;\n",
       "    }\n",
       "</style>\n",
       "<table border=\"1\" class=\"dataframe\">\n",
       "  <thead>\n",
       "    <tr style=\"text-align: right;\">\n",
       "      <th></th>\n",
       "      <th>internal_id</th>\n",
       "      <th>video_name</th>\n",
       "    </tr>\n",
       "  </thead>\n",
       "  <tbody>\n",
       "    <tr>\n",
       "      <th>0</th>\n",
       "      <td>whsuyw</td>\n",
       "      <td>What Is Organic Chemistry?: Crash Course Organ...</td>\n",
       "    </tr>\n",
       "    <tr>\n",
       "      <th>0</th>\n",
       "      <td>tvtjdv</td>\n",
       "      <td>Oral Surgery | Medical Emergencies | INBDE, AD...</td>\n",
       "    </tr>\n",
       "    <tr>\n",
       "      <th>0</th>\n",
       "      <td>tabwoi</td>\n",
       "      <td>Histology- Taste Buds and Lingual Papillae.mp4</td>\n",
       "    </tr>\n",
       "    <tr>\n",
       "      <th>0</th>\n",
       "      <td>etdnlx</td>\n",
       "      <td>Chapter 39   Muscoloskeletal System.mp4</td>\n",
       "    </tr>\n",
       "    <tr>\n",
       "      <th>0</th>\n",
       "      <td>ufwmpg</td>\n",
       "      <td>Anatomy and Physiology Chapter 7 Part B Lectur...</td>\n",
       "    </tr>\n",
       "  </tbody>\n",
       "</table>\n",
       "</div>"
      ]
     },
     "execution_count": 21,
     "metadata": {},
     "output_type": "execute_result"
    }
   ],
   "execution_count": 21
  },
  {
   "metadata": {
    "ExecuteTime": {
     "end_time": "2025-05-06T17:56:28.775622Z",
     "start_time": "2025-05-06T17:56:28.768036Z"
    }
   },
   "cell_type": "code",
   "source": [
    "enriched_df = df.merge(df2, on=\"internal_id\", how=\"left\")\n",
    "enriched_df.head()"
   ],
   "outputs": [
    {
     "data": {
      "text/plain": [
       "   Unnamed: 0 internal_id                                         timestamps  \\\n",
       "0           0      plllkw                               [18.0, 240.0, 345.0]   \n",
       "1           0      xpetji  [867.0, 1017.0, 1053.0, 1437.0, 1152.0, 810.0,...   \n",
       "2           0      cxqeox                 [39.0, 621.0, 561.0, 456.0, 219.0]   \n",
       "3           0      ufwmpg  [801.0, 3393.0, 3813.0, 1290.0, 543.0, 4017.0,...   \n",
       "4           0      xfzngr                         [276.0, 450.0, 90.0, 30.0]   \n",
       "\n",
       "                                          video_name  \n",
       "0  Patient Management | Materials & Equipment Saf...  \n",
       "1  Endodontics | Adjunctive Treatment | INBDE, AD...  \n",
       "2                Evidence-Based Dentistry Part 2.mp4  \n",
       "3  Anatomy and Physiology Chapter 7 Part B Lectur...  \n",
       "4  Patient Management | Public Health & Epidemiol...  "
      ],
      "text/html": [
       "<div>\n",
       "<style scoped>\n",
       "    .dataframe tbody tr th:only-of-type {\n",
       "        vertical-align: middle;\n",
       "    }\n",
       "\n",
       "    .dataframe tbody tr th {\n",
       "        vertical-align: top;\n",
       "    }\n",
       "\n",
       "    .dataframe thead th {\n",
       "        text-align: right;\n",
       "    }\n",
       "</style>\n",
       "<table border=\"1\" class=\"dataframe\">\n",
       "  <thead>\n",
       "    <tr style=\"text-align: right;\">\n",
       "      <th></th>\n",
       "      <th>Unnamed: 0</th>\n",
       "      <th>internal_id</th>\n",
       "      <th>timestamps</th>\n",
       "      <th>video_name</th>\n",
       "    </tr>\n",
       "  </thead>\n",
       "  <tbody>\n",
       "    <tr>\n",
       "      <th>0</th>\n",
       "      <td>0</td>\n",
       "      <td>plllkw</td>\n",
       "      <td>[18.0, 240.0, 345.0]</td>\n",
       "      <td>Patient Management | Materials &amp; Equipment Saf...</td>\n",
       "    </tr>\n",
       "    <tr>\n",
       "      <th>1</th>\n",
       "      <td>0</td>\n",
       "      <td>xpetji</td>\n",
       "      <td>[867.0, 1017.0, 1053.0, 1437.0, 1152.0, 810.0,...</td>\n",
       "      <td>Endodontics | Adjunctive Treatment | INBDE, AD...</td>\n",
       "    </tr>\n",
       "    <tr>\n",
       "      <th>2</th>\n",
       "      <td>0</td>\n",
       "      <td>cxqeox</td>\n",
       "      <td>[39.0, 621.0, 561.0, 456.0, 219.0]</td>\n",
       "      <td>Evidence-Based Dentistry Part 2.mp4</td>\n",
       "    </tr>\n",
       "    <tr>\n",
       "      <th>3</th>\n",
       "      <td>0</td>\n",
       "      <td>ufwmpg</td>\n",
       "      <td>[801.0, 3393.0, 3813.0, 1290.0, 543.0, 4017.0,...</td>\n",
       "      <td>Anatomy and Physiology Chapter 7 Part B Lectur...</td>\n",
       "    </tr>\n",
       "    <tr>\n",
       "      <th>4</th>\n",
       "      <td>0</td>\n",
       "      <td>xfzngr</td>\n",
       "      <td>[276.0, 450.0, 90.0, 30.0]</td>\n",
       "      <td>Patient Management | Public Health &amp; Epidemiol...</td>\n",
       "    </tr>\n",
       "  </tbody>\n",
       "</table>\n",
       "</div>"
      ]
     },
     "execution_count": 22,
     "metadata": {},
     "output_type": "execute_result"
    }
   ],
   "execution_count": 22
  },
  {
   "metadata": {
    "ExecuteTime": {
     "end_time": "2025-05-06T17:56:28.861928Z",
     "start_time": "2025-05-06T17:56:28.855419Z"
    }
   },
   "cell_type": "code",
   "source": "enriched_df.info()",
   "outputs": [
    {
     "name": "stdout",
     "output_type": "stream",
     "text": [
      "<class 'pandas.core.frame.DataFrame'>\n",
      "RangeIndex: 134 entries, 0 to 133\n",
      "Data columns (total 4 columns):\n",
      " #   Column       Non-Null Count  Dtype \n",
      "---  ------       --------------  ----- \n",
      " 0   Unnamed: 0   134 non-null    int64 \n",
      " 1   internal_id  134 non-null    object\n",
      " 2   timestamps   134 non-null    object\n",
      " 3   video_name   134 non-null    object\n",
      "dtypes: int64(1), object(3)\n",
      "memory usage: 4.3+ KB\n"
     ]
    }
   ],
   "execution_count": 23
  },
  {
   "metadata": {
    "ExecuteTime": {
     "end_time": "2025-05-06T17:56:28.929839Z",
     "start_time": "2025-05-06T17:56:28.927131Z"
    }
   },
   "cell_type": "code",
   "source": "enriched_df = enriched_df.drop(\"Unnamed: 0\", axis=1)",
   "outputs": [],
   "execution_count": 24
  },
  {
   "metadata": {
    "ExecuteTime": {
     "end_time": "2025-05-06T17:56:28.992802Z",
     "start_time": "2025-05-06T17:56:28.987059Z"
    }
   },
   "cell_type": "code",
   "source": "enriched_df",
   "outputs": [
    {
     "data": {
      "text/plain": [
       "    internal_id                                         timestamps  \\\n",
       "0        plllkw                               [18.0, 240.0, 345.0]   \n",
       "1        xpetji  [867.0, 1017.0, 1053.0, 1437.0, 1152.0, 810.0,...   \n",
       "2        cxqeox                 [39.0, 621.0, 561.0, 456.0, 219.0]   \n",
       "3        ufwmpg  [801.0, 3393.0, 3813.0, 1290.0, 543.0, 4017.0,...   \n",
       "4        xfzngr                         [276.0, 450.0, 90.0, 30.0]   \n",
       "..          ...                                                ...   \n",
       "129      fcxvmr  [1656.0, 786.0, 1026.0, 1392.0, 591.0, 84.0, 1...   \n",
       "130      eupjay  [1245.0, 1029.0, 1560.0, 684.0, 1386.0, 1746.0...   \n",
       "131      hrpnxe  [942.0, 132.0, 867.0, 1539.0, 1584.0, 216.0, 7...   \n",
       "132      dlfoyw  [2415.0, 840.0, 1197.0, 588.0, 174.0, 1836.0, ...   \n",
       "133      yirczy                        [582.0, 69.0, 531.0, 372.0]   \n",
       "\n",
       "                                            video_name  \n",
       "0    Patient Management | Materials & Equipment Saf...  \n",
       "1    Endodontics | Adjunctive Treatment | INBDE, AD...  \n",
       "2                  Evidence-Based Dentistry Part 2.mp4  \n",
       "3    Anatomy and Physiology Chapter 7 Part B Lectur...  \n",
       "4    Patient Management | Public Health & Epidemiol...  \n",
       "..                                                 ...  \n",
       "129  Pediatric Dentistry | Tooth Development and Er...  \n",
       "130    Human Anatomy Lecture  Ch 19 The Heart Pt 2.mp4  \n",
       "131  Human Biology Lecture: Ch 6- Reproduction at t...  \n",
       "132  Orthodontics | Diagnosis & Treatment Planning ...  \n",
       "133  Head & Neck Anatomy | Muscles of Mastication |...  \n",
       "\n",
       "[134 rows x 3 columns]"
      ],
      "text/html": [
       "<div>\n",
       "<style scoped>\n",
       "    .dataframe tbody tr th:only-of-type {\n",
       "        vertical-align: middle;\n",
       "    }\n",
       "\n",
       "    .dataframe tbody tr th {\n",
       "        vertical-align: top;\n",
       "    }\n",
       "\n",
       "    .dataframe thead th {\n",
       "        text-align: right;\n",
       "    }\n",
       "</style>\n",
       "<table border=\"1\" class=\"dataframe\">\n",
       "  <thead>\n",
       "    <tr style=\"text-align: right;\">\n",
       "      <th></th>\n",
       "      <th>internal_id</th>\n",
       "      <th>timestamps</th>\n",
       "      <th>video_name</th>\n",
       "    </tr>\n",
       "  </thead>\n",
       "  <tbody>\n",
       "    <tr>\n",
       "      <th>0</th>\n",
       "      <td>plllkw</td>\n",
       "      <td>[18.0, 240.0, 345.0]</td>\n",
       "      <td>Patient Management | Materials &amp; Equipment Saf...</td>\n",
       "    </tr>\n",
       "    <tr>\n",
       "      <th>1</th>\n",
       "      <td>xpetji</td>\n",
       "      <td>[867.0, 1017.0, 1053.0, 1437.0, 1152.0, 810.0,...</td>\n",
       "      <td>Endodontics | Adjunctive Treatment | INBDE, AD...</td>\n",
       "    </tr>\n",
       "    <tr>\n",
       "      <th>2</th>\n",
       "      <td>cxqeox</td>\n",
       "      <td>[39.0, 621.0, 561.0, 456.0, 219.0]</td>\n",
       "      <td>Evidence-Based Dentistry Part 2.mp4</td>\n",
       "    </tr>\n",
       "    <tr>\n",
       "      <th>3</th>\n",
       "      <td>ufwmpg</td>\n",
       "      <td>[801.0, 3393.0, 3813.0, 1290.0, 543.0, 4017.0,...</td>\n",
       "      <td>Anatomy and Physiology Chapter 7 Part B Lectur...</td>\n",
       "    </tr>\n",
       "    <tr>\n",
       "      <th>4</th>\n",
       "      <td>xfzngr</td>\n",
       "      <td>[276.0, 450.0, 90.0, 30.0]</td>\n",
       "      <td>Patient Management | Public Health &amp; Epidemiol...</td>\n",
       "    </tr>\n",
       "    <tr>\n",
       "      <th>...</th>\n",
       "      <td>...</td>\n",
       "      <td>...</td>\n",
       "      <td>...</td>\n",
       "    </tr>\n",
       "    <tr>\n",
       "      <th>129</th>\n",
       "      <td>fcxvmr</td>\n",
       "      <td>[1656.0, 786.0, 1026.0, 1392.0, 591.0, 84.0, 1...</td>\n",
       "      <td>Pediatric Dentistry | Tooth Development and Er...</td>\n",
       "    </tr>\n",
       "    <tr>\n",
       "      <th>130</th>\n",
       "      <td>eupjay</td>\n",
       "      <td>[1245.0, 1029.0, 1560.0, 684.0, 1386.0, 1746.0...</td>\n",
       "      <td>Human Anatomy Lecture  Ch 19 The Heart Pt 2.mp4</td>\n",
       "    </tr>\n",
       "    <tr>\n",
       "      <th>131</th>\n",
       "      <td>hrpnxe</td>\n",
       "      <td>[942.0, 132.0, 867.0, 1539.0, 1584.0, 216.0, 7...</td>\n",
       "      <td>Human Biology Lecture: Ch 6- Reproduction at t...</td>\n",
       "    </tr>\n",
       "    <tr>\n",
       "      <th>132</th>\n",
       "      <td>dlfoyw</td>\n",
       "      <td>[2415.0, 840.0, 1197.0, 588.0, 174.0, 1836.0, ...</td>\n",
       "      <td>Orthodontics | Diagnosis &amp; Treatment Planning ...</td>\n",
       "    </tr>\n",
       "    <tr>\n",
       "      <th>133</th>\n",
       "      <td>yirczy</td>\n",
       "      <td>[582.0, 69.0, 531.0, 372.0]</td>\n",
       "      <td>Head &amp; Neck Anatomy | Muscles of Mastication |...</td>\n",
       "    </tr>\n",
       "  </tbody>\n",
       "</table>\n",
       "<p>134 rows × 3 columns</p>\n",
       "</div>"
      ]
     },
     "execution_count": 25,
     "metadata": {},
     "output_type": "execute_result"
    }
   ],
   "execution_count": 25
  },
  {
   "metadata": {
    "ExecuteTime": {
     "end_time": "2025-05-06T17:56:29.072806Z",
     "start_time": "2025-05-06T17:56:29.058666Z"
    }
   },
   "cell_type": "code",
   "source": "from pytubefix import YouTube, Search",
   "outputs": [],
   "execution_count": 26
  },
  {
   "metadata": {
    "ExecuteTime": {
     "end_time": "2025-05-06T17:56:29.128832Z",
     "start_time": "2025-05-06T17:56:29.127326Z"
    }
   },
   "cell_type": "code",
   "source": "",
   "outputs": [],
   "execution_count": null
  },
  {
   "metadata": {
    "ExecuteTime": {
     "end_time": "2025-05-06T17:56:29.184229Z",
     "start_time": "2025-05-06T17:56:29.182396Z"
    }
   },
   "cell_type": "code",
   "source": [
    "def get_video_id_from_video_name(video_name):\n",
    "    video = Search(video_name).videos[0]\n",
    "    return video.video_id"
   ],
   "outputs": [],
   "execution_count": 27
  },
  {
   "metadata": {
    "ExecuteTime": {
     "end_time": "2025-05-06T17:56:38.907485Z",
     "start_time": "2025-05-06T17:56:29.236870Z"
    }
   },
   "cell_type": "code",
   "source": "enriched_df[\"video_id\"] = enriched_df[\"video_name\"].apply(get_video_id_from_video_name)",
   "outputs": [
    {
     "ename": "KeyboardInterrupt",
     "evalue": "",
     "output_type": "error",
     "traceback": [
      "\u001B[0;31m---------------------------------------------------------------------------\u001B[0m",
      "\u001B[0;31mKeyboardInterrupt\u001B[0m                         Traceback (most recent call last)",
      "Cell \u001B[0;32mIn[28], line 1\u001B[0m\n\u001B[0;32m----> 1\u001B[0m enriched_df[\u001B[38;5;124m\"\u001B[39m\u001B[38;5;124mvideo_id\u001B[39m\u001B[38;5;124m\"\u001B[39m] \u001B[38;5;241m=\u001B[39m \u001B[43menriched_df\u001B[49m\u001B[43m[\u001B[49m\u001B[38;5;124;43m\"\u001B[39;49m\u001B[38;5;124;43mvideo_name\u001B[39;49m\u001B[38;5;124;43m\"\u001B[39;49m\u001B[43m]\u001B[49m\u001B[38;5;241;43m.\u001B[39;49m\u001B[43mapply\u001B[49m\u001B[43m(\u001B[49m\u001B[43mget_video_id_from_video_name\u001B[49m\u001B[43m)\u001B[49m\n",
      "File \u001B[0;32m~/miniconda3/lib/python3.12/site-packages/pandas/core/series.py:4924\u001B[0m, in \u001B[0;36mSeries.apply\u001B[0;34m(self, func, convert_dtype, args, by_row, **kwargs)\u001B[0m\n\u001B[1;32m   4789\u001B[0m \u001B[38;5;28;01mdef\u001B[39;00m \u001B[38;5;21mapply\u001B[39m(\n\u001B[1;32m   4790\u001B[0m     \u001B[38;5;28mself\u001B[39m,\n\u001B[1;32m   4791\u001B[0m     func: AggFuncType,\n\u001B[0;32m   (...)\u001B[0m\n\u001B[1;32m   4796\u001B[0m     \u001B[38;5;241m*\u001B[39m\u001B[38;5;241m*\u001B[39mkwargs,\n\u001B[1;32m   4797\u001B[0m ) \u001B[38;5;241m-\u001B[39m\u001B[38;5;241m>\u001B[39m DataFrame \u001B[38;5;241m|\u001B[39m Series:\n\u001B[1;32m   4798\u001B[0m \u001B[38;5;250m    \u001B[39m\u001B[38;5;124;03m\"\"\"\u001B[39;00m\n\u001B[1;32m   4799\u001B[0m \u001B[38;5;124;03m    Invoke function on values of Series.\u001B[39;00m\n\u001B[1;32m   4800\u001B[0m \n\u001B[0;32m   (...)\u001B[0m\n\u001B[1;32m   4915\u001B[0m \u001B[38;5;124;03m    dtype: float64\u001B[39;00m\n\u001B[1;32m   4916\u001B[0m \u001B[38;5;124;03m    \"\"\"\u001B[39;00m\n\u001B[1;32m   4917\u001B[0m     \u001B[38;5;28;01mreturn\u001B[39;00m \u001B[43mSeriesApply\u001B[49m\u001B[43m(\u001B[49m\n\u001B[1;32m   4918\u001B[0m \u001B[43m        \u001B[49m\u001B[38;5;28;43mself\u001B[39;49m\u001B[43m,\u001B[49m\n\u001B[1;32m   4919\u001B[0m \u001B[43m        \u001B[49m\u001B[43mfunc\u001B[49m\u001B[43m,\u001B[49m\n\u001B[1;32m   4920\u001B[0m \u001B[43m        \u001B[49m\u001B[43mconvert_dtype\u001B[49m\u001B[38;5;241;43m=\u001B[39;49m\u001B[43mconvert_dtype\u001B[49m\u001B[43m,\u001B[49m\n\u001B[1;32m   4921\u001B[0m \u001B[43m        \u001B[49m\u001B[43mby_row\u001B[49m\u001B[38;5;241;43m=\u001B[39;49m\u001B[43mby_row\u001B[49m\u001B[43m,\u001B[49m\n\u001B[1;32m   4922\u001B[0m \u001B[43m        \u001B[49m\u001B[43margs\u001B[49m\u001B[38;5;241;43m=\u001B[39;49m\u001B[43margs\u001B[49m\u001B[43m,\u001B[49m\n\u001B[1;32m   4923\u001B[0m \u001B[43m        \u001B[49m\u001B[43mkwargs\u001B[49m\u001B[38;5;241;43m=\u001B[39;49m\u001B[43mkwargs\u001B[49m\u001B[43m,\u001B[49m\n\u001B[0;32m-> 4924\u001B[0m \u001B[43m    \u001B[49m\u001B[43m)\u001B[49m\u001B[38;5;241;43m.\u001B[39;49m\u001B[43mapply\u001B[49m\u001B[43m(\u001B[49m\u001B[43m)\u001B[49m\n",
      "File \u001B[0;32m~/miniconda3/lib/python3.12/site-packages/pandas/core/apply.py:1427\u001B[0m, in \u001B[0;36mSeriesApply.apply\u001B[0;34m(self)\u001B[0m\n\u001B[1;32m   1424\u001B[0m     \u001B[38;5;28;01mreturn\u001B[39;00m \u001B[38;5;28mself\u001B[39m\u001B[38;5;241m.\u001B[39mapply_compat()\n\u001B[1;32m   1426\u001B[0m \u001B[38;5;66;03m# self.func is Callable\u001B[39;00m\n\u001B[0;32m-> 1427\u001B[0m \u001B[38;5;28;01mreturn\u001B[39;00m \u001B[38;5;28;43mself\u001B[39;49m\u001B[38;5;241;43m.\u001B[39;49m\u001B[43mapply_standard\u001B[49m\u001B[43m(\u001B[49m\u001B[43m)\u001B[49m\n",
      "File \u001B[0;32m~/miniconda3/lib/python3.12/site-packages/pandas/core/apply.py:1507\u001B[0m, in \u001B[0;36mSeriesApply.apply_standard\u001B[0;34m(self)\u001B[0m\n\u001B[1;32m   1501\u001B[0m \u001B[38;5;66;03m# row-wise access\u001B[39;00m\n\u001B[1;32m   1502\u001B[0m \u001B[38;5;66;03m# apply doesn't have a `na_action` keyword and for backward compat reasons\u001B[39;00m\n\u001B[1;32m   1503\u001B[0m \u001B[38;5;66;03m# we need to give `na_action=\"ignore\"` for categorical data.\u001B[39;00m\n\u001B[1;32m   1504\u001B[0m \u001B[38;5;66;03m# TODO: remove the `na_action=\"ignore\"` when that default has been changed in\u001B[39;00m\n\u001B[1;32m   1505\u001B[0m \u001B[38;5;66;03m#  Categorical (GH51645).\u001B[39;00m\n\u001B[1;32m   1506\u001B[0m action \u001B[38;5;241m=\u001B[39m \u001B[38;5;124m\"\u001B[39m\u001B[38;5;124mignore\u001B[39m\u001B[38;5;124m\"\u001B[39m \u001B[38;5;28;01mif\u001B[39;00m \u001B[38;5;28misinstance\u001B[39m(obj\u001B[38;5;241m.\u001B[39mdtype, CategoricalDtype) \u001B[38;5;28;01melse\u001B[39;00m \u001B[38;5;28;01mNone\u001B[39;00m\n\u001B[0;32m-> 1507\u001B[0m mapped \u001B[38;5;241m=\u001B[39m \u001B[43mobj\u001B[49m\u001B[38;5;241;43m.\u001B[39;49m\u001B[43m_map_values\u001B[49m\u001B[43m(\u001B[49m\n\u001B[1;32m   1508\u001B[0m \u001B[43m    \u001B[49m\u001B[43mmapper\u001B[49m\u001B[38;5;241;43m=\u001B[39;49m\u001B[43mcurried\u001B[49m\u001B[43m,\u001B[49m\u001B[43m \u001B[49m\u001B[43mna_action\u001B[49m\u001B[38;5;241;43m=\u001B[39;49m\u001B[43maction\u001B[49m\u001B[43m,\u001B[49m\u001B[43m \u001B[49m\u001B[43mconvert\u001B[49m\u001B[38;5;241;43m=\u001B[39;49m\u001B[38;5;28;43mself\u001B[39;49m\u001B[38;5;241;43m.\u001B[39;49m\u001B[43mconvert_dtype\u001B[49m\n\u001B[1;32m   1509\u001B[0m \u001B[43m\u001B[49m\u001B[43m)\u001B[49m\n\u001B[1;32m   1511\u001B[0m \u001B[38;5;28;01mif\u001B[39;00m \u001B[38;5;28mlen\u001B[39m(mapped) \u001B[38;5;129;01mand\u001B[39;00m \u001B[38;5;28misinstance\u001B[39m(mapped[\u001B[38;5;241m0\u001B[39m], ABCSeries):\n\u001B[1;32m   1512\u001B[0m     \u001B[38;5;66;03m# GH#43986 Need to do list(mapped) in order to get treated as nested\u001B[39;00m\n\u001B[1;32m   1513\u001B[0m     \u001B[38;5;66;03m#  See also GH#25959 regarding EA support\u001B[39;00m\n\u001B[1;32m   1514\u001B[0m     \u001B[38;5;28;01mreturn\u001B[39;00m obj\u001B[38;5;241m.\u001B[39m_constructor_expanddim(\u001B[38;5;28mlist\u001B[39m(mapped), index\u001B[38;5;241m=\u001B[39mobj\u001B[38;5;241m.\u001B[39mindex)\n",
      "File \u001B[0;32m~/miniconda3/lib/python3.12/site-packages/pandas/core/base.py:921\u001B[0m, in \u001B[0;36mIndexOpsMixin._map_values\u001B[0;34m(self, mapper, na_action, convert)\u001B[0m\n\u001B[1;32m    918\u001B[0m \u001B[38;5;28;01mif\u001B[39;00m \u001B[38;5;28misinstance\u001B[39m(arr, ExtensionArray):\n\u001B[1;32m    919\u001B[0m     \u001B[38;5;28;01mreturn\u001B[39;00m arr\u001B[38;5;241m.\u001B[39mmap(mapper, na_action\u001B[38;5;241m=\u001B[39mna_action)\n\u001B[0;32m--> 921\u001B[0m \u001B[38;5;28;01mreturn\u001B[39;00m \u001B[43malgorithms\u001B[49m\u001B[38;5;241;43m.\u001B[39;49m\u001B[43mmap_array\u001B[49m\u001B[43m(\u001B[49m\u001B[43marr\u001B[49m\u001B[43m,\u001B[49m\u001B[43m \u001B[49m\u001B[43mmapper\u001B[49m\u001B[43m,\u001B[49m\u001B[43m \u001B[49m\u001B[43mna_action\u001B[49m\u001B[38;5;241;43m=\u001B[39;49m\u001B[43mna_action\u001B[49m\u001B[43m,\u001B[49m\u001B[43m \u001B[49m\u001B[43mconvert\u001B[49m\u001B[38;5;241;43m=\u001B[39;49m\u001B[43mconvert\u001B[49m\u001B[43m)\u001B[49m\n",
      "File \u001B[0;32m~/miniconda3/lib/python3.12/site-packages/pandas/core/algorithms.py:1743\u001B[0m, in \u001B[0;36mmap_array\u001B[0;34m(arr, mapper, na_action, convert)\u001B[0m\n\u001B[1;32m   1741\u001B[0m values \u001B[38;5;241m=\u001B[39m arr\u001B[38;5;241m.\u001B[39mastype(\u001B[38;5;28mobject\u001B[39m, copy\u001B[38;5;241m=\u001B[39m\u001B[38;5;28;01mFalse\u001B[39;00m)\n\u001B[1;32m   1742\u001B[0m \u001B[38;5;28;01mif\u001B[39;00m na_action \u001B[38;5;129;01mis\u001B[39;00m \u001B[38;5;28;01mNone\u001B[39;00m:\n\u001B[0;32m-> 1743\u001B[0m     \u001B[38;5;28;01mreturn\u001B[39;00m \u001B[43mlib\u001B[49m\u001B[38;5;241;43m.\u001B[39;49m\u001B[43mmap_infer\u001B[49m\u001B[43m(\u001B[49m\u001B[43mvalues\u001B[49m\u001B[43m,\u001B[49m\u001B[43m \u001B[49m\u001B[43mmapper\u001B[49m\u001B[43m,\u001B[49m\u001B[43m \u001B[49m\u001B[43mconvert\u001B[49m\u001B[38;5;241;43m=\u001B[39;49m\u001B[43mconvert\u001B[49m\u001B[43m)\u001B[49m\n\u001B[1;32m   1744\u001B[0m \u001B[38;5;28;01melse\u001B[39;00m:\n\u001B[1;32m   1745\u001B[0m     \u001B[38;5;28;01mreturn\u001B[39;00m lib\u001B[38;5;241m.\u001B[39mmap_infer_mask(\n\u001B[1;32m   1746\u001B[0m         values, mapper, mask\u001B[38;5;241m=\u001B[39misna(values)\u001B[38;5;241m.\u001B[39mview(np\u001B[38;5;241m.\u001B[39muint8), convert\u001B[38;5;241m=\u001B[39mconvert\n\u001B[1;32m   1747\u001B[0m     )\n",
      "File \u001B[0;32mlib.pyx:2972\u001B[0m, in \u001B[0;36mpandas._libs.lib.map_infer\u001B[0;34m()\u001B[0m\n",
      "Cell \u001B[0;32mIn[27], line 2\u001B[0m, in \u001B[0;36mget_video_id_from_video_name\u001B[0;34m(video_name)\u001B[0m\n\u001B[1;32m      1\u001B[0m \u001B[38;5;28;01mdef\u001B[39;00m \u001B[38;5;21mget_video_id_from_video_name\u001B[39m(video_name):\n\u001B[0;32m----> 2\u001B[0m     video \u001B[38;5;241m=\u001B[39m \u001B[43mSearch\u001B[49m\u001B[43m(\u001B[49m\u001B[43mvideo_name\u001B[49m\u001B[43m)\u001B[49m\u001B[38;5;241;43m.\u001B[39;49m\u001B[43mvideos\u001B[49m[\u001B[38;5;241m0\u001B[39m]\n\u001B[1;32m      3\u001B[0m     \u001B[38;5;28;01mreturn\u001B[39;00m video\u001B[38;5;241m.\u001B[39mvideo_id\n",
      "File \u001B[0;32m~/miniconda3/lib/python3.12/site-packages/pytubefix/contrib/search.py:141\u001B[0m, in \u001B[0;36mSearch.videos\u001B[0;34m(self)\u001B[0m\n\u001B[1;32m    131\u001B[0m \u001B[38;5;250m\u001B[39m\u001B[38;5;124;03m\"\"\"Returns the search result videos.\u001B[39;00m\n\u001B[1;32m    132\u001B[0m \n\u001B[1;32m    133\u001B[0m \u001B[38;5;124;03mOn first call, will generate and return the first set of results.\u001B[39;00m\n\u001B[0;32m   (...)\u001B[0m\n\u001B[1;32m    138\u001B[0m \u001B[38;5;124;03m    A list of YouTube objects.\u001B[39;00m\n\u001B[1;32m    139\u001B[0m \u001B[38;5;124;03m\"\"\"\u001B[39;00m\n\u001B[1;32m    140\u001B[0m \u001B[38;5;28;01mif\u001B[39;00m \u001B[38;5;129;01mnot\u001B[39;00m \u001B[38;5;28mself\u001B[39m\u001B[38;5;241m.\u001B[39m_results:\n\u001B[0;32m--> 141\u001B[0m     \u001B[38;5;28;43mself\u001B[39;49m\u001B[38;5;241;43m.\u001B[39;49m\u001B[43m_get_results\u001B[49m\u001B[43m(\u001B[49m\u001B[43m)\u001B[49m\n\u001B[1;32m    143\u001B[0m \u001B[38;5;28;01mreturn\u001B[39;00m [items \u001B[38;5;28;01mfor\u001B[39;00m items \u001B[38;5;129;01min\u001B[39;00m \u001B[38;5;28mself\u001B[39m\u001B[38;5;241m.\u001B[39m_results[\u001B[38;5;124m'\u001B[39m\u001B[38;5;124mvideos\u001B[39m\u001B[38;5;124m'\u001B[39m]]\n",
      "File \u001B[0;32m~/miniconda3/lib/python3.12/site-packages/pytubefix/contrib/search.py:122\u001B[0m, in \u001B[0;36mSearch._get_results\u001B[0;34m(self)\u001B[0m\n\u001B[1;32m    118\u001B[0m \u001B[38;5;28;01mdef\u001B[39;00m \u001B[38;5;21m_get_results\u001B[39m(\u001B[38;5;28mself\u001B[39m):\n\u001B[1;32m    119\u001B[0m \u001B[38;5;250m    \u001B[39m\u001B[38;5;124;03m\"\"\"Search results and filter them\u001B[39;00m\n\u001B[1;32m    120\u001B[0m \n\u001B[1;32m    121\u001B[0m \u001B[38;5;124;03m    \"\"\"\u001B[39;00m\n\u001B[0;32m--> 122\u001B[0m     results, continuation \u001B[38;5;241m=\u001B[39m \u001B[38;5;28;43mself\u001B[39;49m\u001B[38;5;241;43m.\u001B[39;49m\u001B[43mfetch_and_parse\u001B[49m\u001B[43m(\u001B[49m\u001B[43m)\u001B[49m\n\u001B[1;32m    123\u001B[0m     \u001B[38;5;28mself\u001B[39m\u001B[38;5;241m.\u001B[39m_current_continuation \u001B[38;5;241m=\u001B[39m continuation\n\u001B[1;32m    124\u001B[0m     \u001B[38;5;28mself\u001B[39m\u001B[38;5;241m.\u001B[39m_results[\u001B[38;5;124m'\u001B[39m\u001B[38;5;124mvideos\u001B[39m\u001B[38;5;124m'\u001B[39m] \u001B[38;5;241m=\u001B[39m results[\u001B[38;5;124m'\u001B[39m\u001B[38;5;124mvideos\u001B[39m\u001B[38;5;124m'\u001B[39m]\n",
      "File \u001B[0;32m~/miniconda3/lib/python3.12/site-packages/pytubefix/contrib/search.py:249\u001B[0m, in \u001B[0;36mSearch.fetch_and_parse\u001B[0;34m(self, continuation)\u001B[0m\n\u001B[1;32m    239\u001B[0m \u001B[38;5;250m\u001B[39m\u001B[38;5;124;03m\"\"\"Fetch from the innertube API and parse the results.\u001B[39;00m\n\u001B[1;32m    240\u001B[0m \n\u001B[1;32m    241\u001B[0m \u001B[38;5;124;03m:param str continuation:\u001B[39;00m\n\u001B[0;32m   (...)\u001B[0m\n\u001B[1;32m    245\u001B[0m \u001B[38;5;124;03m    A tuple of a list of YouTube objects and a continuation string.\u001B[39;00m\n\u001B[1;32m    246\u001B[0m \u001B[38;5;124;03m\"\"\"\u001B[39;00m\n\u001B[1;32m    247\u001B[0m \u001B[38;5;66;03m# Begin by executing the query and identifying the relevant sections\u001B[39;00m\n\u001B[1;32m    248\u001B[0m \u001B[38;5;66;03m#  of the results\u001B[39;00m\n\u001B[0;32m--> 249\u001B[0m raw_results \u001B[38;5;241m=\u001B[39m \u001B[38;5;28;43mself\u001B[39;49m\u001B[38;5;241;43m.\u001B[39;49m\u001B[43mfetch_query\u001B[49m\u001B[43m(\u001B[49m\u001B[43mcontinuation\u001B[49m\u001B[43m,\u001B[49m\n\u001B[1;32m    250\u001B[0m \u001B[43m                               \u001B[49m\u001B[38;5;66;43;03m# The filter parameter must only be passed in the first API call\u001B[39;49;00m\n\u001B[1;32m    251\u001B[0m \u001B[43m                               \u001B[49m\u001B[38;5;66;43;03m# After the first call, the continuation token already contains the filter\u001B[39;49;00m\n\u001B[1;32m    252\u001B[0m \u001B[43m                               \u001B[49m\u001B[43m{\u001B[49m\u001B[38;5;124;43m'\u001B[39;49m\u001B[38;5;124;43mparams\u001B[39;49m\u001B[38;5;124;43m'\u001B[39;49m\u001B[43m:\u001B[49m\u001B[43m \u001B[49m\u001B[38;5;28;43mself\u001B[39;49m\u001B[38;5;241;43m.\u001B[39;49m\u001B[43mfilter\u001B[49m\u001B[43m}\u001B[49m\u001B[43m \u001B[49m\u001B[38;5;28;43;01mif\u001B[39;49;00m\u001B[43m \u001B[49m\u001B[38;5;28;43mself\u001B[39;49m\u001B[38;5;241;43m.\u001B[39;49m\u001B[43mfilter\u001B[49m\u001B[43m \u001B[49m\u001B[38;5;129;43;01mand\u001B[39;49;00m\u001B[43m \u001B[49m\u001B[38;5;129;43;01mnot\u001B[39;49;00m\u001B[43m \u001B[49m\u001B[43mcontinuation\u001B[49m\u001B[43m \u001B[49m\u001B[38;5;28;43;01melse\u001B[39;49;00m\u001B[43m \u001B[49m\u001B[38;5;28;43;01mNone\u001B[39;49;00m\n\u001B[1;32m    253\u001B[0m \u001B[43m                               \u001B[49m\u001B[43m)\u001B[49m\n\u001B[1;32m    255\u001B[0m \u001B[38;5;66;03m# Initial result is handled by try block, continuations by except block\u001B[39;00m\n\u001B[1;32m    256\u001B[0m \u001B[38;5;28;01mtry\u001B[39;00m:\n",
      "File \u001B[0;32m~/miniconda3/lib/python3.12/site-packages/pytubefix/contrib/search.py:387\u001B[0m, in \u001B[0;36mSearch.fetch_query\u001B[0;34m(self, continuation, filters)\u001B[0m\n\u001B[1;32m    376\u001B[0m \u001B[38;5;28;01mdef\u001B[39;00m \u001B[38;5;21mfetch_query\u001B[39m(\u001B[38;5;28mself\u001B[39m, continuation: \u001B[38;5;28mstr\u001B[39m \u001B[38;5;241m=\u001B[39m \u001B[38;5;28;01mNone\u001B[39;00m, filters: \u001B[38;5;28mdict\u001B[39m \u001B[38;5;241m=\u001B[39m \u001B[38;5;28;01mNone\u001B[39;00m):\n\u001B[1;32m    377\u001B[0m \u001B[38;5;250m    \u001B[39m\u001B[38;5;124;03m\"\"\"Fetch raw results from the innertube API.\u001B[39;00m\n\u001B[1;32m    378\u001B[0m \n\u001B[1;32m    379\u001B[0m \u001B[38;5;124;03m    :param str continuation:\u001B[39;00m\n\u001B[0;32m   (...)\u001B[0m\n\u001B[1;32m    385\u001B[0m \u001B[38;5;124;03m        The raw json object returned by the innertube API.\u001B[39;00m\n\u001B[1;32m    386\u001B[0m \u001B[38;5;124;03m    \"\"\"\u001B[39;00m\n\u001B[0;32m--> 387\u001B[0m     query_results \u001B[38;5;241m=\u001B[39m \u001B[38;5;28;43mself\u001B[39;49m\u001B[38;5;241;43m.\u001B[39;49m\u001B[43m_innertube_client\u001B[49m\u001B[38;5;241;43m.\u001B[39;49m\u001B[43msearch\u001B[49m\u001B[43m(\u001B[49m\u001B[38;5;28;43mself\u001B[39;49m\u001B[38;5;241;43m.\u001B[39;49m\u001B[43mquery\u001B[49m\u001B[43m,\u001B[49m\u001B[43m \u001B[49m\u001B[43mcontinuation\u001B[49m\u001B[38;5;241;43m=\u001B[39;49m\u001B[43mcontinuation\u001B[49m\u001B[43m,\u001B[49m\u001B[43m \u001B[49m\u001B[43mdata\u001B[49m\u001B[38;5;241;43m=\u001B[39;49m\u001B[43mfilters\u001B[49m\u001B[43m)\u001B[49m\n\u001B[1;32m    388\u001B[0m     \u001B[38;5;28;01mif\u001B[39;00m \u001B[38;5;129;01mnot\u001B[39;00m \u001B[38;5;28mself\u001B[39m\u001B[38;5;241m.\u001B[39m_initial_results:\n\u001B[1;32m    389\u001B[0m         \u001B[38;5;28mself\u001B[39m\u001B[38;5;241m.\u001B[39m_initial_results \u001B[38;5;241m=\u001B[39m query_results\n",
      "File \u001B[0;32m~/miniconda3/lib/python3.12/site-packages/pytubefix/innertube.py:900\u001B[0m, in \u001B[0;36mInnerTube.search\u001B[0;34m(self, search_query, continuation, data)\u001B[0m\n\u001B[1;32m    898\u001B[0m     data[\u001B[38;5;124m'\u001B[39m\u001B[38;5;124mcontinuation\u001B[39m\u001B[38;5;124m'\u001B[39m] \u001B[38;5;241m=\u001B[39m continuation\n\u001B[1;32m    899\u001B[0m data\u001B[38;5;241m.\u001B[39mupdate(\u001B[38;5;28mself\u001B[39m\u001B[38;5;241m.\u001B[39mbase_data)\n\u001B[0;32m--> 900\u001B[0m \u001B[38;5;28;01mreturn\u001B[39;00m \u001B[38;5;28;43mself\u001B[39;49m\u001B[38;5;241;43m.\u001B[39;49m\u001B[43m_call_api\u001B[49m\u001B[43m(\u001B[49m\u001B[43mendpoint\u001B[49m\u001B[43m,\u001B[49m\u001B[43m \u001B[49m\u001B[43mquery\u001B[49m\u001B[43m,\u001B[49m\u001B[43m \u001B[49m\u001B[43mdata\u001B[49m\u001B[43m)\u001B[49m\n",
      "File \u001B[0;32m~/miniconda3/lib/python3.12/site-packages/pytubefix/innertube.py:784\u001B[0m, in \u001B[0;36mInnerTube._call_api\u001B[0;34m(self, endpoint, query, data)\u001B[0m\n\u001B[1;32m    780\u001B[0m         \u001B[38;5;28mself\u001B[39m\u001B[38;5;241m.\u001B[39mfetch_po_token()\n\u001B[1;32m    782\u001B[0m headers\u001B[38;5;241m.\u001B[39mupdate(\u001B[38;5;28mself\u001B[39m\u001B[38;5;241m.\u001B[39mheader)\n\u001B[0;32m--> 784\u001B[0m response \u001B[38;5;241m=\u001B[39m \u001B[43mrequest\u001B[49m\u001B[38;5;241;43m.\u001B[39;49m\u001B[43m_execute_request\u001B[49m\u001B[43m(\u001B[49m\n\u001B[1;32m    785\u001B[0m \u001B[43m    \u001B[49m\u001B[43mendpoint_url\u001B[49m\u001B[43m,\u001B[49m\n\u001B[1;32m    786\u001B[0m \u001B[43m    \u001B[49m\u001B[38;5;124;43m'\u001B[39;49m\u001B[38;5;124;43mPOST\u001B[39;49m\u001B[38;5;124;43m'\u001B[39;49m\u001B[43m,\u001B[49m\n\u001B[1;32m    787\u001B[0m \u001B[43m    \u001B[49m\u001B[43mheaders\u001B[49m\u001B[38;5;241;43m=\u001B[39;49m\u001B[43mheaders\u001B[49m\u001B[43m,\u001B[49m\n\u001B[1;32m    788\u001B[0m \u001B[43m    \u001B[49m\u001B[43mdata\u001B[49m\u001B[38;5;241;43m=\u001B[39;49m\u001B[43mdata\u001B[49m\n\u001B[1;32m    789\u001B[0m \u001B[43m\u001B[49m\u001B[43m)\u001B[49m\n\u001B[1;32m    790\u001B[0m \u001B[38;5;28;01mreturn\u001B[39;00m json\u001B[38;5;241m.\u001B[39mloads(response\u001B[38;5;241m.\u001B[39mread())\n",
      "File \u001B[0;32m~/miniconda3/lib/python3.12/site-packages/pytubefix/request.py:35\u001B[0m, in \u001B[0;36m_execute_request\u001B[0;34m(url, method, headers, data, timeout)\u001B[0m\n\u001B[1;32m     33\u001B[0m \u001B[38;5;28;01melse\u001B[39;00m:\n\u001B[1;32m     34\u001B[0m     \u001B[38;5;28;01mraise\u001B[39;00m \u001B[38;5;167;01mValueError\u001B[39;00m(\u001B[38;5;124m\"\u001B[39m\u001B[38;5;124mInvalid URL\u001B[39m\u001B[38;5;124m\"\u001B[39m)\n\u001B[0;32m---> 35\u001B[0m \u001B[38;5;28;01mreturn\u001B[39;00m \u001B[43murlopen\u001B[49m\u001B[43m(\u001B[49m\u001B[43mrequest\u001B[49m\u001B[43m,\u001B[49m\u001B[43m \u001B[49m\u001B[43mtimeout\u001B[49m\u001B[38;5;241;43m=\u001B[39;49m\u001B[43mtimeout\u001B[49m\u001B[43m)\u001B[49m\n",
      "File \u001B[0;32m~/miniconda3/lib/python3.12/urllib/request.py:215\u001B[0m, in \u001B[0;36murlopen\u001B[0;34m(url, data, timeout, cafile, capath, cadefault, context)\u001B[0m\n\u001B[1;32m    213\u001B[0m \u001B[38;5;28;01melse\u001B[39;00m:\n\u001B[1;32m    214\u001B[0m     opener \u001B[38;5;241m=\u001B[39m _opener\n\u001B[0;32m--> 215\u001B[0m \u001B[38;5;28;01mreturn\u001B[39;00m \u001B[43mopener\u001B[49m\u001B[38;5;241;43m.\u001B[39;49m\u001B[43mopen\u001B[49m\u001B[43m(\u001B[49m\u001B[43murl\u001B[49m\u001B[43m,\u001B[49m\u001B[43m \u001B[49m\u001B[43mdata\u001B[49m\u001B[43m,\u001B[49m\u001B[43m \u001B[49m\u001B[43mtimeout\u001B[49m\u001B[43m)\u001B[49m\n",
      "File \u001B[0;32m~/miniconda3/lib/python3.12/urllib/request.py:515\u001B[0m, in \u001B[0;36mOpenerDirector.open\u001B[0;34m(self, fullurl, data, timeout)\u001B[0m\n\u001B[1;32m    512\u001B[0m     req \u001B[38;5;241m=\u001B[39m meth(req)\n\u001B[1;32m    514\u001B[0m sys\u001B[38;5;241m.\u001B[39maudit(\u001B[38;5;124m'\u001B[39m\u001B[38;5;124murllib.Request\u001B[39m\u001B[38;5;124m'\u001B[39m, req\u001B[38;5;241m.\u001B[39mfull_url, req\u001B[38;5;241m.\u001B[39mdata, req\u001B[38;5;241m.\u001B[39mheaders, req\u001B[38;5;241m.\u001B[39mget_method())\n\u001B[0;32m--> 515\u001B[0m response \u001B[38;5;241m=\u001B[39m \u001B[38;5;28;43mself\u001B[39;49m\u001B[38;5;241;43m.\u001B[39;49m\u001B[43m_open\u001B[49m\u001B[43m(\u001B[49m\u001B[43mreq\u001B[49m\u001B[43m,\u001B[49m\u001B[43m \u001B[49m\u001B[43mdata\u001B[49m\u001B[43m)\u001B[49m\n\u001B[1;32m    517\u001B[0m \u001B[38;5;66;03m# post-process response\u001B[39;00m\n\u001B[1;32m    518\u001B[0m meth_name \u001B[38;5;241m=\u001B[39m protocol\u001B[38;5;241m+\u001B[39m\u001B[38;5;124m\"\u001B[39m\u001B[38;5;124m_response\u001B[39m\u001B[38;5;124m\"\u001B[39m\n",
      "File \u001B[0;32m~/miniconda3/lib/python3.12/urllib/request.py:532\u001B[0m, in \u001B[0;36mOpenerDirector._open\u001B[0;34m(self, req, data)\u001B[0m\n\u001B[1;32m    529\u001B[0m     \u001B[38;5;28;01mreturn\u001B[39;00m result\n\u001B[1;32m    531\u001B[0m protocol \u001B[38;5;241m=\u001B[39m req\u001B[38;5;241m.\u001B[39mtype\n\u001B[0;32m--> 532\u001B[0m result \u001B[38;5;241m=\u001B[39m \u001B[38;5;28;43mself\u001B[39;49m\u001B[38;5;241;43m.\u001B[39;49m\u001B[43m_call_chain\u001B[49m\u001B[43m(\u001B[49m\u001B[38;5;28;43mself\u001B[39;49m\u001B[38;5;241;43m.\u001B[39;49m\u001B[43mhandle_open\u001B[49m\u001B[43m,\u001B[49m\u001B[43m \u001B[49m\u001B[43mprotocol\u001B[49m\u001B[43m,\u001B[49m\u001B[43m \u001B[49m\u001B[43mprotocol\u001B[49m\u001B[43m \u001B[49m\u001B[38;5;241;43m+\u001B[39;49m\n\u001B[1;32m    533\u001B[0m \u001B[43m                          \u001B[49m\u001B[38;5;124;43m'\u001B[39;49m\u001B[38;5;124;43m_open\u001B[39;49m\u001B[38;5;124;43m'\u001B[39;49m\u001B[43m,\u001B[49m\u001B[43m \u001B[49m\u001B[43mreq\u001B[49m\u001B[43m)\u001B[49m\n\u001B[1;32m    534\u001B[0m \u001B[38;5;28;01mif\u001B[39;00m result:\n\u001B[1;32m    535\u001B[0m     \u001B[38;5;28;01mreturn\u001B[39;00m result\n",
      "File \u001B[0;32m~/miniconda3/lib/python3.12/urllib/request.py:492\u001B[0m, in \u001B[0;36mOpenerDirector._call_chain\u001B[0;34m(self, chain, kind, meth_name, *args)\u001B[0m\n\u001B[1;32m    490\u001B[0m \u001B[38;5;28;01mfor\u001B[39;00m handler \u001B[38;5;129;01min\u001B[39;00m handlers:\n\u001B[1;32m    491\u001B[0m     func \u001B[38;5;241m=\u001B[39m \u001B[38;5;28mgetattr\u001B[39m(handler, meth_name)\n\u001B[0;32m--> 492\u001B[0m     result \u001B[38;5;241m=\u001B[39m \u001B[43mfunc\u001B[49m\u001B[43m(\u001B[49m\u001B[38;5;241;43m*\u001B[39;49m\u001B[43margs\u001B[49m\u001B[43m)\u001B[49m\n\u001B[1;32m    493\u001B[0m     \u001B[38;5;28;01mif\u001B[39;00m result \u001B[38;5;129;01mis\u001B[39;00m \u001B[38;5;129;01mnot\u001B[39;00m \u001B[38;5;28;01mNone\u001B[39;00m:\n\u001B[1;32m    494\u001B[0m         \u001B[38;5;28;01mreturn\u001B[39;00m result\n",
      "File \u001B[0;32m~/miniconda3/lib/python3.12/urllib/request.py:1392\u001B[0m, in \u001B[0;36mHTTPSHandler.https_open\u001B[0;34m(self, req)\u001B[0m\n\u001B[1;32m   1391\u001B[0m \u001B[38;5;28;01mdef\u001B[39;00m \u001B[38;5;21mhttps_open\u001B[39m(\u001B[38;5;28mself\u001B[39m, req):\n\u001B[0;32m-> 1392\u001B[0m     \u001B[38;5;28;01mreturn\u001B[39;00m \u001B[38;5;28;43mself\u001B[39;49m\u001B[38;5;241;43m.\u001B[39;49m\u001B[43mdo_open\u001B[49m\u001B[43m(\u001B[49m\u001B[43mhttp\u001B[49m\u001B[38;5;241;43m.\u001B[39;49m\u001B[43mclient\u001B[49m\u001B[38;5;241;43m.\u001B[39;49m\u001B[43mHTTPSConnection\u001B[49m\u001B[43m,\u001B[49m\u001B[43m \u001B[49m\u001B[43mreq\u001B[49m\u001B[43m,\u001B[49m\n\u001B[1;32m   1393\u001B[0m \u001B[43m                        \u001B[49m\u001B[43mcontext\u001B[49m\u001B[38;5;241;43m=\u001B[39;49m\u001B[38;5;28;43mself\u001B[39;49m\u001B[38;5;241;43m.\u001B[39;49m\u001B[43m_context\u001B[49m\u001B[43m)\u001B[49m\n",
      "File \u001B[0;32m~/miniconda3/lib/python3.12/urllib/request.py:1344\u001B[0m, in \u001B[0;36mAbstractHTTPHandler.do_open\u001B[0;34m(self, http_class, req, **http_conn_args)\u001B[0m\n\u001B[1;32m   1342\u001B[0m \u001B[38;5;28;01mtry\u001B[39;00m:\n\u001B[1;32m   1343\u001B[0m     \u001B[38;5;28;01mtry\u001B[39;00m:\n\u001B[0;32m-> 1344\u001B[0m         \u001B[43mh\u001B[49m\u001B[38;5;241;43m.\u001B[39;49m\u001B[43mrequest\u001B[49m\u001B[43m(\u001B[49m\u001B[43mreq\u001B[49m\u001B[38;5;241;43m.\u001B[39;49m\u001B[43mget_method\u001B[49m\u001B[43m(\u001B[49m\u001B[43m)\u001B[49m\u001B[43m,\u001B[49m\u001B[43m \u001B[49m\u001B[43mreq\u001B[49m\u001B[38;5;241;43m.\u001B[39;49m\u001B[43mselector\u001B[49m\u001B[43m,\u001B[49m\u001B[43m \u001B[49m\u001B[43mreq\u001B[49m\u001B[38;5;241;43m.\u001B[39;49m\u001B[43mdata\u001B[49m\u001B[43m,\u001B[49m\u001B[43m \u001B[49m\u001B[43mheaders\u001B[49m\u001B[43m,\u001B[49m\n\u001B[1;32m   1345\u001B[0m \u001B[43m                  \u001B[49m\u001B[43mencode_chunked\u001B[49m\u001B[38;5;241;43m=\u001B[39;49m\u001B[43mreq\u001B[49m\u001B[38;5;241;43m.\u001B[39;49m\u001B[43mhas_header\u001B[49m\u001B[43m(\u001B[49m\u001B[38;5;124;43m'\u001B[39;49m\u001B[38;5;124;43mTransfer-encoding\u001B[39;49m\u001B[38;5;124;43m'\u001B[39;49m\u001B[43m)\u001B[49m\u001B[43m)\u001B[49m\n\u001B[1;32m   1346\u001B[0m     \u001B[38;5;28;01mexcept\u001B[39;00m \u001B[38;5;167;01mOSError\u001B[39;00m \u001B[38;5;28;01mas\u001B[39;00m err: \u001B[38;5;66;03m# timeout error\u001B[39;00m\n\u001B[1;32m   1347\u001B[0m         \u001B[38;5;28;01mraise\u001B[39;00m URLError(err)\n",
      "File \u001B[0;32m~/miniconda3/lib/python3.12/http/client.py:1331\u001B[0m, in \u001B[0;36mHTTPConnection.request\u001B[0;34m(self, method, url, body, headers, encode_chunked)\u001B[0m\n\u001B[1;32m   1328\u001B[0m \u001B[38;5;28;01mdef\u001B[39;00m \u001B[38;5;21mrequest\u001B[39m(\u001B[38;5;28mself\u001B[39m, method, url, body\u001B[38;5;241m=\u001B[39m\u001B[38;5;28;01mNone\u001B[39;00m, headers\u001B[38;5;241m=\u001B[39m{}, \u001B[38;5;241m*\u001B[39m,\n\u001B[1;32m   1329\u001B[0m             encode_chunked\u001B[38;5;241m=\u001B[39m\u001B[38;5;28;01mFalse\u001B[39;00m):\n\u001B[1;32m   1330\u001B[0m \u001B[38;5;250m    \u001B[39m\u001B[38;5;124;03m\"\"\"Send a complete request to the server.\"\"\"\u001B[39;00m\n\u001B[0;32m-> 1331\u001B[0m     \u001B[38;5;28;43mself\u001B[39;49m\u001B[38;5;241;43m.\u001B[39;49m\u001B[43m_send_request\u001B[49m\u001B[43m(\u001B[49m\u001B[43mmethod\u001B[49m\u001B[43m,\u001B[49m\u001B[43m \u001B[49m\u001B[43murl\u001B[49m\u001B[43m,\u001B[49m\u001B[43m \u001B[49m\u001B[43mbody\u001B[49m\u001B[43m,\u001B[49m\u001B[43m \u001B[49m\u001B[43mheaders\u001B[49m\u001B[43m,\u001B[49m\u001B[43m \u001B[49m\u001B[43mencode_chunked\u001B[49m\u001B[43m)\u001B[49m\n",
      "File \u001B[0;32m~/miniconda3/lib/python3.12/http/client.py:1377\u001B[0m, in \u001B[0;36mHTTPConnection._send_request\u001B[0;34m(self, method, url, body, headers, encode_chunked)\u001B[0m\n\u001B[1;32m   1373\u001B[0m \u001B[38;5;28;01mif\u001B[39;00m \u001B[38;5;28misinstance\u001B[39m(body, \u001B[38;5;28mstr\u001B[39m):\n\u001B[1;32m   1374\u001B[0m     \u001B[38;5;66;03m# RFC 2616 Section 3.7.1 says that text default has a\u001B[39;00m\n\u001B[1;32m   1375\u001B[0m     \u001B[38;5;66;03m# default charset of iso-8859-1.\u001B[39;00m\n\u001B[1;32m   1376\u001B[0m     body \u001B[38;5;241m=\u001B[39m _encode(body, \u001B[38;5;124m'\u001B[39m\u001B[38;5;124mbody\u001B[39m\u001B[38;5;124m'\u001B[39m)\n\u001B[0;32m-> 1377\u001B[0m \u001B[38;5;28;43mself\u001B[39;49m\u001B[38;5;241;43m.\u001B[39;49m\u001B[43mendheaders\u001B[49m\u001B[43m(\u001B[49m\u001B[43mbody\u001B[49m\u001B[43m,\u001B[49m\u001B[43m \u001B[49m\u001B[43mencode_chunked\u001B[49m\u001B[38;5;241;43m=\u001B[39;49m\u001B[43mencode_chunked\u001B[49m\u001B[43m)\u001B[49m\n",
      "File \u001B[0;32m~/miniconda3/lib/python3.12/http/client.py:1326\u001B[0m, in \u001B[0;36mHTTPConnection.endheaders\u001B[0;34m(self, message_body, encode_chunked)\u001B[0m\n\u001B[1;32m   1324\u001B[0m \u001B[38;5;28;01melse\u001B[39;00m:\n\u001B[1;32m   1325\u001B[0m     \u001B[38;5;28;01mraise\u001B[39;00m CannotSendHeader()\n\u001B[0;32m-> 1326\u001B[0m \u001B[38;5;28;43mself\u001B[39;49m\u001B[38;5;241;43m.\u001B[39;49m\u001B[43m_send_output\u001B[49m\u001B[43m(\u001B[49m\u001B[43mmessage_body\u001B[49m\u001B[43m,\u001B[49m\u001B[43m \u001B[49m\u001B[43mencode_chunked\u001B[49m\u001B[38;5;241;43m=\u001B[39;49m\u001B[43mencode_chunked\u001B[49m\u001B[43m)\u001B[49m\n",
      "File \u001B[0;32m~/miniconda3/lib/python3.12/http/client.py:1085\u001B[0m, in \u001B[0;36mHTTPConnection._send_output\u001B[0;34m(self, message_body, encode_chunked)\u001B[0m\n\u001B[1;32m   1083\u001B[0m msg \u001B[38;5;241m=\u001B[39m \u001B[38;5;124mb\u001B[39m\u001B[38;5;124m\"\u001B[39m\u001B[38;5;130;01m\\r\u001B[39;00m\u001B[38;5;130;01m\\n\u001B[39;00m\u001B[38;5;124m\"\u001B[39m\u001B[38;5;241m.\u001B[39mjoin(\u001B[38;5;28mself\u001B[39m\u001B[38;5;241m.\u001B[39m_buffer)\n\u001B[1;32m   1084\u001B[0m \u001B[38;5;28;01mdel\u001B[39;00m \u001B[38;5;28mself\u001B[39m\u001B[38;5;241m.\u001B[39m_buffer[:]\n\u001B[0;32m-> 1085\u001B[0m \u001B[38;5;28;43mself\u001B[39;49m\u001B[38;5;241;43m.\u001B[39;49m\u001B[43msend\u001B[49m\u001B[43m(\u001B[49m\u001B[43mmsg\u001B[49m\u001B[43m)\u001B[49m\n\u001B[1;32m   1087\u001B[0m \u001B[38;5;28;01mif\u001B[39;00m message_body \u001B[38;5;129;01mis\u001B[39;00m \u001B[38;5;129;01mnot\u001B[39;00m \u001B[38;5;28;01mNone\u001B[39;00m:\n\u001B[1;32m   1088\u001B[0m \n\u001B[1;32m   1089\u001B[0m     \u001B[38;5;66;03m# create a consistent interface to message_body\u001B[39;00m\n\u001B[1;32m   1090\u001B[0m     \u001B[38;5;28;01mif\u001B[39;00m \u001B[38;5;28mhasattr\u001B[39m(message_body, \u001B[38;5;124m'\u001B[39m\u001B[38;5;124mread\u001B[39m\u001B[38;5;124m'\u001B[39m):\n\u001B[1;32m   1091\u001B[0m         \u001B[38;5;66;03m# Let file-like take precedence over byte-like.  This\u001B[39;00m\n\u001B[1;32m   1092\u001B[0m         \u001B[38;5;66;03m# is needed to allow the current position of mmap'ed\u001B[39;00m\n\u001B[1;32m   1093\u001B[0m         \u001B[38;5;66;03m# files to be taken into account.\u001B[39;00m\n",
      "File \u001B[0;32m~/miniconda3/lib/python3.12/http/client.py:1029\u001B[0m, in \u001B[0;36mHTTPConnection.send\u001B[0;34m(self, data)\u001B[0m\n\u001B[1;32m   1027\u001B[0m \u001B[38;5;28;01mif\u001B[39;00m \u001B[38;5;28mself\u001B[39m\u001B[38;5;241m.\u001B[39msock \u001B[38;5;129;01mis\u001B[39;00m \u001B[38;5;28;01mNone\u001B[39;00m:\n\u001B[1;32m   1028\u001B[0m     \u001B[38;5;28;01mif\u001B[39;00m \u001B[38;5;28mself\u001B[39m\u001B[38;5;241m.\u001B[39mauto_open:\n\u001B[0;32m-> 1029\u001B[0m         \u001B[38;5;28;43mself\u001B[39;49m\u001B[38;5;241;43m.\u001B[39;49m\u001B[43mconnect\u001B[49m\u001B[43m(\u001B[49m\u001B[43m)\u001B[49m\n\u001B[1;32m   1030\u001B[0m     \u001B[38;5;28;01melse\u001B[39;00m:\n\u001B[1;32m   1031\u001B[0m         \u001B[38;5;28;01mraise\u001B[39;00m NotConnected()\n",
      "File \u001B[0;32m~/miniconda3/lib/python3.12/http/client.py:1465\u001B[0m, in \u001B[0;36mHTTPSConnection.connect\u001B[0;34m(self)\u001B[0m\n\u001B[1;32m   1462\u001B[0m \u001B[38;5;28;01mdef\u001B[39;00m \u001B[38;5;21mconnect\u001B[39m(\u001B[38;5;28mself\u001B[39m):\n\u001B[1;32m   1463\u001B[0m     \u001B[38;5;124m\"\u001B[39m\u001B[38;5;124mConnect to a host on a given (SSL) port.\u001B[39m\u001B[38;5;124m\"\u001B[39m\n\u001B[0;32m-> 1465\u001B[0m     \u001B[38;5;28;43msuper\u001B[39;49m\u001B[43m(\u001B[49m\u001B[43m)\u001B[49m\u001B[38;5;241;43m.\u001B[39;49m\u001B[43mconnect\u001B[49m\u001B[43m(\u001B[49m\u001B[43m)\u001B[49m\n\u001B[1;32m   1467\u001B[0m     \u001B[38;5;28;01mif\u001B[39;00m \u001B[38;5;28mself\u001B[39m\u001B[38;5;241m.\u001B[39m_tunnel_host:\n\u001B[1;32m   1468\u001B[0m         server_hostname \u001B[38;5;241m=\u001B[39m \u001B[38;5;28mself\u001B[39m\u001B[38;5;241m.\u001B[39m_tunnel_host\n",
      "File \u001B[0;32m~/miniconda3/lib/python3.12/http/client.py:995\u001B[0m, in \u001B[0;36mHTTPConnection.connect\u001B[0;34m(self)\u001B[0m\n\u001B[1;32m    993\u001B[0m \u001B[38;5;250m\u001B[39m\u001B[38;5;124;03m\"\"\"Connect to the host and port specified in __init__.\"\"\"\u001B[39;00m\n\u001B[1;32m    994\u001B[0m sys\u001B[38;5;241m.\u001B[39maudit(\u001B[38;5;124m\"\u001B[39m\u001B[38;5;124mhttp.client.connect\u001B[39m\u001B[38;5;124m\"\u001B[39m, \u001B[38;5;28mself\u001B[39m, \u001B[38;5;28mself\u001B[39m\u001B[38;5;241m.\u001B[39mhost, \u001B[38;5;28mself\u001B[39m\u001B[38;5;241m.\u001B[39mport)\n\u001B[0;32m--> 995\u001B[0m \u001B[38;5;28mself\u001B[39m\u001B[38;5;241m.\u001B[39msock \u001B[38;5;241m=\u001B[39m \u001B[38;5;28;43mself\u001B[39;49m\u001B[38;5;241;43m.\u001B[39;49m\u001B[43m_create_connection\u001B[49m\u001B[43m(\u001B[49m\n\u001B[1;32m    996\u001B[0m \u001B[43m    \u001B[49m\u001B[43m(\u001B[49m\u001B[38;5;28;43mself\u001B[39;49m\u001B[38;5;241;43m.\u001B[39;49m\u001B[43mhost\u001B[49m\u001B[43m,\u001B[49m\u001B[38;5;28;43mself\u001B[39;49m\u001B[38;5;241;43m.\u001B[39;49m\u001B[43mport\u001B[49m\u001B[43m)\u001B[49m\u001B[43m,\u001B[49m\u001B[43m \u001B[49m\u001B[38;5;28;43mself\u001B[39;49m\u001B[38;5;241;43m.\u001B[39;49m\u001B[43mtimeout\u001B[49m\u001B[43m,\u001B[49m\u001B[43m \u001B[49m\u001B[38;5;28;43mself\u001B[39;49m\u001B[38;5;241;43m.\u001B[39;49m\u001B[43msource_address\u001B[49m\u001B[43m)\u001B[49m\n\u001B[1;32m    997\u001B[0m \u001B[38;5;66;03m# Might fail in OSs that don't implement TCP_NODELAY\u001B[39;00m\n\u001B[1;32m    998\u001B[0m \u001B[38;5;28;01mtry\u001B[39;00m:\n",
      "File \u001B[0;32m~/miniconda3/lib/python3.12/socket.py:837\u001B[0m, in \u001B[0;36mcreate_connection\u001B[0;34m(address, timeout, source_address, all_errors)\u001B[0m\n\u001B[1;32m    835\u001B[0m \u001B[38;5;28;01mif\u001B[39;00m source_address:\n\u001B[1;32m    836\u001B[0m     sock\u001B[38;5;241m.\u001B[39mbind(source_address)\n\u001B[0;32m--> 837\u001B[0m \u001B[43msock\u001B[49m\u001B[38;5;241;43m.\u001B[39;49m\u001B[43mconnect\u001B[49m\u001B[43m(\u001B[49m\u001B[43msa\u001B[49m\u001B[43m)\u001B[49m\n\u001B[1;32m    838\u001B[0m \u001B[38;5;66;03m# Break explicitly a reference cycle\u001B[39;00m\n\u001B[1;32m    839\u001B[0m exceptions\u001B[38;5;241m.\u001B[39mclear()\n",
      "\u001B[0;31mKeyboardInterrupt\u001B[0m: "
     ]
    }
   ],
   "execution_count": 28
  },
  {
   "metadata": {
    "ExecuteTime": {
     "end_time": "2025-05-06T17:56:38.912618853Z",
     "start_time": "2025-05-04T10:44:11.038841Z"
    }
   },
   "cell_type": "code",
   "source": "enriched_df",
   "outputs": [
    {
     "data": {
      "text/plain": [
       "    internal_id                                         timestamps  \\\n",
       "0        plllkw                               [18.0, 240.0, 345.0]   \n",
       "1        xpetji  [867.0, 1017.0, 1053.0, 1437.0, 1152.0, 810.0,...   \n",
       "2        cxqeox                 [39.0, 621.0, 561.0, 456.0, 219.0]   \n",
       "3        ufwmpg  [801.0, 3393.0, 3813.0, 1290.0, 543.0, 4017.0,...   \n",
       "4        xfzngr                         [276.0, 450.0, 90.0, 30.0]   \n",
       "..          ...                                                ...   \n",
       "129      fcxvmr  [1656.0, 786.0, 1026.0, 1392.0, 591.0, 84.0, 1...   \n",
       "130      eupjay  [1245.0, 1029.0, 1560.0, 684.0, 1386.0, 1746.0...   \n",
       "131      hrpnxe  [942.0, 132.0, 867.0, 1539.0, 1584.0, 216.0, 7...   \n",
       "132      dlfoyw  [2415.0, 840.0, 1197.0, 588.0, 174.0, 1836.0, ...   \n",
       "133      yirczy                        [582.0, 69.0, 531.0, 372.0]   \n",
       "\n",
       "                                            video_name     video_id  \n",
       "0    Patient Management | Materials & Equipment Saf...  hgk8-2Fweb8  \n",
       "1    Endodontics | Adjunctive Treatment | INBDE, AD...  U6XA28g9tEE  \n",
       "2                  Evidence-Based Dentistry Part 2.mp4  j0VTYFUMW_M  \n",
       "3    Anatomy and Physiology Chapter 7 Part B Lectur...  3p1-xzfdJCA  \n",
       "4    Patient Management | Public Health & Epidemiol...  CmION0EvzLc  \n",
       "..                                                 ...          ...  \n",
       "129  Pediatric Dentistry | Tooth Development and Er...  PLAMJJfZ-eo  \n",
       "130    Human Anatomy Lecture  Ch 19 The Heart Pt 2.mp4  OYCRLL9_P-U  \n",
       "131  Human Biology Lecture: Ch 6- Reproduction at t...  tKcLwCPQc1U  \n",
       "132  Orthodontics | Diagnosis & Treatment Planning ...  IRxyWfmXLXA  \n",
       "133  Head & Neck Anatomy | Muscles of Mastication |...  reqF1EORKSg  \n",
       "\n",
       "[134 rows x 4 columns]"
      ],
      "text/html": [
       "<div>\n",
       "<style scoped>\n",
       "    .dataframe tbody tr th:only-of-type {\n",
       "        vertical-align: middle;\n",
       "    }\n",
       "\n",
       "    .dataframe tbody tr th {\n",
       "        vertical-align: top;\n",
       "    }\n",
       "\n",
       "    .dataframe thead th {\n",
       "        text-align: right;\n",
       "    }\n",
       "</style>\n",
       "<table border=\"1\" class=\"dataframe\">\n",
       "  <thead>\n",
       "    <tr style=\"text-align: right;\">\n",
       "      <th></th>\n",
       "      <th>internal_id</th>\n",
       "      <th>timestamps</th>\n",
       "      <th>video_name</th>\n",
       "      <th>video_id</th>\n",
       "    </tr>\n",
       "  </thead>\n",
       "  <tbody>\n",
       "    <tr>\n",
       "      <th>0</th>\n",
       "      <td>plllkw</td>\n",
       "      <td>[18.0, 240.0, 345.0]</td>\n",
       "      <td>Patient Management | Materials &amp; Equipment Saf...</td>\n",
       "      <td>hgk8-2Fweb8</td>\n",
       "    </tr>\n",
       "    <tr>\n",
       "      <th>1</th>\n",
       "      <td>xpetji</td>\n",
       "      <td>[867.0, 1017.0, 1053.0, 1437.0, 1152.0, 810.0,...</td>\n",
       "      <td>Endodontics | Adjunctive Treatment | INBDE, AD...</td>\n",
       "      <td>U6XA28g9tEE</td>\n",
       "    </tr>\n",
       "    <tr>\n",
       "      <th>2</th>\n",
       "      <td>cxqeox</td>\n",
       "      <td>[39.0, 621.0, 561.0, 456.0, 219.0]</td>\n",
       "      <td>Evidence-Based Dentistry Part 2.mp4</td>\n",
       "      <td>j0VTYFUMW_M</td>\n",
       "    </tr>\n",
       "    <tr>\n",
       "      <th>3</th>\n",
       "      <td>ufwmpg</td>\n",
       "      <td>[801.0, 3393.0, 3813.0, 1290.0, 543.0, 4017.0,...</td>\n",
       "      <td>Anatomy and Physiology Chapter 7 Part B Lectur...</td>\n",
       "      <td>3p1-xzfdJCA</td>\n",
       "    </tr>\n",
       "    <tr>\n",
       "      <th>4</th>\n",
       "      <td>xfzngr</td>\n",
       "      <td>[276.0, 450.0, 90.0, 30.0]</td>\n",
       "      <td>Patient Management | Public Health &amp; Epidemiol...</td>\n",
       "      <td>CmION0EvzLc</td>\n",
       "    </tr>\n",
       "    <tr>\n",
       "      <th>...</th>\n",
       "      <td>...</td>\n",
       "      <td>...</td>\n",
       "      <td>...</td>\n",
       "      <td>...</td>\n",
       "    </tr>\n",
       "    <tr>\n",
       "      <th>129</th>\n",
       "      <td>fcxvmr</td>\n",
       "      <td>[1656.0, 786.0, 1026.0, 1392.0, 591.0, 84.0, 1...</td>\n",
       "      <td>Pediatric Dentistry | Tooth Development and Er...</td>\n",
       "      <td>PLAMJJfZ-eo</td>\n",
       "    </tr>\n",
       "    <tr>\n",
       "      <th>130</th>\n",
       "      <td>eupjay</td>\n",
       "      <td>[1245.0, 1029.0, 1560.0, 684.0, 1386.0, 1746.0...</td>\n",
       "      <td>Human Anatomy Lecture  Ch 19 The Heart Pt 2.mp4</td>\n",
       "      <td>OYCRLL9_P-U</td>\n",
       "    </tr>\n",
       "    <tr>\n",
       "      <th>131</th>\n",
       "      <td>hrpnxe</td>\n",
       "      <td>[942.0, 132.0, 867.0, 1539.0, 1584.0, 216.0, 7...</td>\n",
       "      <td>Human Biology Lecture: Ch 6- Reproduction at t...</td>\n",
       "      <td>tKcLwCPQc1U</td>\n",
       "    </tr>\n",
       "    <tr>\n",
       "      <th>132</th>\n",
       "      <td>dlfoyw</td>\n",
       "      <td>[2415.0, 840.0, 1197.0, 588.0, 174.0, 1836.0, ...</td>\n",
       "      <td>Orthodontics | Diagnosis &amp; Treatment Planning ...</td>\n",
       "      <td>IRxyWfmXLXA</td>\n",
       "    </tr>\n",
       "    <tr>\n",
       "      <th>133</th>\n",
       "      <td>yirczy</td>\n",
       "      <td>[582.0, 69.0, 531.0, 372.0]</td>\n",
       "      <td>Head &amp; Neck Anatomy | Muscles of Mastication |...</td>\n",
       "      <td>reqF1EORKSg</td>\n",
       "    </tr>\n",
       "  </tbody>\n",
       "</table>\n",
       "<p>134 rows × 4 columns</p>\n",
       "</div>"
      ]
     },
     "execution_count": 93,
     "metadata": {},
     "output_type": "execute_result"
    }
   ],
   "execution_count": 93
  },
  {
   "metadata": {
    "ExecuteTime": {
     "end_time": "2025-05-06T17:56:38.944262168Z",
     "start_time": "2025-05-04T10:46:12.339043Z"
    }
   },
   "cell_type": "code",
   "source": "enriched_df.columns",
   "outputs": [
    {
     "data": {
      "text/plain": [
       "Index(['internal_id', 'timestamps', 'video_name', 'video_id'], dtype='object')"
      ]
     },
     "execution_count": 95,
     "metadata": {},
     "output_type": "execute_result"
    }
   ],
   "execution_count": 95
  },
  {
   "metadata": {
    "ExecuteTime": {
     "end_time": "2025-05-06T17:56:38.981755584Z",
     "start_time": "2025-05-04T10:48:22.824594Z"
    }
   },
   "cell_type": "code",
   "source": [
    "col_names = [\n",
    "    'internal_id',\n",
    "    'video_id',\n",
    "    'video_name',\n",
    "    'timestamps',\n",
    "]"
   ],
   "outputs": [],
   "execution_count": 98
  },
  {
   "metadata": {
    "ExecuteTime": {
     "end_time": "2025-05-06T17:56:38.994740376Z",
     "start_time": "2025-05-04T10:48:23.355005Z"
    }
   },
   "cell_type": "code",
   "source": "enriched_df = enriched_df[col_names]",
   "outputs": [],
   "execution_count": 99
  },
  {
   "metadata": {
    "ExecuteTime": {
     "end_time": "2025-05-06T17:56:38.995901647Z",
     "start_time": "2025-05-04T10:48:26.178301Z"
    }
   },
   "cell_type": "code",
   "source": "enriched_df",
   "outputs": [
    {
     "data": {
      "text/plain": [
       "    internal_id     video_id  \\\n",
       "0        plllkw  hgk8-2Fweb8   \n",
       "1        xpetji  U6XA28g9tEE   \n",
       "2        cxqeox  j0VTYFUMW_M   \n",
       "3        ufwmpg  3p1-xzfdJCA   \n",
       "4        xfzngr  CmION0EvzLc   \n",
       "..          ...          ...   \n",
       "129      fcxvmr  PLAMJJfZ-eo   \n",
       "130      eupjay  OYCRLL9_P-U   \n",
       "131      hrpnxe  tKcLwCPQc1U   \n",
       "132      dlfoyw  IRxyWfmXLXA   \n",
       "133      yirczy  reqF1EORKSg   \n",
       "\n",
       "                                            video_name  \\\n",
       "0    Patient Management | Materials & Equipment Saf...   \n",
       "1    Endodontics | Adjunctive Treatment | INBDE, AD...   \n",
       "2                  Evidence-Based Dentistry Part 2.mp4   \n",
       "3    Anatomy and Physiology Chapter 7 Part B Lectur...   \n",
       "4    Patient Management | Public Health & Epidemiol...   \n",
       "..                                                 ...   \n",
       "129  Pediatric Dentistry | Tooth Development and Er...   \n",
       "130    Human Anatomy Lecture  Ch 19 The Heart Pt 2.mp4   \n",
       "131  Human Biology Lecture: Ch 6- Reproduction at t...   \n",
       "132  Orthodontics | Diagnosis & Treatment Planning ...   \n",
       "133  Head & Neck Anatomy | Muscles of Mastication |...   \n",
       "\n",
       "                                            timestamps  \n",
       "0                                 [18.0, 240.0, 345.0]  \n",
       "1    [867.0, 1017.0, 1053.0, 1437.0, 1152.0, 810.0,...  \n",
       "2                   [39.0, 621.0, 561.0, 456.0, 219.0]  \n",
       "3    [801.0, 3393.0, 3813.0, 1290.0, 543.0, 4017.0,...  \n",
       "4                           [276.0, 450.0, 90.0, 30.0]  \n",
       "..                                                 ...  \n",
       "129  [1656.0, 786.0, 1026.0, 1392.0, 591.0, 84.0, 1...  \n",
       "130  [1245.0, 1029.0, 1560.0, 684.0, 1386.0, 1746.0...  \n",
       "131  [942.0, 132.0, 867.0, 1539.0, 1584.0, 216.0, 7...  \n",
       "132  [2415.0, 840.0, 1197.0, 588.0, 174.0, 1836.0, ...  \n",
       "133                        [582.0, 69.0, 531.0, 372.0]  \n",
       "\n",
       "[134 rows x 4 columns]"
      ],
      "text/html": [
       "<div>\n",
       "<style scoped>\n",
       "    .dataframe tbody tr th:only-of-type {\n",
       "        vertical-align: middle;\n",
       "    }\n",
       "\n",
       "    .dataframe tbody tr th {\n",
       "        vertical-align: top;\n",
       "    }\n",
       "\n",
       "    .dataframe thead th {\n",
       "        text-align: right;\n",
       "    }\n",
       "</style>\n",
       "<table border=\"1\" class=\"dataframe\">\n",
       "  <thead>\n",
       "    <tr style=\"text-align: right;\">\n",
       "      <th></th>\n",
       "      <th>internal_id</th>\n",
       "      <th>video_id</th>\n",
       "      <th>video_name</th>\n",
       "      <th>timestamps</th>\n",
       "    </tr>\n",
       "  </thead>\n",
       "  <tbody>\n",
       "    <tr>\n",
       "      <th>0</th>\n",
       "      <td>plllkw</td>\n",
       "      <td>hgk8-2Fweb8</td>\n",
       "      <td>Patient Management | Materials &amp; Equipment Saf...</td>\n",
       "      <td>[18.0, 240.0, 345.0]</td>\n",
       "    </tr>\n",
       "    <tr>\n",
       "      <th>1</th>\n",
       "      <td>xpetji</td>\n",
       "      <td>U6XA28g9tEE</td>\n",
       "      <td>Endodontics | Adjunctive Treatment | INBDE, AD...</td>\n",
       "      <td>[867.0, 1017.0, 1053.0, 1437.0, 1152.0, 810.0,...</td>\n",
       "    </tr>\n",
       "    <tr>\n",
       "      <th>2</th>\n",
       "      <td>cxqeox</td>\n",
       "      <td>j0VTYFUMW_M</td>\n",
       "      <td>Evidence-Based Dentistry Part 2.mp4</td>\n",
       "      <td>[39.0, 621.0, 561.0, 456.0, 219.0]</td>\n",
       "    </tr>\n",
       "    <tr>\n",
       "      <th>3</th>\n",
       "      <td>ufwmpg</td>\n",
       "      <td>3p1-xzfdJCA</td>\n",
       "      <td>Anatomy and Physiology Chapter 7 Part B Lectur...</td>\n",
       "      <td>[801.0, 3393.0, 3813.0, 1290.0, 543.0, 4017.0,...</td>\n",
       "    </tr>\n",
       "    <tr>\n",
       "      <th>4</th>\n",
       "      <td>xfzngr</td>\n",
       "      <td>CmION0EvzLc</td>\n",
       "      <td>Patient Management | Public Health &amp; Epidemiol...</td>\n",
       "      <td>[276.0, 450.0, 90.0, 30.0]</td>\n",
       "    </tr>\n",
       "    <tr>\n",
       "      <th>...</th>\n",
       "      <td>...</td>\n",
       "      <td>...</td>\n",
       "      <td>...</td>\n",
       "      <td>...</td>\n",
       "    </tr>\n",
       "    <tr>\n",
       "      <th>129</th>\n",
       "      <td>fcxvmr</td>\n",
       "      <td>PLAMJJfZ-eo</td>\n",
       "      <td>Pediatric Dentistry | Tooth Development and Er...</td>\n",
       "      <td>[1656.0, 786.0, 1026.0, 1392.0, 591.0, 84.0, 1...</td>\n",
       "    </tr>\n",
       "    <tr>\n",
       "      <th>130</th>\n",
       "      <td>eupjay</td>\n",
       "      <td>OYCRLL9_P-U</td>\n",
       "      <td>Human Anatomy Lecture  Ch 19 The Heart Pt 2.mp4</td>\n",
       "      <td>[1245.0, 1029.0, 1560.0, 684.0, 1386.0, 1746.0...</td>\n",
       "    </tr>\n",
       "    <tr>\n",
       "      <th>131</th>\n",
       "      <td>hrpnxe</td>\n",
       "      <td>tKcLwCPQc1U</td>\n",
       "      <td>Human Biology Lecture: Ch 6- Reproduction at t...</td>\n",
       "      <td>[942.0, 132.0, 867.0, 1539.0, 1584.0, 216.0, 7...</td>\n",
       "    </tr>\n",
       "    <tr>\n",
       "      <th>132</th>\n",
       "      <td>dlfoyw</td>\n",
       "      <td>IRxyWfmXLXA</td>\n",
       "      <td>Orthodontics | Diagnosis &amp; Treatment Planning ...</td>\n",
       "      <td>[2415.0, 840.0, 1197.0, 588.0, 174.0, 1836.0, ...</td>\n",
       "    </tr>\n",
       "    <tr>\n",
       "      <th>133</th>\n",
       "      <td>yirczy</td>\n",
       "      <td>reqF1EORKSg</td>\n",
       "      <td>Head &amp; Neck Anatomy | Muscles of Mastication |...</td>\n",
       "      <td>[582.0, 69.0, 531.0, 372.0]</td>\n",
       "    </tr>\n",
       "  </tbody>\n",
       "</table>\n",
       "<p>134 rows × 4 columns</p>\n",
       "</div>"
      ]
     },
     "execution_count": 100,
     "metadata": {},
     "output_type": "execute_result"
    }
   ],
   "execution_count": 100
  },
  {
   "metadata": {
    "ExecuteTime": {
     "end_time": "2025-05-06T17:56:38.997537504Z",
     "start_time": "2025-05-04T10:49:26.134819Z"
    }
   },
   "cell_type": "code",
   "source": "enriched_df.to_csv(r\"/home/vedant/Downloads/python_objects_to_send/timestamps_v4.csv\")",
   "outputs": [],
   "execution_count": 101
  },
  {
   "metadata": {
    "ExecuteTime": {
     "end_time": "2025-05-06T18:00:09.002329Z",
     "start_time": "2025-05-06T18:00:08.987536Z"
    }
   },
   "cell_type": "code",
   "source": [
    "enriched_df = pd.read_csv(\"/home/vedant/Downloads/key-frame-extraction-results/timestamps.csv\")\n",
    "enriched_df.head()"
   ],
   "outputs": [
    {
     "data": {
      "text/plain": [
       "   Unnamed: 0 internal_id     video_id  \\\n",
       "0           0      plllkw  hgk8-2Fweb8   \n",
       "1           1      xpetji  U6XA28g9tEE   \n",
       "2           2      cxqeox  j0VTYFUMW_M   \n",
       "3           3      ufwmpg  3p1-xzfdJCA   \n",
       "4           4      xfzngr  CmION0EvzLc   \n",
       "\n",
       "                                          video_name  \\\n",
       "0  Patient Management | Materials & Equipment Saf...   \n",
       "1  Endodontics | Adjunctive Treatment | INBDE, AD...   \n",
       "2                Evidence-Based Dentistry Part 2.mp4   \n",
       "3  Anatomy and Physiology Chapter 7 Part B Lectur...   \n",
       "4  Patient Management | Public Health & Epidemiol...   \n",
       "\n",
       "                                          timestamps  \n",
       "0                               [18.0, 240.0, 345.0]  \n",
       "1  [867.0, 1017.0, 1053.0, 1437.0, 1152.0, 810.0,...  \n",
       "2                 [39.0, 621.0, 561.0, 456.0, 219.0]  \n",
       "3  [801.0, 3393.0, 3813.0, 1290.0, 543.0, 4017.0,...  \n",
       "4                         [276.0, 450.0, 90.0, 30.0]  "
      ],
      "text/html": [
       "<div>\n",
       "<style scoped>\n",
       "    .dataframe tbody tr th:only-of-type {\n",
       "        vertical-align: middle;\n",
       "    }\n",
       "\n",
       "    .dataframe tbody tr th {\n",
       "        vertical-align: top;\n",
       "    }\n",
       "\n",
       "    .dataframe thead th {\n",
       "        text-align: right;\n",
       "    }\n",
       "</style>\n",
       "<table border=\"1\" class=\"dataframe\">\n",
       "  <thead>\n",
       "    <tr style=\"text-align: right;\">\n",
       "      <th></th>\n",
       "      <th>Unnamed: 0</th>\n",
       "      <th>internal_id</th>\n",
       "      <th>video_id</th>\n",
       "      <th>video_name</th>\n",
       "      <th>timestamps</th>\n",
       "    </tr>\n",
       "  </thead>\n",
       "  <tbody>\n",
       "    <tr>\n",
       "      <th>0</th>\n",
       "      <td>0</td>\n",
       "      <td>plllkw</td>\n",
       "      <td>hgk8-2Fweb8</td>\n",
       "      <td>Patient Management | Materials &amp; Equipment Saf...</td>\n",
       "      <td>[18.0, 240.0, 345.0]</td>\n",
       "    </tr>\n",
       "    <tr>\n",
       "      <th>1</th>\n",
       "      <td>1</td>\n",
       "      <td>xpetji</td>\n",
       "      <td>U6XA28g9tEE</td>\n",
       "      <td>Endodontics | Adjunctive Treatment | INBDE, AD...</td>\n",
       "      <td>[867.0, 1017.0, 1053.0, 1437.0, 1152.0, 810.0,...</td>\n",
       "    </tr>\n",
       "    <tr>\n",
       "      <th>2</th>\n",
       "      <td>2</td>\n",
       "      <td>cxqeox</td>\n",
       "      <td>j0VTYFUMW_M</td>\n",
       "      <td>Evidence-Based Dentistry Part 2.mp4</td>\n",
       "      <td>[39.0, 621.0, 561.0, 456.0, 219.0]</td>\n",
       "    </tr>\n",
       "    <tr>\n",
       "      <th>3</th>\n",
       "      <td>3</td>\n",
       "      <td>ufwmpg</td>\n",
       "      <td>3p1-xzfdJCA</td>\n",
       "      <td>Anatomy and Physiology Chapter 7 Part B Lectur...</td>\n",
       "      <td>[801.0, 3393.0, 3813.0, 1290.0, 543.0, 4017.0,...</td>\n",
       "    </tr>\n",
       "    <tr>\n",
       "      <th>4</th>\n",
       "      <td>4</td>\n",
       "      <td>xfzngr</td>\n",
       "      <td>CmION0EvzLc</td>\n",
       "      <td>Patient Management | Public Health &amp; Epidemiol...</td>\n",
       "      <td>[276.0, 450.0, 90.0, 30.0]</td>\n",
       "    </tr>\n",
       "  </tbody>\n",
       "</table>\n",
       "</div>"
      ]
     },
     "execution_count": 31,
     "metadata": {},
     "output_type": "execute_result"
    }
   ],
   "execution_count": 31
  },
  {
   "metadata": {
    "ExecuteTime": {
     "end_time": "2025-05-06T18:02:34.340916Z",
     "start_time": "2025-05-06T18:02:34.335440Z"
    }
   },
   "cell_type": "code",
   "source": [
    "internal_id_to_video_id_df = enriched_df[[\"internal_id\", \"video_id\", \"video_name\"]]\n",
    "internal_id_to_video_id_df.head()"
   ],
   "outputs": [
    {
     "data": {
      "text/plain": [
       "  internal_id     video_id                                         video_name\n",
       "0      plllkw  hgk8-2Fweb8  Patient Management | Materials & Equipment Saf...\n",
       "1      xpetji  U6XA28g9tEE  Endodontics | Adjunctive Treatment | INBDE, AD...\n",
       "2      cxqeox  j0VTYFUMW_M                Evidence-Based Dentistry Part 2.mp4\n",
       "3      ufwmpg  3p1-xzfdJCA  Anatomy and Physiology Chapter 7 Part B Lectur...\n",
       "4      xfzngr  CmION0EvzLc  Patient Management | Public Health & Epidemiol..."
      ],
      "text/html": [
       "<div>\n",
       "<style scoped>\n",
       "    .dataframe tbody tr th:only-of-type {\n",
       "        vertical-align: middle;\n",
       "    }\n",
       "\n",
       "    .dataframe tbody tr th {\n",
       "        vertical-align: top;\n",
       "    }\n",
       "\n",
       "    .dataframe thead th {\n",
       "        text-align: right;\n",
       "    }\n",
       "</style>\n",
       "<table border=\"1\" class=\"dataframe\">\n",
       "  <thead>\n",
       "    <tr style=\"text-align: right;\">\n",
       "      <th></th>\n",
       "      <th>internal_id</th>\n",
       "      <th>video_id</th>\n",
       "      <th>video_name</th>\n",
       "    </tr>\n",
       "  </thead>\n",
       "  <tbody>\n",
       "    <tr>\n",
       "      <th>0</th>\n",
       "      <td>plllkw</td>\n",
       "      <td>hgk8-2Fweb8</td>\n",
       "      <td>Patient Management | Materials &amp; Equipment Saf...</td>\n",
       "    </tr>\n",
       "    <tr>\n",
       "      <th>1</th>\n",
       "      <td>xpetji</td>\n",
       "      <td>U6XA28g9tEE</td>\n",
       "      <td>Endodontics | Adjunctive Treatment | INBDE, AD...</td>\n",
       "    </tr>\n",
       "    <tr>\n",
       "      <th>2</th>\n",
       "      <td>cxqeox</td>\n",
       "      <td>j0VTYFUMW_M</td>\n",
       "      <td>Evidence-Based Dentistry Part 2.mp4</td>\n",
       "    </tr>\n",
       "    <tr>\n",
       "      <th>3</th>\n",
       "      <td>ufwmpg</td>\n",
       "      <td>3p1-xzfdJCA</td>\n",
       "      <td>Anatomy and Physiology Chapter 7 Part B Lectur...</td>\n",
       "    </tr>\n",
       "    <tr>\n",
       "      <th>4</th>\n",
       "      <td>xfzngr</td>\n",
       "      <td>CmION0EvzLc</td>\n",
       "      <td>Patient Management | Public Health &amp; Epidemiol...</td>\n",
       "    </tr>\n",
       "  </tbody>\n",
       "</table>\n",
       "</div>"
      ]
     },
     "execution_count": 33,
     "metadata": {},
     "output_type": "execute_result"
    }
   ],
   "execution_count": 33
  },
  {
   "metadata": {
    "ExecuteTime": {
     "end_time": "2025-05-06T18:02:55.079910Z",
     "start_time": "2025-05-06T18:02:55.076095Z"
    }
   },
   "cell_type": "code",
   "source": "internal_id_to_video_id_df.to_csv(\"internal_id_to_video_id_df.csv\")",
   "outputs": [],
   "execution_count": 34
  },
  {
   "metadata": {},
   "cell_type": "code",
   "outputs": [],
   "execution_count": null,
   "source": ""
  }
 ],
 "metadata": {
  "kernelspec": {
   "display_name": "base",
   "language": "python",
   "name": "python3"
  },
  "language_info": {
   "codemirror_mode": {
    "name": "ipython",
    "version": 3
   },
   "file_extension": ".py",
   "mimetype": "text/x-python",
   "name": "python",
   "nbconvert_exporter": "python",
   "pygments_lexer": "ipython3",
   "version": "3.12.2"
  }
 },
 "nbformat": 4,
 "nbformat_minor": 2
}
