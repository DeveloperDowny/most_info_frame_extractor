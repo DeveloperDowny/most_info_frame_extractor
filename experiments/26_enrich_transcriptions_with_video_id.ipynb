{
 "cells": [
  {
   "metadata": {
    "ExecuteTime": {
     "end_time": "2025-05-04T10:41:57.928904Z",
     "start_time": "2025-05-04T10:41:57.670936Z"
    }
   },
   "cell_type": "code",
   "source": "import pandas as pd",
   "outputs": [],
   "execution_count": 1
  },
  {
   "metadata": {
    "ExecuteTime": {
     "end_time": "2025-05-04T10:41:58.069441Z",
     "start_time": "2025-05-04T10:41:58.065921Z"
    }
   },
   "cell_type": "code",
   "source": "from pathlib import Path",
   "outputs": [],
   "execution_count": 2
  },
  {
   "metadata": {
    "ExecuteTime": {
     "end_time": "2025-05-04T10:41:58.121513Z",
     "start_time": "2025-05-04T10:41:58.119131Z"
    }
   },
   "cell_type": "code",
   "source": [
    "pth = r\"/home/vedant/Downloads/python_objects_to_send/timestamps_v3.csv\"\n",
    "pth = Path(pth)"
   ],
   "outputs": [],
   "execution_count": 3
  },
  {
   "metadata": {
    "ExecuteTime": {
     "end_time": "2025-05-04T10:41:58.180136Z",
     "start_time": "2025-05-04T10:41:58.168717Z"
    }
   },
   "cell_type": "code",
   "source": [
    "\n",
    "df = pd.read_csv(pth)\n",
    "df.head()"
   ],
   "outputs": [
    {
     "data": {
      "text/plain": [
       "   Unnamed: 0 internal_id                                         timestamps\n",
       "0           0      plllkw                               [18.0, 240.0, 345.0]\n",
       "1           0      xpetji  [867.0, 1017.0, 1053.0, 1437.0, 1152.0, 810.0,...\n",
       "2           0      cxqeox                 [39.0, 621.0, 561.0, 456.0, 219.0]\n",
       "3           0      ufwmpg  [801.0, 3393.0, 3813.0, 1290.0, 543.0, 4017.0,...\n",
       "4           0      xfzngr                         [276.0, 450.0, 90.0, 30.0]"
      ],
      "text/html": [
       "<div>\n",
       "<style scoped>\n",
       "    .dataframe tbody tr th:only-of-type {\n",
       "        vertical-align: middle;\n",
       "    }\n",
       "\n",
       "    .dataframe tbody tr th {\n",
       "        vertical-align: top;\n",
       "    }\n",
       "\n",
       "    .dataframe thead th {\n",
       "        text-align: right;\n",
       "    }\n",
       "</style>\n",
       "<table border=\"1\" class=\"dataframe\">\n",
       "  <thead>\n",
       "    <tr style=\"text-align: right;\">\n",
       "      <th></th>\n",
       "      <th>Unnamed: 0</th>\n",
       "      <th>internal_id</th>\n",
       "      <th>timestamps</th>\n",
       "    </tr>\n",
       "  </thead>\n",
       "  <tbody>\n",
       "    <tr>\n",
       "      <th>0</th>\n",
       "      <td>0</td>\n",
       "      <td>plllkw</td>\n",
       "      <td>[18.0, 240.0, 345.0]</td>\n",
       "    </tr>\n",
       "    <tr>\n",
       "      <th>1</th>\n",
       "      <td>0</td>\n",
       "      <td>xpetji</td>\n",
       "      <td>[867.0, 1017.0, 1053.0, 1437.0, 1152.0, 810.0,...</td>\n",
       "    </tr>\n",
       "    <tr>\n",
       "      <th>2</th>\n",
       "      <td>0</td>\n",
       "      <td>cxqeox</td>\n",
       "      <td>[39.0, 621.0, 561.0, 456.0, 219.0]</td>\n",
       "    </tr>\n",
       "    <tr>\n",
       "      <th>3</th>\n",
       "      <td>0</td>\n",
       "      <td>ufwmpg</td>\n",
       "      <td>[801.0, 3393.0, 3813.0, 1290.0, 543.0, 4017.0,...</td>\n",
       "    </tr>\n",
       "    <tr>\n",
       "      <th>4</th>\n",
       "      <td>0</td>\n",
       "      <td>xfzngr</td>\n",
       "      <td>[276.0, 450.0, 90.0, 30.0]</td>\n",
       "    </tr>\n",
       "  </tbody>\n",
       "</table>\n",
       "</div>"
      ]
     },
     "execution_count": 4,
     "metadata": {},
     "output_type": "execute_result"
    }
   ],
   "execution_count": 4
  },
  {
   "metadata": {
    "ExecuteTime": {
     "end_time": "2025-05-04T10:41:58.241463Z",
     "start_time": "2025-05-04T10:41:58.239830Z"
    }
   },
   "cell_type": "code",
   "source": "results_file = Path(r\"/home/vedant/Desktop/glimpsify/most_info_frame_extractor/video2pdf/data_archive_1/results.txt\")",
   "outputs": [],
   "execution_count": 5
  },
  {
   "metadata": {
    "ExecuteTime": {
     "end_time": "2025-05-04T10:41:58.319378Z",
     "start_time": "2025-05-04T10:41:58.315563Z"
    }
   },
   "cell_type": "code",
   "source": [
    "with open(results_file, \"r\") as f:\n",
    "    results = f.readlines()\n",
    "results = [i.strip() for i in results if i.strip()]\n",
    "results[:5]"
   ],
   "outputs": [
    {
     "data": {
      "text/plain": [
       "['data/afsikc_dye -> data/afsikc/Oral Surgery | Orofacial Pain | INBDE, ADAT.mp4',\n",
       " 'data/afsikc_qsa -> data/afsikc/Oral Surgery | Orofacial Pain | INBDE, ADAT.mp4',\n",
       " 'data/afsikc_uba -> data/afsikc/Oral Surgery | Orofacial Pain | INBDE, ADAT.mp4',\n",
       " 'data/afsikc_xxh -> data/afsikc/Oral Surgery | Orofacial Pain | INBDE, ADAT.mp4',\n",
       " 'data/aryrsb -> data/aryrsb/Evidence-Based Dentistry Part 2.mp4']"
      ]
     },
     "execution_count": 6,
     "metadata": {},
     "output_type": "execute_result"
    }
   ],
   "execution_count": 6
  },
  {
   "metadata": {
    "ExecuteTime": {
     "end_time": "2025-05-04T10:41:58.378723Z",
     "start_time": "2025-05-04T10:41:58.376094Z"
    }
   },
   "cell_type": "code",
   "source": "df2 = pd.DataFrame()",
   "outputs": [],
   "execution_count": 7
  },
  {
   "metadata": {
    "ExecuteTime": {
     "end_time": "2025-05-04T10:41:58.469619Z",
     "start_time": "2025-05-04T10:41:58.425234Z"
    }
   },
   "cell_type": "code",
   "source": [
    "for result in results:\n",
    "    internal_id, video_name = result.split(\"->\")\n",
    "    internal_id = internal_id.strip()\n",
    "    video_name = video_name.strip()\n",
    "\n",
    "    internal_id = Path(internal_id).name\n",
    "    internal_id = internal_id.split(\"_\")[0]\n",
    "\n",
    "    video_name = Path(video_name).name\n",
    "\n",
    "    new_row = {\n",
    "        \"internal_id\": internal_id,\n",
    "        \"video_name\": video_name,\n",
    "    }\n",
    "    df2 = pd.concat([df2, pd.DataFrame([new_row])])"
   ],
   "outputs": [],
   "execution_count": 8
  },
  {
   "metadata": {
    "ExecuteTime": {
     "end_time": "2025-05-04T10:41:58.524763Z",
     "start_time": "2025-05-04T10:41:58.519903Z"
    }
   },
   "cell_type": "code",
   "source": "df2.head()",
   "outputs": [
    {
     "data": {
      "text/plain": [
       "  internal_id                                       video_name\n",
       "0      afsikc  Oral Surgery | Orofacial Pain | INBDE, ADAT.mp4\n",
       "0      afsikc  Oral Surgery | Orofacial Pain | INBDE, ADAT.mp4\n",
       "0      afsikc  Oral Surgery | Orofacial Pain | INBDE, ADAT.mp4\n",
       "0      afsikc  Oral Surgery | Orofacial Pain | INBDE, ADAT.mp4\n",
       "0      aryrsb              Evidence-Based Dentistry Part 2.mp4"
      ],
      "text/html": [
       "<div>\n",
       "<style scoped>\n",
       "    .dataframe tbody tr th:only-of-type {\n",
       "        vertical-align: middle;\n",
       "    }\n",
       "\n",
       "    .dataframe tbody tr th {\n",
       "        vertical-align: top;\n",
       "    }\n",
       "\n",
       "    .dataframe thead th {\n",
       "        text-align: right;\n",
       "    }\n",
       "</style>\n",
       "<table border=\"1\" class=\"dataframe\">\n",
       "  <thead>\n",
       "    <tr style=\"text-align: right;\">\n",
       "      <th></th>\n",
       "      <th>internal_id</th>\n",
       "      <th>video_name</th>\n",
       "    </tr>\n",
       "  </thead>\n",
       "  <tbody>\n",
       "    <tr>\n",
       "      <th>0</th>\n",
       "      <td>afsikc</td>\n",
       "      <td>Oral Surgery | Orofacial Pain | INBDE, ADAT.mp4</td>\n",
       "    </tr>\n",
       "    <tr>\n",
       "      <th>0</th>\n",
       "      <td>afsikc</td>\n",
       "      <td>Oral Surgery | Orofacial Pain | INBDE, ADAT.mp4</td>\n",
       "    </tr>\n",
       "    <tr>\n",
       "      <th>0</th>\n",
       "      <td>afsikc</td>\n",
       "      <td>Oral Surgery | Orofacial Pain | INBDE, ADAT.mp4</td>\n",
       "    </tr>\n",
       "    <tr>\n",
       "      <th>0</th>\n",
       "      <td>afsikc</td>\n",
       "      <td>Oral Surgery | Orofacial Pain | INBDE, ADAT.mp4</td>\n",
       "    </tr>\n",
       "    <tr>\n",
       "      <th>0</th>\n",
       "      <td>aryrsb</td>\n",
       "      <td>Evidence-Based Dentistry Part 2.mp4</td>\n",
       "    </tr>\n",
       "  </tbody>\n",
       "</table>\n",
       "</div>"
      ]
     },
     "execution_count": 9,
     "metadata": {},
     "output_type": "execute_result"
    }
   ],
   "execution_count": 9
  },
  {
   "metadata": {
    "ExecuteTime": {
     "end_time": "2025-05-04T10:41:58.597524Z",
     "start_time": "2025-05-04T10:41:58.592668Z"
    }
   },
   "cell_type": "code",
   "source": "df2.info()",
   "outputs": [
    {
     "name": "stdout",
     "output_type": "stream",
     "text": [
      "<class 'pandas.core.frame.DataFrame'>\n",
      "Index: 168 entries, 0 to 0\n",
      "Data columns (total 2 columns):\n",
      " #   Column       Non-Null Count  Dtype \n",
      "---  ------       --------------  ----- \n",
      " 0   internal_id  168 non-null    object\n",
      " 1   video_name   168 non-null    object\n",
      "dtypes: object(2)\n",
      "memory usage: 3.9+ KB\n"
     ]
    }
   ],
   "execution_count": 10
  },
  {
   "metadata": {
    "ExecuteTime": {
     "end_time": "2025-05-04T10:41:58.664567Z",
     "start_time": "2025-05-04T10:41:58.658939Z"
    }
   },
   "cell_type": "code",
   "source": [
    "df2 = df2.drop_duplicates()\n",
    "df2.info()"
   ],
   "outputs": [
    {
     "name": "stdout",
     "output_type": "stream",
     "text": [
      "<class 'pandas.core.frame.DataFrame'>\n",
      "Index: 156 entries, 0 to 0\n",
      "Data columns (total 2 columns):\n",
      " #   Column       Non-Null Count  Dtype \n",
      "---  ------       --------------  ----- \n",
      " 0   internal_id  156 non-null    object\n",
      " 1   video_name   156 non-null    object\n",
      "dtypes: object(2)\n",
      "memory usage: 3.7+ KB\n"
     ]
    }
   ],
   "execution_count": 11
  },
  {
   "metadata": {
    "ExecuteTime": {
     "end_time": "2025-05-04T10:41:58.735342Z",
     "start_time": "2025-05-04T10:41:58.730787Z"
    }
   },
   "cell_type": "code",
   "source": "df.head()",
   "outputs": [
    {
     "data": {
      "text/plain": [
       "   Unnamed: 0 internal_id                                         timestamps\n",
       "0           0      plllkw                               [18.0, 240.0, 345.0]\n",
       "1           0      xpetji  [867.0, 1017.0, 1053.0, 1437.0, 1152.0, 810.0,...\n",
       "2           0      cxqeox                 [39.0, 621.0, 561.0, 456.0, 219.0]\n",
       "3           0      ufwmpg  [801.0, 3393.0, 3813.0, 1290.0, 543.0, 4017.0,...\n",
       "4           0      xfzngr                         [276.0, 450.0, 90.0, 30.0]"
      ],
      "text/html": [
       "<div>\n",
       "<style scoped>\n",
       "    .dataframe tbody tr th:only-of-type {\n",
       "        vertical-align: middle;\n",
       "    }\n",
       "\n",
       "    .dataframe tbody tr th {\n",
       "        vertical-align: top;\n",
       "    }\n",
       "\n",
       "    .dataframe thead th {\n",
       "        text-align: right;\n",
       "    }\n",
       "</style>\n",
       "<table border=\"1\" class=\"dataframe\">\n",
       "  <thead>\n",
       "    <tr style=\"text-align: right;\">\n",
       "      <th></th>\n",
       "      <th>Unnamed: 0</th>\n",
       "      <th>internal_id</th>\n",
       "      <th>timestamps</th>\n",
       "    </tr>\n",
       "  </thead>\n",
       "  <tbody>\n",
       "    <tr>\n",
       "      <th>0</th>\n",
       "      <td>0</td>\n",
       "      <td>plllkw</td>\n",
       "      <td>[18.0, 240.0, 345.0]</td>\n",
       "    </tr>\n",
       "    <tr>\n",
       "      <th>1</th>\n",
       "      <td>0</td>\n",
       "      <td>xpetji</td>\n",
       "      <td>[867.0, 1017.0, 1053.0, 1437.0, 1152.0, 810.0,...</td>\n",
       "    </tr>\n",
       "    <tr>\n",
       "      <th>2</th>\n",
       "      <td>0</td>\n",
       "      <td>cxqeox</td>\n",
       "      <td>[39.0, 621.0, 561.0, 456.0, 219.0]</td>\n",
       "    </tr>\n",
       "    <tr>\n",
       "      <th>3</th>\n",
       "      <td>0</td>\n",
       "      <td>ufwmpg</td>\n",
       "      <td>[801.0, 3393.0, 3813.0, 1290.0, 543.0, 4017.0,...</td>\n",
       "    </tr>\n",
       "    <tr>\n",
       "      <th>4</th>\n",
       "      <td>0</td>\n",
       "      <td>xfzngr</td>\n",
       "      <td>[276.0, 450.0, 90.0, 30.0]</td>\n",
       "    </tr>\n",
       "  </tbody>\n",
       "</table>\n",
       "</div>"
      ]
     },
     "execution_count": 12,
     "metadata": {},
     "output_type": "execute_result"
    }
   ],
   "execution_count": 12
  },
  {
   "metadata": {
    "ExecuteTime": {
     "end_time": "2025-05-04T10:41:58.803248Z",
     "start_time": "2025-05-04T10:41:58.799670Z"
    }
   },
   "cell_type": "code",
   "source": "df2.head()",
   "outputs": [
    {
     "data": {
      "text/plain": [
       "  internal_id                                       video_name\n",
       "0      afsikc  Oral Surgery | Orofacial Pain | INBDE, ADAT.mp4\n",
       "0      aryrsb              Evidence-Based Dentistry Part 2.mp4\n",
       "0      pldnrz              Evidence-Based Dentistry Part 2.mp4\n",
       "0      vqesbr              Evidence-Based Dentistry Part 2.mp4\n",
       "0      srmqde              Evidence-Based Dentistry Part 2.mp4"
      ],
      "text/html": [
       "<div>\n",
       "<style scoped>\n",
       "    .dataframe tbody tr th:only-of-type {\n",
       "        vertical-align: middle;\n",
       "    }\n",
       "\n",
       "    .dataframe tbody tr th {\n",
       "        vertical-align: top;\n",
       "    }\n",
       "\n",
       "    .dataframe thead th {\n",
       "        text-align: right;\n",
       "    }\n",
       "</style>\n",
       "<table border=\"1\" class=\"dataframe\">\n",
       "  <thead>\n",
       "    <tr style=\"text-align: right;\">\n",
       "      <th></th>\n",
       "      <th>internal_id</th>\n",
       "      <th>video_name</th>\n",
       "    </tr>\n",
       "  </thead>\n",
       "  <tbody>\n",
       "    <tr>\n",
       "      <th>0</th>\n",
       "      <td>afsikc</td>\n",
       "      <td>Oral Surgery | Orofacial Pain | INBDE, ADAT.mp4</td>\n",
       "    </tr>\n",
       "    <tr>\n",
       "      <th>0</th>\n",
       "      <td>aryrsb</td>\n",
       "      <td>Evidence-Based Dentistry Part 2.mp4</td>\n",
       "    </tr>\n",
       "    <tr>\n",
       "      <th>0</th>\n",
       "      <td>pldnrz</td>\n",
       "      <td>Evidence-Based Dentistry Part 2.mp4</td>\n",
       "    </tr>\n",
       "    <tr>\n",
       "      <th>0</th>\n",
       "      <td>vqesbr</td>\n",
       "      <td>Evidence-Based Dentistry Part 2.mp4</td>\n",
       "    </tr>\n",
       "    <tr>\n",
       "      <th>0</th>\n",
       "      <td>srmqde</td>\n",
       "      <td>Evidence-Based Dentistry Part 2.mp4</td>\n",
       "    </tr>\n",
       "  </tbody>\n",
       "</table>\n",
       "</div>"
      ]
     },
     "execution_count": 13,
     "metadata": {},
     "output_type": "execute_result"
    }
   ],
   "execution_count": 13
  },
  {
   "metadata": {
    "ExecuteTime": {
     "end_time": "2025-05-04T10:41:58.885108Z",
     "start_time": "2025-05-04T10:41:58.883392Z"
    }
   },
   "cell_type": "code",
   "source": "# df2.set_index(\"internal_id\", inplace=True)",
   "outputs": [],
   "execution_count": 14
  },
  {
   "metadata": {
    "ExecuteTime": {
     "end_time": "2025-05-04T10:41:58.934044Z",
     "start_time": "2025-05-04T10:41:58.929699Z"
    }
   },
   "cell_type": "code",
   "source": "df2.head()",
   "outputs": [
    {
     "data": {
      "text/plain": [
       "  internal_id                                       video_name\n",
       "0      afsikc  Oral Surgery | Orofacial Pain | INBDE, ADAT.mp4\n",
       "0      aryrsb              Evidence-Based Dentistry Part 2.mp4\n",
       "0      pldnrz              Evidence-Based Dentistry Part 2.mp4\n",
       "0      vqesbr              Evidence-Based Dentistry Part 2.mp4\n",
       "0      srmqde              Evidence-Based Dentistry Part 2.mp4"
      ],
      "text/html": [
       "<div>\n",
       "<style scoped>\n",
       "    .dataframe tbody tr th:only-of-type {\n",
       "        vertical-align: middle;\n",
       "    }\n",
       "\n",
       "    .dataframe tbody tr th {\n",
       "        vertical-align: top;\n",
       "    }\n",
       "\n",
       "    .dataframe thead th {\n",
       "        text-align: right;\n",
       "    }\n",
       "</style>\n",
       "<table border=\"1\" class=\"dataframe\">\n",
       "  <thead>\n",
       "    <tr style=\"text-align: right;\">\n",
       "      <th></th>\n",
       "      <th>internal_id</th>\n",
       "      <th>video_name</th>\n",
       "    </tr>\n",
       "  </thead>\n",
       "  <tbody>\n",
       "    <tr>\n",
       "      <th>0</th>\n",
       "      <td>afsikc</td>\n",
       "      <td>Oral Surgery | Orofacial Pain | INBDE, ADAT.mp4</td>\n",
       "    </tr>\n",
       "    <tr>\n",
       "      <th>0</th>\n",
       "      <td>aryrsb</td>\n",
       "      <td>Evidence-Based Dentistry Part 2.mp4</td>\n",
       "    </tr>\n",
       "    <tr>\n",
       "      <th>0</th>\n",
       "      <td>pldnrz</td>\n",
       "      <td>Evidence-Based Dentistry Part 2.mp4</td>\n",
       "    </tr>\n",
       "    <tr>\n",
       "      <th>0</th>\n",
       "      <td>vqesbr</td>\n",
       "      <td>Evidence-Based Dentistry Part 2.mp4</td>\n",
       "    </tr>\n",
       "    <tr>\n",
       "      <th>0</th>\n",
       "      <td>srmqde</td>\n",
       "      <td>Evidence-Based Dentistry Part 2.mp4</td>\n",
       "    </tr>\n",
       "  </tbody>\n",
       "</table>\n",
       "</div>"
      ]
     },
     "execution_count": 15,
     "metadata": {},
     "output_type": "execute_result"
    }
   ],
   "execution_count": 15
  },
  {
   "metadata": {
    "ExecuteTime": {
     "end_time": "2025-05-04T10:41:59.010599Z",
     "start_time": "2025-05-04T10:41:59.003326Z"
    }
   },
   "cell_type": "code",
   "source": [
    "enriched_df = df.merge(df2, on=\"internal_id\", how=\"left\")\n",
    "enriched_df.head()"
   ],
   "outputs": [
    {
     "data": {
      "text/plain": [
       "   Unnamed: 0 internal_id                                         timestamps  \\\n",
       "0           0      plllkw                               [18.0, 240.0, 345.0]   \n",
       "1           0      xpetji  [867.0, 1017.0, 1053.0, 1437.0, 1152.0, 810.0,...   \n",
       "2           0      cxqeox                 [39.0, 621.0, 561.0, 456.0, 219.0]   \n",
       "3           0      ufwmpg  [801.0, 3393.0, 3813.0, 1290.0, 543.0, 4017.0,...   \n",
       "4           0      xfzngr                         [276.0, 450.0, 90.0, 30.0]   \n",
       "\n",
       "                                          video_name  \n",
       "0  Patient Management | Materials & Equipment Saf...  \n",
       "1  Endodontics | Adjunctive Treatment | INBDE, AD...  \n",
       "2                Evidence-Based Dentistry Part 2.mp4  \n",
       "3  Anatomy and Physiology Chapter 7 Part B Lectur...  \n",
       "4  Patient Management | Public Health & Epidemiol...  "
      ],
      "text/html": [
       "<div>\n",
       "<style scoped>\n",
       "    .dataframe tbody tr th:only-of-type {\n",
       "        vertical-align: middle;\n",
       "    }\n",
       "\n",
       "    .dataframe tbody tr th {\n",
       "        vertical-align: top;\n",
       "    }\n",
       "\n",
       "    .dataframe thead th {\n",
       "        text-align: right;\n",
       "    }\n",
       "</style>\n",
       "<table border=\"1\" class=\"dataframe\">\n",
       "  <thead>\n",
       "    <tr style=\"text-align: right;\">\n",
       "      <th></th>\n",
       "      <th>Unnamed: 0</th>\n",
       "      <th>internal_id</th>\n",
       "      <th>timestamps</th>\n",
       "      <th>video_name</th>\n",
       "    </tr>\n",
       "  </thead>\n",
       "  <tbody>\n",
       "    <tr>\n",
       "      <th>0</th>\n",
       "      <td>0</td>\n",
       "      <td>plllkw</td>\n",
       "      <td>[18.0, 240.0, 345.0]</td>\n",
       "      <td>Patient Management | Materials &amp; Equipment Saf...</td>\n",
       "    </tr>\n",
       "    <tr>\n",
       "      <th>1</th>\n",
       "      <td>0</td>\n",
       "      <td>xpetji</td>\n",
       "      <td>[867.0, 1017.0, 1053.0, 1437.0, 1152.0, 810.0,...</td>\n",
       "      <td>Endodontics | Adjunctive Treatment | INBDE, AD...</td>\n",
       "    </tr>\n",
       "    <tr>\n",
       "      <th>2</th>\n",
       "      <td>0</td>\n",
       "      <td>cxqeox</td>\n",
       "      <td>[39.0, 621.0, 561.0, 456.0, 219.0]</td>\n",
       "      <td>Evidence-Based Dentistry Part 2.mp4</td>\n",
       "    </tr>\n",
       "    <tr>\n",
       "      <th>3</th>\n",
       "      <td>0</td>\n",
       "      <td>ufwmpg</td>\n",
       "      <td>[801.0, 3393.0, 3813.0, 1290.0, 543.0, 4017.0,...</td>\n",
       "      <td>Anatomy and Physiology Chapter 7 Part B Lectur...</td>\n",
       "    </tr>\n",
       "    <tr>\n",
       "      <th>4</th>\n",
       "      <td>0</td>\n",
       "      <td>xfzngr</td>\n",
       "      <td>[276.0, 450.0, 90.0, 30.0]</td>\n",
       "      <td>Patient Management | Public Health &amp; Epidemiol...</td>\n",
       "    </tr>\n",
       "  </tbody>\n",
       "</table>\n",
       "</div>"
      ]
     },
     "execution_count": 16,
     "metadata": {},
     "output_type": "execute_result"
    }
   ],
   "execution_count": 16
  },
  {
   "metadata": {
    "ExecuteTime": {
     "end_time": "2025-05-04T10:41:59.115470Z",
     "start_time": "2025-05-04T10:41:59.109524Z"
    }
   },
   "cell_type": "code",
   "source": "enriched_df.info()",
   "outputs": [
    {
     "name": "stdout",
     "output_type": "stream",
     "text": [
      "<class 'pandas.core.frame.DataFrame'>\n",
      "RangeIndex: 134 entries, 0 to 133\n",
      "Data columns (total 4 columns):\n",
      " #   Column       Non-Null Count  Dtype \n",
      "---  ------       --------------  ----- \n",
      " 0   Unnamed: 0   134 non-null    int64 \n",
      " 1   internal_id  134 non-null    object\n",
      " 2   timestamps   134 non-null    object\n",
      " 3   video_name   134 non-null    object\n",
      "dtypes: int64(1), object(3)\n",
      "memory usage: 4.3+ KB\n"
     ]
    }
   ],
   "execution_count": 17
  },
  {
   "metadata": {
    "ExecuteTime": {
     "end_time": "2025-05-04T10:41:59.219379Z",
     "start_time": "2025-05-04T10:41:59.216812Z"
    }
   },
   "cell_type": "code",
   "source": "enriched_df = enriched_df.drop(\"Unnamed: 0\", axis=1)",
   "outputs": [],
   "execution_count": 18
  },
  {
   "metadata": {
    "ExecuteTime": {
     "end_time": "2025-05-04T10:41:59.285511Z",
     "start_time": "2025-05-04T10:41:59.279250Z"
    }
   },
   "cell_type": "code",
   "source": "enriched_df",
   "outputs": [
    {
     "data": {
      "text/plain": [
       "    internal_id                                         timestamps  \\\n",
       "0        plllkw                               [18.0, 240.0, 345.0]   \n",
       "1        xpetji  [867.0, 1017.0, 1053.0, 1437.0, 1152.0, 810.0,...   \n",
       "2        cxqeox                 [39.0, 621.0, 561.0, 456.0, 219.0]   \n",
       "3        ufwmpg  [801.0, 3393.0, 3813.0, 1290.0, 543.0, 4017.0,...   \n",
       "4        xfzngr                         [276.0, 450.0, 90.0, 30.0]   \n",
       "..          ...                                                ...   \n",
       "129      fcxvmr  [1656.0, 786.0, 1026.0, 1392.0, 591.0, 84.0, 1...   \n",
       "130      eupjay  [1245.0, 1029.0, 1560.0, 684.0, 1386.0, 1746.0...   \n",
       "131      hrpnxe  [942.0, 132.0, 867.0, 1539.0, 1584.0, 216.0, 7...   \n",
       "132      dlfoyw  [2415.0, 840.0, 1197.0, 588.0, 174.0, 1836.0, ...   \n",
       "133      yirczy                        [582.0, 69.0, 531.0, 372.0]   \n",
       "\n",
       "                                            video_name  \n",
       "0    Patient Management | Materials & Equipment Saf...  \n",
       "1    Endodontics | Adjunctive Treatment | INBDE, AD...  \n",
       "2                  Evidence-Based Dentistry Part 2.mp4  \n",
       "3    Anatomy and Physiology Chapter 7 Part B Lectur...  \n",
       "4    Patient Management | Public Health & Epidemiol...  \n",
       "..                                                 ...  \n",
       "129  Pediatric Dentistry | Tooth Development and Er...  \n",
       "130    Human Anatomy Lecture  Ch 19 The Heart Pt 2.mp4  \n",
       "131  Human Biology Lecture: Ch 6- Reproduction at t...  \n",
       "132  Orthodontics | Diagnosis & Treatment Planning ...  \n",
       "133  Head & Neck Anatomy | Muscles of Mastication |...  \n",
       "\n",
       "[134 rows x 3 columns]"
      ],
      "text/html": [
       "<div>\n",
       "<style scoped>\n",
       "    .dataframe tbody tr th:only-of-type {\n",
       "        vertical-align: middle;\n",
       "    }\n",
       "\n",
       "    .dataframe tbody tr th {\n",
       "        vertical-align: top;\n",
       "    }\n",
       "\n",
       "    .dataframe thead th {\n",
       "        text-align: right;\n",
       "    }\n",
       "</style>\n",
       "<table border=\"1\" class=\"dataframe\">\n",
       "  <thead>\n",
       "    <tr style=\"text-align: right;\">\n",
       "      <th></th>\n",
       "      <th>internal_id</th>\n",
       "      <th>timestamps</th>\n",
       "      <th>video_name</th>\n",
       "    </tr>\n",
       "  </thead>\n",
       "  <tbody>\n",
       "    <tr>\n",
       "      <th>0</th>\n",
       "      <td>plllkw</td>\n",
       "      <td>[18.0, 240.0, 345.0]</td>\n",
       "      <td>Patient Management | Materials &amp; Equipment Saf...</td>\n",
       "    </tr>\n",
       "    <tr>\n",
       "      <th>1</th>\n",
       "      <td>xpetji</td>\n",
       "      <td>[867.0, 1017.0, 1053.0, 1437.0, 1152.0, 810.0,...</td>\n",
       "      <td>Endodontics | Adjunctive Treatment | INBDE, AD...</td>\n",
       "    </tr>\n",
       "    <tr>\n",
       "      <th>2</th>\n",
       "      <td>cxqeox</td>\n",
       "      <td>[39.0, 621.0, 561.0, 456.0, 219.0]</td>\n",
       "      <td>Evidence-Based Dentistry Part 2.mp4</td>\n",
       "    </tr>\n",
       "    <tr>\n",
       "      <th>3</th>\n",
       "      <td>ufwmpg</td>\n",
       "      <td>[801.0, 3393.0, 3813.0, 1290.0, 543.0, 4017.0,...</td>\n",
       "      <td>Anatomy and Physiology Chapter 7 Part B Lectur...</td>\n",
       "    </tr>\n",
       "    <tr>\n",
       "      <th>4</th>\n",
       "      <td>xfzngr</td>\n",
       "      <td>[276.0, 450.0, 90.0, 30.0]</td>\n",
       "      <td>Patient Management | Public Health &amp; Epidemiol...</td>\n",
       "    </tr>\n",
       "    <tr>\n",
       "      <th>...</th>\n",
       "      <td>...</td>\n",
       "      <td>...</td>\n",
       "      <td>...</td>\n",
       "    </tr>\n",
       "    <tr>\n",
       "      <th>129</th>\n",
       "      <td>fcxvmr</td>\n",
       "      <td>[1656.0, 786.0, 1026.0, 1392.0, 591.0, 84.0, 1...</td>\n",
       "      <td>Pediatric Dentistry | Tooth Development and Er...</td>\n",
       "    </tr>\n",
       "    <tr>\n",
       "      <th>130</th>\n",
       "      <td>eupjay</td>\n",
       "      <td>[1245.0, 1029.0, 1560.0, 684.0, 1386.0, 1746.0...</td>\n",
       "      <td>Human Anatomy Lecture  Ch 19 The Heart Pt 2.mp4</td>\n",
       "    </tr>\n",
       "    <tr>\n",
       "      <th>131</th>\n",
       "      <td>hrpnxe</td>\n",
       "      <td>[942.0, 132.0, 867.0, 1539.0, 1584.0, 216.0, 7...</td>\n",
       "      <td>Human Biology Lecture: Ch 6- Reproduction at t...</td>\n",
       "    </tr>\n",
       "    <tr>\n",
       "      <th>132</th>\n",
       "      <td>dlfoyw</td>\n",
       "      <td>[2415.0, 840.0, 1197.0, 588.0, 174.0, 1836.0, ...</td>\n",
       "      <td>Orthodontics | Diagnosis &amp; Treatment Planning ...</td>\n",
       "    </tr>\n",
       "    <tr>\n",
       "      <th>133</th>\n",
       "      <td>yirczy</td>\n",
       "      <td>[582.0, 69.0, 531.0, 372.0]</td>\n",
       "      <td>Head &amp; Neck Anatomy | Muscles of Mastication |...</td>\n",
       "    </tr>\n",
       "  </tbody>\n",
       "</table>\n",
       "<p>134 rows × 3 columns</p>\n",
       "</div>"
      ]
     },
     "execution_count": 19,
     "metadata": {},
     "output_type": "execute_result"
    }
   ],
   "execution_count": 19
  },
  {
   "metadata": {
    "ExecuteTime": {
     "end_time": "2025-05-04T10:41:59.367879Z",
     "start_time": "2025-05-04T10:41:59.355633Z"
    }
   },
   "cell_type": "code",
   "source": "from pytubefix import YouTube, Search",
   "outputs": [],
   "execution_count": 20
  },
  {
   "metadata": {
    "ExecuteTime": {
     "end_time": "2025-05-04T10:41:59.433455Z",
     "start_time": "2025-05-04T10:41:59.431666Z"
    }
   },
   "cell_type": "code",
   "source": "",
   "outputs": [],
   "execution_count": null
  },
  {
   "metadata": {
    "ExecuteTime": {
     "end_time": "2025-05-04T10:41:59.480228Z",
     "start_time": "2025-05-04T10:41:59.478423Z"
    }
   },
   "cell_type": "code",
   "source": [
    "def get_video_id_from_video_name(video_name):\n",
    "    video = Search(video_name).videos[0]\n",
    "    return video.video_id"
   ],
   "outputs": [],
   "execution_count": 21
  },
  {
   "metadata": {
    "ExecuteTime": {
     "end_time": "2025-05-04T10:44:37.399112Z",
     "start_time": "2025-05-04T10:44:36.524913Z"
    }
   },
   "cell_type": "code",
   "source": [
    "video_id = get_video_id_from_video_name(\"Patient Management | Materials & Equipment Safety | INBDE, ADAT.mp4\")\n",
    "YouTube.from_id(video_id).watch_url\n"
   ],
   "outputs": [
    {
     "data": {
      "text/plain": [
       "'https://youtube.com/watch?v=xnI1hm5g1K4'"
      ]
     },
     "execution_count": 25,
     "metadata": {},
     "output_type": "execute_result"
    }
   ],
   "execution_count": 25
  },
  {
   "metadata": {
    "ExecuteTime": {
     "end_time": "2025-05-04T10:42:03.379241Z",
     "start_time": "2025-05-04T10:41:59.530076Z"
    }
   },
   "cell_type": "code",
   "source": "enriched_df[\"video_id\"] = enriched_df[\"video_name\"].apply(get_video_id_from_video_name)",
   "outputs": [
    {
     "ename": "KeyboardInterrupt",
     "evalue": "",
     "output_type": "error",
     "traceback": [
      "\u001B[0;31m---------------------------------------------------------------------------\u001B[0m",
      "\u001B[0;31mKeyboardInterrupt\u001B[0m                         Traceback (most recent call last)",
      "Cell \u001B[0;32mIn[22], line 1\u001B[0m\n\u001B[0;32m----> 1\u001B[0m enriched_df[\u001B[38;5;124m\"\u001B[39m\u001B[38;5;124mvideo_id\u001B[39m\u001B[38;5;124m\"\u001B[39m] \u001B[38;5;241m=\u001B[39m \u001B[43menriched_df\u001B[49m\u001B[43m[\u001B[49m\u001B[38;5;124;43m\"\u001B[39;49m\u001B[38;5;124;43mvideo_name\u001B[39;49m\u001B[38;5;124;43m\"\u001B[39;49m\u001B[43m]\u001B[49m\u001B[38;5;241;43m.\u001B[39;49m\u001B[43mapply\u001B[49m\u001B[43m(\u001B[49m\u001B[43mget_video_id_from_video_name\u001B[49m\u001B[43m)\u001B[49m\n",
      "File \u001B[0;32m~/miniconda3/lib/python3.12/site-packages/pandas/core/series.py:4924\u001B[0m, in \u001B[0;36mSeries.apply\u001B[0;34m(self, func, convert_dtype, args, by_row, **kwargs)\u001B[0m\n\u001B[1;32m   4789\u001B[0m \u001B[38;5;28;01mdef\u001B[39;00m \u001B[38;5;21mapply\u001B[39m(\n\u001B[1;32m   4790\u001B[0m     \u001B[38;5;28mself\u001B[39m,\n\u001B[1;32m   4791\u001B[0m     func: AggFuncType,\n\u001B[0;32m   (...)\u001B[0m\n\u001B[1;32m   4796\u001B[0m     \u001B[38;5;241m*\u001B[39m\u001B[38;5;241m*\u001B[39mkwargs,\n\u001B[1;32m   4797\u001B[0m ) \u001B[38;5;241m-\u001B[39m\u001B[38;5;241m>\u001B[39m DataFrame \u001B[38;5;241m|\u001B[39m Series:\n\u001B[1;32m   4798\u001B[0m \u001B[38;5;250m    \u001B[39m\u001B[38;5;124;03m\"\"\"\u001B[39;00m\n\u001B[1;32m   4799\u001B[0m \u001B[38;5;124;03m    Invoke function on values of Series.\u001B[39;00m\n\u001B[1;32m   4800\u001B[0m \n\u001B[0;32m   (...)\u001B[0m\n\u001B[1;32m   4915\u001B[0m \u001B[38;5;124;03m    dtype: float64\u001B[39;00m\n\u001B[1;32m   4916\u001B[0m \u001B[38;5;124;03m    \"\"\"\u001B[39;00m\n\u001B[1;32m   4917\u001B[0m     \u001B[38;5;28;01mreturn\u001B[39;00m \u001B[43mSeriesApply\u001B[49m\u001B[43m(\u001B[49m\n\u001B[1;32m   4918\u001B[0m \u001B[43m        \u001B[49m\u001B[38;5;28;43mself\u001B[39;49m\u001B[43m,\u001B[49m\n\u001B[1;32m   4919\u001B[0m \u001B[43m        \u001B[49m\u001B[43mfunc\u001B[49m\u001B[43m,\u001B[49m\n\u001B[1;32m   4920\u001B[0m \u001B[43m        \u001B[49m\u001B[43mconvert_dtype\u001B[49m\u001B[38;5;241;43m=\u001B[39;49m\u001B[43mconvert_dtype\u001B[49m\u001B[43m,\u001B[49m\n\u001B[1;32m   4921\u001B[0m \u001B[43m        \u001B[49m\u001B[43mby_row\u001B[49m\u001B[38;5;241;43m=\u001B[39;49m\u001B[43mby_row\u001B[49m\u001B[43m,\u001B[49m\n\u001B[1;32m   4922\u001B[0m \u001B[43m        \u001B[49m\u001B[43margs\u001B[49m\u001B[38;5;241;43m=\u001B[39;49m\u001B[43margs\u001B[49m\u001B[43m,\u001B[49m\n\u001B[1;32m   4923\u001B[0m \u001B[43m        \u001B[49m\u001B[43mkwargs\u001B[49m\u001B[38;5;241;43m=\u001B[39;49m\u001B[43mkwargs\u001B[49m\u001B[43m,\u001B[49m\n\u001B[0;32m-> 4924\u001B[0m \u001B[43m    \u001B[49m\u001B[43m)\u001B[49m\u001B[38;5;241;43m.\u001B[39;49m\u001B[43mapply\u001B[49m\u001B[43m(\u001B[49m\u001B[43m)\u001B[49m\n",
      "File \u001B[0;32m~/miniconda3/lib/python3.12/site-packages/pandas/core/apply.py:1427\u001B[0m, in \u001B[0;36mSeriesApply.apply\u001B[0;34m(self)\u001B[0m\n\u001B[1;32m   1424\u001B[0m     \u001B[38;5;28;01mreturn\u001B[39;00m \u001B[38;5;28mself\u001B[39m\u001B[38;5;241m.\u001B[39mapply_compat()\n\u001B[1;32m   1426\u001B[0m \u001B[38;5;66;03m# self.func is Callable\u001B[39;00m\n\u001B[0;32m-> 1427\u001B[0m \u001B[38;5;28;01mreturn\u001B[39;00m \u001B[38;5;28;43mself\u001B[39;49m\u001B[38;5;241;43m.\u001B[39;49m\u001B[43mapply_standard\u001B[49m\u001B[43m(\u001B[49m\u001B[43m)\u001B[49m\n",
      "File \u001B[0;32m~/miniconda3/lib/python3.12/site-packages/pandas/core/apply.py:1507\u001B[0m, in \u001B[0;36mSeriesApply.apply_standard\u001B[0;34m(self)\u001B[0m\n\u001B[1;32m   1501\u001B[0m \u001B[38;5;66;03m# row-wise access\u001B[39;00m\n\u001B[1;32m   1502\u001B[0m \u001B[38;5;66;03m# apply doesn't have a `na_action` keyword and for backward compat reasons\u001B[39;00m\n\u001B[1;32m   1503\u001B[0m \u001B[38;5;66;03m# we need to give `na_action=\"ignore\"` for categorical data.\u001B[39;00m\n\u001B[1;32m   1504\u001B[0m \u001B[38;5;66;03m# TODO: remove the `na_action=\"ignore\"` when that default has been changed in\u001B[39;00m\n\u001B[1;32m   1505\u001B[0m \u001B[38;5;66;03m#  Categorical (GH51645).\u001B[39;00m\n\u001B[1;32m   1506\u001B[0m action \u001B[38;5;241m=\u001B[39m \u001B[38;5;124m\"\u001B[39m\u001B[38;5;124mignore\u001B[39m\u001B[38;5;124m\"\u001B[39m \u001B[38;5;28;01mif\u001B[39;00m \u001B[38;5;28misinstance\u001B[39m(obj\u001B[38;5;241m.\u001B[39mdtype, CategoricalDtype) \u001B[38;5;28;01melse\u001B[39;00m \u001B[38;5;28;01mNone\u001B[39;00m\n\u001B[0;32m-> 1507\u001B[0m mapped \u001B[38;5;241m=\u001B[39m \u001B[43mobj\u001B[49m\u001B[38;5;241;43m.\u001B[39;49m\u001B[43m_map_values\u001B[49m\u001B[43m(\u001B[49m\n\u001B[1;32m   1508\u001B[0m \u001B[43m    \u001B[49m\u001B[43mmapper\u001B[49m\u001B[38;5;241;43m=\u001B[39;49m\u001B[43mcurried\u001B[49m\u001B[43m,\u001B[49m\u001B[43m \u001B[49m\u001B[43mna_action\u001B[49m\u001B[38;5;241;43m=\u001B[39;49m\u001B[43maction\u001B[49m\u001B[43m,\u001B[49m\u001B[43m \u001B[49m\u001B[43mconvert\u001B[49m\u001B[38;5;241;43m=\u001B[39;49m\u001B[38;5;28;43mself\u001B[39;49m\u001B[38;5;241;43m.\u001B[39;49m\u001B[43mconvert_dtype\u001B[49m\n\u001B[1;32m   1509\u001B[0m \u001B[43m\u001B[49m\u001B[43m)\u001B[49m\n\u001B[1;32m   1511\u001B[0m \u001B[38;5;28;01mif\u001B[39;00m \u001B[38;5;28mlen\u001B[39m(mapped) \u001B[38;5;129;01mand\u001B[39;00m \u001B[38;5;28misinstance\u001B[39m(mapped[\u001B[38;5;241m0\u001B[39m], ABCSeries):\n\u001B[1;32m   1512\u001B[0m     \u001B[38;5;66;03m# GH#43986 Need to do list(mapped) in order to get treated as nested\u001B[39;00m\n\u001B[1;32m   1513\u001B[0m     \u001B[38;5;66;03m#  See also GH#25959 regarding EA support\u001B[39;00m\n\u001B[1;32m   1514\u001B[0m     \u001B[38;5;28;01mreturn\u001B[39;00m obj\u001B[38;5;241m.\u001B[39m_constructor_expanddim(\u001B[38;5;28mlist\u001B[39m(mapped), index\u001B[38;5;241m=\u001B[39mobj\u001B[38;5;241m.\u001B[39mindex)\n",
      "File \u001B[0;32m~/miniconda3/lib/python3.12/site-packages/pandas/core/base.py:921\u001B[0m, in \u001B[0;36mIndexOpsMixin._map_values\u001B[0;34m(self, mapper, na_action, convert)\u001B[0m\n\u001B[1;32m    918\u001B[0m \u001B[38;5;28;01mif\u001B[39;00m \u001B[38;5;28misinstance\u001B[39m(arr, ExtensionArray):\n\u001B[1;32m    919\u001B[0m     \u001B[38;5;28;01mreturn\u001B[39;00m arr\u001B[38;5;241m.\u001B[39mmap(mapper, na_action\u001B[38;5;241m=\u001B[39mna_action)\n\u001B[0;32m--> 921\u001B[0m \u001B[38;5;28;01mreturn\u001B[39;00m \u001B[43malgorithms\u001B[49m\u001B[38;5;241;43m.\u001B[39;49m\u001B[43mmap_array\u001B[49m\u001B[43m(\u001B[49m\u001B[43marr\u001B[49m\u001B[43m,\u001B[49m\u001B[43m \u001B[49m\u001B[43mmapper\u001B[49m\u001B[43m,\u001B[49m\u001B[43m \u001B[49m\u001B[43mna_action\u001B[49m\u001B[38;5;241;43m=\u001B[39;49m\u001B[43mna_action\u001B[49m\u001B[43m,\u001B[49m\u001B[43m \u001B[49m\u001B[43mconvert\u001B[49m\u001B[38;5;241;43m=\u001B[39;49m\u001B[43mconvert\u001B[49m\u001B[43m)\u001B[49m\n",
      "File \u001B[0;32m~/miniconda3/lib/python3.12/site-packages/pandas/core/algorithms.py:1743\u001B[0m, in \u001B[0;36mmap_array\u001B[0;34m(arr, mapper, na_action, convert)\u001B[0m\n\u001B[1;32m   1741\u001B[0m values \u001B[38;5;241m=\u001B[39m arr\u001B[38;5;241m.\u001B[39mastype(\u001B[38;5;28mobject\u001B[39m, copy\u001B[38;5;241m=\u001B[39m\u001B[38;5;28;01mFalse\u001B[39;00m)\n\u001B[1;32m   1742\u001B[0m \u001B[38;5;28;01mif\u001B[39;00m na_action \u001B[38;5;129;01mis\u001B[39;00m \u001B[38;5;28;01mNone\u001B[39;00m:\n\u001B[0;32m-> 1743\u001B[0m     \u001B[38;5;28;01mreturn\u001B[39;00m \u001B[43mlib\u001B[49m\u001B[38;5;241;43m.\u001B[39;49m\u001B[43mmap_infer\u001B[49m\u001B[43m(\u001B[49m\u001B[43mvalues\u001B[49m\u001B[43m,\u001B[49m\u001B[43m \u001B[49m\u001B[43mmapper\u001B[49m\u001B[43m,\u001B[49m\u001B[43m \u001B[49m\u001B[43mconvert\u001B[49m\u001B[38;5;241;43m=\u001B[39;49m\u001B[43mconvert\u001B[49m\u001B[43m)\u001B[49m\n\u001B[1;32m   1744\u001B[0m \u001B[38;5;28;01melse\u001B[39;00m:\n\u001B[1;32m   1745\u001B[0m     \u001B[38;5;28;01mreturn\u001B[39;00m lib\u001B[38;5;241m.\u001B[39mmap_infer_mask(\n\u001B[1;32m   1746\u001B[0m         values, mapper, mask\u001B[38;5;241m=\u001B[39misna(values)\u001B[38;5;241m.\u001B[39mview(np\u001B[38;5;241m.\u001B[39muint8), convert\u001B[38;5;241m=\u001B[39mconvert\n\u001B[1;32m   1747\u001B[0m     )\n",
      "File \u001B[0;32mlib.pyx:2972\u001B[0m, in \u001B[0;36mpandas._libs.lib.map_infer\u001B[0;34m()\u001B[0m\n",
      "Cell \u001B[0;32mIn[21], line 2\u001B[0m, in \u001B[0;36mget_video_id_from_video_name\u001B[0;34m(video_name)\u001B[0m\n\u001B[1;32m      1\u001B[0m \u001B[38;5;28;01mdef\u001B[39;00m \u001B[38;5;21mget_video_id_from_video_name\u001B[39m(video_name):\n\u001B[0;32m----> 2\u001B[0m     video \u001B[38;5;241m=\u001B[39m \u001B[43mSearch\u001B[49m\u001B[43m(\u001B[49m\u001B[43mvideo_name\u001B[49m\u001B[43m)\u001B[49m\u001B[38;5;241;43m.\u001B[39;49m\u001B[43mvideos\u001B[49m[\u001B[38;5;241m0\u001B[39m]\n\u001B[1;32m      3\u001B[0m     \u001B[38;5;28;01mreturn\u001B[39;00m video\u001B[38;5;241m.\u001B[39mvideo_id\n",
      "File \u001B[0;32m~/miniconda3/lib/python3.12/site-packages/pytubefix/contrib/search.py:141\u001B[0m, in \u001B[0;36mSearch.videos\u001B[0;34m(self)\u001B[0m\n\u001B[1;32m    131\u001B[0m \u001B[38;5;250m\u001B[39m\u001B[38;5;124;03m\"\"\"Returns the search result videos.\u001B[39;00m\n\u001B[1;32m    132\u001B[0m \n\u001B[1;32m    133\u001B[0m \u001B[38;5;124;03mOn first call, will generate and return the first set of results.\u001B[39;00m\n\u001B[0;32m   (...)\u001B[0m\n\u001B[1;32m    138\u001B[0m \u001B[38;5;124;03m    A list of YouTube objects.\u001B[39;00m\n\u001B[1;32m    139\u001B[0m \u001B[38;5;124;03m\"\"\"\u001B[39;00m\n\u001B[1;32m    140\u001B[0m \u001B[38;5;28;01mif\u001B[39;00m \u001B[38;5;129;01mnot\u001B[39;00m \u001B[38;5;28mself\u001B[39m\u001B[38;5;241m.\u001B[39m_results:\n\u001B[0;32m--> 141\u001B[0m     \u001B[38;5;28;43mself\u001B[39;49m\u001B[38;5;241;43m.\u001B[39;49m\u001B[43m_get_results\u001B[49m\u001B[43m(\u001B[49m\u001B[43m)\u001B[49m\n\u001B[1;32m    143\u001B[0m \u001B[38;5;28;01mreturn\u001B[39;00m [items \u001B[38;5;28;01mfor\u001B[39;00m items \u001B[38;5;129;01min\u001B[39;00m \u001B[38;5;28mself\u001B[39m\u001B[38;5;241m.\u001B[39m_results[\u001B[38;5;124m'\u001B[39m\u001B[38;5;124mvideos\u001B[39m\u001B[38;5;124m'\u001B[39m]]\n",
      "File \u001B[0;32m~/miniconda3/lib/python3.12/site-packages/pytubefix/contrib/search.py:122\u001B[0m, in \u001B[0;36mSearch._get_results\u001B[0;34m(self)\u001B[0m\n\u001B[1;32m    118\u001B[0m \u001B[38;5;28;01mdef\u001B[39;00m \u001B[38;5;21m_get_results\u001B[39m(\u001B[38;5;28mself\u001B[39m):\n\u001B[1;32m    119\u001B[0m \u001B[38;5;250m    \u001B[39m\u001B[38;5;124;03m\"\"\"Search results and filter them\u001B[39;00m\n\u001B[1;32m    120\u001B[0m \n\u001B[1;32m    121\u001B[0m \u001B[38;5;124;03m    \"\"\"\u001B[39;00m\n\u001B[0;32m--> 122\u001B[0m     results, continuation \u001B[38;5;241m=\u001B[39m \u001B[38;5;28;43mself\u001B[39;49m\u001B[38;5;241;43m.\u001B[39;49m\u001B[43mfetch_and_parse\u001B[49m\u001B[43m(\u001B[49m\u001B[43m)\u001B[49m\n\u001B[1;32m    123\u001B[0m     \u001B[38;5;28mself\u001B[39m\u001B[38;5;241m.\u001B[39m_current_continuation \u001B[38;5;241m=\u001B[39m continuation\n\u001B[1;32m    124\u001B[0m     \u001B[38;5;28mself\u001B[39m\u001B[38;5;241m.\u001B[39m_results[\u001B[38;5;124m'\u001B[39m\u001B[38;5;124mvideos\u001B[39m\u001B[38;5;124m'\u001B[39m] \u001B[38;5;241m=\u001B[39m results[\u001B[38;5;124m'\u001B[39m\u001B[38;5;124mvideos\u001B[39m\u001B[38;5;124m'\u001B[39m]\n",
      "File \u001B[0;32m~/miniconda3/lib/python3.12/site-packages/pytubefix/contrib/search.py:249\u001B[0m, in \u001B[0;36mSearch.fetch_and_parse\u001B[0;34m(self, continuation)\u001B[0m\n\u001B[1;32m    239\u001B[0m \u001B[38;5;250m\u001B[39m\u001B[38;5;124;03m\"\"\"Fetch from the innertube API and parse the results.\u001B[39;00m\n\u001B[1;32m    240\u001B[0m \n\u001B[1;32m    241\u001B[0m \u001B[38;5;124;03m:param str continuation:\u001B[39;00m\n\u001B[0;32m   (...)\u001B[0m\n\u001B[1;32m    245\u001B[0m \u001B[38;5;124;03m    A tuple of a list of YouTube objects and a continuation string.\u001B[39;00m\n\u001B[1;32m    246\u001B[0m \u001B[38;5;124;03m\"\"\"\u001B[39;00m\n\u001B[1;32m    247\u001B[0m \u001B[38;5;66;03m# Begin by executing the query and identifying the relevant sections\u001B[39;00m\n\u001B[1;32m    248\u001B[0m \u001B[38;5;66;03m#  of the results\u001B[39;00m\n\u001B[0;32m--> 249\u001B[0m raw_results \u001B[38;5;241m=\u001B[39m \u001B[38;5;28;43mself\u001B[39;49m\u001B[38;5;241;43m.\u001B[39;49m\u001B[43mfetch_query\u001B[49m\u001B[43m(\u001B[49m\u001B[43mcontinuation\u001B[49m\u001B[43m,\u001B[49m\n\u001B[1;32m    250\u001B[0m \u001B[43m                               \u001B[49m\u001B[38;5;66;43;03m# The filter parameter must only be passed in the first API call\u001B[39;49;00m\n\u001B[1;32m    251\u001B[0m \u001B[43m                               \u001B[49m\u001B[38;5;66;43;03m# After the first call, the continuation token already contains the filter\u001B[39;49;00m\n\u001B[1;32m    252\u001B[0m \u001B[43m                               \u001B[49m\u001B[43m{\u001B[49m\u001B[38;5;124;43m'\u001B[39;49m\u001B[38;5;124;43mparams\u001B[39;49m\u001B[38;5;124;43m'\u001B[39;49m\u001B[43m:\u001B[49m\u001B[43m \u001B[49m\u001B[38;5;28;43mself\u001B[39;49m\u001B[38;5;241;43m.\u001B[39;49m\u001B[43mfilter\u001B[49m\u001B[43m}\u001B[49m\u001B[43m \u001B[49m\u001B[38;5;28;43;01mif\u001B[39;49;00m\u001B[43m \u001B[49m\u001B[38;5;28;43mself\u001B[39;49m\u001B[38;5;241;43m.\u001B[39;49m\u001B[43mfilter\u001B[49m\u001B[43m \u001B[49m\u001B[38;5;129;43;01mand\u001B[39;49;00m\u001B[43m \u001B[49m\u001B[38;5;129;43;01mnot\u001B[39;49;00m\u001B[43m \u001B[49m\u001B[43mcontinuation\u001B[49m\u001B[43m \u001B[49m\u001B[38;5;28;43;01melse\u001B[39;49;00m\u001B[43m \u001B[49m\u001B[38;5;28;43;01mNone\u001B[39;49;00m\n\u001B[1;32m    253\u001B[0m \u001B[43m                               \u001B[49m\u001B[43m)\u001B[49m\n\u001B[1;32m    255\u001B[0m \u001B[38;5;66;03m# Initial result is handled by try block, continuations by except block\u001B[39;00m\n\u001B[1;32m    256\u001B[0m \u001B[38;5;28;01mtry\u001B[39;00m:\n",
      "File \u001B[0;32m~/miniconda3/lib/python3.12/site-packages/pytubefix/contrib/search.py:387\u001B[0m, in \u001B[0;36mSearch.fetch_query\u001B[0;34m(self, continuation, filters)\u001B[0m\n\u001B[1;32m    376\u001B[0m \u001B[38;5;28;01mdef\u001B[39;00m \u001B[38;5;21mfetch_query\u001B[39m(\u001B[38;5;28mself\u001B[39m, continuation: \u001B[38;5;28mstr\u001B[39m \u001B[38;5;241m=\u001B[39m \u001B[38;5;28;01mNone\u001B[39;00m, filters: \u001B[38;5;28mdict\u001B[39m \u001B[38;5;241m=\u001B[39m \u001B[38;5;28;01mNone\u001B[39;00m):\n\u001B[1;32m    377\u001B[0m \u001B[38;5;250m    \u001B[39m\u001B[38;5;124;03m\"\"\"Fetch raw results from the innertube API.\u001B[39;00m\n\u001B[1;32m    378\u001B[0m \n\u001B[1;32m    379\u001B[0m \u001B[38;5;124;03m    :param str continuation:\u001B[39;00m\n\u001B[0;32m   (...)\u001B[0m\n\u001B[1;32m    385\u001B[0m \u001B[38;5;124;03m        The raw json object returned by the innertube API.\u001B[39;00m\n\u001B[1;32m    386\u001B[0m \u001B[38;5;124;03m    \"\"\"\u001B[39;00m\n\u001B[0;32m--> 387\u001B[0m     query_results \u001B[38;5;241m=\u001B[39m \u001B[38;5;28;43mself\u001B[39;49m\u001B[38;5;241;43m.\u001B[39;49m\u001B[43m_innertube_client\u001B[49m\u001B[38;5;241;43m.\u001B[39;49m\u001B[43msearch\u001B[49m\u001B[43m(\u001B[49m\u001B[38;5;28;43mself\u001B[39;49m\u001B[38;5;241;43m.\u001B[39;49m\u001B[43mquery\u001B[49m\u001B[43m,\u001B[49m\u001B[43m \u001B[49m\u001B[43mcontinuation\u001B[49m\u001B[38;5;241;43m=\u001B[39;49m\u001B[43mcontinuation\u001B[49m\u001B[43m,\u001B[49m\u001B[43m \u001B[49m\u001B[43mdata\u001B[49m\u001B[38;5;241;43m=\u001B[39;49m\u001B[43mfilters\u001B[49m\u001B[43m)\u001B[49m\n\u001B[1;32m    388\u001B[0m     \u001B[38;5;28;01mif\u001B[39;00m \u001B[38;5;129;01mnot\u001B[39;00m \u001B[38;5;28mself\u001B[39m\u001B[38;5;241m.\u001B[39m_initial_results:\n\u001B[1;32m    389\u001B[0m         \u001B[38;5;28mself\u001B[39m\u001B[38;5;241m.\u001B[39m_initial_results \u001B[38;5;241m=\u001B[39m query_results\n",
      "File \u001B[0;32m~/miniconda3/lib/python3.12/site-packages/pytubefix/innertube.py:900\u001B[0m, in \u001B[0;36mInnerTube.search\u001B[0;34m(self, search_query, continuation, data)\u001B[0m\n\u001B[1;32m    898\u001B[0m     data[\u001B[38;5;124m'\u001B[39m\u001B[38;5;124mcontinuation\u001B[39m\u001B[38;5;124m'\u001B[39m] \u001B[38;5;241m=\u001B[39m continuation\n\u001B[1;32m    899\u001B[0m data\u001B[38;5;241m.\u001B[39mupdate(\u001B[38;5;28mself\u001B[39m\u001B[38;5;241m.\u001B[39mbase_data)\n\u001B[0;32m--> 900\u001B[0m \u001B[38;5;28;01mreturn\u001B[39;00m \u001B[38;5;28;43mself\u001B[39;49m\u001B[38;5;241;43m.\u001B[39;49m\u001B[43m_call_api\u001B[49m\u001B[43m(\u001B[49m\u001B[43mendpoint\u001B[49m\u001B[43m,\u001B[49m\u001B[43m \u001B[49m\u001B[43mquery\u001B[49m\u001B[43m,\u001B[49m\u001B[43m \u001B[49m\u001B[43mdata\u001B[49m\u001B[43m)\u001B[49m\n",
      "File \u001B[0;32m~/miniconda3/lib/python3.12/site-packages/pytubefix/innertube.py:790\u001B[0m, in \u001B[0;36mInnerTube._call_api\u001B[0;34m(self, endpoint, query, data)\u001B[0m\n\u001B[1;32m    782\u001B[0m headers\u001B[38;5;241m.\u001B[39mupdate(\u001B[38;5;28mself\u001B[39m\u001B[38;5;241m.\u001B[39mheader)\n\u001B[1;32m    784\u001B[0m response \u001B[38;5;241m=\u001B[39m request\u001B[38;5;241m.\u001B[39m_execute_request(\n\u001B[1;32m    785\u001B[0m     endpoint_url,\n\u001B[1;32m    786\u001B[0m     \u001B[38;5;124m'\u001B[39m\u001B[38;5;124mPOST\u001B[39m\u001B[38;5;124m'\u001B[39m,\n\u001B[1;32m    787\u001B[0m     headers\u001B[38;5;241m=\u001B[39mheaders,\n\u001B[1;32m    788\u001B[0m     data\u001B[38;5;241m=\u001B[39mdata\n\u001B[1;32m    789\u001B[0m )\n\u001B[0;32m--> 790\u001B[0m \u001B[38;5;28;01mreturn\u001B[39;00m json\u001B[38;5;241m.\u001B[39mloads(\u001B[43mresponse\u001B[49m\u001B[38;5;241;43m.\u001B[39;49m\u001B[43mread\u001B[49m\u001B[43m(\u001B[49m\u001B[43m)\u001B[49m)\n",
      "File \u001B[0;32m~/miniconda3/lib/python3.12/http/client.py:473\u001B[0m, in \u001B[0;36mHTTPResponse.read\u001B[0;34m(self, amt)\u001B[0m\n\u001B[1;32m    470\u001B[0m     \u001B[38;5;28;01mreturn\u001B[39;00m \u001B[38;5;124mb\u001B[39m\u001B[38;5;124m\"\u001B[39m\u001B[38;5;124m\"\u001B[39m\n\u001B[1;32m    472\u001B[0m \u001B[38;5;28;01mif\u001B[39;00m \u001B[38;5;28mself\u001B[39m\u001B[38;5;241m.\u001B[39mchunked:\n\u001B[0;32m--> 473\u001B[0m     \u001B[38;5;28;01mreturn\u001B[39;00m \u001B[38;5;28;43mself\u001B[39;49m\u001B[38;5;241;43m.\u001B[39;49m\u001B[43m_read_chunked\u001B[49m\u001B[43m(\u001B[49m\u001B[43mamt\u001B[49m\u001B[43m)\u001B[49m\n\u001B[1;32m    475\u001B[0m \u001B[38;5;28;01mif\u001B[39;00m amt \u001B[38;5;129;01mis\u001B[39;00m \u001B[38;5;129;01mnot\u001B[39;00m \u001B[38;5;28;01mNone\u001B[39;00m:\n\u001B[1;32m    476\u001B[0m     \u001B[38;5;28;01mif\u001B[39;00m \u001B[38;5;28mself\u001B[39m\u001B[38;5;241m.\u001B[39mlength \u001B[38;5;129;01mis\u001B[39;00m \u001B[38;5;129;01mnot\u001B[39;00m \u001B[38;5;28;01mNone\u001B[39;00m \u001B[38;5;129;01mand\u001B[39;00m amt \u001B[38;5;241m>\u001B[39m \u001B[38;5;28mself\u001B[39m\u001B[38;5;241m.\u001B[39mlength:\n\u001B[1;32m    477\u001B[0m         \u001B[38;5;66;03m# clip the read to the \"end of response\"\u001B[39;00m\n",
      "File \u001B[0;32m~/miniconda3/lib/python3.12/http/client.py:601\u001B[0m, in \u001B[0;36mHTTPResponse._read_chunked\u001B[0;34m(self, amt)\u001B[0m\n\u001B[1;32m    598\u001B[0m     \u001B[38;5;28mself\u001B[39m\u001B[38;5;241m.\u001B[39mchunk_left \u001B[38;5;241m=\u001B[39m chunk_left \u001B[38;5;241m-\u001B[39m amt\n\u001B[1;32m    599\u001B[0m     \u001B[38;5;28;01mbreak\u001B[39;00m\n\u001B[0;32m--> 601\u001B[0m value\u001B[38;5;241m.\u001B[39mappend(\u001B[38;5;28;43mself\u001B[39;49m\u001B[38;5;241;43m.\u001B[39;49m\u001B[43m_safe_read\u001B[49m\u001B[43m(\u001B[49m\u001B[43mchunk_left\u001B[49m\u001B[43m)\u001B[49m)\n\u001B[1;32m    602\u001B[0m \u001B[38;5;28;01mif\u001B[39;00m amt \u001B[38;5;129;01mis\u001B[39;00m \u001B[38;5;129;01mnot\u001B[39;00m \u001B[38;5;28;01mNone\u001B[39;00m:\n\u001B[1;32m    603\u001B[0m     amt \u001B[38;5;241m-\u001B[39m\u001B[38;5;241m=\u001B[39m chunk_left\n",
      "File \u001B[0;32m~/miniconda3/lib/python3.12/http/client.py:640\u001B[0m, in \u001B[0;36mHTTPResponse._safe_read\u001B[0;34m(self, amt)\u001B[0m\n\u001B[1;32m    633\u001B[0m \u001B[38;5;28;01mdef\u001B[39;00m \u001B[38;5;21m_safe_read\u001B[39m(\u001B[38;5;28mself\u001B[39m, amt):\n\u001B[1;32m    634\u001B[0m \u001B[38;5;250m    \u001B[39m\u001B[38;5;124;03m\"\"\"Read the number of bytes requested.\u001B[39;00m\n\u001B[1;32m    635\u001B[0m \n\u001B[1;32m    636\u001B[0m \u001B[38;5;124;03m    This function should be used when <amt> bytes \"should\" be present for\u001B[39;00m\n\u001B[1;32m    637\u001B[0m \u001B[38;5;124;03m    reading. If the bytes are truly not available (due to EOF), then the\u001B[39;00m\n\u001B[1;32m    638\u001B[0m \u001B[38;5;124;03m    IncompleteRead exception can be used to detect the problem.\u001B[39;00m\n\u001B[1;32m    639\u001B[0m \u001B[38;5;124;03m    \"\"\"\u001B[39;00m\n\u001B[0;32m--> 640\u001B[0m     data \u001B[38;5;241m=\u001B[39m \u001B[38;5;28;43mself\u001B[39;49m\u001B[38;5;241;43m.\u001B[39;49m\u001B[43mfp\u001B[49m\u001B[38;5;241;43m.\u001B[39;49m\u001B[43mread\u001B[49m\u001B[43m(\u001B[49m\u001B[43mamt\u001B[49m\u001B[43m)\u001B[49m\n\u001B[1;32m    641\u001B[0m     \u001B[38;5;28;01mif\u001B[39;00m \u001B[38;5;28mlen\u001B[39m(data) \u001B[38;5;241m<\u001B[39m amt:\n\u001B[1;32m    642\u001B[0m         \u001B[38;5;28;01mraise\u001B[39;00m IncompleteRead(data, amt\u001B[38;5;241m-\u001B[39m\u001B[38;5;28mlen\u001B[39m(data))\n",
      "File \u001B[0;32m~/miniconda3/lib/python3.12/socket.py:707\u001B[0m, in \u001B[0;36mSocketIO.readinto\u001B[0;34m(self, b)\u001B[0m\n\u001B[1;32m    705\u001B[0m \u001B[38;5;28;01mwhile\u001B[39;00m \u001B[38;5;28;01mTrue\u001B[39;00m:\n\u001B[1;32m    706\u001B[0m     \u001B[38;5;28;01mtry\u001B[39;00m:\n\u001B[0;32m--> 707\u001B[0m         \u001B[38;5;28;01mreturn\u001B[39;00m \u001B[38;5;28;43mself\u001B[39;49m\u001B[38;5;241;43m.\u001B[39;49m\u001B[43m_sock\u001B[49m\u001B[38;5;241;43m.\u001B[39;49m\u001B[43mrecv_into\u001B[49m\u001B[43m(\u001B[49m\u001B[43mb\u001B[49m\u001B[43m)\u001B[49m\n\u001B[1;32m    708\u001B[0m     \u001B[38;5;28;01mexcept\u001B[39;00m timeout:\n\u001B[1;32m    709\u001B[0m         \u001B[38;5;28mself\u001B[39m\u001B[38;5;241m.\u001B[39m_timeout_occurred \u001B[38;5;241m=\u001B[39m \u001B[38;5;28;01mTrue\u001B[39;00m\n",
      "File \u001B[0;32m~/miniconda3/lib/python3.12/ssl.py:1252\u001B[0m, in \u001B[0;36mSSLSocket.recv_into\u001B[0;34m(self, buffer, nbytes, flags)\u001B[0m\n\u001B[1;32m   1248\u001B[0m     \u001B[38;5;28;01mif\u001B[39;00m flags \u001B[38;5;241m!=\u001B[39m \u001B[38;5;241m0\u001B[39m:\n\u001B[1;32m   1249\u001B[0m         \u001B[38;5;28;01mraise\u001B[39;00m \u001B[38;5;167;01mValueError\u001B[39;00m(\n\u001B[1;32m   1250\u001B[0m           \u001B[38;5;124m\"\u001B[39m\u001B[38;5;124mnon-zero flags not allowed in calls to recv_into() on \u001B[39m\u001B[38;5;132;01m%s\u001B[39;00m\u001B[38;5;124m\"\u001B[39m \u001B[38;5;241m%\u001B[39m\n\u001B[1;32m   1251\u001B[0m           \u001B[38;5;28mself\u001B[39m\u001B[38;5;241m.\u001B[39m\u001B[38;5;18m__class__\u001B[39m)\n\u001B[0;32m-> 1252\u001B[0m     \u001B[38;5;28;01mreturn\u001B[39;00m \u001B[38;5;28;43mself\u001B[39;49m\u001B[38;5;241;43m.\u001B[39;49m\u001B[43mread\u001B[49m\u001B[43m(\u001B[49m\u001B[43mnbytes\u001B[49m\u001B[43m,\u001B[49m\u001B[43m \u001B[49m\u001B[43mbuffer\u001B[49m\u001B[43m)\u001B[49m\n\u001B[1;32m   1253\u001B[0m \u001B[38;5;28;01melse\u001B[39;00m:\n\u001B[1;32m   1254\u001B[0m     \u001B[38;5;28;01mreturn\u001B[39;00m \u001B[38;5;28msuper\u001B[39m()\u001B[38;5;241m.\u001B[39mrecv_into(buffer, nbytes, flags)\n",
      "File \u001B[0;32m~/miniconda3/lib/python3.12/ssl.py:1104\u001B[0m, in \u001B[0;36mSSLSocket.read\u001B[0;34m(self, len, buffer)\u001B[0m\n\u001B[1;32m   1102\u001B[0m \u001B[38;5;28;01mtry\u001B[39;00m:\n\u001B[1;32m   1103\u001B[0m     \u001B[38;5;28;01mif\u001B[39;00m buffer \u001B[38;5;129;01mis\u001B[39;00m \u001B[38;5;129;01mnot\u001B[39;00m \u001B[38;5;28;01mNone\u001B[39;00m:\n\u001B[0;32m-> 1104\u001B[0m         \u001B[38;5;28;01mreturn\u001B[39;00m \u001B[38;5;28;43mself\u001B[39;49m\u001B[38;5;241;43m.\u001B[39;49m\u001B[43m_sslobj\u001B[49m\u001B[38;5;241;43m.\u001B[39;49m\u001B[43mread\u001B[49m\u001B[43m(\u001B[49m\u001B[38;5;28;43mlen\u001B[39;49m\u001B[43m,\u001B[49m\u001B[43m \u001B[49m\u001B[43mbuffer\u001B[49m\u001B[43m)\u001B[49m\n\u001B[1;32m   1105\u001B[0m     \u001B[38;5;28;01melse\u001B[39;00m:\n\u001B[1;32m   1106\u001B[0m         \u001B[38;5;28;01mreturn\u001B[39;00m \u001B[38;5;28mself\u001B[39m\u001B[38;5;241m.\u001B[39m_sslobj\u001B[38;5;241m.\u001B[39mread(\u001B[38;5;28mlen\u001B[39m)\n",
      "\u001B[0;31mKeyboardInterrupt\u001B[0m: "
     ]
    }
   ],
   "execution_count": 22
  },
  {
   "metadata": {
    "ExecuteTime": {
     "end_time": "2025-05-04T10:42:03.410109623Z",
     "start_time": "2025-05-04T10:39:39.445245Z"
    }
   },
   "cell_type": "code",
   "source": "enriched_df",
   "outputs": [
    {
     "data": {
      "text/plain": [
       "    internal_id                                         timestamps  \\\n",
       "0        plllkw                               [18.0, 240.0, 345.0]   \n",
       "1        xpetji  [867.0, 1017.0, 1053.0, 1437.0, 1152.0, 810.0,...   \n",
       "2        cxqeox                 [39.0, 621.0, 561.0, 456.0, 219.0]   \n",
       "3        ufwmpg  [801.0, 3393.0, 3813.0, 1290.0, 543.0, 4017.0,...   \n",
       "4        xfzngr                         [276.0, 450.0, 90.0, 30.0]   \n",
       "..          ...                                                ...   \n",
       "129      fcxvmr  [1656.0, 786.0, 1026.0, 1392.0, 591.0, 84.0, 1...   \n",
       "130      eupjay  [1245.0, 1029.0, 1560.0, 684.0, 1386.0, 1746.0...   \n",
       "131      hrpnxe  [942.0, 132.0, 867.0, 1539.0, 1584.0, 216.0, 7...   \n",
       "132      dlfoyw  [2415.0, 840.0, 1197.0, 588.0, 174.0, 1836.0, ...   \n",
       "133      yirczy                        [582.0, 69.0, 531.0, 372.0]   \n",
       "\n",
       "                                            video_name video_id  \n",
       "0    Patient Management | Materials & Equipment Saf...       NA  \n",
       "1    Endodontics | Adjunctive Treatment | INBDE, AD...       NA  \n",
       "2                  Evidence-Based Dentistry Part 2.mp4       NA  \n",
       "3    Anatomy and Physiology Chapter 7 Part B Lectur...       NA  \n",
       "4    Patient Management | Public Health & Epidemiol...       NA  \n",
       "..                                                 ...      ...  \n",
       "129  Pediatric Dentistry | Tooth Development and Er...       NA  \n",
       "130    Human Anatomy Lecture  Ch 19 The Heart Pt 2.mp4       NA  \n",
       "131  Human Biology Lecture: Ch 6- Reproduction at t...       NA  \n",
       "132  Orthodontics | Diagnosis & Treatment Planning ...       NA  \n",
       "133  Head & Neck Anatomy | Muscles of Mastication |...       NA  \n",
       "\n",
       "[134 rows x 4 columns]"
      ],
      "text/html": [
       "<div>\n",
       "<style scoped>\n",
       "    .dataframe tbody tr th:only-of-type {\n",
       "        vertical-align: middle;\n",
       "    }\n",
       "\n",
       "    .dataframe tbody tr th {\n",
       "        vertical-align: top;\n",
       "    }\n",
       "\n",
       "    .dataframe thead th {\n",
       "        text-align: right;\n",
       "    }\n",
       "</style>\n",
       "<table border=\"1\" class=\"dataframe\">\n",
       "  <thead>\n",
       "    <tr style=\"text-align: right;\">\n",
       "      <th></th>\n",
       "      <th>internal_id</th>\n",
       "      <th>timestamps</th>\n",
       "      <th>video_name</th>\n",
       "      <th>video_id</th>\n",
       "    </tr>\n",
       "  </thead>\n",
       "  <tbody>\n",
       "    <tr>\n",
       "      <th>0</th>\n",
       "      <td>plllkw</td>\n",
       "      <td>[18.0, 240.0, 345.0]</td>\n",
       "      <td>Patient Management | Materials &amp; Equipment Saf...</td>\n",
       "      <td>NA</td>\n",
       "    </tr>\n",
       "    <tr>\n",
       "      <th>1</th>\n",
       "      <td>xpetji</td>\n",
       "      <td>[867.0, 1017.0, 1053.0, 1437.0, 1152.0, 810.0,...</td>\n",
       "      <td>Endodontics | Adjunctive Treatment | INBDE, AD...</td>\n",
       "      <td>NA</td>\n",
       "    </tr>\n",
       "    <tr>\n",
       "      <th>2</th>\n",
       "      <td>cxqeox</td>\n",
       "      <td>[39.0, 621.0, 561.0, 456.0, 219.0]</td>\n",
       "      <td>Evidence-Based Dentistry Part 2.mp4</td>\n",
       "      <td>NA</td>\n",
       "    </tr>\n",
       "    <tr>\n",
       "      <th>3</th>\n",
       "      <td>ufwmpg</td>\n",
       "      <td>[801.0, 3393.0, 3813.0, 1290.0, 543.0, 4017.0,...</td>\n",
       "      <td>Anatomy and Physiology Chapter 7 Part B Lectur...</td>\n",
       "      <td>NA</td>\n",
       "    </tr>\n",
       "    <tr>\n",
       "      <th>4</th>\n",
       "      <td>xfzngr</td>\n",
       "      <td>[276.0, 450.0, 90.0, 30.0]</td>\n",
       "      <td>Patient Management | Public Health &amp; Epidemiol...</td>\n",
       "      <td>NA</td>\n",
       "    </tr>\n",
       "    <tr>\n",
       "      <th>...</th>\n",
       "      <td>...</td>\n",
       "      <td>...</td>\n",
       "      <td>...</td>\n",
       "      <td>...</td>\n",
       "    </tr>\n",
       "    <tr>\n",
       "      <th>129</th>\n",
       "      <td>fcxvmr</td>\n",
       "      <td>[1656.0, 786.0, 1026.0, 1392.0, 591.0, 84.0, 1...</td>\n",
       "      <td>Pediatric Dentistry | Tooth Development and Er...</td>\n",
       "      <td>NA</td>\n",
       "    </tr>\n",
       "    <tr>\n",
       "      <th>130</th>\n",
       "      <td>eupjay</td>\n",
       "      <td>[1245.0, 1029.0, 1560.0, 684.0, 1386.0, 1746.0...</td>\n",
       "      <td>Human Anatomy Lecture  Ch 19 The Heart Pt 2.mp4</td>\n",
       "      <td>NA</td>\n",
       "    </tr>\n",
       "    <tr>\n",
       "      <th>131</th>\n",
       "      <td>hrpnxe</td>\n",
       "      <td>[942.0, 132.0, 867.0, 1539.0, 1584.0, 216.0, 7...</td>\n",
       "      <td>Human Biology Lecture: Ch 6- Reproduction at t...</td>\n",
       "      <td>NA</td>\n",
       "    </tr>\n",
       "    <tr>\n",
       "      <th>132</th>\n",
       "      <td>dlfoyw</td>\n",
       "      <td>[2415.0, 840.0, 1197.0, 588.0, 174.0, 1836.0, ...</td>\n",
       "      <td>Orthodontics | Diagnosis &amp; Treatment Planning ...</td>\n",
       "      <td>NA</td>\n",
       "    </tr>\n",
       "    <tr>\n",
       "      <th>133</th>\n",
       "      <td>yirczy</td>\n",
       "      <td>[582.0, 69.0, 531.0, 372.0]</td>\n",
       "      <td>Head &amp; Neck Anatomy | Muscles of Mastication |...</td>\n",
       "      <td>NA</td>\n",
       "    </tr>\n",
       "  </tbody>\n",
       "</table>\n",
       "<p>134 rows × 4 columns</p>\n",
       "</div>"
      ]
     },
     "execution_count": 88,
     "metadata": {},
     "output_type": "execute_result"
    }
   ],
   "execution_count": 88
  },
  {
   "metadata": {
    "ExecuteTime": {
     "end_time": "2025-05-04T10:45:25.996807Z",
     "start_time": "2025-05-04T10:45:25.993965Z"
    }
   },
   "cell_type": "code",
   "source": "enriched_df.columns",
   "outputs": [
    {
     "data": {
      "text/plain": [
       "Index(['internal_id', 'timestamps', 'video_name'], dtype='object')"
      ]
     },
     "execution_count": 26,
     "metadata": {},
     "output_type": "execute_result"
    }
   ],
   "execution_count": 26
  },
  {
   "metadata": {},
   "cell_type": "code",
   "outputs": [],
   "execution_count": null,
   "source": [
    "col_names = ['internal_id',\n",
    "             'timestamps',\n",
    "             'video_name']"
   ]
  },
  {
   "metadata": {},
   "cell_type": "code",
   "outputs": [],
   "execution_count": null,
   "source": "enriched_df = enriched_df[col_names]"
  }
 ],
 "metadata": {
  "kernelspec": {
   "display_name": "base",
   "language": "python",
   "name": "python3"
  },
  "language_info": {
   "codemirror_mode": {
    "name": "ipython",
    "version": 3
   },
   "file_extension": ".py",
   "mimetype": "text/x-python",
   "name": "python",
   "nbconvert_exporter": "python",
   "pygments_lexer": "ipython3",
   "version": "3.12.2"
  }
 },
 "nbformat": 4,
 "nbformat_minor": 2
}
