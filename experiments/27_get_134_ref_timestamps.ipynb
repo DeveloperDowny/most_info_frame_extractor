{
 "cells": [
  {
   "cell_type": "code",
   "id": "56141c62885708fa",
   "metadata": {
    "ExecuteTime": {
     "end_time": "2025-05-21T15:45:31.214525Z",
     "start_time": "2025-05-21T15:45:31.029712Z"
    }
   },
   "source": "import pandas as pd",
   "outputs": [],
   "execution_count": 1
  },
  {
   "metadata": {
    "ExecuteTime": {
     "end_time": "2025-05-21T15:45:35.493424Z",
     "start_time": "2025-05-21T15:45:35.491248Z"
    }
   },
   "cell_type": "code",
   "source": [
    "\n",
    "all_ref_ts_file = r\"/home/vedant/Desktop/glimpsify/most_info_frame_extractor/experiments/22/reference_key_frame_timestamps.csv\""
   ],
   "id": "initial_id",
   "outputs": [],
   "execution_count": 2
  },
  {
   "metadata": {
    "ExecuteTime": {
     "end_time": "2025-05-21T15:45:41.597178Z",
     "start_time": "2025-05-21T15:45:41.595090Z"
    }
   },
   "cell_type": "code",
   "source": "subset_videos_file = r\"/home/vedant/Desktop/glimpsify/most_info_frame_extractor/experiments/26/timestamps_v3.csv\"",
   "id": "808df659488ce4c",
   "outputs": [],
   "execution_count": 3
  },
  {
   "metadata": {
    "ExecuteTime": {
     "end_time": "2025-05-21T15:45:48.187423Z",
     "start_time": "2025-05-21T15:45:48.178375Z"
    }
   },
   "cell_type": "code",
   "source": [
    "all_ref_ts_df = pd.read_csv(all_ref_ts_file)\n",
    "subset_videos_df = pd.read_csv(subset_videos_file)"
   ],
   "id": "c94bde59373c1d7",
   "outputs": [],
   "execution_count": 4
  },
  {
   "metadata": {
    "ExecuteTime": {
     "end_time": "2025-05-21T15:45:48.973649Z",
     "start_time": "2025-05-21T15:45:48.966922Z"
    }
   },
   "cell_type": "code",
   "source": "all_ref_ts_df.head()",
   "id": "cec250cb8acd3c3d",
   "outputs": [
    {
     "data": {
      "text/plain": [
       "      video_id                                         timestamps\n",
       "0  _8xHh1tk7jY    [5.4833, 34.9833, 101.9833, 165.4833, 232.9833]\n",
       "1  _Awekr6-ilg  [30.3946, 55.0392, 157.0121, 542.5121, 703.012...\n",
       "2  _BvFr9HEiQg  [24.961, 70.2913, 107.3214, 145.5609, 187.3366...\n",
       "3  _e_B8rTl_rU  [32.3223, 48.3223, 95.8223, 258.6495, 273.6494...\n",
       "4  _Jw3DQ7_pxg  [6.0, 34.0, 157.9999, 280.9999, 347.4999, 411...."
      ],
      "text/html": [
       "<div>\n",
       "<style scoped>\n",
       "    .dataframe tbody tr th:only-of-type {\n",
       "        vertical-align: middle;\n",
       "    }\n",
       "\n",
       "    .dataframe tbody tr th {\n",
       "        vertical-align: top;\n",
       "    }\n",
       "\n",
       "    .dataframe thead th {\n",
       "        text-align: right;\n",
       "    }\n",
       "</style>\n",
       "<table border=\"1\" class=\"dataframe\">\n",
       "  <thead>\n",
       "    <tr style=\"text-align: right;\">\n",
       "      <th></th>\n",
       "      <th>video_id</th>\n",
       "      <th>timestamps</th>\n",
       "    </tr>\n",
       "  </thead>\n",
       "  <tbody>\n",
       "    <tr>\n",
       "      <th>0</th>\n",
       "      <td>_8xHh1tk7jY</td>\n",
       "      <td>[5.4833, 34.9833, 101.9833, 165.4833, 232.9833]</td>\n",
       "    </tr>\n",
       "    <tr>\n",
       "      <th>1</th>\n",
       "      <td>_Awekr6-ilg</td>\n",
       "      <td>[30.3946, 55.0392, 157.0121, 542.5121, 703.012...</td>\n",
       "    </tr>\n",
       "    <tr>\n",
       "      <th>2</th>\n",
       "      <td>_BvFr9HEiQg</td>\n",
       "      <td>[24.961, 70.2913, 107.3214, 145.5609, 187.3366...</td>\n",
       "    </tr>\n",
       "    <tr>\n",
       "      <th>3</th>\n",
       "      <td>_e_B8rTl_rU</td>\n",
       "      <td>[32.3223, 48.3223, 95.8223, 258.6495, 273.6494...</td>\n",
       "    </tr>\n",
       "    <tr>\n",
       "      <th>4</th>\n",
       "      <td>_Jw3DQ7_pxg</td>\n",
       "      <td>[6.0, 34.0, 157.9999, 280.9999, 347.4999, 411....</td>\n",
       "    </tr>\n",
       "  </tbody>\n",
       "</table>\n",
       "</div>"
      ]
     },
     "execution_count": 5,
     "metadata": {},
     "output_type": "execute_result"
    }
   ],
   "execution_count": 5
  },
  {
   "metadata": {
    "ExecuteTime": {
     "end_time": "2025-05-11T04:37:07.988186Z",
     "start_time": "2025-05-11T04:37:07.985977Z"
    }
   },
   "cell_type": "code",
   "source": "all_ref_ts_df.shape",
   "id": "b599ba6872a62f00",
   "outputs": [
    {
     "data": {
      "text/plain": [
       "(333, 2)"
      ]
     },
     "execution_count": 6,
     "metadata": {},
     "output_type": "execute_result"
    }
   ],
   "execution_count": 6
  },
  {
   "metadata": {
    "ExecuteTime": {
     "end_time": "2025-05-11T04:37:08.064890Z",
     "start_time": "2025-05-11T04:37:08.060043Z"
    }
   },
   "cell_type": "code",
   "source": "subset_videos_df.head()",
   "id": "47fd564ea2f159e2",
   "outputs": [
    {
     "data": {
      "text/plain": [
       "   Unnamed: 0 internal_id                                         timestamps\n",
       "0           0      plllkw                               [18.0, 240.0, 345.0]\n",
       "1           0      xpetji  [867.0, 1017.0, 1053.0, 1437.0, 1152.0, 810.0,...\n",
       "2           0      cxqeox                 [39.0, 621.0, 561.0, 456.0, 219.0]\n",
       "3           0      ufwmpg  [801.0, 3393.0, 3813.0, 1290.0, 543.0, 4017.0,...\n",
       "4           0      xfzngr                         [276.0, 450.0, 90.0, 30.0]"
      ],
      "text/html": [
       "<div>\n",
       "<style scoped>\n",
       "    .dataframe tbody tr th:only-of-type {\n",
       "        vertical-align: middle;\n",
       "    }\n",
       "\n",
       "    .dataframe tbody tr th {\n",
       "        vertical-align: top;\n",
       "    }\n",
       "\n",
       "    .dataframe thead th {\n",
       "        text-align: right;\n",
       "    }\n",
       "</style>\n",
       "<table border=\"1\" class=\"dataframe\">\n",
       "  <thead>\n",
       "    <tr style=\"text-align: right;\">\n",
       "      <th></th>\n",
       "      <th>Unnamed: 0</th>\n",
       "      <th>internal_id</th>\n",
       "      <th>timestamps</th>\n",
       "    </tr>\n",
       "  </thead>\n",
       "  <tbody>\n",
       "    <tr>\n",
       "      <th>0</th>\n",
       "      <td>0</td>\n",
       "      <td>plllkw</td>\n",
       "      <td>[18.0, 240.0, 345.0]</td>\n",
       "    </tr>\n",
       "    <tr>\n",
       "      <th>1</th>\n",
       "      <td>0</td>\n",
       "      <td>xpetji</td>\n",
       "      <td>[867.0, 1017.0, 1053.0, 1437.0, 1152.0, 810.0,...</td>\n",
       "    </tr>\n",
       "    <tr>\n",
       "      <th>2</th>\n",
       "      <td>0</td>\n",
       "      <td>cxqeox</td>\n",
       "      <td>[39.0, 621.0, 561.0, 456.0, 219.0]</td>\n",
       "    </tr>\n",
       "    <tr>\n",
       "      <th>3</th>\n",
       "      <td>0</td>\n",
       "      <td>ufwmpg</td>\n",
       "      <td>[801.0, 3393.0, 3813.0, 1290.0, 543.0, 4017.0,...</td>\n",
       "    </tr>\n",
       "    <tr>\n",
       "      <th>4</th>\n",
       "      <td>0</td>\n",
       "      <td>xfzngr</td>\n",
       "      <td>[276.0, 450.0, 90.0, 30.0]</td>\n",
       "    </tr>\n",
       "  </tbody>\n",
       "</table>\n",
       "</div>"
      ]
     },
     "execution_count": 7,
     "metadata": {},
     "output_type": "execute_result"
    }
   ],
   "execution_count": 7
  },
  {
   "metadata": {
    "ExecuteTime": {
     "end_time": "2025-05-11T04:37:08.134341Z",
     "start_time": "2025-05-11T04:37:08.131613Z"
    }
   },
   "cell_type": "code",
   "source": "subset_videos_df.shape",
   "id": "482e86defca56c5b",
   "outputs": [
    {
     "data": {
      "text/plain": [
       "(134, 3)"
      ]
     },
     "execution_count": 8,
     "metadata": {},
     "output_type": "execute_result"
    }
   ],
   "execution_count": 8
  },
  {
   "metadata": {
    "ExecuteTime": {
     "end_time": "2025-05-11T04:37:08.198723Z",
     "start_time": "2025-05-11T04:37:08.196865Z"
    }
   },
   "cell_type": "code",
   "source": "internal_id_to_video_id_file = r\"/home/vedant/Desktop/glimpsify/most_info_frame_extractor/experiments/25/internal_id_to_video_id_df.csv\"",
   "id": "35256d6492bfef1a",
   "outputs": [],
   "execution_count": 9
  },
  {
   "metadata": {
    "ExecuteTime": {
     "end_time": "2025-05-11T04:37:08.260524Z",
     "start_time": "2025-05-11T04:37:08.253867Z"
    }
   },
   "cell_type": "code",
   "source": [
    "internal_id_to_video_id_df = pd.read_csv(internal_id_to_video_id_file)\n",
    "internal_id_to_video_id_df.head()"
   ],
   "id": "a028477f3596acde",
   "outputs": [
    {
     "data": {
      "text/plain": [
       "   Unnamed: 0 internal_id     video_id  \\\n",
       "0           0      plllkw  hgk8-2Fweb8   \n",
       "1           1      xpetji  U6XA28g9tEE   \n",
       "2           2      cxqeox  j0VTYFUMW_M   \n",
       "3           3      ufwmpg  3p1-xzfdJCA   \n",
       "4           4      xfzngr  CmION0EvzLc   \n",
       "\n",
       "                                          video_name  \n",
       "0  Patient Management | Materials & Equipment Saf...  \n",
       "1  Endodontics | Adjunctive Treatment | INBDE, AD...  \n",
       "2                Evidence-Based Dentistry Part 2.mp4  \n",
       "3  Anatomy and Physiology Chapter 7 Part B Lectur...  \n",
       "4  Patient Management | Public Health & Epidemiol...  "
      ],
      "text/html": [
       "<div>\n",
       "<style scoped>\n",
       "    .dataframe tbody tr th:only-of-type {\n",
       "        vertical-align: middle;\n",
       "    }\n",
       "\n",
       "    .dataframe tbody tr th {\n",
       "        vertical-align: top;\n",
       "    }\n",
       "\n",
       "    .dataframe thead th {\n",
       "        text-align: right;\n",
       "    }\n",
       "</style>\n",
       "<table border=\"1\" class=\"dataframe\">\n",
       "  <thead>\n",
       "    <tr style=\"text-align: right;\">\n",
       "      <th></th>\n",
       "      <th>Unnamed: 0</th>\n",
       "      <th>internal_id</th>\n",
       "      <th>video_id</th>\n",
       "      <th>video_name</th>\n",
       "    </tr>\n",
       "  </thead>\n",
       "  <tbody>\n",
       "    <tr>\n",
       "      <th>0</th>\n",
       "      <td>0</td>\n",
       "      <td>plllkw</td>\n",
       "      <td>hgk8-2Fweb8</td>\n",
       "      <td>Patient Management | Materials &amp; Equipment Saf...</td>\n",
       "    </tr>\n",
       "    <tr>\n",
       "      <th>1</th>\n",
       "      <td>1</td>\n",
       "      <td>xpetji</td>\n",
       "      <td>U6XA28g9tEE</td>\n",
       "      <td>Endodontics | Adjunctive Treatment | INBDE, AD...</td>\n",
       "    </tr>\n",
       "    <tr>\n",
       "      <th>2</th>\n",
       "      <td>2</td>\n",
       "      <td>cxqeox</td>\n",
       "      <td>j0VTYFUMW_M</td>\n",
       "      <td>Evidence-Based Dentistry Part 2.mp4</td>\n",
       "    </tr>\n",
       "    <tr>\n",
       "      <th>3</th>\n",
       "      <td>3</td>\n",
       "      <td>ufwmpg</td>\n",
       "      <td>3p1-xzfdJCA</td>\n",
       "      <td>Anatomy and Physiology Chapter 7 Part B Lectur...</td>\n",
       "    </tr>\n",
       "    <tr>\n",
       "      <th>4</th>\n",
       "      <td>4</td>\n",
       "      <td>xfzngr</td>\n",
       "      <td>CmION0EvzLc</td>\n",
       "      <td>Patient Management | Public Health &amp; Epidemiol...</td>\n",
       "    </tr>\n",
       "  </tbody>\n",
       "</table>\n",
       "</div>"
      ]
     },
     "execution_count": 10,
     "metadata": {},
     "output_type": "execute_result"
    }
   ],
   "execution_count": 10
  },
  {
   "metadata": {
    "ExecuteTime": {
     "end_time": "2025-05-11T04:37:08.327905Z",
     "start_time": "2025-05-11T04:37:08.325865Z"
    }
   },
   "cell_type": "code",
   "source": "internal_id_to_video_id_df.shape",
   "id": "9671e6a5413a30da",
   "outputs": [
    {
     "data": {
      "text/plain": [
       "(134, 4)"
      ]
     },
     "execution_count": 11,
     "metadata": {},
     "output_type": "execute_result"
    }
   ],
   "execution_count": 11
  },
  {
   "metadata": {
    "ExecuteTime": {
     "end_time": "2025-05-11T04:37:08.417945Z",
     "start_time": "2025-05-11T04:37:08.400464Z"
    }
   },
   "cell_type": "code",
   "source": [
    "subset_ref_ts_df = all_ref_ts_df[all_ref_ts_df[\"video_id\"].isin(internal_id_to_video_id_df[\"video_id\"])]\n",
    "subset_ref_ts_df.head()"
   ],
   "id": "77f21cafb5632efd",
   "outputs": [
    {
     "data": {
      "text/plain": [
       "       video_id                                         timestamps\n",
       "2   _BvFr9HEiQg  [24.961, 70.2913, 107.3214, 145.5609, 187.3366...\n",
       "3   _e_B8rTl_rU  [32.3223, 48.3223, 95.8223, 258.6495, 273.6494...\n",
       "18  1gB90u2JOYg  [19.1948, 290.0761, 361.9277, 607.3729, 684.87...\n",
       "23  2No3_SGYWhk  [19.3056, 164.3056, 249.3056, 382.3056, 490.80...\n",
       "24  2RkiPyrUxw8  [21.7656, 206.4182, 236.9182, 390.9182, 470.91..."
      ],
      "text/html": [
       "<div>\n",
       "<style scoped>\n",
       "    .dataframe tbody tr th:only-of-type {\n",
       "        vertical-align: middle;\n",
       "    }\n",
       "\n",
       "    .dataframe tbody tr th {\n",
       "        vertical-align: top;\n",
       "    }\n",
       "\n",
       "    .dataframe thead th {\n",
       "        text-align: right;\n",
       "    }\n",
       "</style>\n",
       "<table border=\"1\" class=\"dataframe\">\n",
       "  <thead>\n",
       "    <tr style=\"text-align: right;\">\n",
       "      <th></th>\n",
       "      <th>video_id</th>\n",
       "      <th>timestamps</th>\n",
       "    </tr>\n",
       "  </thead>\n",
       "  <tbody>\n",
       "    <tr>\n",
       "      <th>2</th>\n",
       "      <td>_BvFr9HEiQg</td>\n",
       "      <td>[24.961, 70.2913, 107.3214, 145.5609, 187.3366...</td>\n",
       "    </tr>\n",
       "    <tr>\n",
       "      <th>3</th>\n",
       "      <td>_e_B8rTl_rU</td>\n",
       "      <td>[32.3223, 48.3223, 95.8223, 258.6495, 273.6494...</td>\n",
       "    </tr>\n",
       "    <tr>\n",
       "      <th>18</th>\n",
       "      <td>1gB90u2JOYg</td>\n",
       "      <td>[19.1948, 290.0761, 361.9277, 607.3729, 684.87...</td>\n",
       "    </tr>\n",
       "    <tr>\n",
       "      <th>23</th>\n",
       "      <td>2No3_SGYWhk</td>\n",
       "      <td>[19.3056, 164.3056, 249.3056, 382.3056, 490.80...</td>\n",
       "    </tr>\n",
       "    <tr>\n",
       "      <th>24</th>\n",
       "      <td>2RkiPyrUxw8</td>\n",
       "      <td>[21.7656, 206.4182, 236.9182, 390.9182, 470.91...</td>\n",
       "    </tr>\n",
       "  </tbody>\n",
       "</table>\n",
       "</div>"
      ]
     },
     "execution_count": 12,
     "metadata": {},
     "output_type": "execute_result"
    }
   ],
   "execution_count": 12
  },
  {
   "metadata": {
    "ExecuteTime": {
     "end_time": "2025-05-11T04:37:08.480755Z",
     "start_time": "2025-05-11T04:37:08.478130Z"
    }
   },
   "cell_type": "code",
   "source": "subset_videos_df.shape",
   "id": "c4759b9763664a9a",
   "outputs": [
    {
     "data": {
      "text/plain": [
       "(134, 3)"
      ]
     },
     "execution_count": 13,
     "metadata": {},
     "output_type": "execute_result"
    }
   ],
   "execution_count": 13
  },
  {
   "metadata": {
    "ExecuteTime": {
     "end_time": "2025-05-11T04:37:23.562173Z",
     "start_time": "2025-05-11T04:37:23.559536Z"
    }
   },
   "cell_type": "code",
   "source": "subset_ref_ts_df.shape",
   "id": "1a8283b231c15b1f",
   "outputs": [
    {
     "data": {
      "text/plain": [
       "(99, 2)"
      ]
     },
     "execution_count": 14,
     "metadata": {},
     "output_type": "execute_result"
    }
   ],
   "execution_count": 14
  },
  {
   "metadata": {
    "ExecuteTime": {
     "end_time": "2025-05-11T04:38:35.604427Z",
     "start_time": "2025-05-11T04:38:35.588837Z"
    }
   },
   "cell_type": "code",
   "source": "internal_id_to_video_id_df.head()",
   "id": "2d80e12b232703ec",
   "outputs": [
    {
     "data": {
      "text/plain": [
       "   Unnamed: 0 internal_id     video_id  \\\n",
       "0           0      plllkw  hgk8-2Fweb8   \n",
       "1           1      xpetji  U6XA28g9tEE   \n",
       "2           2      cxqeox  j0VTYFUMW_M   \n",
       "3           3      ufwmpg  3p1-xzfdJCA   \n",
       "4           4      xfzngr  CmION0EvzLc   \n",
       "\n",
       "                                          video_name  \n",
       "0  Patient Management | Materials & Equipment Saf...  \n",
       "1  Endodontics | Adjunctive Treatment | INBDE, AD...  \n",
       "2                Evidence-Based Dentistry Part 2.mp4  \n",
       "3  Anatomy and Physiology Chapter 7 Part B Lectur...  \n",
       "4  Patient Management | Public Health & Epidemiol...  "
      ],
      "text/html": [
       "<div>\n",
       "<style scoped>\n",
       "    .dataframe tbody tr th:only-of-type {\n",
       "        vertical-align: middle;\n",
       "    }\n",
       "\n",
       "    .dataframe tbody tr th {\n",
       "        vertical-align: top;\n",
       "    }\n",
       "\n",
       "    .dataframe thead th {\n",
       "        text-align: right;\n",
       "    }\n",
       "</style>\n",
       "<table border=\"1\" class=\"dataframe\">\n",
       "  <thead>\n",
       "    <tr style=\"text-align: right;\">\n",
       "      <th></th>\n",
       "      <th>Unnamed: 0</th>\n",
       "      <th>internal_id</th>\n",
       "      <th>video_id</th>\n",
       "      <th>video_name</th>\n",
       "    </tr>\n",
       "  </thead>\n",
       "  <tbody>\n",
       "    <tr>\n",
       "      <th>0</th>\n",
       "      <td>0</td>\n",
       "      <td>plllkw</td>\n",
       "      <td>hgk8-2Fweb8</td>\n",
       "      <td>Patient Management | Materials &amp; Equipment Saf...</td>\n",
       "    </tr>\n",
       "    <tr>\n",
       "      <th>1</th>\n",
       "      <td>1</td>\n",
       "      <td>xpetji</td>\n",
       "      <td>U6XA28g9tEE</td>\n",
       "      <td>Endodontics | Adjunctive Treatment | INBDE, AD...</td>\n",
       "    </tr>\n",
       "    <tr>\n",
       "      <th>2</th>\n",
       "      <td>2</td>\n",
       "      <td>cxqeox</td>\n",
       "      <td>j0VTYFUMW_M</td>\n",
       "      <td>Evidence-Based Dentistry Part 2.mp4</td>\n",
       "    </tr>\n",
       "    <tr>\n",
       "      <th>3</th>\n",
       "      <td>3</td>\n",
       "      <td>ufwmpg</td>\n",
       "      <td>3p1-xzfdJCA</td>\n",
       "      <td>Anatomy and Physiology Chapter 7 Part B Lectur...</td>\n",
       "    </tr>\n",
       "    <tr>\n",
       "      <th>4</th>\n",
       "      <td>4</td>\n",
       "      <td>xfzngr</td>\n",
       "      <td>CmION0EvzLc</td>\n",
       "      <td>Patient Management | Public Health &amp; Epidemiol...</td>\n",
       "    </tr>\n",
       "  </tbody>\n",
       "</table>\n",
       "</div>"
      ]
     },
     "execution_count": 15,
     "metadata": {},
     "output_type": "execute_result"
    }
   ],
   "execution_count": 15
  },
  {
   "metadata": {
    "ExecuteTime": {
     "end_time": "2025-05-11T04:42:19.267961Z",
     "start_time": "2025-05-11T04:42:19.265268Z"
    }
   },
   "cell_type": "code",
   "source": "subset_ref_ts_df.shape",
   "id": "cf846020b266b722",
   "outputs": [
    {
     "data": {
      "text/plain": [
       "(99, 2)"
      ]
     },
     "execution_count": 20,
     "metadata": {},
     "output_type": "execute_result"
    }
   ],
   "execution_count": 20
  },
  {
   "metadata": {
    "ExecuteTime": {
     "end_time": "2025-05-11T04:44:06.677841Z",
     "start_time": "2025-05-11T04:44:06.664345Z"
    }
   },
   "cell_type": "code",
   "source": [
    "subset_ref_ts_df = subset_ref_ts_df.astype({\n",
    "    \"video_id\": str,\n",
    "})\n",
    "internal_id_to_video_id_df = internal_id_to_video_id_df.astype(\n",
    "    {\n",
    "        \"video_id\": str,\n",
    "    }\n",
    ")"
   ],
   "id": "1f338d84f3d6d54d",
   "outputs": [],
   "execution_count": 24
  },
  {
   "metadata": {
    "ExecuteTime": {
     "end_time": "2025-05-11T04:45:02.243433Z",
     "start_time": "2025-05-11T04:45:02.240433Z"
    }
   },
   "cell_type": "code",
   "source": "subset_ref_ts_df.set_index(\"video_id\", inplace=True)",
   "id": "66fb97b3c9169495",
   "outputs": [],
   "execution_count": 28
  },
  {
   "metadata": {
    "ExecuteTime": {
     "end_time": "2025-05-11T04:45:07.369879Z",
     "start_time": "2025-05-11T04:45:07.365312Z"
    }
   },
   "cell_type": "code",
   "source": "subset_ref_ts_df.head()",
   "id": "2ed9160f2260b76e",
   "outputs": [
    {
     "data": {
      "text/plain": [
       "                                                    timestamps\n",
       "video_id                                                      \n",
       "_BvFr9HEiQg  [24.961, 70.2913, 107.3214, 145.5609, 187.3366...\n",
       "_e_B8rTl_rU  [32.3223, 48.3223, 95.8223, 258.6495, 273.6494...\n",
       "1gB90u2JOYg  [19.1948, 290.0761, 361.9277, 607.3729, 684.87...\n",
       "2No3_SGYWhk  [19.3056, 164.3056, 249.3056, 382.3056, 490.80...\n",
       "2RkiPyrUxw8  [21.7656, 206.4182, 236.9182, 390.9182, 470.91..."
      ],
      "text/html": [
       "<div>\n",
       "<style scoped>\n",
       "    .dataframe tbody tr th:only-of-type {\n",
       "        vertical-align: middle;\n",
       "    }\n",
       "\n",
       "    .dataframe tbody tr th {\n",
       "        vertical-align: top;\n",
       "    }\n",
       "\n",
       "    .dataframe thead th {\n",
       "        text-align: right;\n",
       "    }\n",
       "</style>\n",
       "<table border=\"1\" class=\"dataframe\">\n",
       "  <thead>\n",
       "    <tr style=\"text-align: right;\">\n",
       "      <th></th>\n",
       "      <th>timestamps</th>\n",
       "    </tr>\n",
       "    <tr>\n",
       "      <th>video_id</th>\n",
       "      <th></th>\n",
       "    </tr>\n",
       "  </thead>\n",
       "  <tbody>\n",
       "    <tr>\n",
       "      <th>_BvFr9HEiQg</th>\n",
       "      <td>[24.961, 70.2913, 107.3214, 145.5609, 187.3366...</td>\n",
       "    </tr>\n",
       "    <tr>\n",
       "      <th>_e_B8rTl_rU</th>\n",
       "      <td>[32.3223, 48.3223, 95.8223, 258.6495, 273.6494...</td>\n",
       "    </tr>\n",
       "    <tr>\n",
       "      <th>1gB90u2JOYg</th>\n",
       "      <td>[19.1948, 290.0761, 361.9277, 607.3729, 684.87...</td>\n",
       "    </tr>\n",
       "    <tr>\n",
       "      <th>2No3_SGYWhk</th>\n",
       "      <td>[19.3056, 164.3056, 249.3056, 382.3056, 490.80...</td>\n",
       "    </tr>\n",
       "    <tr>\n",
       "      <th>2RkiPyrUxw8</th>\n",
       "      <td>[21.7656, 206.4182, 236.9182, 390.9182, 470.91...</td>\n",
       "    </tr>\n",
       "  </tbody>\n",
       "</table>\n",
       "</div>"
      ]
     },
     "execution_count": 29,
     "metadata": {},
     "output_type": "execute_result"
    }
   ],
   "execution_count": 29
  },
  {
   "metadata": {
    "ExecuteTime": {
     "end_time": "2025-05-11T04:45:30.633333Z",
     "start_time": "2025-05-11T04:45:30.619047Z"
    }
   },
   "cell_type": "code",
   "source": [
    "internal_id_to_video_id_df.set_index(\"video_id\", inplace=True)\n",
    "internal_id_to_video_id_df.head()"
   ],
   "id": "e05c8e4528c10217",
   "outputs": [
    {
     "data": {
      "text/plain": [
       "             Unnamed: 0 internal_id  \\\n",
       "video_id                              \n",
       "hgk8-2Fweb8           0      plllkw   \n",
       "U6XA28g9tEE           1      xpetji   \n",
       "j0VTYFUMW_M           2      cxqeox   \n",
       "3p1-xzfdJCA           3      ufwmpg   \n",
       "CmION0EvzLc           4      xfzngr   \n",
       "\n",
       "                                                    video_name  \n",
       "video_id                                                        \n",
       "hgk8-2Fweb8  Patient Management | Materials & Equipment Saf...  \n",
       "U6XA28g9tEE  Endodontics | Adjunctive Treatment | INBDE, AD...  \n",
       "j0VTYFUMW_M                Evidence-Based Dentistry Part 2.mp4  \n",
       "3p1-xzfdJCA  Anatomy and Physiology Chapter 7 Part B Lectur...  \n",
       "CmION0EvzLc  Patient Management | Public Health & Epidemiol...  "
      ],
      "text/html": [
       "<div>\n",
       "<style scoped>\n",
       "    .dataframe tbody tr th:only-of-type {\n",
       "        vertical-align: middle;\n",
       "    }\n",
       "\n",
       "    .dataframe tbody tr th {\n",
       "        vertical-align: top;\n",
       "    }\n",
       "\n",
       "    .dataframe thead th {\n",
       "        text-align: right;\n",
       "    }\n",
       "</style>\n",
       "<table border=\"1\" class=\"dataframe\">\n",
       "  <thead>\n",
       "    <tr style=\"text-align: right;\">\n",
       "      <th></th>\n",
       "      <th>Unnamed: 0</th>\n",
       "      <th>internal_id</th>\n",
       "      <th>video_name</th>\n",
       "    </tr>\n",
       "    <tr>\n",
       "      <th>video_id</th>\n",
       "      <th></th>\n",
       "      <th></th>\n",
       "      <th></th>\n",
       "    </tr>\n",
       "  </thead>\n",
       "  <tbody>\n",
       "    <tr>\n",
       "      <th>hgk8-2Fweb8</th>\n",
       "      <td>0</td>\n",
       "      <td>plllkw</td>\n",
       "      <td>Patient Management | Materials &amp; Equipment Saf...</td>\n",
       "    </tr>\n",
       "    <tr>\n",
       "      <th>U6XA28g9tEE</th>\n",
       "      <td>1</td>\n",
       "      <td>xpetji</td>\n",
       "      <td>Endodontics | Adjunctive Treatment | INBDE, AD...</td>\n",
       "    </tr>\n",
       "    <tr>\n",
       "      <th>j0VTYFUMW_M</th>\n",
       "      <td>2</td>\n",
       "      <td>cxqeox</td>\n",
       "      <td>Evidence-Based Dentistry Part 2.mp4</td>\n",
       "    </tr>\n",
       "    <tr>\n",
       "      <th>3p1-xzfdJCA</th>\n",
       "      <td>3</td>\n",
       "      <td>ufwmpg</td>\n",
       "      <td>Anatomy and Physiology Chapter 7 Part B Lectur...</td>\n",
       "    </tr>\n",
       "    <tr>\n",
       "      <th>CmION0EvzLc</th>\n",
       "      <td>4</td>\n",
       "      <td>xfzngr</td>\n",
       "      <td>Patient Management | Public Health &amp; Epidemiol...</td>\n",
       "    </tr>\n",
       "  </tbody>\n",
       "</table>\n",
       "</div>"
      ]
     },
     "execution_count": 30,
     "metadata": {},
     "output_type": "execute_result"
    }
   ],
   "execution_count": 30
  },
  {
   "metadata": {
    "ExecuteTime": {
     "end_time": "2025-05-11T04:46:19.544139Z",
     "start_time": "2025-05-11T04:46:19.540414Z"
    }
   },
   "cell_type": "code",
   "source": "subset_ref_ts_df_with_internal_id = subset_ref_ts_df.join(internal_id_to_video_id_df, on=\"video_id\", how=\"left\")",
   "id": "45c2eb7c56a174c9",
   "outputs": [],
   "execution_count": 34
  },
  {
   "metadata": {
    "ExecuteTime": {
     "end_time": "2025-05-11T04:47:07.255645Z",
     "start_time": "2025-05-11T04:47:07.235084Z"
    }
   },
   "cell_type": "code",
   "source": [
    "subset_ref_ts_df_with_internal_id.drop_duplicates()\n",
    "subset_ref_ts_df_with_internal_id.dropna()"
   ],
   "id": "3a00c535049ad6ca",
   "outputs": [
    {
     "data": {
      "text/plain": [
       "                                                    timestamps  Unnamed: 0  \\\n",
       "video_id                                                                     \n",
       "_BvFr9HEiQg  [24.961, 70.2913, 107.3214, 145.5609, 187.3366...          69   \n",
       "_e_B8rTl_rU  [32.3223, 48.3223, 95.8223, 258.6495, 273.6494...          49   \n",
       "1gB90u2JOYg  [19.1948, 290.0761, 361.9277, 607.3729, 684.87...          29   \n",
       "2No3_SGYWhk  [19.3056, 164.3056, 249.3056, 382.3056, 490.80...          65   \n",
       "2RkiPyrUxw8  [21.7656, 206.4182, 236.9182, 390.9182, 470.91...         102   \n",
       "...                                                        ...         ...   \n",
       "XV2vQEfJccE  [13.4642, 44.9642, 119.4642, 201.9642, 239.464...          34   \n",
       "y5KMF4sUHEg  [11.7746, 180.7746, 309.2745, 469.2745, 576.27...          30   \n",
       "Ybv_JU0IoEM  [76.1287, 102.6287, 163.6287, 223.1287, 301.62...          21   \n",
       "Yeq6LO3q4Vo  [45.8432, 90.3432, 122.3432, 141.3432, 304.843...          71   \n",
       "YVlsHc5SvOs  [19.7317, 156.7317, 199.2317, 258.2317, 371.23...          40   \n",
       "\n",
       "            internal_id                                         video_name  \n",
       "video_id                                                                    \n",
       "_BvFr9HEiQg      mhhqzg  Human Biology Lecture: Chapter 18- Reproductio...  \n",
       "_e_B8rTl_rU      yaldqc  Pediatric Dentistry | Developmental Disturbanc...  \n",
       "1gB90u2JOYg      znavfo   Head & Neck Anatomy | Cranial Nerves | INBDE.mp4  \n",
       "2No3_SGYWhk      aqqzpy  Prosthodontics | Mandibular Edentulous Anatomy...  \n",
       "2RkiPyrUxw8      sdcniw     Periodontics | Local Factors | INBDE, ADAT.mp4  \n",
       "...                 ...                                                ...  \n",
       "XV2vQEfJccE      ejftjw  Prosthodontics | Dental Cements | INBDE, ADAT.mp4  \n",
       "y5KMF4sUHEg      vxcarn  Developmental Psychology - Cognitive & Physica...  \n",
       "Ybv_JU0IoEM      zlervx  Human Anatomy Lecture  Ch 17 Endocrine System ...  \n",
       "Yeq6LO3q4Vo      wzxlvf  Periodontics | New Classification System | INB...  \n",
       "YVlsHc5SvOs      shngtp  Periodontics | Adjunctive Therapy | INBDE, ADA...  \n",
       "\n",
       "[120 rows x 4 columns]"
      ],
      "text/html": [
       "<div>\n",
       "<style scoped>\n",
       "    .dataframe tbody tr th:only-of-type {\n",
       "        vertical-align: middle;\n",
       "    }\n",
       "\n",
       "    .dataframe tbody tr th {\n",
       "        vertical-align: top;\n",
       "    }\n",
       "\n",
       "    .dataframe thead th {\n",
       "        text-align: right;\n",
       "    }\n",
       "</style>\n",
       "<table border=\"1\" class=\"dataframe\">\n",
       "  <thead>\n",
       "    <tr style=\"text-align: right;\">\n",
       "      <th></th>\n",
       "      <th>timestamps</th>\n",
       "      <th>Unnamed: 0</th>\n",
       "      <th>internal_id</th>\n",
       "      <th>video_name</th>\n",
       "    </tr>\n",
       "    <tr>\n",
       "      <th>video_id</th>\n",
       "      <th></th>\n",
       "      <th></th>\n",
       "      <th></th>\n",
       "      <th></th>\n",
       "    </tr>\n",
       "  </thead>\n",
       "  <tbody>\n",
       "    <tr>\n",
       "      <th>_BvFr9HEiQg</th>\n",
       "      <td>[24.961, 70.2913, 107.3214, 145.5609, 187.3366...</td>\n",
       "      <td>69</td>\n",
       "      <td>mhhqzg</td>\n",
       "      <td>Human Biology Lecture: Chapter 18- Reproductio...</td>\n",
       "    </tr>\n",
       "    <tr>\n",
       "      <th>_e_B8rTl_rU</th>\n",
       "      <td>[32.3223, 48.3223, 95.8223, 258.6495, 273.6494...</td>\n",
       "      <td>49</td>\n",
       "      <td>yaldqc</td>\n",
       "      <td>Pediatric Dentistry | Developmental Disturbanc...</td>\n",
       "    </tr>\n",
       "    <tr>\n",
       "      <th>1gB90u2JOYg</th>\n",
       "      <td>[19.1948, 290.0761, 361.9277, 607.3729, 684.87...</td>\n",
       "      <td>29</td>\n",
       "      <td>znavfo</td>\n",
       "      <td>Head &amp; Neck Anatomy | Cranial Nerves | INBDE.mp4</td>\n",
       "    </tr>\n",
       "    <tr>\n",
       "      <th>2No3_SGYWhk</th>\n",
       "      <td>[19.3056, 164.3056, 249.3056, 382.3056, 490.80...</td>\n",
       "      <td>65</td>\n",
       "      <td>aqqzpy</td>\n",
       "      <td>Prosthodontics | Mandibular Edentulous Anatomy...</td>\n",
       "    </tr>\n",
       "    <tr>\n",
       "      <th>2RkiPyrUxw8</th>\n",
       "      <td>[21.7656, 206.4182, 236.9182, 390.9182, 470.91...</td>\n",
       "      <td>102</td>\n",
       "      <td>sdcniw</td>\n",
       "      <td>Periodontics | Local Factors | INBDE, ADAT.mp4</td>\n",
       "    </tr>\n",
       "    <tr>\n",
       "      <th>...</th>\n",
       "      <td>...</td>\n",
       "      <td>...</td>\n",
       "      <td>...</td>\n",
       "      <td>...</td>\n",
       "    </tr>\n",
       "    <tr>\n",
       "      <th>XV2vQEfJccE</th>\n",
       "      <td>[13.4642, 44.9642, 119.4642, 201.9642, 239.464...</td>\n",
       "      <td>34</td>\n",
       "      <td>ejftjw</td>\n",
       "      <td>Prosthodontics | Dental Cements | INBDE, ADAT.mp4</td>\n",
       "    </tr>\n",
       "    <tr>\n",
       "      <th>y5KMF4sUHEg</th>\n",
       "      <td>[11.7746, 180.7746, 309.2745, 469.2745, 576.27...</td>\n",
       "      <td>30</td>\n",
       "      <td>vxcarn</td>\n",
       "      <td>Developmental Psychology - Cognitive &amp; Physica...</td>\n",
       "    </tr>\n",
       "    <tr>\n",
       "      <th>Ybv_JU0IoEM</th>\n",
       "      <td>[76.1287, 102.6287, 163.6287, 223.1287, 301.62...</td>\n",
       "      <td>21</td>\n",
       "      <td>zlervx</td>\n",
       "      <td>Human Anatomy Lecture  Ch 17 Endocrine System ...</td>\n",
       "    </tr>\n",
       "    <tr>\n",
       "      <th>Yeq6LO3q4Vo</th>\n",
       "      <td>[45.8432, 90.3432, 122.3432, 141.3432, 304.843...</td>\n",
       "      <td>71</td>\n",
       "      <td>wzxlvf</td>\n",
       "      <td>Periodontics | New Classification System | INB...</td>\n",
       "    </tr>\n",
       "    <tr>\n",
       "      <th>YVlsHc5SvOs</th>\n",
       "      <td>[19.7317, 156.7317, 199.2317, 258.2317, 371.23...</td>\n",
       "      <td>40</td>\n",
       "      <td>shngtp</td>\n",
       "      <td>Periodontics | Adjunctive Therapy | INBDE, ADA...</td>\n",
       "    </tr>\n",
       "  </tbody>\n",
       "</table>\n",
       "<p>120 rows × 4 columns</p>\n",
       "</div>"
      ]
     },
     "execution_count": 38,
     "metadata": {},
     "output_type": "execute_result"
    }
   ],
   "execution_count": 38
  },
  {
   "metadata": {
    "ExecuteTime": {
     "end_time": "2025-05-11T04:48:56.375467Z",
     "start_time": "2025-05-11T04:48:56.372624Z"
    }
   },
   "cell_type": "code",
   "source": "subset_ref_ts_df_with_internal_id = subset_ref_ts_df_with_internal_id.reset_index()",
   "id": "19d1e7007f7b741e",
   "outputs": [],
   "execution_count": 41
  },
  {
   "metadata": {
    "ExecuteTime": {
     "end_time": "2025-05-11T04:50:21.539647Z",
     "start_time": "2025-05-11T04:50:21.520993Z"
    }
   },
   "cell_type": "code",
   "source": "subset_ref_ts_df_with_internal_id.head()",
   "id": "25da783a7b7bd71e",
   "outputs": [
    {
     "data": {
      "text/plain": [
       "      video_id                                         timestamps  Unnamed: 0  \\\n",
       "0  _BvFr9HEiQg  [24.961, 70.2913, 107.3214, 145.5609, 187.3366...          69   \n",
       "1  _e_B8rTl_rU  [32.3223, 48.3223, 95.8223, 258.6495, 273.6494...          49   \n",
       "2  1gB90u2JOYg  [19.1948, 290.0761, 361.9277, 607.3729, 684.87...          29   \n",
       "3  2No3_SGYWhk  [19.3056, 164.3056, 249.3056, 382.3056, 490.80...          65   \n",
       "4  2RkiPyrUxw8  [21.7656, 206.4182, 236.9182, 390.9182, 470.91...         102   \n",
       "\n",
       "  internal_id                                         video_name  \n",
       "0      mhhqzg  Human Biology Lecture: Chapter 18- Reproductio...  \n",
       "1      yaldqc  Pediatric Dentistry | Developmental Disturbanc...  \n",
       "2      znavfo   Head & Neck Anatomy | Cranial Nerves | INBDE.mp4  \n",
       "3      aqqzpy  Prosthodontics | Mandibular Edentulous Anatomy...  \n",
       "4      sdcniw     Periodontics | Local Factors | INBDE, ADAT.mp4  "
      ],
      "text/html": [
       "<div>\n",
       "<style scoped>\n",
       "    .dataframe tbody tr th:only-of-type {\n",
       "        vertical-align: middle;\n",
       "    }\n",
       "\n",
       "    .dataframe tbody tr th {\n",
       "        vertical-align: top;\n",
       "    }\n",
       "\n",
       "    .dataframe thead th {\n",
       "        text-align: right;\n",
       "    }\n",
       "</style>\n",
       "<table border=\"1\" class=\"dataframe\">\n",
       "  <thead>\n",
       "    <tr style=\"text-align: right;\">\n",
       "      <th></th>\n",
       "      <th>video_id</th>\n",
       "      <th>timestamps</th>\n",
       "      <th>Unnamed: 0</th>\n",
       "      <th>internal_id</th>\n",
       "      <th>video_name</th>\n",
       "    </tr>\n",
       "  </thead>\n",
       "  <tbody>\n",
       "    <tr>\n",
       "      <th>0</th>\n",
       "      <td>_BvFr9HEiQg</td>\n",
       "      <td>[24.961, 70.2913, 107.3214, 145.5609, 187.3366...</td>\n",
       "      <td>69</td>\n",
       "      <td>mhhqzg</td>\n",
       "      <td>Human Biology Lecture: Chapter 18- Reproductio...</td>\n",
       "    </tr>\n",
       "    <tr>\n",
       "      <th>1</th>\n",
       "      <td>_e_B8rTl_rU</td>\n",
       "      <td>[32.3223, 48.3223, 95.8223, 258.6495, 273.6494...</td>\n",
       "      <td>49</td>\n",
       "      <td>yaldqc</td>\n",
       "      <td>Pediatric Dentistry | Developmental Disturbanc...</td>\n",
       "    </tr>\n",
       "    <tr>\n",
       "      <th>2</th>\n",
       "      <td>1gB90u2JOYg</td>\n",
       "      <td>[19.1948, 290.0761, 361.9277, 607.3729, 684.87...</td>\n",
       "      <td>29</td>\n",
       "      <td>znavfo</td>\n",
       "      <td>Head &amp; Neck Anatomy | Cranial Nerves | INBDE.mp4</td>\n",
       "    </tr>\n",
       "    <tr>\n",
       "      <th>3</th>\n",
       "      <td>2No3_SGYWhk</td>\n",
       "      <td>[19.3056, 164.3056, 249.3056, 382.3056, 490.80...</td>\n",
       "      <td>65</td>\n",
       "      <td>aqqzpy</td>\n",
       "      <td>Prosthodontics | Mandibular Edentulous Anatomy...</td>\n",
       "    </tr>\n",
       "    <tr>\n",
       "      <th>4</th>\n",
       "      <td>2RkiPyrUxw8</td>\n",
       "      <td>[21.7656, 206.4182, 236.9182, 390.9182, 470.91...</td>\n",
       "      <td>102</td>\n",
       "      <td>sdcniw</td>\n",
       "      <td>Periodontics | Local Factors | INBDE, ADAT.mp4</td>\n",
       "    </tr>\n",
       "  </tbody>\n",
       "</table>\n",
       "</div>"
      ]
     },
     "execution_count": 44,
     "metadata": {},
     "output_type": "execute_result"
    }
   ],
   "execution_count": 44
  },
  {
   "metadata": {
    "ExecuteTime": {
     "end_time": "2025-05-11T04:51:26.665985Z",
     "start_time": "2025-05-11T04:51:26.658074Z"
    }
   },
   "cell_type": "code",
   "source": "subset_ref_ts_df_with_internal_id = subset_ref_ts_df_with_internal_id[[\"internal_id\", \"video_id\", \"video_name\", \"timestamps\"]]",
   "id": "8e95397abf3c6b14",
   "outputs": [],
   "execution_count": 46
  },
  {
   "metadata": {
    "ExecuteTime": {
     "end_time": "2025-05-11T04:53:09.802505Z",
     "start_time": "2025-05-11T04:53:09.796864Z"
    }
   },
   "cell_type": "code",
   "source": [
    "from pathlib import Path\n",
    "\n",
    "dir_27 = \"/home/vedant/Desktop/glimpsify/most_info_frame_extractor/experiments/27\"\n",
    "file_name = Path(dir_27) / \"ref_timestamps_with_internal_id.csv\""
   ],
   "id": "fa67ad3deb90c80a",
   "outputs": [],
   "execution_count": 48
  },
  {
   "metadata": {
    "ExecuteTime": {
     "end_time": "2025-05-11T04:53:13.693135Z",
     "start_time": "2025-05-11T04:53:13.681708Z"
    }
   },
   "cell_type": "code",
   "source": "subset_ref_ts_df_with_internal_id.to_csv(file_name, index=False)",
   "id": "45cea92ccc3dbb15",
   "outputs": [],
   "execution_count": 49
  },
  {
   "metadata": {},
   "cell_type": "code",
   "outputs": [],
   "execution_count": null,
   "source": "",
   "id": "7d049c8ecafb8367"
  }
 ],
 "metadata": {
  "kernelspec": {
   "display_name": "Python 3",
   "language": "python",
   "name": "python3"
  },
  "language_info": {
   "codemirror_mode": {
    "name": "ipython",
    "version": 2
   },
   "file_extension": ".py",
   "mimetype": "text/x-python",
   "name": "python",
   "nbconvert_exporter": "python",
   "pygments_lexer": "ipython2",
   "version": "2.7.6"
  }
 },
 "nbformat": 4,
 "nbformat_minor": 5
}
