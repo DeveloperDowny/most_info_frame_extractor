{
 "cells": [
  {
   "metadata": {
    "ExecuteTime": {
     "end_time": "2025-05-14T13:13:56.835034Z",
     "start_time": "2025-05-14T13:13:56.641823Z"
    }
   },
   "cell_type": "code",
   "source": [
    "\n",
    "from pathlib import Path\n"
   ],
   "id": "c3e15325c24144a1",
   "outputs": [],
   "execution_count": 1
  },
  {
   "metadata": {
    "ExecuteTime": {
     "end_time": "2025-05-14T13:13:56.940558Z",
     "start_time": "2025-05-14T13:13:56.847577Z"
    }
   },
   "cell_type": "code",
   "source": [
    "from video2pdf.utils.evaluation import get_pdf_files, build_pdf_files_df, clean_df\n",
    "import pandas as pd\n",
    "\n",
    "import pandas as pd\n",
    "import fitz  # PyMuPDF\n",
    "from PIL import Image\n",
    "import imagehash\n",
    "import io"
   ],
   "id": "2fb22b374ffb405d",
   "outputs": [],
   "execution_count": 2
  },
  {
   "metadata": {
    "ExecuteTime": {
     "end_time": "2025-05-14T13:13:57.032913Z",
     "start_time": "2025-05-14T13:13:57.031362Z"
    }
   },
   "cell_type": "code",
   "source": [
    "reference_pdfs_folder_path = Path(\"/home/vedant/Downloads/reference-pdfs-v1\")\n",
    "# generated_pdfs_folder_path = Path(\"/home/vedant/Downloads/key-frame-extraction-results-v1/result-pdfs\") # peak prominence\n",
    "generated_pdfs_folder_path = Path(\n",
    "    \"/home/vedant/Desktop/glimpsify/most_info_frame_extractor/video2pdf/archives/data_archive_31\")\n",
    "output_path = Path(\"./28/evaluation_report_k_trans_v3.csv\")\n"
   ],
   "id": "d27c98b9c7da36a2",
   "outputs": [],
   "execution_count": 3
  },
  {
   "metadata": {
    "ExecuteTime": {
     "end_time": "2025-05-14T13:13:57.142458Z",
     "start_time": "2025-05-14T13:13:57.091020Z"
    }
   },
   "cell_type": "code",
   "source": [
    "# ---- Get pdf files from folder\n",
    "reference_pdf_files = get_pdf_files(reference_pdfs_folder_path)\n",
    "generated_pdf_files = get_pdf_files(generated_pdfs_folder_path)\n",
    "\n",
    "# ---- Build df for the pdf files\n",
    "# ---- Columns would be `internal_id`, `pdf_path`\n",
    "reference_pdf_files_df = build_pdf_files_df(reference_pdf_files)\n",
    "generated_pdf_files_df = build_pdf_files_df(generated_pdf_files)\n",
    "\n",
    "# ---- Clean df; drop duplicate pdfs for same internal_id\n",
    "reference_pdf_files_df = clean_df(reference_pdf_files_df)\n",
    "generated_pdf_files_df = clean_df(generated_pdf_files_df)\n",
    "\n",
    "# ---- Keep only those generated pdfs for which we have reference pdfs\n",
    "generated_pdf_files_subset_df = generated_pdf_files_df[\n",
    "    generated_pdf_files_df[\"internal_id\"].isin(reference_pdf_files_df[\"internal_id\"])]"
   ],
   "id": "5d40f69c4b566d8a",
   "outputs": [],
   "execution_count": 4
  },
  {
   "metadata": {
    "ExecuteTime": {
     "end_time": "2025-05-14T13:13:57.197184Z",
     "start_time": "2025-05-14T13:13:57.185050Z"
    }
   },
   "cell_type": "code",
   "source": [
    "folder = \"zgpqgn\"\n",
    "reference_pdf_files_df[reference_pdf_files_df[\"internal_id\"] == folder].empty\n"
   ],
   "id": "61159aa82a216aa5",
   "outputs": [
    {
     "data": {
      "text/plain": [
       "False"
      ]
     },
     "execution_count": 5,
     "metadata": {},
     "output_type": "execute_result"
    }
   ],
   "execution_count": 5
  },
  {
   "metadata": {
    "ExecuteTime": {
     "end_time": "2025-05-14T13:13:57.239905Z",
     "start_time": "2025-05-14T13:13:57.238236Z"
    }
   },
   "cell_type": "code",
   "source": "",
   "id": "36e640962656ac96",
   "outputs": [],
   "execution_count": null
  },
  {
   "metadata": {
    "ExecuteTime": {
     "end_time": "2025-05-14T13:13:57.293174Z",
     "start_time": "2025-05-14T13:13:57.290662Z"
    }
   },
   "cell_type": "code",
   "source": [
    "generated_pdf_files_subset_df.set_index(\"internal_id\", inplace=True)\n",
    "reference_pdf_files_df.set_index(\"internal_id\", inplace=True)"
   ],
   "id": "68c34cc457697388",
   "outputs": [],
   "execution_count": 6
  },
  {
   "metadata": {
    "ExecuteTime": {
     "end_time": "2025-05-14T13:13:57.353349Z",
     "start_time": "2025-05-14T13:13:57.346546Z"
    }
   },
   "cell_type": "code",
   "source": "generated_pdf_files_subset_df.head()",
   "id": "717fee8dabc3a2e5",
   "outputs": [
    {
     "data": {
      "text/plain": [
       "                                                      pdf_path\n",
       "internal_id                                                   \n",
       "lxwqhv       /home/vedant/Desktop/glimpsify/most_info_frame...\n",
       "vqesbr       /home/vedant/Desktop/glimpsify/most_info_frame...\n",
       "wayvbl       /home/vedant/Desktop/glimpsify/most_info_frame...\n",
       "zrkmxn       /home/vedant/Desktop/glimpsify/most_info_frame...\n",
       "aryrsb       /home/vedant/Desktop/glimpsify/most_info_frame..."
      ],
      "text/html": [
       "<div>\n",
       "<style scoped>\n",
       "    .dataframe tbody tr th:only-of-type {\n",
       "        vertical-align: middle;\n",
       "    }\n",
       "\n",
       "    .dataframe tbody tr th {\n",
       "        vertical-align: top;\n",
       "    }\n",
       "\n",
       "    .dataframe thead th {\n",
       "        text-align: right;\n",
       "    }\n",
       "</style>\n",
       "<table border=\"1\" class=\"dataframe\">\n",
       "  <thead>\n",
       "    <tr style=\"text-align: right;\">\n",
       "      <th></th>\n",
       "      <th>pdf_path</th>\n",
       "    </tr>\n",
       "    <tr>\n",
       "      <th>internal_id</th>\n",
       "      <th></th>\n",
       "    </tr>\n",
       "  </thead>\n",
       "  <tbody>\n",
       "    <tr>\n",
       "      <th>lxwqhv</th>\n",
       "      <td>/home/vedant/Desktop/glimpsify/most_info_frame...</td>\n",
       "    </tr>\n",
       "    <tr>\n",
       "      <th>vqesbr</th>\n",
       "      <td>/home/vedant/Desktop/glimpsify/most_info_frame...</td>\n",
       "    </tr>\n",
       "    <tr>\n",
       "      <th>wayvbl</th>\n",
       "      <td>/home/vedant/Desktop/glimpsify/most_info_frame...</td>\n",
       "    </tr>\n",
       "    <tr>\n",
       "      <th>zrkmxn</th>\n",
       "      <td>/home/vedant/Desktop/glimpsify/most_info_frame...</td>\n",
       "    </tr>\n",
       "    <tr>\n",
       "      <th>aryrsb</th>\n",
       "      <td>/home/vedant/Desktop/glimpsify/most_info_frame...</td>\n",
       "    </tr>\n",
       "  </tbody>\n",
       "</table>\n",
       "</div>"
      ]
     },
     "execution_count": 7,
     "metadata": {},
     "output_type": "execute_result"
    }
   ],
   "execution_count": 7
  },
  {
   "metadata": {
    "ExecuteTime": {
     "end_time": "2025-05-14T13:13:57.425501Z",
     "start_time": "2025-05-14T13:13:57.421875Z"
    }
   },
   "cell_type": "code",
   "source": "reference_pdf_files_df.head()",
   "id": "b93d40dd0f0e0470",
   "outputs": [
    {
     "data": {
      "text/plain": [
       "                                                      pdf_path\n",
       "internal_id                                                   \n",
       "zgpqgn       /home/vedant/Downloads/reference-pdfs-v1/zgpqg...\n",
       "olaqxj       /home/vedant/Downloads/reference-pdfs-v1/olaqx...\n",
       "aqeiwr       /home/vedant/Downloads/reference-pdfs-v1/aqeiw...\n",
       "xpetji       /home/vedant/Downloads/reference-pdfs-v1/xpetj...\n",
       "xtlxph       /home/vedant/Downloads/reference-pdfs-v1/xtlxp..."
      ],
      "text/html": [
       "<div>\n",
       "<style scoped>\n",
       "    .dataframe tbody tr th:only-of-type {\n",
       "        vertical-align: middle;\n",
       "    }\n",
       "\n",
       "    .dataframe tbody tr th {\n",
       "        vertical-align: top;\n",
       "    }\n",
       "\n",
       "    .dataframe thead th {\n",
       "        text-align: right;\n",
       "    }\n",
       "</style>\n",
       "<table border=\"1\" class=\"dataframe\">\n",
       "  <thead>\n",
       "    <tr style=\"text-align: right;\">\n",
       "      <th></th>\n",
       "      <th>pdf_path</th>\n",
       "    </tr>\n",
       "    <tr>\n",
       "      <th>internal_id</th>\n",
       "      <th></th>\n",
       "    </tr>\n",
       "  </thead>\n",
       "  <tbody>\n",
       "    <tr>\n",
       "      <th>zgpqgn</th>\n",
       "      <td>/home/vedant/Downloads/reference-pdfs-v1/zgpqg...</td>\n",
       "    </tr>\n",
       "    <tr>\n",
       "      <th>olaqxj</th>\n",
       "      <td>/home/vedant/Downloads/reference-pdfs-v1/olaqx...</td>\n",
       "    </tr>\n",
       "    <tr>\n",
       "      <th>aqeiwr</th>\n",
       "      <td>/home/vedant/Downloads/reference-pdfs-v1/aqeiw...</td>\n",
       "    </tr>\n",
       "    <tr>\n",
       "      <th>xpetji</th>\n",
       "      <td>/home/vedant/Downloads/reference-pdfs-v1/xpetj...</td>\n",
       "    </tr>\n",
       "    <tr>\n",
       "      <th>xtlxph</th>\n",
       "      <td>/home/vedant/Downloads/reference-pdfs-v1/xtlxp...</td>\n",
       "    </tr>\n",
       "  </tbody>\n",
       "</table>\n",
       "</div>"
      ]
     },
     "execution_count": 8,
     "metadata": {},
     "output_type": "execute_result"
    }
   ],
   "execution_count": 8
  },
  {
   "metadata": {
    "ExecuteTime": {
     "end_time": "2025-05-14T13:13:57.522920Z",
     "start_time": "2025-05-14T13:13:57.511461Z"
    }
   },
   "cell_type": "code",
   "source": [
    "evaluation_data_df = generated_pdf_files_subset_df.join(reference_pdf_files_df, on=\"internal_id\", lsuffix=\"_generated\",\n",
    "                                                        rsuffix=\"_reference\")\n",
    "evaluation_data_df.reset_index(inplace=True)\n",
    "evaluation_data_df.head()"
   ],
   "id": "284add1ff25e0e64",
   "outputs": [
    {
     "data": {
      "text/plain": [
       "  internal_id                                 pdf_path_generated  \\\n",
       "0      lxwqhv  /home/vedant/Desktop/glimpsify/most_info_frame...   \n",
       "1      vqesbr  /home/vedant/Desktop/glimpsify/most_info_frame...   \n",
       "2      wayvbl  /home/vedant/Desktop/glimpsify/most_info_frame...   \n",
       "3      zrkmxn  /home/vedant/Desktop/glimpsify/most_info_frame...   \n",
       "4      aryrsb  /home/vedant/Desktop/glimpsify/most_info_frame...   \n",
       "\n",
       "                                  pdf_path_reference  \n",
       "0  /home/vedant/Downloads/reference-pdfs-v1/lxwqh...  \n",
       "1  /home/vedant/Downloads/reference-pdfs-v1/vqesb...  \n",
       "2  /home/vedant/Downloads/reference-pdfs-v1/wayvb...  \n",
       "3  /home/vedant/Downloads/reference-pdfs-v1/zrkmx...  \n",
       "4  /home/vedant/Downloads/reference-pdfs-v1/aryrs...  "
      ],
      "text/html": [
       "<div>\n",
       "<style scoped>\n",
       "    .dataframe tbody tr th:only-of-type {\n",
       "        vertical-align: middle;\n",
       "    }\n",
       "\n",
       "    .dataframe tbody tr th {\n",
       "        vertical-align: top;\n",
       "    }\n",
       "\n",
       "    .dataframe thead th {\n",
       "        text-align: right;\n",
       "    }\n",
       "</style>\n",
       "<table border=\"1\" class=\"dataframe\">\n",
       "  <thead>\n",
       "    <tr style=\"text-align: right;\">\n",
       "      <th></th>\n",
       "      <th>internal_id</th>\n",
       "      <th>pdf_path_generated</th>\n",
       "      <th>pdf_path_reference</th>\n",
       "    </tr>\n",
       "  </thead>\n",
       "  <tbody>\n",
       "    <tr>\n",
       "      <th>0</th>\n",
       "      <td>lxwqhv</td>\n",
       "      <td>/home/vedant/Desktop/glimpsify/most_info_frame...</td>\n",
       "      <td>/home/vedant/Downloads/reference-pdfs-v1/lxwqh...</td>\n",
       "    </tr>\n",
       "    <tr>\n",
       "      <th>1</th>\n",
       "      <td>vqesbr</td>\n",
       "      <td>/home/vedant/Desktop/glimpsify/most_info_frame...</td>\n",
       "      <td>/home/vedant/Downloads/reference-pdfs-v1/vqesb...</td>\n",
       "    </tr>\n",
       "    <tr>\n",
       "      <th>2</th>\n",
       "      <td>wayvbl</td>\n",
       "      <td>/home/vedant/Desktop/glimpsify/most_info_frame...</td>\n",
       "      <td>/home/vedant/Downloads/reference-pdfs-v1/wayvb...</td>\n",
       "    </tr>\n",
       "    <tr>\n",
       "      <th>3</th>\n",
       "      <td>zrkmxn</td>\n",
       "      <td>/home/vedant/Desktop/glimpsify/most_info_frame...</td>\n",
       "      <td>/home/vedant/Downloads/reference-pdfs-v1/zrkmx...</td>\n",
       "    </tr>\n",
       "    <tr>\n",
       "      <th>4</th>\n",
       "      <td>aryrsb</td>\n",
       "      <td>/home/vedant/Desktop/glimpsify/most_info_frame...</td>\n",
       "      <td>/home/vedant/Downloads/reference-pdfs-v1/aryrs...</td>\n",
       "    </tr>\n",
       "  </tbody>\n",
       "</table>\n",
       "</div>"
      ]
     },
     "execution_count": 9,
     "metadata": {},
     "output_type": "execute_result"
    }
   ],
   "execution_count": 9
  },
  {
   "metadata": {
    "ExecuteTime": {
     "end_time": "2025-05-14T13:14:36.987874Z",
     "start_time": "2025-05-14T13:14:36.981462Z"
    }
   },
   "cell_type": "code",
   "source": "evaluation_report_df.head()",
   "id": "3cfa559d3c7a1924",
   "outputs": [
    {
     "data": {
      "text/plain": [
       "  internal_id                                 generated_pdf_path  \\\n",
       "0      lxwqhv  /home/vedant/Desktop/glimpsify/most_info_frame...   \n",
       "1      vqesbr  /home/vedant/Desktop/glimpsify/most_info_frame...   \n",
       "2      wayvbl  /home/vedant/Desktop/glimpsify/most_info_frame...   \n",
       "3      zrkmxn  /home/vedant/Desktop/glimpsify/most_info_frame...   \n",
       "4      aryrsb  /home/vedant/Desktop/glimpsify/most_info_frame...   \n",
       "\n",
       "                                  reference_pdf_path num_of_duplicates  \\\n",
       "0  /home/vedant/Downloads/reference-pdfs-v1/lxwqh...                 4   \n",
       "1  /home/vedant/Downloads/reference-pdfs-v1/vqesb...                 1   \n",
       "2  /home/vedant/Downloads/reference-pdfs-v1/wayvb...                 0   \n",
       "3  /home/vedant/Downloads/reference-pdfs-v1/zrkmx...                 1   \n",
       "4  /home/vedant/Downloads/reference-pdfs-v1/aryrs...                 1   \n",
       "\n",
       "  num_of_missing_key_frames num_of_non_key_frames  \\\n",
       "0                        13                     1   \n",
       "1                         9                     3   \n",
       "2                        39                    20   \n",
       "3                         7                     1   \n",
       "4                         9                     3   \n",
       "\n",
       "  generated_pdf_key_frame_count reference_pdf_key_frame_count  accuracy  \\\n",
       "0                            12                            20  0.350000   \n",
       "1                             8                            13  0.307692   \n",
       "2                            31                            50  0.220000   \n",
       "3                            11                            16  0.562500   \n",
       "4                             8                            13  0.307692   \n",
       "\n",
       "   similarity_score  \n",
       "0          0.333333  \n",
       "1          0.250000  \n",
       "2          0.157143  \n",
       "3          0.529412  \n",
       "4          0.250000  "
      ],
      "text/html": [
       "<div>\n",
       "<style scoped>\n",
       "    .dataframe tbody tr th:only-of-type {\n",
       "        vertical-align: middle;\n",
       "    }\n",
       "\n",
       "    .dataframe tbody tr th {\n",
       "        vertical-align: top;\n",
       "    }\n",
       "\n",
       "    .dataframe thead th {\n",
       "        text-align: right;\n",
       "    }\n",
       "</style>\n",
       "<table border=\"1\" class=\"dataframe\">\n",
       "  <thead>\n",
       "    <tr style=\"text-align: right;\">\n",
       "      <th></th>\n",
       "      <th>internal_id</th>\n",
       "      <th>generated_pdf_path</th>\n",
       "      <th>reference_pdf_path</th>\n",
       "      <th>num_of_duplicates</th>\n",
       "      <th>num_of_missing_key_frames</th>\n",
       "      <th>num_of_non_key_frames</th>\n",
       "      <th>generated_pdf_key_frame_count</th>\n",
       "      <th>reference_pdf_key_frame_count</th>\n",
       "      <th>accuracy</th>\n",
       "      <th>similarity_score</th>\n",
       "    </tr>\n",
       "  </thead>\n",
       "  <tbody>\n",
       "    <tr>\n",
       "      <th>0</th>\n",
       "      <td>lxwqhv</td>\n",
       "      <td>/home/vedant/Desktop/glimpsify/most_info_frame...</td>\n",
       "      <td>/home/vedant/Downloads/reference-pdfs-v1/lxwqh...</td>\n",
       "      <td>4</td>\n",
       "      <td>13</td>\n",
       "      <td>1</td>\n",
       "      <td>12</td>\n",
       "      <td>20</td>\n",
       "      <td>0.350000</td>\n",
       "      <td>0.333333</td>\n",
       "    </tr>\n",
       "    <tr>\n",
       "      <th>1</th>\n",
       "      <td>vqesbr</td>\n",
       "      <td>/home/vedant/Desktop/glimpsify/most_info_frame...</td>\n",
       "      <td>/home/vedant/Downloads/reference-pdfs-v1/vqesb...</td>\n",
       "      <td>1</td>\n",
       "      <td>9</td>\n",
       "      <td>3</td>\n",
       "      <td>8</td>\n",
       "      <td>13</td>\n",
       "      <td>0.307692</td>\n",
       "      <td>0.250000</td>\n",
       "    </tr>\n",
       "    <tr>\n",
       "      <th>2</th>\n",
       "      <td>wayvbl</td>\n",
       "      <td>/home/vedant/Desktop/glimpsify/most_info_frame...</td>\n",
       "      <td>/home/vedant/Downloads/reference-pdfs-v1/wayvb...</td>\n",
       "      <td>0</td>\n",
       "      <td>39</td>\n",
       "      <td>20</td>\n",
       "      <td>31</td>\n",
       "      <td>50</td>\n",
       "      <td>0.220000</td>\n",
       "      <td>0.157143</td>\n",
       "    </tr>\n",
       "    <tr>\n",
       "      <th>3</th>\n",
       "      <td>zrkmxn</td>\n",
       "      <td>/home/vedant/Desktop/glimpsify/most_info_frame...</td>\n",
       "      <td>/home/vedant/Downloads/reference-pdfs-v1/zrkmx...</td>\n",
       "      <td>1</td>\n",
       "      <td>7</td>\n",
       "      <td>1</td>\n",
       "      <td>11</td>\n",
       "      <td>16</td>\n",
       "      <td>0.562500</td>\n",
       "      <td>0.529412</td>\n",
       "    </tr>\n",
       "    <tr>\n",
       "      <th>4</th>\n",
       "      <td>aryrsb</td>\n",
       "      <td>/home/vedant/Desktop/glimpsify/most_info_frame...</td>\n",
       "      <td>/home/vedant/Downloads/reference-pdfs-v1/aryrs...</td>\n",
       "      <td>1</td>\n",
       "      <td>9</td>\n",
       "      <td>3</td>\n",
       "      <td>8</td>\n",
       "      <td>13</td>\n",
       "      <td>0.307692</td>\n",
       "      <td>0.250000</td>\n",
       "    </tr>\n",
       "  </tbody>\n",
       "</table>\n",
       "</div>"
      ]
     },
     "execution_count": 13,
     "metadata": {},
     "output_type": "execute_result"
    }
   ],
   "execution_count": 13
  },
  {
   "metadata": {
    "ExecuteTime": {
     "end_time": "2025-05-14T13:14:37.069631Z",
     "start_time": "2025-05-14T13:14:37.064699Z"
    }
   },
   "cell_type": "code",
   "source": [
    "output_path.parent.mkdir(parents=True, exist_ok=True)\n",
    "\n",
    "evaluation_report_df.to_csv(output_path, index=False)"
   ],
   "id": "717547e284cf4bf8",
   "outputs": [],
   "execution_count": 14
  },
  {
   "metadata": {
    "ExecuteTime": {
     "end_time": "2025-05-14T13:14:37.147693Z",
     "start_time": "2025-05-14T13:14:37.141002Z"
    }
   },
   "cell_type": "code",
   "source": [
    "# Replace 'your_id_here' with the specific internal_id you're looking for\n",
    "filtered_row = evaluation_report_df[evaluation_report_df['internal_id'] == 'gxtjwd']\n",
    "\n",
    "# Display the result\n",
    "filtered_row"
   ],
   "id": "ee1e6e5b3df71b6b",
   "outputs": [
    {
     "data": {
      "text/plain": [
       "   internal_id                                 generated_pdf_path  \\\n",
       "73      gxtjwd  /home/vedant/Desktop/glimpsify/most_info_frame...   \n",
       "\n",
       "                                   reference_pdf_path num_of_duplicates  \\\n",
       "73  /home/vedant/Downloads/reference-pdfs-v1/gxtjw...                 0   \n",
       "\n",
       "   num_of_missing_key_frames num_of_non_key_frames  \\\n",
       "73                         8                     7   \n",
       "\n",
       "   generated_pdf_key_frame_count reference_pdf_key_frame_count  accuracy  \\\n",
       "73                             9                            10       0.2   \n",
       "\n",
       "    similarity_score  \n",
       "73          0.117647  "
      ],
      "text/html": [
       "<div>\n",
       "<style scoped>\n",
       "    .dataframe tbody tr th:only-of-type {\n",
       "        vertical-align: middle;\n",
       "    }\n",
       "\n",
       "    .dataframe tbody tr th {\n",
       "        vertical-align: top;\n",
       "    }\n",
       "\n",
       "    .dataframe thead th {\n",
       "        text-align: right;\n",
       "    }\n",
       "</style>\n",
       "<table border=\"1\" class=\"dataframe\">\n",
       "  <thead>\n",
       "    <tr style=\"text-align: right;\">\n",
       "      <th></th>\n",
       "      <th>internal_id</th>\n",
       "      <th>generated_pdf_path</th>\n",
       "      <th>reference_pdf_path</th>\n",
       "      <th>num_of_duplicates</th>\n",
       "      <th>num_of_missing_key_frames</th>\n",
       "      <th>num_of_non_key_frames</th>\n",
       "      <th>generated_pdf_key_frame_count</th>\n",
       "      <th>reference_pdf_key_frame_count</th>\n",
       "      <th>accuracy</th>\n",
       "      <th>similarity_score</th>\n",
       "    </tr>\n",
       "  </thead>\n",
       "  <tbody>\n",
       "    <tr>\n",
       "      <th>73</th>\n",
       "      <td>gxtjwd</td>\n",
       "      <td>/home/vedant/Desktop/glimpsify/most_info_frame...</td>\n",
       "      <td>/home/vedant/Downloads/reference-pdfs-v1/gxtjw...</td>\n",
       "      <td>0</td>\n",
       "      <td>8</td>\n",
       "      <td>7</td>\n",
       "      <td>9</td>\n",
       "      <td>10</td>\n",
       "      <td>0.2</td>\n",
       "      <td>0.117647</td>\n",
       "    </tr>\n",
       "  </tbody>\n",
       "</table>\n",
       "</div>"
      ]
     },
     "execution_count": 15,
     "metadata": {},
     "output_type": "execute_result"
    }
   ],
   "execution_count": 15
  },
  {
   "metadata": {
    "ExecuteTime": {
     "end_time": "2025-05-14T13:14:37.220038Z",
     "start_time": "2025-05-14T13:14:37.218511Z"
    }
   },
   "cell_type": "code",
   "source": "",
   "id": "277551204d5be0ca",
   "outputs": [],
   "execution_count": null
  },
  {
   "metadata": {
    "ExecuteTime": {
     "end_time": "2025-05-14T13:14:37.280347Z",
     "start_time": "2025-05-14T13:14:37.278799Z"
    }
   },
   "cell_type": "code",
   "source": "",
   "id": "7596353dc2cfcecc",
   "outputs": [],
   "execution_count": null
  },
  {
   "metadata": {
    "ExecuteTime": {
     "end_time": "2025-05-14T13:14:37.322243Z",
     "start_time": "2025-05-14T13:14:37.320660Z"
    }
   },
   "cell_type": "code",
   "source": "",
   "id": "f81d65d9283dec5c",
   "outputs": [],
   "execution_count": null
  }
 ],
 "metadata": {
  "kernelspec": {
   "display_name": "Python 3",
   "language": "python",
   "name": "python3"
  },
  "language_info": {
   "codemirror_mode": {
    "name": "ipython",
    "version": 2
   },
   "file_extension": ".py",
   "mimetype": "text/x-python",
   "name": "python",
   "nbconvert_exporter": "python",
   "pygments_lexer": "ipython2",
   "version": "2.7.6"
  }
 },
 "nbformat": 4,
 "nbformat_minor": 5
}
