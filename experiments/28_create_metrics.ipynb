{
 "cells": [
  {
   "metadata": {
    "ExecuteTime": {
     "end_time": "2025-05-13T18:59:28.555355Z",
     "start_time": "2025-05-13T18:59:28.359157Z"
    }
   },
   "cell_type": "code",
   "source": [
    "\n",
    "from pathlib import Path\n",
    "from typing import List\n",
    "\n",
    "import pandas as pd\n"
   ],
   "id": "c3e15325c24144a1",
   "outputs": [],
   "execution_count": 3
  },
  {
   "metadata": {
    "ExecuteTime": {
     "end_time": "2025-05-13T18:59:28.712775Z",
     "start_time": "2025-05-13T18:59:28.581764Z"
    }
   },
   "cell_type": "code",
   "source": "from video2pdf.utils.evaluation import get_pdf_files, build_pdf_files_df, clean_df",
   "id": "2fb22b374ffb405d",
   "outputs": [],
   "execution_count": 4
  },
  {
   "metadata": {
    "ExecuteTime": {
     "end_time": "2025-05-13T18:59:28.909103Z",
     "start_time": "2025-05-13T18:59:28.906564Z"
    }
   },
   "cell_type": "code",
   "source": [
    "reference_pdfs_folder_path = Path(r\"/home/vedant/Downloads/reference-pdfs-v1\")\n",
    "generated_pdfs_folder_path = Path(r\"/home/vedant/Downloads/key-frame-extraction-results-v1/result-pdfs\")"
   ],
   "id": "d27c98b9c7da36a2",
   "outputs": [],
   "execution_count": 5
  },
  {
   "metadata": {
    "ExecuteTime": {
     "end_time": "2025-05-13T18:59:29.242591Z",
     "start_time": "2025-05-13T18:59:29.184380Z"
    }
   },
   "cell_type": "code",
   "source": [
    "# ---- Get pdf files from folder\n",
    "reference_pdf_files = get_pdf_files(reference_pdfs_folder_path)\n",
    "generated_pdf_files = get_pdf_files(generated_pdfs_folder_path)\n",
    "\n",
    "# ---- Build df for the pdf files\n",
    "# ---- Columns would be `internal_id`, `pdf_path`\n",
    "reference_pdf_files_df = build_pdf_files_df(reference_pdf_files)\n",
    "generated_pdf_files_df = build_pdf_files_df(generated_pdf_files)\n",
    "\n",
    "# ---- Clean df; drop duplicate pdfs for same internal_id\n",
    "reference_pdf_files_df = clean_df(reference_pdf_files_df)\n",
    "generated_pdf_files_df = clean_df(generated_pdf_files_df)\n",
    "\n",
    "# ---- Keep only those generated pdfs for which we have reference pdfs\n",
    "generated_pdf_files_subset_df = generated_pdf_files_df[\n",
    "    generated_pdf_files_df[\"internal_id\"].isin(reference_pdf_files_df[\"internal_id\"])]"
   ],
   "id": "5d40f69c4b566d8a",
   "outputs": [],
   "execution_count": 6
  },
  {
   "metadata": {
    "ExecuteTime": {
     "end_time": "2025-05-13T18:59:44.391918Z",
     "start_time": "2025-05-13T18:59:44.383854Z"
    }
   },
   "cell_type": "code",
   "source": [
    "folder = \"zgpqgn\"\n",
    "reference_pdf_files_df[reference_pdf_files_df[\"internal_id\"] == folder].empty\n"
   ],
   "id": "61159aa82a216aa5",
   "outputs": [
    {
     "data": {
      "text/plain": [
       "False"
      ]
     },
     "execution_count": 8,
     "metadata": {},
     "output_type": "execute_result"
    }
   ],
   "execution_count": 8
  },
  {
   "metadata": {
    "ExecuteTime": {
     "end_time": "2025-05-13T18:13:42.144789Z",
     "start_time": "2025-05-13T18:13:42.142911Z"
    }
   },
   "cell_type": "code",
   "source": "",
   "id": "36e640962656ac96",
   "outputs": [],
   "execution_count": null
  },
  {
   "metadata": {
    "ExecuteTime": {
     "end_time": "2025-05-13T18:13:42.206468Z",
     "start_time": "2025-05-13T18:13:42.203215Z"
    }
   },
   "cell_type": "code",
   "source": [
    "generated_pdf_files_subset_df.set_index(\"internal_id\", inplace=True)\n",
    "reference_pdf_files_df.set_index(\"internal_id\", inplace=True)"
   ],
   "id": "68c34cc457697388",
   "outputs": [],
   "execution_count": 145
  },
  {
   "metadata": {
    "ExecuteTime": {
     "end_time": "2025-05-13T18:13:42.274068Z",
     "start_time": "2025-05-13T18:13:42.268811Z"
    }
   },
   "cell_type": "code",
   "source": "generated_pdf_files_subset_df.head()",
   "id": "717fee8dabc3a2e5",
   "outputs": [
    {
     "data": {
      "text/plain": [
       "                                                      pdf_path\n",
       "internal_id                                                   \n",
       "lhopxd       /home/vedant/Downloads/key-frame-extraction-re...\n",
       "wayvbl       /home/vedant/Downloads/key-frame-extraction-re...\n",
       "ruweka       /home/vedant/Downloads/key-frame-extraction-re...\n",
       "sgmaal       /home/vedant/Downloads/key-frame-extraction-re...\n",
       "bmqioa       /home/vedant/Downloads/key-frame-extraction-re..."
      ],
      "text/html": [
       "<div>\n",
       "<style scoped>\n",
       "    .dataframe tbody tr th:only-of-type {\n",
       "        vertical-align: middle;\n",
       "    }\n",
       "\n",
       "    .dataframe tbody tr th {\n",
       "        vertical-align: top;\n",
       "    }\n",
       "\n",
       "    .dataframe thead th {\n",
       "        text-align: right;\n",
       "    }\n",
       "</style>\n",
       "<table border=\"1\" class=\"dataframe\">\n",
       "  <thead>\n",
       "    <tr style=\"text-align: right;\">\n",
       "      <th></th>\n",
       "      <th>pdf_path</th>\n",
       "    </tr>\n",
       "    <tr>\n",
       "      <th>internal_id</th>\n",
       "      <th></th>\n",
       "    </tr>\n",
       "  </thead>\n",
       "  <tbody>\n",
       "    <tr>\n",
       "      <th>lhopxd</th>\n",
       "      <td>/home/vedant/Downloads/key-frame-extraction-re...</td>\n",
       "    </tr>\n",
       "    <tr>\n",
       "      <th>wayvbl</th>\n",
       "      <td>/home/vedant/Downloads/key-frame-extraction-re...</td>\n",
       "    </tr>\n",
       "    <tr>\n",
       "      <th>ruweka</th>\n",
       "      <td>/home/vedant/Downloads/key-frame-extraction-re...</td>\n",
       "    </tr>\n",
       "    <tr>\n",
       "      <th>sgmaal</th>\n",
       "      <td>/home/vedant/Downloads/key-frame-extraction-re...</td>\n",
       "    </tr>\n",
       "    <tr>\n",
       "      <th>bmqioa</th>\n",
       "      <td>/home/vedant/Downloads/key-frame-extraction-re...</td>\n",
       "    </tr>\n",
       "  </tbody>\n",
       "</table>\n",
       "</div>"
      ]
     },
     "execution_count": 146,
     "metadata": {},
     "output_type": "execute_result"
    }
   ],
   "execution_count": 146
  },
  {
   "metadata": {
    "ExecuteTime": {
     "end_time": "2025-05-13T18:13:42.363656Z",
     "start_time": "2025-05-13T18:13:42.358460Z"
    }
   },
   "cell_type": "code",
   "source": "reference_pdf_files_df.head()",
   "id": "b93d40dd0f0e0470",
   "outputs": [
    {
     "data": {
      "text/plain": [
       "                                                      pdf_path\n",
       "internal_id                                                   \n",
       "zgpqgn       /home/vedant/Downloads/reference-pdfs-v1/zgpqg...\n",
       "olaqxj       /home/vedant/Downloads/reference-pdfs-v1/olaqx...\n",
       "aqeiwr       /home/vedant/Downloads/reference-pdfs-v1/aqeiw...\n",
       "xpetji       /home/vedant/Downloads/reference-pdfs-v1/xpetj...\n",
       "xtlxph       /home/vedant/Downloads/reference-pdfs-v1/xtlxp..."
      ],
      "text/html": [
       "<div>\n",
       "<style scoped>\n",
       "    .dataframe tbody tr th:only-of-type {\n",
       "        vertical-align: middle;\n",
       "    }\n",
       "\n",
       "    .dataframe tbody tr th {\n",
       "        vertical-align: top;\n",
       "    }\n",
       "\n",
       "    .dataframe thead th {\n",
       "        text-align: right;\n",
       "    }\n",
       "</style>\n",
       "<table border=\"1\" class=\"dataframe\">\n",
       "  <thead>\n",
       "    <tr style=\"text-align: right;\">\n",
       "      <th></th>\n",
       "      <th>pdf_path</th>\n",
       "    </tr>\n",
       "    <tr>\n",
       "      <th>internal_id</th>\n",
       "      <th></th>\n",
       "    </tr>\n",
       "  </thead>\n",
       "  <tbody>\n",
       "    <tr>\n",
       "      <th>zgpqgn</th>\n",
       "      <td>/home/vedant/Downloads/reference-pdfs-v1/zgpqg...</td>\n",
       "    </tr>\n",
       "    <tr>\n",
       "      <th>olaqxj</th>\n",
       "      <td>/home/vedant/Downloads/reference-pdfs-v1/olaqx...</td>\n",
       "    </tr>\n",
       "    <tr>\n",
       "      <th>aqeiwr</th>\n",
       "      <td>/home/vedant/Downloads/reference-pdfs-v1/aqeiw...</td>\n",
       "    </tr>\n",
       "    <tr>\n",
       "      <th>xpetji</th>\n",
       "      <td>/home/vedant/Downloads/reference-pdfs-v1/xpetj...</td>\n",
       "    </tr>\n",
       "    <tr>\n",
       "      <th>xtlxph</th>\n",
       "      <td>/home/vedant/Downloads/reference-pdfs-v1/xtlxp...</td>\n",
       "    </tr>\n",
       "  </tbody>\n",
       "</table>\n",
       "</div>"
      ]
     },
     "execution_count": 147,
     "metadata": {},
     "output_type": "execute_result"
    }
   ],
   "execution_count": 147
  },
  {
   "metadata": {
    "ExecuteTime": {
     "end_time": "2025-05-13T18:13:42.445271Z",
     "start_time": "2025-05-13T18:13:42.439838Z"
    }
   },
   "cell_type": "code",
   "source": [
    "evaluation_data_df = generated_pdf_files_subset_df.join(reference_pdf_files_df, on=\"internal_id\", lsuffix=\"_generated\",\n",
    "                                                        rsuffix=\"_reference\")\n",
    "evaluation_data_df.reset_index(inplace=True)\n",
    "evaluation_data_df.head()"
   ],
   "id": "284add1ff25e0e64",
   "outputs": [
    {
     "data": {
      "text/plain": [
       "  internal_id                                 pdf_path_generated  \\\n",
       "0      lhopxd  /home/vedant/Downloads/key-frame-extraction-re...   \n",
       "1      wayvbl  /home/vedant/Downloads/key-frame-extraction-re...   \n",
       "2      ruweka  /home/vedant/Downloads/key-frame-extraction-re...   \n",
       "3      sgmaal  /home/vedant/Downloads/key-frame-extraction-re...   \n",
       "4      bmqioa  /home/vedant/Downloads/key-frame-extraction-re...   \n",
       "\n",
       "                                  pdf_path_reference  \n",
       "0  /home/vedant/Downloads/reference-pdfs-v1/lhopx...  \n",
       "1  /home/vedant/Downloads/reference-pdfs-v1/wayvb...  \n",
       "2  /home/vedant/Downloads/reference-pdfs-v1/ruwek...  \n",
       "3  /home/vedant/Downloads/reference-pdfs-v1/sgmaa...  \n",
       "4  /home/vedant/Downloads/reference-pdfs-v1/bmqio...  "
      ],
      "text/html": [
       "<div>\n",
       "<style scoped>\n",
       "    .dataframe tbody tr th:only-of-type {\n",
       "        vertical-align: middle;\n",
       "    }\n",
       "\n",
       "    .dataframe tbody tr th {\n",
       "        vertical-align: top;\n",
       "    }\n",
       "\n",
       "    .dataframe thead th {\n",
       "        text-align: right;\n",
       "    }\n",
       "</style>\n",
       "<table border=\"1\" class=\"dataframe\">\n",
       "  <thead>\n",
       "    <tr style=\"text-align: right;\">\n",
       "      <th></th>\n",
       "      <th>internal_id</th>\n",
       "      <th>pdf_path_generated</th>\n",
       "      <th>pdf_path_reference</th>\n",
       "    </tr>\n",
       "  </thead>\n",
       "  <tbody>\n",
       "    <tr>\n",
       "      <th>0</th>\n",
       "      <td>lhopxd</td>\n",
       "      <td>/home/vedant/Downloads/key-frame-extraction-re...</td>\n",
       "      <td>/home/vedant/Downloads/reference-pdfs-v1/lhopx...</td>\n",
       "    </tr>\n",
       "    <tr>\n",
       "      <th>1</th>\n",
       "      <td>wayvbl</td>\n",
       "      <td>/home/vedant/Downloads/key-frame-extraction-re...</td>\n",
       "      <td>/home/vedant/Downloads/reference-pdfs-v1/wayvb...</td>\n",
       "    </tr>\n",
       "    <tr>\n",
       "      <th>2</th>\n",
       "      <td>ruweka</td>\n",
       "      <td>/home/vedant/Downloads/key-frame-extraction-re...</td>\n",
       "      <td>/home/vedant/Downloads/reference-pdfs-v1/ruwek...</td>\n",
       "    </tr>\n",
       "    <tr>\n",
       "      <th>3</th>\n",
       "      <td>sgmaal</td>\n",
       "      <td>/home/vedant/Downloads/key-frame-extraction-re...</td>\n",
       "      <td>/home/vedant/Downloads/reference-pdfs-v1/sgmaa...</td>\n",
       "    </tr>\n",
       "    <tr>\n",
       "      <th>4</th>\n",
       "      <td>bmqioa</td>\n",
       "      <td>/home/vedant/Downloads/key-frame-extraction-re...</td>\n",
       "      <td>/home/vedant/Downloads/reference-pdfs-v1/bmqio...</td>\n",
       "    </tr>\n",
       "  </tbody>\n",
       "</table>\n",
       "</div>"
      ]
     },
     "execution_count": 148,
     "metadata": {},
     "output_type": "execute_result"
    }
   ],
   "execution_count": 148
  },
  {
   "metadata": {
    "ExecuteTime": {
     "end_time": "2025-05-13T18:13:42.549895Z",
     "start_time": "2025-05-13T18:13:42.547111Z"
    }
   },
   "cell_type": "code",
   "source": "evaluation_data_df.columns",
   "id": "81dea3582e8471d6",
   "outputs": [
    {
     "data": {
      "text/plain": [
       "Index(['internal_id', 'pdf_path_generated', 'pdf_path_reference'], dtype='object')"
      ]
     },
     "execution_count": 149,
     "metadata": {},
     "output_type": "execute_result"
    }
   ],
   "execution_count": 149
  },
  {
   "metadata": {
    "ExecuteTime": {
     "end_time": "2025-05-13T18:13:42.651283Z",
     "start_time": "2025-05-13T18:13:42.649571Z"
    }
   },
   "cell_type": "code",
   "source": "",
   "id": "a2ea484bcf80a32e",
   "outputs": [],
   "execution_count": null
  },
  {
   "metadata": {
    "ExecuteTime": {
     "end_time": "2025-05-13T18:13:42.714431Z",
     "start_time": "2025-05-13T18:13:42.710239Z"
    }
   },
   "cell_type": "code",
   "source": [
    "# ----- Init evaluation report df\n",
    "evaluation_report_cols = ['internal_id',\n",
    "                          'num_of_duplicates',\n",
    "                          'num_of_missing_key_frames',\n",
    "                          'num_of_non_key_frames', 'generated_pdf_key_frame_count', 'reference_pdf_key_frame_count',\n",
    "                          'accuracy', 'similarity_score']\n",
    "evaluation_report_df = pd.DataFrame(columns=[evaluation_report_cols])\n",
    "\n",
    "# ---- Build evaluation report\n",
    "for internal_id, generated_pdf_path, reference_pdf_path in evaluation_data_df.values:\n",
    "    break"
   ],
   "id": "ea9ef3facb11931a",
   "outputs": [],
   "execution_count": 150
  },
  {
   "metadata": {
    "ExecuteTime": {
     "end_time": "2025-05-13T18:22:58.627616Z",
     "start_time": "2025-05-13T18:22:08.305895Z"
    }
   },
   "cell_type": "code",
   "source": [
    "import pandas as pd\n",
    "import fitz  # PyMuPDF\n",
    "from PIL import Image\n",
    "import imagehash\n",
    "import io\n",
    "# from collections import Counter # Potentially useful, but set operations are more direct\n",
    "\n",
    "# ----- Init evaluation report df\n",
    "# Define the columns for the evaluation report DataFrame\n",
    "evaluation_report_cols = ['internal_id',\n",
    "                          'generated_pdf_path',\n",
    "                          'reference_pdf_path',\n",
    "                          'num_of_duplicates',\n",
    "                          'num_of_missing_key_frames',\n",
    "                          'num_of_non_key_frames',\n",
    "                          'generated_pdf_key_frame_count',\n",
    "                          'reference_pdf_key_frame_count',\n",
    "                          'accuracy',\n",
    "                          'similarity_score']\n",
    "# Initialize an empty DataFrame to store evaluation results\n",
    "evaluation_report_df = pd.DataFrame(columns=evaluation_report_cols)\n",
    "\n",
    "def extract_image_hashes_from_pdf(pdf_path: str) -> list:\n",
    "    \"\"\"\n",
    "    Extracts images from each page of a PDF and computes their perceptual hashes (pHash).\n",
    "    pHash is used because it identifies images that are visually similar,\n",
    "    which is suitable for lecture slides where content might have minor variations\n",
    "    but should be considered the same if visually identical.\n",
    "    Assumes one image per page.\n",
    "\n",
    "    Args:\n",
    "        pdf_path (str): Path to the PDF file.\n",
    "\n",
    "    Returns:\n",
    "        list: A list of imagehash.ImageHash objects.\n",
    "    \"\"\"\n",
    "    hashes = []\n",
    "    try:\n",
    "        pdf_document = fitz.open(pdf_path)\n",
    "        for page_num in range(len(pdf_document)):\n",
    "            page = pdf_document.load_page(page_num)\n",
    "            # Render page to a pixmap (an image representation)\n",
    "            pix = page.get_pixmap()\n",
    "            # Convert pixmap to PNG image bytes\n",
    "            img_bytes = pix.tobytes(\"png\")\n",
    "            # Open image bytes with Pillow\n",
    "            pil_image = Image.open(io.BytesIO(img_bytes))\n",
    "\n",
    "            # Convert to RGB if it's RGBA, P (palette), or LA (Luminance Alpha)\n",
    "            # to ensure consistency for hashing, as pHash works best on RGB.\n",
    "            if pil_image.mode in ('RGBA', 'P', 'LA'):\n",
    "                pil_image = pil_image.convert('RGB')\n",
    "\n",
    "            # Compute perceptual hash (pHash)\n",
    "            img_hash = imagehash.phash(pil_image)\n",
    "            hashes.append(img_hash)\n",
    "        pdf_document.close()\n",
    "    except Exception as e:\n",
    "        print(f\"Error processing PDF {pdf_path}: {e}\")\n",
    "        # Return empty list if a PDF is corrupt, unreadable, or contains no valid images\n",
    "    return hashes\n",
    "\n",
    "# ---- Build evaluation report\n",
    "\n",
    "# Placeholder for evaluation_data_df.\n",
    "# This DataFrame should be populated with your actual data,\n",
    "# containing 'internal_id', 'generated_pdf_path', and 'reference_pdf_path' for each video.\n",
    "# Example:\n",
    "# placeholder_data = {\n",
    "#     'internal_id': ['video_001_lecture_A', 'video_002_lecture_B'],\n",
    "#     'generated_pdf_path': ['/path/to/your/generated_video_001.pdf', '/path/to/your/generated_video_002.pdf'],\n",
    "#     'reference_pdf_path': ['/path/to/your/reference_video_001.pdf', '/path/to/your/reference_video_002.pdf']\n",
    "# }\n",
    "# evaluation_data_df = pd.DataFrame(placeholder_data)\n",
    "\n",
    "# If evaluation_data_df is not defined, create a dummy one for the script to run without error.\n",
    "if 'evaluation_data_df' not in globals():\n",
    "    print(\"Warning: evaluation_data_df is not defined. Using an empty placeholder.\")\n",
    "    evaluation_data_df = pd.DataFrame(columns=['internal_id', 'generated_pdf_path', 'reference_pdf_path'])\n",
    "\n",
    "\n",
    "# List to store data for new rows, to be concatenated later for efficiency\n",
    "new_rows_list = []\n",
    "\n",
    "for index, row_data in evaluation_data_df.iterrows():\n",
    "    internal_id = row_data['internal_id']\n",
    "    generated_pdf_path = row_data['pdf_path_generated']\n",
    "    reference_pdf_path = row_data['pdf_path_reference']\n",
    "\n",
    "    print(f\"Processing evaluation for: {internal_id}\")\n",
    "\n",
    "    # Extract perceptual hashes from generated and reference PDFs\n",
    "    # These hashes represent the visual content of each slide.\n",
    "    gen_hashes_list = extract_image_hashes_from_pdf(generated_pdf_path)\n",
    "    ref_hashes_list = extract_image_hashes_from_pdf(reference_pdf_path)\n",
    "\n",
    "    # Total number of frames (images/pages) in the generated PDF\n",
    "    generated_pdf_key_frame_count = len(gen_hashes_list)\n",
    "\n",
    "    # Create sets of hashes for efficient comparison.\n",
    "    # For reference, assume it's already curated (no duplicates), but set ensures uniqueness.\n",
    "    ref_hashes_set = set(ref_hashes_list)\n",
    "    reference_pdf_key_frame_count = len(ref_hashes_set) # Number of unique reference frames\n",
    "\n",
    "    # Unique hashes from the generated PDF\n",
    "    unique_gen_hashes_set = set(gen_hashes_list)\n",
    "    num_unique_generated_frames = len(unique_gen_hashes_set)\n",
    "\n",
    "    # METRIC 1: Number of duplicates in the generated PDF\n",
    "    # Duplicates are extra occurrences of the same visual slide.\n",
    "    num_of_duplicates = generated_pdf_key_frame_count - num_unique_generated_frames\n",
    "\n",
    "    # Identify True Positives: Unique generated frames that are also in reference frames.\n",
    "    # These are the correctly identified keyframes.\n",
    "    true_positives_hashes_set = unique_gen_hashes_set.intersection(ref_hashes_set)\n",
    "    num_true_positives = len(true_positives_hashes_set)\n",
    "\n",
    "    # METRIC 2: Number of missing keyframes\n",
    "    # These are frames present in the reference set but not found in the unique generated set (False Negatives).\n",
    "    missed_hashes_set = ref_hashes_set.difference(unique_gen_hashes_set)\n",
    "    num_of_missing_key_frames = len(missed_hashes_set)\n",
    "\n",
    "    # METRIC 3: Number of non-key frames (False Positives)\n",
    "    # These are frames present in the unique generated set but not found in the reference set.\n",
    "    # These are incorrectly identified as keyframes.\n",
    "    non_key_frame_hashes_set = unique_gen_hashes_set.difference(ref_hashes_set)\n",
    "    num_of_non_key_frames = len(non_key_frame_hashes_set)\n",
    "\n",
    "    # METRIC 4: Accuracy\n",
    "    # Defined as: (number of correctly identified unique keyframes) / (total number of actual keyframes)\n",
    "    # The numerator (generated_pdf_key_frame_count - num_of_duplicates - num_of_non_key_frames)\n",
    "    # simplifies to num_true_positives.\n",
    "    if reference_pdf_key_frame_count > 0:\n",
    "        accuracy = num_true_positives / reference_pdf_key_frame_count\n",
    "    else:\n",
    "        # If there are no reference keyframes:\n",
    "        # Accuracy is 1.0 if no frames were generated (correctly identified nothing).\n",
    "        # Accuracy is 0.0 if any frames were generated (all would be non-keyframes).\n",
    "        accuracy = 1.0 if num_unique_generated_frames == 0 else 0.0\n",
    "\n",
    "    # METRIC 5: Similarity Score (Jaccard Index)\n",
    "    # J(A,B) = |A ∩ B| / |A ∪ B|\n",
    "    # A = unique_gen_hashes_set, B = ref_hashes_set\n",
    "    # Intersection = num_true_positives\n",
    "    # Union = total unique items in either set\n",
    "    union_hashes_set = unique_gen_hashes_set.union(ref_hashes_set)\n",
    "    num_union_hashes = len(union_hashes_set)\n",
    "\n",
    "    if num_union_hashes > 0:\n",
    "        similarity_score = num_true_positives / num_union_hashes\n",
    "    else:\n",
    "        # If both sets are empty (no generated frames and no reference frames),\n",
    "        # their Jaccard index is 1.0 (perfectly similar in their emptiness).\n",
    "        similarity_score = 1.0\n",
    "\n",
    "\n",
    "    # Store the calculated results for the current item\n",
    "    current_eval_results = {\n",
    "        'internal_id': internal_id,\n",
    "        'generated_pdf_path': generated_pdf_path,\n",
    "        'reference_pdf_path': reference_pdf_path,\n",
    "        'num_of_duplicates': num_of_duplicates,\n",
    "        'num_of_missing_key_frames': num_of_missing_key_frames,\n",
    "        'num_of_non_key_frames': num_of_non_key_frames,\n",
    "        'generated_pdf_key_frame_count': generated_pdf_key_frame_count,\n",
    "        'reference_pdf_key_frame_count': reference_pdf_key_frame_count,\n",
    "        'accuracy': accuracy,\n",
    "        'similarity_score': similarity_score\n",
    "    }\n",
    "    new_rows_list.append(current_eval_results)\n",
    "\n",
    "# Concatenate all new rows to the main DataFrame at once for better performance\n",
    "if new_rows_list:\n",
    "    evaluation_report_df = pd.concat([evaluation_report_df, pd.DataFrame(new_rows_list)], ignore_index=True)"
   ],
   "id": "85f53cefe2a13286",
   "outputs": [
    {
     "name": "stdout",
     "output_type": "stream",
     "text": [
      "Processing evaluation for: lhopxd\n",
      "Processing evaluation for: wayvbl\n",
      "Processing evaluation for: ruweka\n",
      "Processing evaluation for: sgmaal\n",
      "Processing evaluation for: bmqioa\n",
      "Processing evaluation for: xpetji\n",
      "Processing evaluation for: qzxibg\n",
      "Processing evaluation for: czeswe\n",
      "Processing evaluation for: vhghaj\n",
      "Processing evaluation for: meatkb\n",
      "Processing evaluation for: srmqde\n",
      "Processing evaluation for: hhboxg\n",
      "Processing evaluation for: mfewuh\n",
      "Processing evaluation for: wdvnza\n",
      "Processing evaluation for: oyxwwk\n",
      "Processing evaluation for: apivsf\n",
      "Processing evaluation for: hydixc\n",
      "Processing evaluation for: pssllz\n",
      "Processing evaluation for: tpfibt\n",
      "Processing evaluation for: fxddqo\n",
      "Processing evaluation for: cyqohz\n",
      "Processing evaluation for: yaldqc\n",
      "Processing evaluation for: tvtjdv\n",
      "Processing evaluation for: yysaqx\n",
      "Processing evaluation for: obwxrn\n",
      "Processing evaluation for: oogxef\n",
      "Processing evaluation for: txxahm\n",
      "Processing evaluation for: yecmvl\n",
      "Processing evaluation for: aqqzpy\n",
      "Processing evaluation for: adwxvg\n",
      "Processing evaluation for: hkyigj\n",
      "Processing evaluation for: wnhdmj\n",
      "Processing evaluation for: jtkszw\n",
      "Processing evaluation for: dxeqwb\n",
      "Processing evaluation for: eqcnrd\n",
      "Processing evaluation for: sosjvp\n",
      "Processing evaluation for: mhhqzg\n",
      "Processing evaluation for: olaqxj\n",
      "Processing evaluation for: vtktbw\n",
      "Processing evaluation for: xxmbxs\n",
      "Processing evaluation for: ijifjf\n",
      "Processing evaluation for: sdipnw\n",
      "Processing evaluation for: uhrpei\n",
      "Processing evaluation for: eupjay\n",
      "Processing evaluation for: ruquuc\n",
      "Processing evaluation for: pldnrz\n",
      "Processing evaluation for: qrxowj\n",
      "Processing evaluation for: xtlxph\n",
      "Processing evaluation for: ozygri\n",
      "Processing evaluation for: menozr\n",
      "Processing evaluation for: kdcdle\n",
      "Processing evaluation for: dlfoyw\n",
      "Processing evaluation for: hrpnxe\n",
      "Processing evaluation for: cxqeox\n",
      "Processing evaluation for: afsikc\n",
      "Processing evaluation for: npurai\n",
      "Processing evaluation for: cftulg\n",
      "Processing evaluation for: bqzprh\n",
      "Processing evaluation for: djwahz\n",
      "Processing evaluation for: sdcniw\n",
      "Processing evaluation for: xiietr\n",
      "Processing evaluation for: ihdpjv\n",
      "Processing evaluation for: xgsetv\n",
      "Processing evaluation for: cruilc\n",
      "Processing evaluation for: htvpfe\n",
      "Processing evaluation for: rgqydw\n",
      "Processing evaluation for: yhiddy\n",
      "Processing evaluation for: mlvdvr\n",
      "Processing evaluation for: zgpqgn\n",
      "Processing evaluation for: lxwqhv\n",
      "Processing evaluation for: vvywdg\n",
      "Processing evaluation for: gmyvcu\n",
      "Processing evaluation for: znavfo\n",
      "Processing evaluation for: xfzngr\n",
      "Processing evaluation for: fcxvmr\n",
      "Processing evaluation for: plllkw\n",
      "Processing evaluation for: sktpkr\n",
      "Processing evaluation for: zrkmxn\n",
      "Processing evaluation for: iqntxc\n",
      "Processing evaluation for: ufwmpg\n",
      "Processing evaluation for: tabwoi\n",
      "Processing evaluation for: aryrsb\n",
      "Processing evaluation for: lhwemu\n",
      "Processing evaluation for: vqesbr\n",
      "Processing evaluation for: pdddxw\n",
      "Processing evaluation for: aqeiwr\n",
      "Processing evaluation for: gxtjwd\n",
      "Processing evaluation for: yirczy\n"
     ]
    },
    {
     "name": "stderr",
     "output_type": "stream",
     "text": [
      "/tmp/ipykernel_7898/2416514720.py:174: FutureWarning: The behavior of DataFrame concatenation with empty or all-NA entries is deprecated. In a future version, this will no longer exclude empty or all-NA columns when determining the result dtypes. To retain the old behavior, exclude the relevant entries before the concat operation.\n",
      "  evaluation_report_df = pd.concat([evaluation_report_df, pd.DataFrame(new_rows_list)], ignore_index=True)\n"
     ]
    }
   ],
   "execution_count": 160
  },
  {
   "metadata": {
    "ExecuteTime": {
     "end_time": "2025-05-13T18:16:32.788565Z",
     "start_time": "2025-05-13T18:16:32.776267Z"
    }
   },
   "cell_type": "code",
   "source": "evaluation_report_df.head()",
   "id": "3cfa559d3c7a1924",
   "outputs": [
    {
     "data": {
      "text/plain": [
       "  internal_id                                 generated_pdf_path  \\\n",
       "0      lhopxd  /home/vedant/Downloads/key-frame-extraction-re...   \n",
       "\n",
       "                                  reference_pdf_path num_of_duplicates  \\\n",
       "0  /home/vedant/Downloads/reference-pdfs-v1/lhopx...                 0   \n",
       "\n",
       "  num_of_missing_key_frames num_of_non_key_frames  \\\n",
       "0                         3                     1   \n",
       "\n",
       "  generated_pdf_key_frame_count reference_pdf_key_frame_count  accuracy  \\\n",
       "0                             9                            11  0.727273   \n",
       "\n",
       "   similarity_score  \n",
       "0          0.666667  "
      ],
      "text/html": [
       "<div>\n",
       "<style scoped>\n",
       "    .dataframe tbody tr th:only-of-type {\n",
       "        vertical-align: middle;\n",
       "    }\n",
       "\n",
       "    .dataframe tbody tr th {\n",
       "        vertical-align: top;\n",
       "    }\n",
       "\n",
       "    .dataframe thead th {\n",
       "        text-align: right;\n",
       "    }\n",
       "</style>\n",
       "<table border=\"1\" class=\"dataframe\">\n",
       "  <thead>\n",
       "    <tr style=\"text-align: right;\">\n",
       "      <th></th>\n",
       "      <th>internal_id</th>\n",
       "      <th>generated_pdf_path</th>\n",
       "      <th>reference_pdf_path</th>\n",
       "      <th>num_of_duplicates</th>\n",
       "      <th>num_of_missing_key_frames</th>\n",
       "      <th>num_of_non_key_frames</th>\n",
       "      <th>generated_pdf_key_frame_count</th>\n",
       "      <th>reference_pdf_key_frame_count</th>\n",
       "      <th>accuracy</th>\n",
       "      <th>similarity_score</th>\n",
       "    </tr>\n",
       "  </thead>\n",
       "  <tbody>\n",
       "    <tr>\n",
       "      <th>0</th>\n",
       "      <td>lhopxd</td>\n",
       "      <td>/home/vedant/Downloads/key-frame-extraction-re...</td>\n",
       "      <td>/home/vedant/Downloads/reference-pdfs-v1/lhopx...</td>\n",
       "      <td>0</td>\n",
       "      <td>3</td>\n",
       "      <td>1</td>\n",
       "      <td>9</td>\n",
       "      <td>11</td>\n",
       "      <td>0.727273</td>\n",
       "      <td>0.666667</td>\n",
       "    </tr>\n",
       "  </tbody>\n",
       "</table>\n",
       "</div>"
      ]
     },
     "execution_count": 159,
     "metadata": {},
     "output_type": "execute_result"
    }
   ],
   "execution_count": 159
  },
  {
   "metadata": {
    "ExecuteTime": {
     "end_time": "2025-05-13T18:26:09.074545Z",
     "start_time": "2025-05-13T18:26:09.064191Z"
    }
   },
   "cell_type": "code",
   "source": [
    "output_path = Path(r\"./28/evaluation_report_v2_k_trans.csv\")\n",
    "output_path.parent.mkdir(parents=True, exist_ok=True)\n",
    "\n",
    "evaluation_report_df.to_csv(output_path, index=False)"
   ],
   "id": "717547e284cf4bf8",
   "outputs": [],
   "execution_count": 162
  },
  {
   "metadata": {
    "ExecuteTime": {
     "end_time": "2025-05-13T18:30:39.214774Z",
     "start_time": "2025-05-13T18:30:39.199054Z"
    }
   },
   "cell_type": "code",
   "source": [
    "# Replace 'your_id_here' with the specific internal_id you're looking for\n",
    "filtered_row = evaluation_report_df[evaluation_report_df['internal_id'] == 'gxtjwd']\n",
    "\n",
    "# Display the result\n",
    "filtered_row"
   ],
   "id": "ee1e6e5b3df71b6b",
   "outputs": [
    {
     "data": {
      "text/plain": [
       "   internal_id                                 generated_pdf_path  \\\n",
       "86      gxtjwd  /home/vedant/Downloads/key-frame-extraction-re...   \n",
       "\n",
       "                                   reference_pdf_path num_of_duplicates  \\\n",
       "86  /home/vedant/Downloads/reference-pdfs-v1/gxtjw...                 0   \n",
       "\n",
       "   num_of_missing_key_frames num_of_non_key_frames  \\\n",
       "86                         8                     6   \n",
       "\n",
       "   generated_pdf_key_frame_count reference_pdf_key_frame_count  accuracy  \\\n",
       "86                             8                            10       0.2   \n",
       "\n",
       "    similarity_score  \n",
       "86             0.125  "
      ],
      "text/html": [
       "<div>\n",
       "<style scoped>\n",
       "    .dataframe tbody tr th:only-of-type {\n",
       "        vertical-align: middle;\n",
       "    }\n",
       "\n",
       "    .dataframe tbody tr th {\n",
       "        vertical-align: top;\n",
       "    }\n",
       "\n",
       "    .dataframe thead th {\n",
       "        text-align: right;\n",
       "    }\n",
       "</style>\n",
       "<table border=\"1\" class=\"dataframe\">\n",
       "  <thead>\n",
       "    <tr style=\"text-align: right;\">\n",
       "      <th></th>\n",
       "      <th>internal_id</th>\n",
       "      <th>generated_pdf_path</th>\n",
       "      <th>reference_pdf_path</th>\n",
       "      <th>num_of_duplicates</th>\n",
       "      <th>num_of_missing_key_frames</th>\n",
       "      <th>num_of_non_key_frames</th>\n",
       "      <th>generated_pdf_key_frame_count</th>\n",
       "      <th>reference_pdf_key_frame_count</th>\n",
       "      <th>accuracy</th>\n",
       "      <th>similarity_score</th>\n",
       "    </tr>\n",
       "  </thead>\n",
       "  <tbody>\n",
       "    <tr>\n",
       "      <th>86</th>\n",
       "      <td>gxtjwd</td>\n",
       "      <td>/home/vedant/Downloads/key-frame-extraction-re...</td>\n",
       "      <td>/home/vedant/Downloads/reference-pdfs-v1/gxtjw...</td>\n",
       "      <td>0</td>\n",
       "      <td>8</td>\n",
       "      <td>6</td>\n",
       "      <td>8</td>\n",
       "      <td>10</td>\n",
       "      <td>0.2</td>\n",
       "      <td>0.125</td>\n",
       "    </tr>\n",
       "  </tbody>\n",
       "</table>\n",
       "</div>"
      ]
     },
     "execution_count": 169,
     "metadata": {},
     "output_type": "execute_result"
    }
   ],
   "execution_count": 169
  },
  {
   "metadata": {
    "ExecuteTime": {
     "end_time": "2025-05-13T18:58:57.633544Z",
     "start_time": "2025-05-13T18:58:57.631397Z"
    }
   },
   "cell_type": "code",
   "source": "",
   "id": "277551204d5be0ca",
   "outputs": [],
   "execution_count": 1
  },
  {
   "metadata": {
    "ExecuteTime": {
     "end_time": "2025-05-13T18:58:57.783035Z",
     "start_time": "2025-05-13T18:58:57.686330Z"
    }
   },
   "cell_type": "code",
   "source": "",
   "id": "7596353dc2cfcecc",
   "outputs": [
    {
     "ename": "NameError",
     "evalue": "name 'reference_pdf_files_df' is not defined",
     "output_type": "error",
     "traceback": [
      "\u001B[0;31m---------------------------------------------------------------------------\u001B[0m",
      "\u001B[0;31mNameError\u001B[0m                                 Traceback (most recent call last)",
      "Cell \u001B[0;32mIn[2], line 1\u001B[0m\n\u001B[0;32m----> 1\u001B[0m \u001B[43mreference_pdf_files_df\u001B[49m[reference_pdf_files_df[\u001B[38;5;124m\"\u001B[39m\u001B[38;5;124minternal_id\u001B[39m\u001B[38;5;124m\"\u001B[39m] \u001B[38;5;241m==\u001B[39m folder]\u001B[38;5;241m.\u001B[39mempty\n",
      "\u001B[0;31mNameError\u001B[0m: name 'reference_pdf_files_df' is not defined"
     ]
    }
   ],
   "execution_count": 2
  },
  {
   "metadata": {},
   "cell_type": "code",
   "outputs": [],
   "execution_count": null,
   "source": "",
   "id": "f81d65d9283dec5c"
  }
 ],
 "metadata": {
  "kernelspec": {
   "display_name": "Python 3",
   "language": "python",
   "name": "python3"
  },
  "language_info": {
   "codemirror_mode": {
    "name": "ipython",
    "version": 2
   },
   "file_extension": ".py",
   "mimetype": "text/x-python",
   "name": "python",
   "nbconvert_exporter": "python",
   "pygments_lexer": "ipython2",
   "version": "2.7.6"
  }
 },
 "nbformat": 4,
 "nbformat_minor": 5
}
