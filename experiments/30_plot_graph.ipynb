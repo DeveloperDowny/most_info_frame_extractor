{
 "cells": [
  {
   "metadata": {
    "ExecuteTime": {
     "end_time": "2025-05-19T16:42:29.781626Z",
     "start_time": "2025-05-19T16:42:29.334797Z"
    }
   },
   "cell_type": "code",
   "source": [
    "\n",
    "from video2pdf.utils.data_plotter import DataPlotter\n",
    "\n",
    "from video2pdf.utils.processed_frame import ProcessedFrame"
   ],
   "id": "549a2f2b11f662a3",
   "outputs": [],
   "execution_count": 2
  },
  {
   "cell_type": "code",
   "id": "initial_id",
   "metadata": {
    "collapsed": true,
    "ExecuteTime": {
     "end_time": "2025-05-19T16:42:29.793399Z",
     "start_time": "2025-05-19T16:42:29.791503Z"
    }
   },
   "source": "extracted_frames = \"/home/vedant/Desktop/glimpsify/most_info_frame_extractor/video2pdf/archives/data_archive_34/meatkb_knw_zml_extracted_frames\"",
   "outputs": [],
   "execution_count": 3
  },
  {
   "metadata": {
    "ExecuteTime": {
     "end_time": "2025-05-19T16:42:46.618116Z",
     "start_time": "2025-05-19T16:42:29.845894Z"
    }
   },
   "cell_type": "code",
   "source": [
    "from video2pdf.ocr_strategy.tesseract_ocr import Tesseract\n",
    "\n",
    "ocr_strategy = Tesseract()\n",
    "extracted_frames_ = ProcessedFrame.from_directory(extracted_frames, ocr_strategy)\n",
    "extracted_frames_[:5]"
   ],
   "id": "d64b6434bbce0278",
   "outputs": [
    {
     "data": {
      "text/plain": [
       "[<video2pdf.utils.processed_frame.ProcessedFrame at 0x73e67d0c9940>,\n",
       " <video2pdf.utils.processed_frame.ProcessedFrame at 0x73e67ef41520>,\n",
       " <video2pdf.utils.processed_frame.ProcessedFrame at 0x73e67d655670>,\n",
       " <video2pdf.utils.processed_frame.ProcessedFrame at 0x73e67d1ff8c0>,\n",
       " <video2pdf.utils.processed_frame.ProcessedFrame at 0x73e67e013350>]"
      ]
     },
     "execution_count": 4,
     "metadata": {},
     "output_type": "execute_result"
    }
   ],
   "execution_count": 4
  },
  {
   "metadata": {
    "ExecuteTime": {
     "end_time": "2025-05-19T16:42:46.638754Z",
     "start_time": "2025-05-19T16:42:46.633275Z"
    }
   },
   "cell_type": "code",
   "source": [
    "processed_frames = \"/home/vedant/Desktop/glimpsify/most_info_frame_extractor/video2pdf/archives/data_archive_40/meatkb_knw_zml_python_object/processed_frames.pkl\"\n",
    "from video2pdf.utils.helper import Helper\n",
    "\n",
    "processed_frames = Helper.load_python_object(processed_frames)"
   ],
   "id": "13b1a1e8a7306263",
   "outputs": [],
   "execution_count": 5
  },
  {
   "metadata": {
    "ExecuteTime": {
     "end_time": "2025-05-19T16:42:46.695169Z",
     "start_time": "2025-05-19T16:42:46.692606Z"
    }
   },
   "cell_type": "code",
   "source": "x, y = ProcessedFrame.get_data_for_plotting(processed_frames)\n",
   "id": "aaeb473540f9eab6",
   "outputs": [],
   "execution_count": 6
  },
  {
   "metadata": {
    "ExecuteTime": {
     "end_time": "2025-05-19T16:44:10.304318Z",
     "start_time": "2025-05-19T16:43:53.723732Z"
    }
   },
   "cell_type": "code",
   "source": "DataPlotter.plot_data(x[:800], y[:800], output_path=\"./30/plot.png\", extracted_frames=extracted_frames_[:100])",
   "id": "3d82b3391ff170b2",
   "outputs": [],
   "execution_count": 8
  },
  {
   "metadata": {
    "ExecuteTime": {
     "end_time": "2025-05-19T16:42:48.429619Z",
     "start_time": "2025-05-19T16:42:48.428205Z"
    }
   },
   "cell_type": "code",
   "source": "",
   "id": "7b166a515826e297",
   "outputs": [],
   "execution_count": null
  }
 ],
 "metadata": {
  "kernelspec": {
   "display_name": "Python 3",
   "language": "python",
   "name": "python3"
  },
  "language_info": {
   "codemirror_mode": {
    "name": "ipython",
    "version": 2
   },
   "file_extension": ".py",
   "mimetype": "text/x-python",
   "name": "python",
   "nbconvert_exporter": "python",
   "pygments_lexer": "ipython2",
   "version": "2.7.6"
  }
 },
 "nbformat": 4,
 "nbformat_minor": 5
}
