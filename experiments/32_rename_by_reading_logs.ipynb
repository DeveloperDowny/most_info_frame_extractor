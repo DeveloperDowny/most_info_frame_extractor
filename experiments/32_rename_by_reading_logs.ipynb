{
 "cells": [
  {
   "metadata": {
    "ExecuteTime": {
     "end_time": "2025-05-31T09:41:20.353291Z",
     "start_time": "2025-05-31T09:41:20.348514Z"
    }
   },
   "cell_type": "code",
   "source": [
    "import re\n",
    "from pathlib import Path\n",
    "\n",
    "from sanitize_filename import sanitize\n",
    "import shutil"
   ],
   "id": "9d049a2ba8348461",
   "outputs": [],
   "execution_count": 16
  },
  {
   "metadata": {
    "ExecuteTime": {
     "end_time": "2025-05-31T09:41:20.402547Z",
     "start_time": "2025-05-31T09:41:20.400833Z"
    }
   },
   "cell_type": "code",
   "source": [
    "import logging\n",
    "logging.basicConfig(level=logging.DEBUG)\n",
    "logger = logging.getLogger(__name__)\n",
    "logger.setLevel(logging.DEBUG)"
   ],
   "id": "744eacf809978c3",
   "outputs": [],
   "execution_count": 17
  },
  {
   "cell_type": "code",
   "id": "initial_id",
   "metadata": {
    "collapsed": true,
    "ExecuteTime": {
     "end_time": "2025-05-31T09:41:20.451079Z",
     "start_time": "2025-05-31T09:41:20.449047Z"
    }
   },
   "source": [
    "logs_path = r\"/home/vedant/Desktop/glimpsify/most_info_frame_extractor/logs/video2pdf.log\"\n",
    "logs_path = Path(logs_path)"
   ],
   "outputs": [],
   "execution_count": 18
  },
  {
   "metadata": {
    "ExecuteTime": {
     "end_time": "2025-05-31T09:41:20.500198Z",
     "start_time": "2025-05-31T09:41:20.497153Z"
    }
   },
   "cell_type": "code",
   "source": [
    "output_dir = r\"./32/MP_V2\"\n",
    "output_dir = Path(output_dir)\n",
    "output_dir.mkdir(exist_ok=True, parents=True)\n",
    "output_dir"
   ],
   "id": "e6033a1c4ea7d5da",
   "outputs": [
    {
     "data": {
      "text/plain": [
       "PosixPath('32/MP_V2')"
      ]
     },
     "execution_count": 19,
     "metadata": {},
     "output_type": "execute_result"
    }
   ],
   "execution_count": 19
  },
  {
   "metadata": {
    "ExecuteTime": {
     "end_time": "2025-05-31T09:41:20.562719Z",
     "start_time": "2025-05-31T09:41:20.546211Z"
    }
   },
   "cell_type": "code",
   "source": [
    "data = []\n",
    "with open(logs_path, encoding=\"utf-8\") as f:\n",
    "    data = f.readlines()\n",
    "\n",
    "data = [i.strip() for i in data]\n",
    "data = [i for i in data if \"Saved PDF to\" in i]\n",
    "\n",
    "\n",
    "\n",
    "counter = 1\n",
    "for i in data:\n",
    "    print(\"=\"*50)\n",
    "\n",
    "    try:\n",
    "        logger.debug(f\"Processing {i}...\")\n",
    "        full_pattern = re.compile(\".*'(.+?)' for video ['\\\"](.+?)['\\\"].*\")\n",
    "        path, name = re.findall(full_pattern, i)[0]\n",
    "        logger.debug(f\"Path: {path}, Name: {name}\")\n",
    "        name = name.strip(\"\\\"'\")\n",
    "        name = sanitize(name)[:-4]\n",
    "        path = Path(path)\n",
    "        new_path = output_dir / path.parent.name / (str(counter) + \" \" + name + \".pdf\")\n",
    "        counter += 1\n",
    "        new_path.parent.mkdir(exist_ok=True, parents=True)\n",
    "        shutil.copy(path, new_path)\n",
    "        logger.debug(f\"Sanitized name: {name}\")\n",
    "        logger.debug(f\"Renamed path: {path}\")\n",
    "        logger.debug(f\"Checking file exists: {path.exists()}\")\n",
    "    except Exception as e:\n",
    "        logger.error(f\"Error on {i}: {e}\")"
   ],
   "id": "e49eaa95837e6cd3",
   "outputs": [
    {
     "name": "stderr",
     "output_type": "stream",
     "text": [
      "DEBUG:__main__:Processing 2025-05-31 13:58:03,659 - INFO - Saved PDF to '/home/vedant/Desktop/glimpsify/most_info_frame_extractor/video2pdf/archives/playlist24/zcfyag.pdf' for video 'Basics of Cisco Packet Tracer (Part 1).mp4'...\n",
      "DEBUG:__main__:Path: /home/vedant/Desktop/glimpsify/most_info_frame_extractor/video2pdf/archives/playlist24/zcfyag.pdf, Name: Basics of Cisco Packet Tracer (Part 1).mp4\n",
      "DEBUG:__main__:Sanitized name: Basics of Cisco Packet Tracer (Part 1)\n",
      "DEBUG:__main__:Renamed path: /home/vedant/Desktop/glimpsify/most_info_frame_extractor/video2pdf/archives/playlist24/zcfyag.pdf\n",
      "DEBUG:__main__:Checking file exists: True\n",
      "DEBUG:__main__:Processing 2025-05-31 13:58:50,889 - INFO - Saved PDF to '/home/vedant/Desktop/glimpsify/most_info_frame_extractor/video2pdf/archives/playlist24/gevfjr.pdf' for video 'Basics of Cisco Packet Tracer (Part 2) | Hub.mp4'...\n",
      "DEBUG:__main__:Path: /home/vedant/Desktop/glimpsify/most_info_frame_extractor/video2pdf/archives/playlist24/gevfjr.pdf, Name: Basics of Cisco Packet Tracer (Part 2) | Hub.mp4\n",
      "DEBUG:__main__:Sanitized name: Basics of Cisco Packet Tracer (Part 2)  Hub\n",
      "DEBUG:__main__:Renamed path: /home/vedant/Desktop/glimpsify/most_info_frame_extractor/video2pdf/archives/playlist24/gevfjr.pdf\n",
      "DEBUG:__main__:Checking file exists: True\n",
      "DEBUG:__main__:Processing 2025-05-31 13:59:29,720 - INFO - Saved PDF to '/home/vedant/Desktop/glimpsify/most_info_frame_extractor/video2pdf/archives/playlist24/bxmylj.pdf' for video 'Basics of Cisco Packet Tracer (Part 3) | Switch.mp4'...\n",
      "DEBUG:__main__:Path: /home/vedant/Desktop/glimpsify/most_info_frame_extractor/video2pdf/archives/playlist24/bxmylj.pdf, Name: Basics of Cisco Packet Tracer (Part 3) | Switch.mp4\n",
      "DEBUG:__main__:Sanitized name: Basics of Cisco Packet Tracer (Part 3)  Switch\n",
      "DEBUG:__main__:Renamed path: /home/vedant/Desktop/glimpsify/most_info_frame_extractor/video2pdf/archives/playlist24/bxmylj.pdf\n",
      "DEBUG:__main__:Checking file exists: True\n",
      "DEBUG:__main__:Processing 2025-05-31 13:59:58,033 - INFO - Saved PDF to '/home/vedant/Desktop/glimpsify/most_info_frame_extractor/video2pdf/archives/playlist24/pfxahu.pdf' for video 'Basics of Router.mp4'...\n",
      "DEBUG:__main__:Path: /home/vedant/Desktop/glimpsify/most_info_frame_extractor/video2pdf/archives/playlist24/pfxahu.pdf, Name: Basics of Router.mp4\n",
      "DEBUG:__main__:Sanitized name: Basics of Router\n",
      "DEBUG:__main__:Renamed path: /home/vedant/Desktop/glimpsify/most_info_frame_extractor/video2pdf/archives/playlist24/pfxahu.pdf\n",
      "DEBUG:__main__:Checking file exists: True\n",
      "DEBUG:__main__:Processing 2025-05-31 14:00:40,491 - INFO - Saved PDF to '/home/vedant/Desktop/glimpsify/most_info_frame_extractor/video2pdf/archives/playlist24/tbnamh.pdf' for video 'Basics of Cisco Packet Tracer (Part 4) | Router.mp4'...\n",
      "DEBUG:__main__:Path: /home/vedant/Desktop/glimpsify/most_info_frame_extractor/video2pdf/archives/playlist24/tbnamh.pdf, Name: Basics of Cisco Packet Tracer (Part 4) | Router.mp4\n",
      "DEBUG:__main__:Sanitized name: Basics of Cisco Packet Tracer (Part 4)  Router\n",
      "DEBUG:__main__:Renamed path: /home/vedant/Desktop/glimpsify/most_info_frame_extractor/video2pdf/archives/playlist24/tbnamh.pdf\n",
      "DEBUG:__main__:Checking file exists: True\n",
      "DEBUG:__main__:Processing 2025-05-31 14:01:14,892 - INFO - Saved PDF to '/home/vedant/Desktop/glimpsify/most_info_frame_extractor/video2pdf/archives/playlist24/olsael.pdf' for video 'Basics of Cisco Packet Tracer (Part 5) | Repeater.mp4'...\n",
      "DEBUG:__main__:Path: /home/vedant/Desktop/glimpsify/most_info_frame_extractor/video2pdf/archives/playlist24/olsael.pdf, Name: Basics of Cisco Packet Tracer (Part 5) | Repeater.mp4\n",
      "DEBUG:__main__:Sanitized name: Basics of Cisco Packet Tracer (Part 5)  Repeater\n",
      "DEBUG:__main__:Renamed path: /home/vedant/Desktop/glimpsify/most_info_frame_extractor/video2pdf/archives/playlist24/olsael.pdf\n",
      "DEBUG:__main__:Checking file exists: True\n",
      "DEBUG:__main__:Processing 2025-05-31 14:01:43,621 - INFO - Saved PDF to '/home/vedant/Desktop/glimpsify/most_info_frame_extractor/video2pdf/archives/playlist24/exdxml.pdf' for video 'Basics of Bridge.mp4'...\n",
      "DEBUG:__main__:Path: /home/vedant/Desktop/glimpsify/most_info_frame_extractor/video2pdf/archives/playlist24/exdxml.pdf, Name: Basics of Bridge.mp4\n",
      "DEBUG:__main__:Sanitized name: Basics of Bridge\n",
      "DEBUG:__main__:Renamed path: /home/vedant/Desktop/glimpsify/most_info_frame_extractor/video2pdf/archives/playlist24/exdxml.pdf\n",
      "DEBUG:__main__:Checking file exists: True\n",
      "DEBUG:__main__:Processing 2025-05-31 14:02:06,244 - INFO - Saved PDF to '/home/vedant/Desktop/glimpsify/most_info_frame_extractor/video2pdf/archives/playlist24/cwdsnp.pdf' for video 'Network Devices.mp4'...\n",
      "DEBUG:__main__:Path: /home/vedant/Desktop/glimpsify/most_info_frame_extractor/video2pdf/archives/playlist24/cwdsnp.pdf, Name: Network Devices.mp4\n",
      "DEBUG:__main__:Sanitized name: Network Devices\n",
      "DEBUG:__main__:Renamed path: /home/vedant/Desktop/glimpsify/most_info_frame_extractor/video2pdf/archives/playlist24/cwdsnp.pdf\n",
      "DEBUG:__main__:Checking file exists: True\n",
      "DEBUG:__main__:Processing 2025-05-31 14:02:33,253 - INFO - Saved PDF to '/home/vedant/Desktop/glimpsify/most_info_frame_extractor/video2pdf/archives/playlist24/utpifa.pdf' for video 'Network Devices (Solved Questions).mp4'...\n",
      "DEBUG:__main__:Path: /home/vedant/Desktop/glimpsify/most_info_frame_extractor/video2pdf/archives/playlist24/utpifa.pdf, Name: Network Devices (Solved Questions).mp4\n",
      "DEBUG:__main__:Sanitized name: Network Devices (Solved Questions)\n",
      "DEBUG:__main__:Renamed path: /home/vedant/Desktop/glimpsify/most_info_frame_extractor/video2pdf/archives/playlist24/utpifa.pdf\n",
      "DEBUG:__main__:Checking file exists: True\n",
      "DEBUG:__main__:Processing 2025-05-31 14:02:56,996 - INFO - Saved PDF to '/home/vedant/Desktop/glimpsify/most_info_frame_extractor/video2pdf/archives/playlist24/flhwda.pdf' for video 'Physical Layer and Media (Part 1).mp4'...\n",
      "DEBUG:__main__:Path: /home/vedant/Desktop/glimpsify/most_info_frame_extractor/video2pdf/archives/playlist24/flhwda.pdf, Name: Physical Layer and Media (Part 1).mp4\n",
      "DEBUG:__main__:Sanitized name: Physical Layer and Media (Part 1)\n",
      "DEBUG:__main__:Renamed path: /home/vedant/Desktop/glimpsify/most_info_frame_extractor/video2pdf/archives/playlist24/flhwda.pdf\n",
      "DEBUG:__main__:Checking file exists: True\n"
     ]
    },
    {
     "name": "stdout",
     "output_type": "stream",
     "text": [
      "==================================================\n",
      "==================================================\n",
      "==================================================\n",
      "==================================================\n",
      "==================================================\n",
      "==================================================\n",
      "==================================================\n",
      "==================================================\n",
      "==================================================\n",
      "==================================================\n"
     ]
    }
   ],
   "execution_count": 20
  },
  {
   "metadata": {
    "ExecuteTime": {
     "end_time": "2025-05-31T09:41:20.630874Z",
     "start_time": "2025-05-31T09:41:20.628132Z"
    }
   },
   "cell_type": "code",
   "source": [
    "sample = data[0]\n",
    "sample"
   ],
   "id": "d64461bb7c87084f",
   "outputs": [
    {
     "data": {
      "text/plain": [
       "\"2025-05-31 13:58:03,659 - INFO - Saved PDF to '/home/vedant/Desktop/glimpsify/most_info_frame_extractor/video2pdf/archives/playlist24/zcfyag.pdf' for video 'Basics of Cisco Packet Tracer (Part 1).mp4'\""
      ]
     },
     "execution_count": 21,
     "metadata": {},
     "output_type": "execute_result"
    }
   ],
   "execution_count": 21
  },
  {
   "metadata": {
    "ExecuteTime": {
     "end_time": "2025-05-31T09:41:20.686131Z",
     "start_time": "2025-05-31T09:41:20.684243Z"
    }
   },
   "cell_type": "code",
   "source": "",
   "id": "fb5cfeb5f9f8d2b4",
   "outputs": [],
   "execution_count": null
  },
  {
   "metadata": {
    "ExecuteTime": {
     "end_time": "2025-05-31T09:41:20.734382Z",
     "start_time": "2025-05-31T09:41:20.731627Z"
    }
   },
   "cell_type": "code",
   "source": "name",
   "id": "f16f1a8cca6bb3b7",
   "outputs": [
    {
     "data": {
      "text/plain": [
       "'Physical Layer and Media (Part 1)'"
      ]
     },
     "execution_count": 22,
     "metadata": {},
     "output_type": "execute_result"
    }
   ],
   "execution_count": 22
  },
  {
   "metadata": {
    "ExecuteTime": {
     "end_time": "2025-05-31T09:41:20.783112Z",
     "start_time": "2025-05-31T09:41:20.781301Z"
    }
   },
   "cell_type": "code",
   "source": "",
   "id": "ea32149ae709aa0e",
   "outputs": [],
   "execution_count": null
  }
 ],
 "metadata": {
  "kernelspec": {
   "display_name": "Python 3",
   "language": "python",
   "name": "python3"
  },
  "language_info": {
   "codemirror_mode": {
    "name": "ipython",
    "version": 2
   },
   "file_extension": ".py",
   "mimetype": "text/x-python",
   "name": "python",
   "nbconvert_exporter": "python",
   "pygments_lexer": "ipython2",
   "version": "2.7.6"
  }
 },
 "nbformat": 4,
 "nbformat_minor": 5
}
