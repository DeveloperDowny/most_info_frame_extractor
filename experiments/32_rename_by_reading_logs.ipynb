{
 "cells": [
  {
   "metadata": {
    "ExecuteTime": {
     "end_time": "2025-06-01T17:27:55.339111Z",
     "start_time": "2025-06-01T17:27:55.332969Z"
    }
   },
   "cell_type": "code",
   "source": [
    "import re\n",
    "from pathlib import Path\n",
    "\n",
    "from sanitize_filename import sanitize\n",
    "import shutil"
   ],
   "id": "9d049a2ba8348461",
   "outputs": [],
   "execution_count": 18
  },
  {
   "metadata": {
    "ExecuteTime": {
     "end_time": "2025-06-01T17:27:55.389833Z",
     "start_time": "2025-06-01T17:27:55.388137Z"
    }
   },
   "cell_type": "code",
   "source": [
    "import logging\n",
    "logging.basicConfig(level=logging.DEBUG)\n",
    "logger = logging.getLogger(__name__)\n",
    "logger.setLevel(logging.DEBUG)"
   ],
   "id": "744eacf809978c3",
   "outputs": [],
   "execution_count": 19
  },
  {
   "cell_type": "code",
   "id": "initial_id",
   "metadata": {
    "collapsed": true,
    "ExecuteTime": {
     "end_time": "2025-06-01T17:27:55.437963Z",
     "start_time": "2025-06-01T17:27:55.436219Z"
    }
   },
   "source": [
    "logs_path = r\"/home/vedant/Desktop/glimpsify/most_info_frame_extractor/logs/for-doc-loader-v2.log\"\n",
    "logs_path = Path(logs_path)"
   ],
   "outputs": [],
   "execution_count": 20
  },
  {
   "metadata": {
    "ExecuteTime": {
     "end_time": "2025-06-01T17:27:55.502415Z",
     "start_time": "2025-06-01T17:27:55.497667Z"
    }
   },
   "cell_type": "code",
   "source": [
    "output_dir = r\"./32/AD_V1\"\n",
    "output_dir = Path(output_dir)\n",
    "output_dir.mkdir(exist_ok=True, parents=True)\n",
    "output_dir"
   ],
   "id": "e6033a1c4ea7d5da",
   "outputs": [
    {
     "data": {
      "text/plain": [
       "PosixPath('32/AD_V1')"
      ]
     },
     "execution_count": 21,
     "metadata": {},
     "output_type": "execute_result"
    }
   ],
   "execution_count": 21
  },
  {
   "metadata": {
    "ExecuteTime": {
     "end_time": "2025-06-01T17:27:55.549907Z",
     "start_time": "2025-06-01T17:27:55.544266Z"
    }
   },
   "cell_type": "code",
   "source": [
    "data = []\n",
    "with open(logs_path, encoding=\"utf-8\") as f:\n",
    "    data = f.readlines()\n",
    "\n",
    "data = [i.strip() for i in data]\n",
    "data = [i for i in data if \"Saved PDF to\" in i]\n",
    "\n",
    "\n",
    "\n",
    "counter = 1\n",
    "for i in data:\n",
    "    print(\"=\"*50)\n",
    "\n",
    "    try:\n",
    "        logger.debug(f\"Processing {i}...\")\n",
    "        full_pattern = re.compile(\".*'(.+?)' for video ['\\\"](.+?)['\\\"].*\")\n",
    "        path, name = re.findall(full_pattern, i)[0]\n",
    "        logger.debug(f\"Path: {path}, Name: {name}\")\n",
    "        name = name.strip(\"\\\"'\")\n",
    "        name = sanitize(name)[:-4]\n",
    "        path = Path(path)\n",
    "        new_path = output_dir / path.parent.name / (str(counter) + \" \" + name + \".pdf\")\n",
    "        counter += 1\n",
    "        new_path.parent.mkdir(exist_ok=True, parents=True)\n",
    "        shutil.copy(path, new_path)\n",
    "        logger.debug(f\"Sanitized name: {name}\")\n",
    "        logger.debug(f\"Renamed path: {path}\")\n",
    "        logger.debug(f\"Checking file exists: {path.exists()}\")\n",
    "    except Exception as e:\n",
    "        logger.error(f\"Error on {i}: {e}\")"
   ],
   "id": "e49eaa95837e6cd3",
   "outputs": [
    {
     "name": "stderr",
     "output_type": "stream",
     "text": [
      "DEBUG:__main__:Processing 2025-06-01 22:50:53,858 - INFO - Saved PDF to '/home/vedant/Desktop/glimpsify/most_info_frame_extractor/video2pdf/archives/docloaderv2/ddvsoh.pdf' for video 'Buck Converter (Basics, Circuit, Working, Waveforms, Parameters, Uses & Applications) Explained.mp4'...\n",
      "DEBUG:__main__:Path: /home/vedant/Desktop/glimpsify/most_info_frame_extractor/video2pdf/archives/docloaderv2/ddvsoh.pdf, Name: Buck Converter (Basics, Circuit, Working, Waveforms, Parameters, Uses & Applications) Explained.mp4\n",
      "DEBUG:__main__:Sanitized name: Buck Converter (Basics, Circuit, Working, Waveforms, Parameters, Uses & Applications) Explained\n",
      "DEBUG:__main__:Renamed path: /home/vedant/Desktop/glimpsify/most_info_frame_extractor/video2pdf/archives/docloaderv2/ddvsoh.pdf\n",
      "DEBUG:__main__:Checking file exists: True\n"
     ]
    },
    {
     "name": "stdout",
     "output_type": "stream",
     "text": [
      "==================================================\n"
     ]
    }
   ],
   "execution_count": 22
  },
  {
   "metadata": {
    "ExecuteTime": {
     "end_time": "2025-06-01T17:27:55.597481Z",
     "start_time": "2025-06-01T17:27:55.594870Z"
    }
   },
   "cell_type": "code",
   "source": [
    "sample = data[0]\n",
    "sample"
   ],
   "id": "d64461bb7c87084f",
   "outputs": [
    {
     "data": {
      "text/plain": [
       "\"2025-06-01 22:50:53,858 - INFO - Saved PDF to '/home/vedant/Desktop/glimpsify/most_info_frame_extractor/video2pdf/archives/docloaderv2/ddvsoh.pdf' for video 'Buck Converter (Basics, Circuit, Working, Waveforms, Parameters, Uses & Applications) Explained.mp4'\""
      ]
     },
     "execution_count": 23,
     "metadata": {},
     "output_type": "execute_result"
    }
   ],
   "execution_count": 23
  },
  {
   "metadata": {
    "ExecuteTime": {
     "end_time": "2025-06-01T17:27:55.647003Z",
     "start_time": "2025-06-01T17:27:55.645278Z"
    }
   },
   "cell_type": "code",
   "source": "",
   "id": "fb5cfeb5f9f8d2b4",
   "outputs": [],
   "execution_count": null
  },
  {
   "metadata": {
    "ExecuteTime": {
     "end_time": "2025-06-01T17:27:55.696670Z",
     "start_time": "2025-06-01T17:27:55.693887Z"
    }
   },
   "cell_type": "code",
   "source": "name",
   "id": "f16f1a8cca6bb3b7",
   "outputs": [
    {
     "data": {
      "text/plain": [
       "'Buck Converter (Basics, Circuit, Working, Waveforms, Parameters, Uses & Applications) Explained'"
      ]
     },
     "execution_count": 24,
     "metadata": {},
     "output_type": "execute_result"
    }
   ],
   "execution_count": 24
  },
  {
   "metadata": {
    "ExecuteTime": {
     "end_time": "2025-06-01T17:27:55.745265Z",
     "start_time": "2025-06-01T17:27:55.743878Z"
    }
   },
   "cell_type": "code",
   "source": "",
   "id": "ea32149ae709aa0e",
   "outputs": [],
   "execution_count": null
  }
 ],
 "metadata": {
  "kernelspec": {
   "display_name": "Python 3",
   "language": "python",
   "name": "python3"
  },
  "language_info": {
   "codemirror_mode": {
    "name": "ipython",
    "version": 2
   },
   "file_extension": ".py",
   "mimetype": "text/x-python",
   "name": "python",
   "nbconvert_exporter": "python",
   "pygments_lexer": "ipython2",
   "version": "2.7.6"
  }
 },
 "nbformat": 4,
 "nbformat_minor": 5
}
