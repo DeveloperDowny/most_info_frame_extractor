{
 "cells": [
  {
   "metadata": {
    "ExecuteTime": {
     "end_time": "2025-06-01T17:22:01.448307Z",
     "start_time": "2025-06-01T17:22:01.442453Z"
    }
   },
   "cell_type": "code",
   "source": "# !pip install unstructured[image]",
   "id": "8e65dd1b508e17d5",
   "outputs": [],
   "execution_count": 1
  },
  {
   "metadata": {
    "ExecuteTime": {
     "end_time": "2025-06-01T17:22:01.695438Z",
     "start_time": "2025-06-01T17:22:01.543348Z"
    }
   },
   "cell_type": "code",
   "source": [
    "from langchain_community.document_loaders import DirectoryLoader\n",
    "from dotenv import load_dotenv\n",
    "\n",
    "load_dotenv()"
   ],
   "id": "3993225e97b300b4",
   "outputs": [
    {
     "data": {
      "text/plain": [
       "True"
      ]
     },
     "execution_count": 2,
     "metadata": {},
     "output_type": "execute_result"
    }
   ],
   "execution_count": 2
  },
  {
   "metadata": {
    "ExecuteTime": {
     "end_time": "2025-06-01T17:22:04.230343Z",
     "start_time": "2025-06-01T17:22:02.961219Z"
    }
   },
   "cell_type": "code",
   "source": [
    "from langchain_openai import OpenAIEmbeddings\n",
    "from langchain_chroma import Chroma\n",
    "\n",
    "\n",
    "embeddings = OpenAIEmbeddings(model=\"text-embedding-3-large\")"
   ],
   "id": "40d1d026284d21e3",
   "outputs": [],
   "execution_count": 3
  },
  {
   "metadata": {
    "ExecuteTime": {
     "end_time": "2025-06-01T17:22:08.359782Z",
     "start_time": "2025-06-01T17:22:08.353634Z"
    }
   },
   "cell_type": "code",
   "source": "extracted_frames_dir = r\"/home/vedant/Desktop/glimpsify/most_info_frame_extractor/video2pdf/archives/docloaderv2/ddvsoh_extracted_frames\"",
   "id": "initial_id",
   "outputs": [],
   "execution_count": 4
  },
  {
   "metadata": {
    "ExecuteTime": {
     "end_time": "2025-06-01T17:22:23.361356Z",
     "start_time": "2025-06-01T17:22:11.080888Z"
    }
   },
   "cell_type": "code",
   "source": [
    "loader = DirectoryLoader(extracted_frames_dir, glob=\"**/*.jpg\")\n",
    "docs = loader.load()"
   ],
   "id": "9847cb9172c9e952",
   "outputs": [],
   "execution_count": 5
  },
  {
   "metadata": {
    "ExecuteTime": {
     "end_time": "2025-06-01T17:22:39.786493Z",
     "start_time": "2025-06-01T17:22:39.594675Z"
    }
   },
   "cell_type": "code",
   "source": [
    "vector_store = Chroma(\n",
    "    collection_name=\"example_collection\",\n",
    "    embedding_function=embeddings,\n",
    "    persist_directory=\"./chroma_langchain_db\",\n",
    ")"
   ],
   "id": "f1c1876a3b15129d",
   "outputs": [],
   "execution_count": 6
  },
  {
   "metadata": {
    "ExecuteTime": {
     "end_time": "2025-06-01T17:22:58.328112Z",
     "start_time": "2025-06-01T17:22:41.066250Z"
    }
   },
   "cell_type": "code",
   "source": "ids = vector_store.add_documents(documents=docs)",
   "id": "1f333f2547f2d648",
   "outputs": [],
   "execution_count": 7
  },
  {
   "metadata": {
    "ExecuteTime": {
     "end_time": "2025-06-01T17:23:01.274568Z",
     "start_time": "2025-06-01T17:23:01.267611Z"
    }
   },
   "cell_type": "code",
   "source": [
    "def test_query(query: str) -> None:\n",
    "    results = vector_store.similarity_search_with_score(\n",
    "        query\n",
    "    )\n",
    "\n",
    "    for res, score in results:\n",
    "        print(\"=\"*50)\n",
    "        print(f\"* [SIM={score:3f}] {res.page_content}\")\n"
   ],
   "id": "6beec3eea48e2ffd",
   "outputs": [],
   "execution_count": 8
  },
  {
   "metadata": {
    "ExecuteTime": {
     "end_time": "2025-06-01T17:23:15.178084Z",
     "start_time": "2025-06-01T17:23:13.475821Z"
    }
   },
   "cell_type": "code",
   "source": "test_query(\"What is buck converter?\")",
   "id": "53964175d65c468d",
   "outputs": [
    {
     "name": "stdout",
     "output_type": "stream",
     "text": [
      "==================================================\n",
      "* [SIM=0.709026] Basics of Buck Converter\n",
      "\n",
      "“+ It is step down DC to DC converter.\n",
      "\n",
      "Here, voltage will get step down (while current gets step up) at load.\n",
      "\n",
      "“+\n",
      "\n",
      "“+ Buck converter can be highly efficient (higher then 90%).\n",
      "\n",
      "‘+ We can use it in computer from main supply (12V) to USB, DRAM and CPU (1.8V\n",
      "\n",
      "to 4.2V)\n",
      "\n",
      "* We can make effective SMPS by buck converter.\n",
      "==================================================\n",
      "* [SIM=0.834567] Basics of Buck Converter\n",
      "\n",
      "Circuit of Buck Converter\n",
      "\n",
      "Modes & Working of Buck Converter\n",
      "\n",
      "Waveforms of Buck Converter\n",
      "\n",
      "Parameters of Buck Converter\n",
      "==================================================\n",
      "* [SIM=0.846228] Waveforms of Buck Converter\n",
      "\n",
      "\n",
      "\n",
      "\n",
      "==================================================\n",
      "* [SIM=0.846228] Waveforms of Buck Converter\n",
      "\n",
      "\n",
      "\n",
      "\n"
     ]
    }
   ],
   "execution_count": 9
  },
  {
   "metadata": {},
   "cell_type": "code",
   "outputs": [],
   "execution_count": null,
   "source": "",
   "id": "e2f96529d74f17a4"
  }
 ],
 "metadata": {
  "kernelspec": {
   "display_name": "Python 3",
   "language": "python",
   "name": "python3"
  },
  "language_info": {
   "codemirror_mode": {
    "name": "ipython",
    "version": 2
   },
   "file_extension": ".py",
   "mimetype": "text/x-python",
   "name": "python",
   "nbconvert_exporter": "python",
   "pygments_lexer": "ipython2",
   "version": "2.7.6"
  }
 },
 "nbformat": 4,
 "nbformat_minor": 5
}
