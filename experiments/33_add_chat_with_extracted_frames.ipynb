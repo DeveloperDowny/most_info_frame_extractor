{
 "cells": [
  {
   "metadata": {},
   "cell_type": "code",
   "outputs": [],
   "execution_count": null,
   "source": "# !pip install unstructured[image]",
   "id": "8e65dd1b508e17d5"
  },
  {
   "metadata": {
    "ExecuteTime": {
     "end_time": "2025-06-01T10:39:08.957040Z",
     "start_time": "2025-06-01T10:39:08.947758Z"
    }
   },
   "cell_type": "code",
   "source": [
    "from langchain_community.document_loaders import DirectoryLoader\n",
    "from dotenv import load_dotenv\n",
    "\n",
    "load_dotenv()"
   ],
   "id": "3993225e97b300b4",
   "outputs": [
    {
     "data": {
      "text/plain": [
       "True"
      ]
     },
     "execution_count": 10,
     "metadata": {},
     "output_type": "execute_result"
    }
   ],
   "execution_count": 10
  },
  {
   "metadata": {},
   "cell_type": "code",
   "outputs": [],
   "execution_count": 8,
   "source": [
    "from langchain_openai import OpenAIEmbeddings\n",
    "from langchain_chroma import Chroma\n",
    "\n",
    "\n",
    "embeddings = OpenAIEmbeddings(model=\"text-embedding-3-large\")"
   ],
   "id": "40d1d026284d21e3"
  },
  {
   "metadata": {},
   "cell_type": "code",
   "outputs": [],
   "execution_count": 2,
   "source": "extracted_frames_dir = r\"/home/vedant/Desktop/glimpsify/most_info_frame_extractor/experiments/33/data/tioppr_extracted_frames\"",
   "id": "initial_id"
  },
  {
   "metadata": {},
   "cell_type": "code",
   "outputs": [],
   "execution_count": null,
   "source": [
    "loader = DirectoryLoader(extracted_frames_dir, glob=\"**/*.jpg\")\n",
    "docs = loader.load()"
   ],
   "id": "9847cb9172c9e952"
  },
  {
   "metadata": {
    "ExecuteTime": {
     "end_time": "2025-06-01T10:38:53.568538Z",
     "start_time": "2025-06-01T10:38:52.946993Z"
    }
   },
   "cell_type": "code",
   "source": [
    "vector_store = Chroma(\n",
    "    collection_name=\"example_collection\",\n",
    "    embedding_function=embeddings,\n",
    "    persist_directory=\"./chroma_langchain_db\",\n",
    ")"
   ],
   "id": "f1c1876a3b15129d",
   "outputs": [],
   "execution_count": 9
  },
  {
   "metadata": {
    "ExecuteTime": {
     "end_time": "2025-06-01T10:40:01.172389Z",
     "start_time": "2025-06-01T10:39:45.804255Z"
    }
   },
   "cell_type": "code",
   "source": "ids = vector_store.add_documents(documents=docs)",
   "id": "1f333f2547f2d648",
   "outputs": [],
   "execution_count": 11
  },
  {
   "metadata": {
    "ExecuteTime": {
     "end_time": "2025-06-01T10:40:03.700972Z",
     "start_time": "2025-06-01T10:40:03.694169Z"
    }
   },
   "cell_type": "code",
   "source": [
    "def test_query(query: str) -> None:\n",
    "    results = vector_store.similarity_search_with_score(\n",
    "        query\n",
    "    )\n",
    "\n",
    "    for res, score in results:\n",
    "        print(\"=\"*50)\n",
    "        print(f\"* [SIM={score:3f}] {res.page_content}\")\n"
   ],
   "id": "6beec3eea48e2ffd",
   "outputs": [],
   "execution_count": 12
  },
  {
   "metadata": {
    "ExecuteTime": {
     "end_time": "2025-06-01T10:40:56.303897Z",
     "start_time": "2025-06-01T10:40:55.010015Z"
    }
   },
   "cell_type": "code",
   "source": "test_query(\"What will I learn?\")",
   "id": "53964175d65c468d",
   "outputs": [
    {
     "name": "stdout",
     "output_type": "stream",
     "text": [
      "==================================================\n",
      "* [SIM=1.104641] Machine Learning\n",
      "\n",
      "tevened)\n",
      "\n",
      "\n",
      "\n",
      "»\n",
      "\n",
      "What you'll learn\n",
      "\n",
      "* Core concepts of ML\n",
      "\n",
      "* Abit of ML history\n",
      "\n",
      "+ Statistical techniques including regression, classification, clustering and more\n",
      "==================================================\n",
      "* [SIM=1.466313] Introduction\n",
      "\n",
      "Machine Learning\n",
      "\n",
      "ey\n",
      "==================================================\n",
      "* [SIM=1.765806] \n",
      "==================================================\n",
      "* [SIM=1.765806] \n"
     ]
    }
   ],
   "execution_count": 13
  }
 ],
 "metadata": {
  "kernelspec": {
   "display_name": "Python 3",
   "language": "python",
   "name": "python3"
  },
  "language_info": {
   "codemirror_mode": {
    "name": "ipython",
    "version": 2
   },
   "file_extension": ".py",
   "mimetype": "text/x-python",
   "name": "python",
   "nbconvert_exporter": "python",
   "pygments_lexer": "ipython2",
   "version": "2.7.6"
  }
 },
 "nbformat": 4,
 "nbformat_minor": 5
}
