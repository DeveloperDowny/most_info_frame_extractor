{
 "cells": [
  {
   "metadata": {
    "ExecuteTime": {
     "end_time": "2025-06-01T11:28:34.196771Z",
     "start_time": "2025-06-01T11:28:33.651690Z"
    }
   },
   "cell_type": "code",
   "source": [
    "import fitz  # PyMuPDF\n",
    "import pytesseract\n",
    "from PIL import Image\n",
    "import io\n",
    "from langchain.schema import Document\n",
    "from typing import List\n",
    "import os"
   ],
   "id": "52d16b071eb8f65d",
   "outputs": [],
   "execution_count": 1
  },
  {
   "metadata": {
    "ExecuteTime": {
     "end_time": "2025-06-01T11:28:35.484813Z",
     "start_time": "2025-06-01T11:28:35.480198Z"
    }
   },
   "cell_type": "code",
   "source": [
    "class PDFImageOCRLoader:\n",
    "    \"\"\"\n",
    "    Custom LangChain-compatible loader for extracting text from PDF images using OCR\n",
    "    \"\"\"\n",
    "\n",
    "    def __init__(self, file_path: str, tesseract_config: str = \"--oem 3 --psm 6\"):\n",
    "        \"\"\"\n",
    "        Initialize the PDF Image OCR Loader\n",
    "\n",
    "        Args:\n",
    "            file_path (str): Path to the PDF file\n",
    "            tesseract_config (str): Tesseract configuration string\n",
    "        \"\"\"\n",
    "        self.file_path = file_path\n",
    "        self.tesseract_config = tesseract_config\n",
    "\n",
    "        # Verify file exists\n",
    "        if not os.path.exists(file_path):\n",
    "            raise FileNotFoundError(f\"PDF file not found: {file_path}\")\n",
    "\n",
    "    def load(self) -> List[Document]:\n",
    "        \"\"\"\n",
    "        Load PDF and extract text from each page image using OCR\n",
    "\n",
    "        Returns:\n",
    "            List[Document]: List of LangChain Document objects with OCR text\n",
    "        \"\"\"\n",
    "        documents = []\n",
    "\n",
    "        try:\n",
    "            # Open PDF with PyMuPDF\n",
    "            pdf_document = fitz.open(self.file_path)\n",
    "\n",
    "            for page_num in range(len(pdf_document)):\n",
    "                # Get the page\n",
    "                page = pdf_document.load_page(page_num)\n",
    "\n",
    "                # Convert page to image (pixmap)\n",
    "                mat = fitz.Matrix(2.0, 2.0)  # Scale factor for better OCR quality\n",
    "                pix = page.get_pixmap(matrix=mat)\n",
    "\n",
    "                # Convert pixmap to PIL Image\n",
    "                img_data = pix.tobytes(\"png\")\n",
    "                image = Image.open(io.BytesIO(img_data))\n",
    "\n",
    "                # Perform OCR using pytesseract\n",
    "                extracted_text = pytesseract.image_to_string(\n",
    "                    image,\n",
    "                    config=self.tesseract_config\n",
    "                ).strip()\n",
    "\n",
    "                # Create LangChain Document\n",
    "                metadata = {\n",
    "                    \"source\": self.file_path,\n",
    "                    \"page\": page_num + 1,  # 1-indexed page numbers\n",
    "                    \"total_pages\": len(pdf_document)\n",
    "                }\n",
    "\n",
    "                document = Document(\n",
    "                    page_content=extracted_text,\n",
    "                    metadata=metadata\n",
    "                )\n",
    "\n",
    "                documents.append(document)\n",
    "\n",
    "                print(f\"Processed page {page_num + 1}/{len(pdf_document)}\")\n",
    "\n",
    "            pdf_document.close()\n",
    "\n",
    "        except Exception as e:\n",
    "            raise Exception(f\"Error processing PDF: {str(e)}\")\n",
    "\n",
    "        return documents"
   ],
   "id": "46935d2ea4b156a7",
   "outputs": [],
   "execution_count": 2
  },
  {
   "metadata": {
    "ExecuteTime": {
     "end_time": "2025-06-01T11:29:31.926051Z",
     "start_time": "2025-06-01T11:29:27.931715Z"
    }
   },
   "cell_type": "code",
   "source": [
    "# Usage example\n",
    "def main():\n",
    "    \"\"\"\n",
    "    Example usage of the PDF Image OCR Loader\n",
    "    \"\"\"\n",
    "    # Path to your PDF file\n",
    "    pdf_path = \"/home/vedant/Desktop/glimpsify/most_info_frame_extractor/video2pdf/archives/docloader/tioppr.pdf\"\n",
    "\n",
    "    try:\n",
    "        # Method 1: Custom OCR Loader\n",
    "        print(\"Method 1: Using custom OCR loader...\")\n",
    "        loader = PDFImageOCRLoader(pdf_path)\n",
    "        documents = loader.load()\n",
    "\n",
    "        print(f\"Loaded {len(documents)} documents\")\n",
    "\n",
    "        # Display results\n",
    "        for i, doc in enumerate(documents):\n",
    "            print(f\"\\n--- Page {doc.metadata['page']} ---\")\n",
    "            print(f\"Content length: {len(doc.page_content)} characters\")\n",
    "            print(f\"First 200 characters: {doc.page_content[:200]}...\")\n",
    "            print(f\"Metadata: {doc.metadata}\")\n",
    "\n",
    "        return documents\n",
    "\n",
    "    except Exception as e:\n",
    "        print(f\"Error: {str(e)}\")\n",
    "        return []\n",
    "\n",
    "if __name__ == \"__main__\":\n",
    "    # Install required packages:\n",
    "    # pip install langchain pymupdf pytesseract pillow\n",
    "    #\n",
    "    # Also install Tesseract OCR:\n",
    "    # - Ubuntu/Debian: sudo apt-get install tesseract-ocr\n",
    "    # - macOS: brew install tesseract\n",
    "    # - Windows: Download from https://github.com/UB-Mannheim/tesseract/wiki\n",
    "\n",
    "    documents = main()"
   ],
   "id": "1b08735c48da8fef",
   "outputs": [
    {
     "name": "stdout",
     "output_type": "stream",
     "text": [
      "Method 1: Using custom OCR loader...\n",
      "Processed page 1/5\n",
      "Processed page 2/5\n",
      "Processed page 3/5\n",
      "Processed page 4/5\n",
      "Processed page 5/5\n",
      "Loaded 5 documents\n",
      "\n",
      "--- Page 1 ---\n",
      "Content length: 35 characters\n",
      "First 200 characters: ' ©\n",
      "Introduction e\n",
      "Machine Learning...\n",
      "Metadata: {'source': '/home/vedant/Desktop/glimpsify/most_info_frame_extractor/video2pdf/archives/docloader/tioppr.pdf', 'page': 1, 'total_pages': 5}\n",
      "\n",
      "--- Page 2 ---\n",
      "Content length: 208 characters\n",
      "First 200 characters: ll aa ( had\n",
      "@ FT Machin: tn nan\n",
      "_ —» le\n",
      "> AAAAAASO\n",
      "> F 4 _- -c*ee@s\n",
      "» - os -\n",
      "x >\n",
      "A e wh 28\n",
      "- Wien aban » To\n",
      "; : ~ >\n",
      "= ~*\n",
      "re | : - Pes\n",
      "POPC eeeeee oeeeee\n",
      "ee i\n",
      "a i a i i i i a ~*\n",
      "ywauvwe Ss i i i i we W...\n",
      "Metadata: {'source': '/home/vedant/Desktop/glimpsify/most_info_frame_extractor/video2pdf/archives/docloader/tioppr.pdf', 'page': 2, 'total_pages': 5}\n",
      "\n",
      "--- Page 3 ---\n",
      "Content length: 173 characters\n",
      "First 200 characters: Machine Learning {\n",
      "What you'll learn\n",
      "' * Core concepts of ML\n",
      "* A bit of ML history\n",
      "* Statistical techniques including regression, classification, clustering .\n",
      "and more\n",
      "ans >...\n",
      "Metadata: {'source': '/home/vedant/Desktop/glimpsify/most_info_frame_extractor/video2pdf/archives/docloader/tioppr.pdf', 'page': 3, 'total_pages': 5}\n",
      "\n",
      "--- Page 4 ---\n",
      "Content length: 216 characters\n",
      "First 200 characters: i} weeannne®\n",
      "gsaag077*”\n",
      "mn NE gsaae000°°\n",
      "we II5599 99 9 9 9\n",
      "= A IA59 9999 9 9 9\n",
      "PSSSSSAAS SAKES\n",
      "y PPSSSIAS ASS Os\n",
      "< MP ISISS Abas\n",
      ") ap =< “ORR a,\n",
      "oo . AS am) 7 c r > s « :- 7\n",
      "£7 ee ‘Obbaa.\n",
      "es aN Ire i...\n",
      "Metadata: {'source': '/home/vedant/Desktop/glimpsify/most_info_frame_extractor/video2pdf/archives/docloader/tioppr.pdf', 'page': 4, 'total_pages': 5}\n",
      "\n",
      "--- Page 5 ---\n",
      "Content length: 237 characters\n",
      "First 200 characters: . > dnd\n",
      "@ FT Machin oa\n",
      "» at ip ip hp ha in\n",
      "> AA*AAAAOOE\n",
      "> 4 — -*eeen\n",
      "_ , - --o@\n",
      "- * eel\n",
      "- Weiss oe we ae ek\n",
      "2 ey\n",
      "° se Tale\n",
      "~\n",
      "- 7 on\n",
      "PCCP ewe eeee eeeeee ~ : le es\n",
      "Se ee ee ee a\n",
      "rPyeu yee eeeee ee ro ....\n",
      "Metadata: {'source': '/home/vedant/Desktop/glimpsify/most_info_frame_extractor/video2pdf/archives/docloader/tioppr.pdf', 'page': 5, 'total_pages': 5}\n"
     ]
    }
   ],
   "execution_count": 3
  },
  {
   "metadata": {
    "ExecuteTime": {
     "end_time": "2025-06-01T10:39:08.957040Z",
     "start_time": "2025-06-01T10:39:08.947758Z"
    }
   },
   "cell_type": "code",
   "source": [
    "from langchain_community.document_loaders import DirectoryLoader\n",
    "from dotenv import load_dotenv\n",
    "\n",
    "load_dotenv()"
   ],
   "id": "3993225e97b300b4",
   "outputs": [
    {
     "data": {
      "text/plain": [
       "True"
      ]
     },
     "execution_count": 10,
     "metadata": {},
     "output_type": "execute_result"
    }
   ],
   "execution_count": 10
  },
  {
   "cell_type": "code",
   "id": "initial_id",
   "metadata": {
    "collapsed": true,
    "ExecuteTime": {
     "end_time": "2025-06-01T10:38:39.195574Z",
     "start_time": "2025-06-01T10:38:39.193606Z"
    }
   },
   "source": "extracted_frames_dir = r\"/home/vedant/Desktop/glimpsify/most_info_frame_extractor/experiments/33/data/tioppr_extracted_frames\"",
   "outputs": [],
   "execution_count": 2
  },
  {
   "metadata": {
    "ExecuteTime": {
     "end_time": "2025-06-01T10:38:39.208487Z",
     "start_time": "2025-06-01T10:38:39.203432Z"
    }
   },
   "cell_type": "code",
   "source": "extracted_frames_dir",
   "id": "a0a66382fb56209d",
   "outputs": [
    {
     "data": {
      "text/plain": [
       "'/home/vedant/Desktop/glimpsify/most_info_frame_extractor/experiments/33/data/tioppr_extracted_frames'"
      ]
     },
     "execution_count": 3,
     "metadata": {},
     "output_type": "execute_result"
    }
   ],
   "execution_count": 3
  },
  {
   "metadata": {
    "ExecuteTime": {
     "end_time": "2025-06-01T10:38:39.254828Z",
     "start_time": "2025-06-01T10:38:39.252861Z"
    }
   },
   "cell_type": "code",
   "source": "# !pip install unstructured[image]",
   "id": "266106af0c822066",
   "outputs": [],
   "execution_count": 4
  },
  {
   "metadata": {
    "ExecuteTime": {
     "end_time": "2025-06-01T10:38:52.077034Z",
     "start_time": "2025-06-01T10:38:39.300126Z"
    }
   },
   "cell_type": "code",
   "source": [
    "loader = DirectoryLoader(extracted_frames_dir, glob=\"**/*.jpg\")\n",
    "docs = loader.load()\n",
    "len(docs)"
   ],
   "id": "9847cb9172c9e952",
   "outputs": [
    {
     "data": {
      "text/plain": [
       "5"
      ]
     },
     "execution_count": 5,
     "metadata": {},
     "output_type": "execute_result"
    }
   ],
   "execution_count": 5
  },
  {
   "metadata": {
    "ExecuteTime": {
     "end_time": "2025-06-01T10:38:52.092247Z",
     "start_time": "2025-06-01T10:38:52.089822Z"
    }
   },
   "cell_type": "code",
   "source": "docs",
   "id": "c5d5416c10c7723e",
   "outputs": [
    {
     "data": {
      "text/plain": [
       "[Document(metadata={'source': '/home/vedant/Desktop/glimpsify/most_info_frame_extractor/experiments/33/data/tioppr_extracted_frames/frame_5785.jpg'}, page_content=''),\n",
       " Document(metadata={'source': '/home/vedant/Desktop/glimpsify/most_info_frame_extractor/experiments/33/data/tioppr_extracted_frames/frame_3382.jpg'}, page_content=\"Machine Learning\\n\\ntevened)\\n\\n\\n\\n»\\n\\nWhat you'll learn\\n\\n* Core concepts of ML\\n\\n* Abit of ML history\\n\\n+ Statistical techniques including regression, classification, clustering and more\"),\n",
       " Document(metadata={'source': '/home/vedant/Desktop/glimpsify/most_info_frame_extractor/experiments/33/data/tioppr_extracted_frames/frame_178.jpg'}, page_content='Introduction\\n\\nMachine Learning\\n\\ney'),\n",
       " Document(metadata={'source': '/home/vedant/Desktop/glimpsify/most_info_frame_extractor/experiments/33/data/tioppr_extracted_frames/frame_1691.jpg'}, page_content=''),\n",
       " Document(metadata={'source': '/home/vedant/Desktop/glimpsify/most_info_frame_extractor/experiments/33/data/tioppr_extracted_frames/frame_4450.jpg'}, page_content='gaan” 5599)...\" eaagan0\"” x s559595 Er COLLEEN YY PSSSSSAA SSS IIIS I DS DOO 80: (é¢éddddt.')]"
      ]
     },
     "execution_count": 6,
     "metadata": {},
     "output_type": "execute_result"
    }
   ],
   "execution_count": 6
  },
  {
   "metadata": {
    "ExecuteTime": {
     "end_time": "2025-06-01T10:38:52.938439Z",
     "start_time": "2025-06-01T10:38:52.190238Z"
    }
   },
   "cell_type": "code",
   "source": [
    "from langchain_openai import OpenAIEmbeddings\n",
    "\n",
    "embeddings = OpenAIEmbeddings(model=\"text-embedding-3-large\")"
   ],
   "id": "40d1d026284d21e3",
   "outputs": [],
   "execution_count": 8
  },
  {
   "metadata": {
    "ExecuteTime": {
     "end_time": "2025-06-01T10:38:53.568538Z",
     "start_time": "2025-06-01T10:38:52.946993Z"
    }
   },
   "cell_type": "code",
   "source": [
    "# from langchain_core.vectorstores import InMemoryVectorStore\n",
    "#\n",
    "# vector_store = InMemoryVectorStore(embeddings)\n",
    "\n",
    "from langchain_chroma import Chroma\n",
    "\n",
    "vector_store = Chroma(\n",
    "    collection_name=\"example_collection\",\n",
    "    embedding_function=embeddings,\n",
    "    persist_directory=\"./chroma_langchain_db\",  # Where to save data locally, remove if not necessary\n",
    ")"
   ],
   "id": "f1c1876a3b15129d",
   "outputs": [],
   "execution_count": 9
  },
  {
   "metadata": {
    "ExecuteTime": {
     "end_time": "2025-06-01T10:40:01.172389Z",
     "start_time": "2025-06-01T10:39:45.804255Z"
    }
   },
   "cell_type": "code",
   "source": "# ids = vector_store.add_documents(documents=docs)",
   "id": "1f333f2547f2d648",
   "outputs": [],
   "execution_count": 11
  },
  {
   "metadata": {
    "ExecuteTime": {
     "end_time": "2025-06-01T10:40:03.700972Z",
     "start_time": "2025-06-01T10:40:03.694169Z"
    }
   },
   "cell_type": "code",
   "source": [
    "def test_query(query: str) -> None:\n",
    "    results = vector_store.similarity_search_with_score(\n",
    "        query\n",
    "    )\n",
    "\n",
    "    for res, score in results:\n",
    "        print(\"=\"*50)\n",
    "        print(f\"* [SIM={score:3f}] {res.page_content}\")\n"
   ],
   "id": "6beec3eea48e2ffd",
   "outputs": [],
   "execution_count": 12
  },
  {
   "metadata": {
    "ExecuteTime": {
     "end_time": "2025-06-01T10:40:56.303897Z",
     "start_time": "2025-06-01T10:40:55.010015Z"
    }
   },
   "cell_type": "code",
   "source": "# test_query(\"What will I learn?\")",
   "id": "53964175d65c468d",
   "outputs": [
    {
     "name": "stdout",
     "output_type": "stream",
     "text": [
      "==================================================\n",
      "* [SIM=1.104641] Machine Learning\n",
      "\n",
      "tevened)\n",
      "\n",
      "\n",
      "\n",
      "»\n",
      "\n",
      "What you'll learn\n",
      "\n",
      "* Core concepts of ML\n",
      "\n",
      "* Abit of ML history\n",
      "\n",
      "+ Statistical techniques including regression, classification, clustering and more\n",
      "==================================================\n",
      "* [SIM=1.466313] Introduction\n",
      "\n",
      "Machine Learning\n",
      "\n",
      "ey\n",
      "==================================================\n",
      "* [SIM=1.765806] \n",
      "==================================================\n",
      "* [SIM=1.765806] \n"
     ]
    }
   ],
   "execution_count": 13
  },
  {
   "metadata": {},
   "cell_type": "code",
   "outputs": [],
   "execution_count": null,
   "source": "",
   "id": "c2093e69d0cbebb2"
  }
 ],
 "metadata": {
  "kernelspec": {
   "display_name": "Python 3",
   "language": "python",
   "name": "python3"
  },
  "language_info": {
   "codemirror_mode": {
    "name": "ipython",
    "version": 2
   },
   "file_extension": ".py",
   "mimetype": "text/x-python",
   "name": "python",
   "nbconvert_exporter": "python",
   "pygments_lexer": "ipython2",
   "version": "2.7.6"
  }
 },
 "nbformat": 4,
 "nbformat_minor": 5
}
