{
 "cells": [
  {
   "metadata": {
    "ExecuteTime": {
     "end_time": "2025-06-01T10:47:21.187779Z",
     "start_time": "2025-06-01T10:47:21.180216Z"
    }
   },
   "cell_type": "code",
   "source": [
    "from dotenv import load_dotenv\n",
    "load_dotenv()"
   ],
   "id": "66d5c9e355187d21",
   "outputs": [
    {
     "data": {
      "text/plain": [
       "True"
      ]
     },
     "execution_count": 1,
     "metadata": {},
     "output_type": "execute_result"
    }
   ],
   "execution_count": 1
  },
  {
   "metadata": {
    "ExecuteTime": {
     "end_time": "2025-06-01T10:48:50.036095Z",
     "start_time": "2025-06-01T10:48:50.020025Z"
    }
   },
   "cell_type": "code",
   "source": [
    "from langchain_chroma import Chroma\n",
    "from langchain.embeddings import OpenAIEmbeddings  # Or your specific embeddings class\n",
    "\n",
    "# Initialize embeddings (must match the one used during saving)\n",
    "embeddings = OpenAIEmbeddings(model=\"text-embedding-3-large\")  # or any other embedding function you used\n",
    "\n",
    "# Load the existing Chroma vector store\n",
    "vector_store = Chroma(\n",
    "    collection_name=\"example_collection\",\n",
    "    embedding_function=embeddings,\n",
    "    persist_directory=\"./chroma_langchain_db\",\n",
    ")"
   ],
   "id": "aeb24559390339b1",
   "outputs": [],
   "execution_count": 4
  },
  {
   "metadata": {
    "ExecuteTime": {
     "end_time": "2025-06-01T10:49:24.030854Z",
     "start_time": "2025-06-01T10:49:22.145395Z"
    }
   },
   "cell_type": "code",
   "source": "vector_store.similarity_search_with_score(\"What is this video about?\", k = 2)",
   "id": "17344dd45bd7be56",
   "outputs": [
    {
     "data": {
      "text/plain": [
       "[(Document(id='6078921d-f8e6-45f6-8331-e4015918baa9', metadata={'source': '/home/vedant/Desktop/glimpsify/most_info_frame_extractor/experiments/33/data/tioppr_extracted_frames/frame_3382.jpg'}, page_content=\"Machine Learning\\n\\ntevened)\\n\\n\\n\\n»\\n\\nWhat you'll learn\\n\\n* Core concepts of ML\\n\\n* Abit of ML history\\n\\n+ Statistical techniques including regression, classification, clustering and more\"),\n",
       "  1.487628698348999),\n",
       " (Document(id='4939ad03-ba7e-4f26-a6c3-c2d8211e838a', metadata={'source': '/home/vedant/Desktop/glimpsify/most_info_frame_extractor/experiments/33/data/tioppr_extracted_frames/frame_178.jpg'}, page_content='Introduction\\n\\nMachine Learning\\n\\ney'),\n",
       "  1.5436240434646606)]"
      ]
     },
     "execution_count": 6,
     "metadata": {},
     "output_type": "execute_result"
    }
   ],
   "execution_count": 6
  },
  {
   "metadata": {},
   "cell_type": "code",
   "outputs": [],
   "execution_count": null,
   "source": [
    "# Perform a similarity search (example query)\n",
    "query = \"What is LangChain?\"\n",
    "results = vector_store.similarity_search(query, k=5)\n",
    "\n",
    "# Print results\n",
    "for i, doc in enumerate(results):\n",
    "    print(f\"\\nResult {i + 1}\")\n",
    "    print(doc.page_content)\n"
   ],
   "id": "e2cfc1aae083a119"
  }
 ],
 "metadata": {
  "kernelspec": {
   "display_name": "Python 3",
   "language": "python",
   "name": "python3"
  },
  "language_info": {
   "codemirror_mode": {
    "name": "ipython",
    "version": 2
   },
   "file_extension": ".py",
   "mimetype": "text/x-python",
   "name": "python",
   "nbconvert_exporter": "python",
   "pygments_lexer": "ipython2",
   "version": "2.7.6"
  }
 },
 "nbformat": 4,
 "nbformat_minor": 5
}
