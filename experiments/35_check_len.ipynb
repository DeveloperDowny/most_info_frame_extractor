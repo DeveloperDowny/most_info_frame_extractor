{
 "cells": [
  {
   "cell_type": "code",
   "id": "initial_id",
   "metadata": {
    "collapsed": true,
    "ExecuteTime": {
     "end_time": "2025-06-01T13:27:49.683686Z",
     "start_time": "2025-06-01T13:27:49.677717Z"
    }
   },
   "source": "from pytubefix import YouTube",
   "outputs": [],
   "execution_count": 3
  },
  {
   "metadata": {
    "ExecuteTime": {
     "end_time": "2025-06-01T13:27:49.850323Z",
     "start_time": "2025-06-01T13:27:49.843051Z"
    }
   },
   "cell_type": "code",
   "source": "from video2pdf.utils.helper import Helper",
   "id": "7b4002c61deaf4c7",
   "outputs": [],
   "execution_count": 4
  },
  {
   "metadata": {
    "ExecuteTime": {
     "end_time": "2025-06-01T13:28:14.271333Z",
     "start_time": "2025-06-01T13:28:14.268878Z"
    }
   },
   "cell_type": "code",
   "source": "urls = Helper.get_video_urls_from_playlist(\"https://youtube.com/playlist?list=PLBlnK6fEyqRgMCUAG0XRw78UA8qnv6jEx&si=JkXp2HB8fbVASCf1\")",
   "id": "3b697faa81204fe0",
   "outputs": [],
   "execution_count": 6
  },
  {
   "metadata": {
    "ExecuteTime": {
     "end_time": "2025-06-01T13:28:50.083993Z",
     "start_time": "2025-06-01T13:28:50.076178Z"
    }
   },
   "cell_type": "code",
   "source": "len(urls[:30])",
   "id": "4f7c6f96be3663e3",
   "outputs": [
    {
     "data": {
      "text/plain": [
       "30"
      ]
     },
     "execution_count": 8,
     "metadata": {},
     "output_type": "execute_result"
    }
   ],
   "execution_count": 8
  },
  {
   "metadata": {},
   "cell_type": "code",
   "outputs": [],
   "execution_count": null,
   "source": "",
   "id": "32c627643dff19f3"
  }
 ],
 "metadata": {
  "kernelspec": {
   "display_name": "Python 3",
   "language": "python",
   "name": "python3"
  },
  "language_info": {
   "codemirror_mode": {
    "name": "ipython",
    "version": 2
   },
   "file_extension": ".py",
   "mimetype": "text/x-python",
   "name": "python",
   "nbconvert_exporter": "python",
   "pygments_lexer": "ipython2",
   "version": "2.7.6"
  }
 },
 "nbformat": 4,
 "nbformat_minor": 5
}
