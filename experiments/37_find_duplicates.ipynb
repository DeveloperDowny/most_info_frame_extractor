{
 "cells": [
  {
   "cell_type": "code",
   "id": "initial_id",
   "metadata": {
    "collapsed": true,
    "ExecuteTime": {
     "end_time": "2025-06-28T05:49:35.467109Z",
     "start_time": "2025-06-28T05:49:35.461464Z"
    }
   },
   "source": [
    "from collections import defaultdict\n",
    "from pathlib import Path\n",
    "\n",
    "dir = \"/home/vedant/Desktop/glimpsify/most_info_frame_extractor/video2pdf/archives/data_archive_50_python_objects_all_dirs_phash_approval_strategy_v3/\""
   ],
   "outputs": [],
   "execution_count": 37
  },
  {
   "metadata": {
    "ExecuteTime": {
     "end_time": "2025-06-28T05:49:35.697872Z",
     "start_time": "2025-06-28T05:49:35.671270Z"
    }
   },
   "cell_type": "code",
   "source": [
    "duplicates = defaultdict(list)\n",
    "\n",
    "for file in Path(dir).rglob(\"video_path.txt\"):\n",
    "    video = Path(file.read_text())\n",
    "    duplicates[video.stem].append(file)\n",
    "    print(video.stem)"
   ],
   "id": "7955cdcff6edb326",
   "outputs": [
    {
     "name": "stdout",
     "output_type": "stream",
     "text": [
      "Human Biology Lecture: Chapter 7- Cellular Basis of Inheritance (Meiosis)\n",
      "Histology- Taste Buds and Lingual Papillae\n",
      "Head & Neck Anatomy | Craniofacial Veins | INBDE\n",
      "Patient Management | Public Health & Epidemiology | INBDE, ADAT\n",
      "Human Anatomy Lecture  Ch 9 Joints Pt 1\n",
      "Endocrine System - Pituitary Gland THE MASTER GLAND\n",
      "Saliva and the Stephan Curve\n",
      "Lecture 10.1: Fusion, co-learning, and new trend (Multimodal Machine Learning, CMU)\n",
      "Lecture 1.2: Datasets (Multimodal Machine Learning, Carnegie Mellon University)\n",
      "Developmental Psychology - Middle Adulthood - CH11\n",
      "Oral Radiology | Radiation Dose | INBDE, ADAT\n",
      "Developmental Psychology - Middle Adulthood - Biosychosocial - CH13\n",
      "Head & Neck Anatomy | Triangles of the Neck & Neck Muscles | INBDE\n",
      "Operative Dentistry | Cavity Preparation | INBDE, ADAT\n",
      "Oral Medicine | CPR | INBDE\n",
      "Pediatric Dentistry | Child Behavior | INBDE, ADAT\n",
      "Operative Dentistry | PRACTICE QUESTIONS | INBDE, ADAT\n",
      "Oral Surgery | Instrumentation for Extraction | INBDE, ADAT\n",
      "Periodontics | Local Factors | INBDE, ADAT\n",
      "Head & Neck Anatomy | Bones of the Skull | INBDE\n",
      "Prosthodontics | PRACTICE QUESTIONS | INBDE, ADAT\n",
      "Periodontics | Prevention & Maintenance | INBDE, ADAT\n",
      "Prosthodontics | Provisional Crowns | INBDE, ADAT\n",
      "Developmental Psychology - Cognitive - Young Adulthood - CH10\n",
      "Human Biology Lecture- Chapter 1: What is Life?\n",
      "Oral Medicine | Diabetes | INBDE\n",
      "CurrentTopicsLecture2Ch2\n",
      "Chapter 25   RNA Viruses New\n",
      "Oral Surgery | PRACTICE QUESTIONS | INBDE, ADAT\n",
      "Oral Surgery | Biopsy Techniques | INBDE, ADAT\n",
      "Prosthodontics | General Considerations | INBDE, ADAT\n",
      "Oral Surgery | Simple Extraction | INBDE, ADAT\n",
      "Evidence-Based Dentistry Part 2\n",
      "Chapter 3 Part B Cells Anatomy & Physiology Lecture\n",
      "Head & Neck Anatomy | Cranial Nerves | INBDE\n",
      "Human Biology: Ch 16.3- Cardiovascular System Part 1\n",
      "Pediatric Dentistry | Primary Tooth Anatomy | INBDE, ADAT\n",
      "Orthodontics | PRACTICE QUESTIONS | INBDE, ADAT\n",
      "Pediatric Dentistry | PRACTICE QUESTIONS | INBDE, ADAT\n",
      "Orthodontics | Diagnosis & Treatment Planning | INBDE, ADAT\n",
      "How to Write a ArgumentativePersuasive Essay|Writing and Presentation skills Eng406 Lecture 13\n",
      "Chapter 38   Nervous System\n",
      "Perceptual Ability Test | Top Front End | DAT\n",
      "Developmental Psychology - Human Development - CH1\n",
      "Human Anatomy Lecture  Ch 6 Bones\n",
      "Patient Management | Evidence-Based Dentistry | INBDE, ADAT\n",
      "Anatomy and Physiology Chapter 7 Part A Lecture: The Skelton\n",
      "Oral Radiology | Film vs. Digital Imaging | INBDE, ADAT\n",
      "Prosthodontics | Denture Processing & Materials | INBDE, ADAT\n",
      "Prosthodontics | Mechanical Properties | INBDE, ADAT\n",
      "Endodontics | Procedural Complications | INBDE, ADAT\n",
      "Orthodontic Treatment Pt.  1\n",
      "Periodontics | Adjunctive Therapy | INBDE, ADAT\n",
      "Anatomy & Physiology Chapter 3 Part D Lecture\n",
      "Prosthodontics | Tooth Preparation | INBDE, ADAT\n",
      "Anatomy and Physiology Chapter 18 Part A lecture: The Cardiovascular System\n",
      "Three Stages of the Writing Process|Essay Writing and Presentation skills in Hindi Urdu ENG406 4\n",
      "Lecture 5.1: Multimodal Alignment (Multimodal Machine Learning, Carnegie Mellon University)\n",
      "DOS & DON’TS|Essay Writing and Presentation skills Eng406 Lecture in Hindi Urdu 24\n",
      "Orthodontics | Comprehensive Treatment & Appliances | INBDE, ADAT\n",
      "Human Anatomy Lecture  Ch 19 The Heart Pt 2\n",
      "Lecture 5.2: Alignment and Representation (Multimodal Machine Learning, Carnegie Mellon University)\n",
      "Orthodontic Tooth Movement- Biomechanics- Duration\n",
      "Head & Neck Anatomy | Tongue Muscles | INBDE\n",
      "Human Anatomy Lecture  Ch 10 Skeletal Muscle Tissue\n",
      "Prosthodontics | Metal-Ceramic & All-Ceramic Crowns | INBDE, ADAT\n",
      "Chapter 35   Innate Immunity\n",
      "Perceptual Ability Test | Angle Ranking | DAT\n",
      "Chapter 39   Muscoloskeletal System\n",
      "Anatomy and Physiology Chapter 17 Part B lecture: Blood\n",
      "Orthodontics | Orthodontic Wires & Brackets | INBDE, ADAT\n",
      "Oral Surgery | Medical Emergencies | INBDE, ADAT\n",
      "Patient Management | Infection Control | INBDE, ADAT\n",
      "Oral Pathology | Hereditary Conditions | INBDE, ADAT\n",
      "What Is Organic Chemistry?: Crash Course Organic Chemistry #1\n",
      "Prosthodontics | Dental Cements | INBDE, ADAT\n",
      "How to Write a Critical Essay|Essay Writing and Presentation skills Eng406 Lecture 10\n",
      "STATIC OCCLUSION - Occlusal Contacts & Picket Fence\n",
      "What is a paragraph|Essay Writing and Presentation skills Eng406 Lecture in Hindi Urdu 05\n",
      "Orthodontics | Early Treatment | INBDE, ADAT\n",
      "Anatomy and Physiology Chapter 13 Part D  lecture: Peripheral Nervous System\n",
      "CurrentTopicsLecture15Ch16\n",
      "Chapter 38   The Senses\n",
      "Anatomy and Physiology Chapter 17 Part A Lecture: Blood\n",
      "Developmental Psychology - Socioemotional Development In Infancy  - CH5\n",
      "Pediatric Dentistry | Primary Tooth Treatment | INBDE, ADAT\n",
      "CurrentTopicsLecture3Ch3\n",
      "Patient Management | PRACTICE QUESTIONS | INBDE, ADAT\n",
      "Prosthodontics | Metal Alloys | INBDE, ADAT\n",
      "Prosthodontics | Maxillary Edentulous Anatomy | INBDE, ADAT\n",
      "Operative Dentistry | Dental Caries | INBDE, ADAT\n",
      "Anatomy and Physiology Chapter 7 Part B Lecture: The Skelton\n",
      "Human Anatomy Lecture  Ch 17 Endocrine System Pt 2\n",
      "CurrentTopicsLecture5Ch5\n",
      "Orthodontic Treatment Pt. 2\n",
      "Histology slides review\n",
      "Oral Surgery | Trauma & Orthognathic Surgery | INBDE, ADAT\n",
      "Chapter 36   Animal Development\n",
      "Intro to Muscular system part 2\n",
      "What is an Expository Essay|Essay Writing and Presentation skills Eng406 Lecture 19 19\n",
      "Chapter 32   Tissues and Endocrine System\n",
      "PSY101 - Conditioning and Learning\n",
      "CurrentTopicsLecture7Ch7\n",
      "Human Biology Lecture Ch 16  The Respiratory System\n",
      "Oral Pathology | Salivary Gland Malignant Diseases | INBDE, ADAT\n",
      "Chapter 27   The Rise of the Invertebrate Animals\n",
      "Human Biology Lecture: Ch 6- Reproduction at the Cellular Level Part 1\n",
      "Human Anatomy Lecture  Ch 18 Blood\n",
      "Human Biology Lecture: Chapter 18- Reproduction and Development\n",
      "How to Write a Compare & Contrast Essay|Essay Writing and Presentation skills Eng406 Lecture 12\n",
      "Human Anatomy Lecture  Ch 20 Blood Vessels Pt 1\n",
      "Head & Neck Anatomy | Salivary Glands | INBDE\n",
      "Oral Radiology | Types of Radiographs | INBDE, ADAT\n",
      "Chapter 34   Respiratory System\n",
      "Lecture 2.2: Basic Concepts - Optimization (Multimodal Machine Learning, Carnegie Mellon University)\n",
      "Anatomy and Physiology Chapter 22 Part C lecture: Respiratory System\n",
      "Chapter 25 The RNA Viruses of Medical Importance\n",
      "Occlusion Part 1\n",
      "Pediatric Dentistry | Developmental Disturbances of Teeth | INBDE, ADAT\n",
      "Developmental Psychology - Cognitive & Physical Development Childhood - CH6\n",
      "Head & Neck Anatomy | Pharynx & Larynx Muscles | INBDE\n",
      "Orthodontic Tooth Movement- Biomechanics- Types of Movement\n",
      "Patient Management | Anxiety & Pain Control | INBDE, ADAT\n",
      "Pediatric Dentistry | Tooth Development and Eruption | INBDE, ADAT\n",
      "Developmental Psychology - Cognitive Development in Infancy & Early Childhood - CH4\n",
      "Prosthodontics | Gypsum Materials | INBDE, ADAT\n",
      "Oral Surgery | Orofacial Pain | INBDE, ADAT\n",
      "Head & Neck Anatomy | Muscles of Mastication | INBDE\n",
      "Orthodontics | Growth & Development | INBDE, ADAT\n",
      "Endodontics | Adjunctive Treatment | INBDE, ADAT\n",
      "CurrentTopicsLecture8Ch8\n",
      "Prosthodontics | Mandibular Edentulous Anatomy | INBDE, ADAT\n",
      "Oral Pathology | Mucosal Malignant Lesions | INBDE, ADAT\n",
      "Periodontics | New Classification System | INBDE, ADAT\n",
      "Human Biology Lecture: Ch 9- Molecular Biology, DNA and Gene Expression\n",
      "Anatomy & Physiology Chapter 11 Part B: Nervous System and Nervous Tissue Lecture\n",
      "Lecture 8.1: Discriminative Graphical Models (Multimodal Machine Learning, CMU)\n",
      "Head & Neck Anatomy | Foramina of the Skull | INBDE\n",
      "Endodontics | Pulp Biology and Tooth Pain | INBDE, ADAT\n",
      "Oral Medicine | COPD & Asthma | INBDE\n",
      "Oral Pathology | Connective Tissue Malignant Tumors | INBDE, ADAT\n",
      "Prosthodontics | Clasp Design & Selection | INBDE, ADAT\n",
      "Prosthodontics | Support, Stability, & Retention | INBDE, ADAT\n",
      "Patient Management | Materials & Equipment Safety | INBDE, ADAT\n",
      "Oral Medicine | INR & Bleeding | INBDE\n",
      "Oral Pathology | Mucosal Infections | INBDE, ADAT\n",
      "CurrentTopicsLecture1Ch1\n",
      "CurrentTopicsLecture9Ch9\n",
      "Head & Neck Anatomy | TMJ Anatomy | INBDE\n",
      "Orthodontic Tooth Movement- Mechanics\n",
      "Head & Neck Anatomy | Embryology & Pharyngeal Arches | INBDE\n",
      "Head & Neck Anatomy | Muscles of Facial Expression | INBDE\n"
     ]
    }
   ],
   "execution_count": 38
  },
  {
   "metadata": {
    "ExecuteTime": {
     "end_time": "2025-06-28T05:49:37.628467Z",
     "start_time": "2025-06-28T05:49:37.625904Z"
    }
   },
   "cell_type": "code",
   "source": "len(duplicates)",
   "id": "900d8894e9b89d75",
   "outputs": [
    {
     "data": {
      "text/plain": [
       "152"
      ]
     },
     "execution_count": 39,
     "metadata": {},
     "output_type": "execute_result"
    }
   ],
   "execution_count": 39
  },
  {
   "metadata": {
    "ExecuteTime": {
     "end_time": "2025-06-28T05:49:38.641712Z",
     "start_time": "2025-06-28T05:49:38.639483Z"
    }
   },
   "cell_type": "code",
   "source": [
    "for video, path in duplicates.items():\n",
    "    if len(path) > 1:\n",
    "        print(\"=\"*50)\n",
    "        print(video)\n",
    "        print(path)"
   ],
   "id": "b663f6dd32f2c9d2",
   "outputs": [],
   "execution_count": 40
  }
 ],
 "metadata": {
  "kernelspec": {
   "display_name": "Python 3",
   "language": "python",
   "name": "python3"
  },
  "language_info": {
   "codemirror_mode": {
    "name": "ipython",
    "version": 2
   },
   "file_extension": ".py",
   "mimetype": "text/x-python",
   "name": "python",
   "nbconvert_exporter": "python",
   "pygments_lexer": "ipython2",
   "version": "2.7.6"
  }
 },
 "nbformat": 4,
 "nbformat_minor": 5
}
