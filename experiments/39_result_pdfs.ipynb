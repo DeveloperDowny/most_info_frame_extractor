{
 "cells": [
  {
   "metadata": {
    "ExecuteTime": {
     "end_time": "2025-06-29T05:58:14.047885Z",
     "start_time": "2025-06-29T05:58:14.043177Z"
    }
   },
   "cell_type": "code",
   "source": [
    "import os\n",
    "from pathlib import Path\n",
    "\n",
    "import pandas as pd"
   ],
   "id": "24ee1770f26b08d3",
   "outputs": [],
   "execution_count": 30
  },
  {
   "cell_type": "code",
   "id": "initial_id",
   "metadata": {
    "collapsed": true,
    "ExecuteTime": {
     "end_time": "2025-06-29T05:58:14.097259Z",
     "start_time": "2025-06-29T05:58:14.094112Z"
    }
   },
   "source": [
    "output_dir = \"./38\"\n",
    "output_dir = Path(output_dir)\n",
    "output_dir.mkdir(parents=True, exist_ok=True)\n",
    "short_output_path = output_dir / \"short_videos.csv\"\n",
    "long_output_path = output_dir / \"long_videos.csv\""
   ],
   "outputs": [],
   "execution_count": 31
  },
  {
   "metadata": {
    "ExecuteTime": {
     "end_time": "2025-06-29T05:58:14.153211Z",
     "start_time": "2025-06-29T05:58:14.146170Z"
    }
   },
   "cell_type": "code",
   "source": "short_df = pd.read_csv(short_output_path, sep=\"\\t\")",
   "id": "ad491cbfb4aeb2a9",
   "outputs": [],
   "execution_count": 32
  },
  {
   "metadata": {
    "ExecuteTime": {
     "end_time": "2025-06-29T05:58:14.202307Z",
     "start_time": "2025-06-29T05:58:14.198675Z"
    }
   },
   "cell_type": "code",
   "source": "long_df = pd.read_csv(long_output_path, sep=\"\\t\")",
   "id": "31f3e52ce3009465",
   "outputs": [],
   "execution_count": 33
  },
  {
   "metadata": {
    "ExecuteTime": {
     "end_time": "2025-06-29T05:58:14.253374Z",
     "start_time": "2025-06-29T05:58:14.247032Z"
    }
   },
   "cell_type": "code",
   "source": "short_df",
   "id": "70bbc7d61456e822",
   "outputs": [
    {
     "data": {
      "text/plain": [
       "                                          video_name  \\\n",
       "0  Prosthodontics | Mechanical Properties | INBDE...   \n",
       "1         Histology- Taste Buds and Lingual Papillae   \n",
       "2                    Evidence-Based Dentistry Part 2   \n",
       "3  Endodontics | Procedural Complications | INBDE...   \n",
       "4    Oral Surgery | PRACTICE QUESTIONS | INBDE, ADAT   \n",
       "\n",
       "                                          video_path  \\\n",
       "0  /home/vedant/Desktop/glimpsify/most_info_frame...   \n",
       "1  /home/vedant/Desktop/glimpsify/most_info_frame...   \n",
       "2  /home/vedant/Desktop/glimpsify/most_info_frame...   \n",
       "3  /home/vedant/Desktop/glimpsify/most_info_frame...   \n",
       "4  /home/vedant/Desktop/glimpsify/most_info_frame...   \n",
       "\n",
       "                        cached_processed_frames_path  frame_count  duration  \\\n",
       "0  /home/vedant/Desktop/glimpsify/most_info_frame...          308       924   \n",
       "1  /home/vedant/Desktop/glimpsify/most_info_frame...          246       738   \n",
       "2  /home/vedant/Desktop/glimpsify/most_info_frame...          220       660   \n",
       "3  /home/vedant/Desktop/glimpsify/most_info_frame...          244       732   \n",
       "4  /home/vedant/Desktop/glimpsify/most_info_frame...          590      1770   \n",
       "\n",
       "  formatted_duration     video_id  \n",
       "0              15:24  ZVYFKRBK0Tc  \n",
       "1              12:18  GIAhrwnk79Y  \n",
       "2              11:00  j0VTYFUMW_M  \n",
       "3              12:12  SGnIYlqel2s  \n",
       "4              29:30  Ca0GC0Ph43k  "
      ],
      "text/html": [
       "<div>\n",
       "<style scoped>\n",
       "    .dataframe tbody tr th:only-of-type {\n",
       "        vertical-align: middle;\n",
       "    }\n",
       "\n",
       "    .dataframe tbody tr th {\n",
       "        vertical-align: top;\n",
       "    }\n",
       "\n",
       "    .dataframe thead th {\n",
       "        text-align: right;\n",
       "    }\n",
       "</style>\n",
       "<table border=\"1\" class=\"dataframe\">\n",
       "  <thead>\n",
       "    <tr style=\"text-align: right;\">\n",
       "      <th></th>\n",
       "      <th>video_name</th>\n",
       "      <th>video_path</th>\n",
       "      <th>cached_processed_frames_path</th>\n",
       "      <th>frame_count</th>\n",
       "      <th>duration</th>\n",
       "      <th>formatted_duration</th>\n",
       "      <th>video_id</th>\n",
       "    </tr>\n",
       "  </thead>\n",
       "  <tbody>\n",
       "    <tr>\n",
       "      <th>0</th>\n",
       "      <td>Prosthodontics | Mechanical Properties | INBDE...</td>\n",
       "      <td>/home/vedant/Desktop/glimpsify/most_info_frame...</td>\n",
       "      <td>/home/vedant/Desktop/glimpsify/most_info_frame...</td>\n",
       "      <td>308</td>\n",
       "      <td>924</td>\n",
       "      <td>15:24</td>\n",
       "      <td>ZVYFKRBK0Tc</td>\n",
       "    </tr>\n",
       "    <tr>\n",
       "      <th>1</th>\n",
       "      <td>Histology- Taste Buds and Lingual Papillae</td>\n",
       "      <td>/home/vedant/Desktop/glimpsify/most_info_frame...</td>\n",
       "      <td>/home/vedant/Desktop/glimpsify/most_info_frame...</td>\n",
       "      <td>246</td>\n",
       "      <td>738</td>\n",
       "      <td>12:18</td>\n",
       "      <td>GIAhrwnk79Y</td>\n",
       "    </tr>\n",
       "    <tr>\n",
       "      <th>2</th>\n",
       "      <td>Evidence-Based Dentistry Part 2</td>\n",
       "      <td>/home/vedant/Desktop/glimpsify/most_info_frame...</td>\n",
       "      <td>/home/vedant/Desktop/glimpsify/most_info_frame...</td>\n",
       "      <td>220</td>\n",
       "      <td>660</td>\n",
       "      <td>11:00</td>\n",
       "      <td>j0VTYFUMW_M</td>\n",
       "    </tr>\n",
       "    <tr>\n",
       "      <th>3</th>\n",
       "      <td>Endodontics | Procedural Complications | INBDE...</td>\n",
       "      <td>/home/vedant/Desktop/glimpsify/most_info_frame...</td>\n",
       "      <td>/home/vedant/Desktop/glimpsify/most_info_frame...</td>\n",
       "      <td>244</td>\n",
       "      <td>732</td>\n",
       "      <td>12:12</td>\n",
       "      <td>SGnIYlqel2s</td>\n",
       "    </tr>\n",
       "    <tr>\n",
       "      <th>4</th>\n",
       "      <td>Oral Surgery | PRACTICE QUESTIONS | INBDE, ADAT</td>\n",
       "      <td>/home/vedant/Desktop/glimpsify/most_info_frame...</td>\n",
       "      <td>/home/vedant/Desktop/glimpsify/most_info_frame...</td>\n",
       "      <td>590</td>\n",
       "      <td>1770</td>\n",
       "      <td>29:30</td>\n",
       "      <td>Ca0GC0Ph43k</td>\n",
       "    </tr>\n",
       "  </tbody>\n",
       "</table>\n",
       "</div>"
      ]
     },
     "execution_count": 34,
     "metadata": {},
     "output_type": "execute_result"
    }
   ],
   "execution_count": 34
  },
  {
   "metadata": {
    "ExecuteTime": {
     "end_time": "2025-06-29T05:58:14.305565Z",
     "start_time": "2025-06-29T05:58:14.299890Z"
    }
   },
   "cell_type": "code",
   "source": "long_df",
   "id": "4ba3e64e09ed2361",
   "outputs": [
    {
     "data": {
      "text/plain": [
       "                                          video_name  \\\n",
       "0  Lecture 1.2: Datasets (Multimodal Machine Lear...   \n",
       "1                           CurrentTopicsLecture8Ch8   \n",
       "2  Anatomy and Physiology Chapter 7 Part A Lectur...   \n",
       "3  Human Biology Lecture: Chapter 7- Cellular Bas...   \n",
       "4                Chapter 39   Muscoloskeletal System   \n",
       "\n",
       "                                          video_path  \\\n",
       "0  /home/vedant/Desktop/glimpsify/most_info_frame...   \n",
       "1  /home/vedant/Desktop/glimpsify/most_info_frame...   \n",
       "2  /home/vedant/Desktop/glimpsify/most_info_frame...   \n",
       "3  /home/vedant/Desktop/glimpsify/most_info_frame...   \n",
       "4  /home/vedant/Desktop/glimpsify/most_info_frame...   \n",
       "\n",
       "                        cached_processed_frames_path  frame_count  duration  \\\n",
       "0  /home/vedant/Desktop/glimpsify/most_info_frame...         1629      4887   \n",
       "1  /home/vedant/Desktop/glimpsify/most_info_frame...         1464      4392   \n",
       "2  /home/vedant/Desktop/glimpsify/most_info_frame...         1483      4449   \n",
       "3  /home/vedant/Desktop/glimpsify/most_info_frame...          633      1899   \n",
       "4  /home/vedant/Desktop/glimpsify/most_info_frame...         1018      3054   \n",
       "\n",
       "  formatted_duration     video_id  \n",
       "0              81:27  fBYu8I52nVM  \n",
       "1              73:12  RDNr6eNoNKM  \n",
       "2              74:09  SYrdGRPIGms  \n",
       "3              31:39  48z-q_9C09U  \n",
       "4              50:54  8xI5B75lcyY  "
      ],
      "text/html": [
       "<div>\n",
       "<style scoped>\n",
       "    .dataframe tbody tr th:only-of-type {\n",
       "        vertical-align: middle;\n",
       "    }\n",
       "\n",
       "    .dataframe tbody tr th {\n",
       "        vertical-align: top;\n",
       "    }\n",
       "\n",
       "    .dataframe thead th {\n",
       "        text-align: right;\n",
       "    }\n",
       "</style>\n",
       "<table border=\"1\" class=\"dataframe\">\n",
       "  <thead>\n",
       "    <tr style=\"text-align: right;\">\n",
       "      <th></th>\n",
       "      <th>video_name</th>\n",
       "      <th>video_path</th>\n",
       "      <th>cached_processed_frames_path</th>\n",
       "      <th>frame_count</th>\n",
       "      <th>duration</th>\n",
       "      <th>formatted_duration</th>\n",
       "      <th>video_id</th>\n",
       "    </tr>\n",
       "  </thead>\n",
       "  <tbody>\n",
       "    <tr>\n",
       "      <th>0</th>\n",
       "      <td>Lecture 1.2: Datasets (Multimodal Machine Lear...</td>\n",
       "      <td>/home/vedant/Desktop/glimpsify/most_info_frame...</td>\n",
       "      <td>/home/vedant/Desktop/glimpsify/most_info_frame...</td>\n",
       "      <td>1629</td>\n",
       "      <td>4887</td>\n",
       "      <td>81:27</td>\n",
       "      <td>fBYu8I52nVM</td>\n",
       "    </tr>\n",
       "    <tr>\n",
       "      <th>1</th>\n",
       "      <td>CurrentTopicsLecture8Ch8</td>\n",
       "      <td>/home/vedant/Desktop/glimpsify/most_info_frame...</td>\n",
       "      <td>/home/vedant/Desktop/glimpsify/most_info_frame...</td>\n",
       "      <td>1464</td>\n",
       "      <td>4392</td>\n",
       "      <td>73:12</td>\n",
       "      <td>RDNr6eNoNKM</td>\n",
       "    </tr>\n",
       "    <tr>\n",
       "      <th>2</th>\n",
       "      <td>Anatomy and Physiology Chapter 7 Part A Lectur...</td>\n",
       "      <td>/home/vedant/Desktop/glimpsify/most_info_frame...</td>\n",
       "      <td>/home/vedant/Desktop/glimpsify/most_info_frame...</td>\n",
       "      <td>1483</td>\n",
       "      <td>4449</td>\n",
       "      <td>74:09</td>\n",
       "      <td>SYrdGRPIGms</td>\n",
       "    </tr>\n",
       "    <tr>\n",
       "      <th>3</th>\n",
       "      <td>Human Biology Lecture: Chapter 7- Cellular Bas...</td>\n",
       "      <td>/home/vedant/Desktop/glimpsify/most_info_frame...</td>\n",
       "      <td>/home/vedant/Desktop/glimpsify/most_info_frame...</td>\n",
       "      <td>633</td>\n",
       "      <td>1899</td>\n",
       "      <td>31:39</td>\n",
       "      <td>48z-q_9C09U</td>\n",
       "    </tr>\n",
       "    <tr>\n",
       "      <th>4</th>\n",
       "      <td>Chapter 39   Muscoloskeletal System</td>\n",
       "      <td>/home/vedant/Desktop/glimpsify/most_info_frame...</td>\n",
       "      <td>/home/vedant/Desktop/glimpsify/most_info_frame...</td>\n",
       "      <td>1018</td>\n",
       "      <td>3054</td>\n",
       "      <td>50:54</td>\n",
       "      <td>8xI5B75lcyY</td>\n",
       "    </tr>\n",
       "  </tbody>\n",
       "</table>\n",
       "</div>"
      ]
     },
     "execution_count": 35,
     "metadata": {},
     "output_type": "execute_result"
    }
   ],
   "execution_count": 35
  },
  {
   "metadata": {
    "ExecuteTime": {
     "end_time": "2025-06-29T05:58:14.355828Z",
     "start_time": "2025-06-29T05:58:14.353645Z"
    }
   },
   "cell_type": "code",
   "source": [
    "result_output_dir = \"./39\"\n",
    "result_output_dir = Path(result_output_dir)\n",
    "result_output_dir.mkdir(parents=True, exist_ok=True)"
   ],
   "id": "ae43f23e74000365",
   "outputs": [],
   "execution_count": 36
  },
  {
   "metadata": {
    "ExecuteTime": {
     "end_time": "2025-06-29T05:58:14.402118Z",
     "start_time": "2025-06-29T05:58:14.400069Z"
    }
   },
   "cell_type": "code",
   "source": [
    "os.environ[\"BASE_DIR\"] = \"/home/vedant/Desktop/glimpsify/most_info_frame_extractor/video2pdf/archives/data_archive_50_python_objects_all_dirs_phash_approval_strategy_v3\"\n",
    "os.environ[\"LOG_FILE_NAME\"] = \"39.log\""
   ],
   "id": "61f8d31d5443556",
   "outputs": [],
   "execution_count": 37
  },
  {
   "metadata": {
    "ExecuteTime": {
     "end_time": "2025-06-29T05:58:14.455135Z",
     "start_time": "2025-06-29T05:58:14.450670Z"
    }
   },
   "cell_type": "code",
   "source": "import subprocess",
   "id": "b2e4b12f89667551",
   "outputs": [],
   "execution_count": 38
  },
  {
   "metadata": {
    "ExecuteTime": {
     "end_time": "2025-06-29T05:58:32.023812Z",
     "start_time": "2025-06-29T05:58:14.499923Z"
    }
   },
   "cell_type": "code",
   "source": [
    "for i in long_df[\"cached_processed_frames_path\"].values:\n",
    "    input_ = Path(i).parent.name\n",
    "    args = [\n",
    "        \"python\", \"/home/vedant/Desktop/glimpsify/most_info_frame_extractor/video2pdf/main.py\",\n",
    "        \"--input=pickle\",\n",
    "        f\"--dir={input_}\",\n",
    "        '--ocr_approval=reject_all'\n",
    "    ]\n",
    "    subprocess.run(\n",
    "        args\n",
    "    )"
   ],
   "id": "50305d9d8ca4cb7b",
   "outputs": [],
   "execution_count": 39
  },
  {
   "metadata": {
    "ExecuteTime": {
     "end_time": "2025-06-29T05:58:32.069891Z",
     "start_time": "2025-06-29T05:58:32.068375Z"
    }
   },
   "cell_type": "code",
   "source": "",
   "id": "d7d1c7efe9053878",
   "outputs": [],
   "execution_count": null
  }
 ],
 "metadata": {
  "kernelspec": {
   "display_name": "Python 3",
   "language": "python",
   "name": "python3"
  },
  "language_info": {
   "codemirror_mode": {
    "name": "ipython",
    "version": 2
   },
   "file_extension": ".py",
   "mimetype": "text/x-python",
   "name": "python",
   "nbconvert_exporter": "python",
   "pygments_lexer": "ipython2",
   "version": "2.7.6"
  }
 },
 "nbformat": 4,
 "nbformat_minor": 5
}
