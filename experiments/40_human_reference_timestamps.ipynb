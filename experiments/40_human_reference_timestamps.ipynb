{
 "cells": [
  {
   "cell_type": "code",
   "execution_count": 90,
   "id": "88757247ab66861",
   "metadata": {
    "ExecuteTime": {
     "end_time": "2025-06-30T11:12:39.540525Z",
     "start_time": "2025-06-30T11:12:39.537556Z"
    }
   },
   "outputs": [],
   "source": [
    "from skimage.metrics import structural_similarity as ssim\n",
    "import numpy as np\n",
    "from pdf2image import convert_from_path\n",
    "\n",
    "\n",
    "import os\n",
    "import sys\n"
   ]
  },
  {
   "cell_type": "code",
   "execution_count": 91,
   "id": "5aca4672",
   "metadata": {},
   "outputs": [],
   "source": [
    "python_path = \"/home/vedant/Desktop/glimpsify/most_info_frame_extractor\"\n",
    "\n",
    "os.environ[\"PYTHONPATH\"] = python_path\n",
    "\n",
    "sys.path.append(python_path)"
   ]
  },
  {
   "cell_type": "code",
   "execution_count": 92,
   "id": "6315a9a734284de8",
   "metadata": {
    "ExecuteTime": {
     "end_time": "2025-06-30T11:12:30.952552Z",
     "start_time": "2025-06-30T11:12:30.950172Z"
    }
   },
   "outputs": [],
   "source": [
    "\n",
    "import os\n",
    "\n",
    "os.environ[\n",
    "    \"BASE_DIR\"] = \"/home/vedant/Desktop/glimpsify/most_info_frame_extractor/video2pdf/archives/data_archive_50_python_objects_all_dirs_phash_approval_strategy_v3\"\n",
    "os.environ[\"LOG_FILE_NAME\"] = \"40.log\""
   ]
  },
  {
   "cell_type": "code",
   "execution_count": 93,
   "id": "initial_id",
   "metadata": {
    "ExecuteTime": {
     "end_time": "2025-06-30T11:12:31.000931Z",
     "start_time": "2025-06-30T11:12:30.998619Z"
    },
    "collapsed": true
   },
   "outputs": [],
   "source": [
    "import os\n",
    "from pathlib import Path\n",
    "\n",
    "import pandas as pd\n",
    "pd.set_option('display.max_colwidth', None)\n",
    "\n"
   ]
  },
  {
   "cell_type": "code",
   "execution_count": 94,
   "id": "6e7b7488b95a123e",
   "metadata": {
    "ExecuteTime": {
     "end_time": "2025-06-30T11:12:31.052112Z",
     "start_time": "2025-06-30T11:12:31.046452Z"
    }
   },
   "outputs": [],
   "source": [
    "output_dir = \"./38\"\n",
    "output_dir = Path(output_dir)\n",
    "output_dir.mkdir(parents=True, exist_ok=True)\n",
    "short_output_path = output_dir / \"short_videos.csv\"\n",
    "long_output_path = output_dir / \"long_videos.csv\"\n",
    "short_df = pd.read_csv(short_output_path, sep=\"\\t\")\n",
    "long_df = pd.read_csv(long_output_path, sep=\"\\t\")"
   ]
  },
  {
   "cell_type": "code",
   "execution_count": 95,
   "id": "bdaa6ab7fe050d3a",
   "metadata": {
    "ExecuteTime": {
     "end_time": "2025-06-30T11:12:31.104645Z",
     "start_time": "2025-06-30T11:12:31.099282Z"
    }
   },
   "outputs": [],
   "source": [
    "def populate_video_url(df: pd.DataFrame) -> pd.DataFrame:\n",
    "    df[\"video_url\"] = df[\"video_id\"].apply(lambda x: f\"https://www.youtube.com/watch?v={x}\")\n",
    "    return df"
   ]
  },
  {
   "cell_type": "code",
   "execution_count": 96,
   "id": "71e20c81ace04fc3",
   "metadata": {
    "ExecuteTime": {
     "end_time": "2025-06-30T11:12:31.162911Z",
     "start_time": "2025-06-30T11:12:31.157508Z"
    }
   },
   "outputs": [],
   "source": [
    "short_df = populate_video_url(short_df)"
   ]
  },
  {
   "cell_type": "code",
   "execution_count": 97,
   "id": "5f8e275b4962a733",
   "metadata": {
    "ExecuteTime": {
     "end_time": "2025-06-30T11:12:31.215909Z",
     "start_time": "2025-06-30T11:12:31.209638Z"
    }
   },
   "outputs": [
    {
     "data": {
      "text/html": [
       "<div>\n",
       "<style scoped>\n",
       "    .dataframe tbody tr th:only-of-type {\n",
       "        vertical-align: middle;\n",
       "    }\n",
       "\n",
       "    .dataframe tbody tr th {\n",
       "        vertical-align: top;\n",
       "    }\n",
       "\n",
       "    .dataframe thead th {\n",
       "        text-align: right;\n",
       "    }\n",
       "</style>\n",
       "<table border=\"1\" class=\"dataframe\">\n",
       "  <thead>\n",
       "    <tr style=\"text-align: right;\">\n",
       "      <th></th>\n",
       "      <th>video_name</th>\n",
       "      <th>video_path</th>\n",
       "      <th>cached_processed_frames_path</th>\n",
       "      <th>frame_count</th>\n",
       "      <th>duration</th>\n",
       "      <th>formatted_duration</th>\n",
       "      <th>video_id</th>\n",
       "      <th>video_url</th>\n",
       "    </tr>\n",
       "  </thead>\n",
       "  <tbody>\n",
       "    <tr>\n",
       "      <th>0</th>\n",
       "      <td>Prosthodontics | Mechanical Properties | INBDE, ADAT</td>\n",
       "      <td>/home/vedant/Desktop/glimpsify/most_info_frame_extractor/video2pdf/data/ulgywi/Prosthodontics | Mechanical Properties | INBDE, ADAT.mp4</td>\n",
       "      <td>/home/vedant/Desktop/glimpsify/most_info_frame_extractor/video2pdf/archives/data_archive_50_python_objects_all_dirs_phash_approval_strategy_v3/ulgywi_fbr_python_object/processed_frames.pkl</td>\n",
       "      <td>308</td>\n",
       "      <td>924</td>\n",
       "      <td>15:24</td>\n",
       "      <td>ZVYFKRBK0Tc</td>\n",
       "      <td>https://www.youtube.com/watch?v=ZVYFKRBK0Tc</td>\n",
       "    </tr>\n",
       "    <tr>\n",
       "      <th>1</th>\n",
       "      <td>Histology- Taste Buds and Lingual Papillae</td>\n",
       "      <td>/home/vedant/Desktop/glimpsify/most_info_frame_extractor/video2pdf/data/tabwoi/Histology- Taste Buds and Lingual Papillae.mp4</td>\n",
       "      <td>/home/vedant/Desktop/glimpsify/most_info_frame_extractor/video2pdf/archives/data_archive_50_python_objects_all_dirs_phash_approval_strategy_v3/tabwoi_utc_python_object/processed_frames.pkl</td>\n",
       "      <td>246</td>\n",
       "      <td>738</td>\n",
       "      <td>12:18</td>\n",
       "      <td>GIAhrwnk79Y</td>\n",
       "      <td>https://www.youtube.com/watch?v=GIAhrwnk79Y</td>\n",
       "    </tr>\n",
       "    <tr>\n",
       "      <th>2</th>\n",
       "      <td>Evidence-Based Dentistry Part 2</td>\n",
       "      <td>/home/vedant/Desktop/glimpsify/most_info_frame_extractor/video2pdf/data/srmqde/Evidence-Based Dentistry Part 2.mp4</td>\n",
       "      <td>/home/vedant/Desktop/glimpsify/most_info_frame_extractor/video2pdf/archives/data_archive_50_python_objects_all_dirs_phash_approval_strategy_v3/srmqde_fys_python_object/processed_frames.pkl</td>\n",
       "      <td>220</td>\n",
       "      <td>660</td>\n",
       "      <td>11:00</td>\n",
       "      <td>j0VTYFUMW_M</td>\n",
       "      <td>https://www.youtube.com/watch?v=j0VTYFUMW_M</td>\n",
       "    </tr>\n",
       "    <tr>\n",
       "      <th>3</th>\n",
       "      <td>Endodontics | Procedural Complications | INBDE, ADAT</td>\n",
       "      <td>/home/vedant/Desktop/glimpsify/most_info_frame_extractor/video2pdf/data/hkyigj/Endodontics | Procedural Complications | INBDE, ADAT.mp4</td>\n",
       "      <td>/home/vedant/Desktop/glimpsify/most_info_frame_extractor/video2pdf/archives/data_archive_50_python_objects_all_dirs_phash_approval_strategy_v3/hkyigj_dyo_python_object/processed_frames.pkl</td>\n",
       "      <td>244</td>\n",
       "      <td>732</td>\n",
       "      <td>12:12</td>\n",
       "      <td>SGnIYlqel2s</td>\n",
       "      <td>https://www.youtube.com/watch?v=SGnIYlqel2s</td>\n",
       "    </tr>\n",
       "    <tr>\n",
       "      <th>4</th>\n",
       "      <td>Oral Surgery | PRACTICE QUESTIONS | INBDE, ADAT</td>\n",
       "      <td>/home/vedant/Desktop/glimpsify/most_info_frame_extractor/video2pdf/data/yysaqx/Oral Surgery | PRACTICE QUESTIONS | INBDE, ADAT.mp4</td>\n",
       "      <td>/home/vedant/Desktop/glimpsify/most_info_frame_extractor/video2pdf/archives/data_archive_50_python_objects_all_dirs_phash_approval_strategy_v3/yysaqx_fmp_python_object/processed_frames.pkl</td>\n",
       "      <td>590</td>\n",
       "      <td>1770</td>\n",
       "      <td>29:30</td>\n",
       "      <td>Ca0GC0Ph43k</td>\n",
       "      <td>https://www.youtube.com/watch?v=Ca0GC0Ph43k</td>\n",
       "    </tr>\n",
       "  </tbody>\n",
       "</table>\n",
       "</div>"
      ],
      "text/plain": [
       "                                             video_name  \\\n",
       "0  Prosthodontics | Mechanical Properties | INBDE, ADAT   \n",
       "1            Histology- Taste Buds and Lingual Papillae   \n",
       "2                       Evidence-Based Dentistry Part 2   \n",
       "3  Endodontics | Procedural Complications | INBDE, ADAT   \n",
       "4       Oral Surgery | PRACTICE QUESTIONS | INBDE, ADAT   \n",
       "\n",
       "                                                                                                                                video_path  \\\n",
       "0  /home/vedant/Desktop/glimpsify/most_info_frame_extractor/video2pdf/data/ulgywi/Prosthodontics | Mechanical Properties | INBDE, ADAT.mp4   \n",
       "1            /home/vedant/Desktop/glimpsify/most_info_frame_extractor/video2pdf/data/tabwoi/Histology- Taste Buds and Lingual Papillae.mp4   \n",
       "2                       /home/vedant/Desktop/glimpsify/most_info_frame_extractor/video2pdf/data/srmqde/Evidence-Based Dentistry Part 2.mp4   \n",
       "3  /home/vedant/Desktop/glimpsify/most_info_frame_extractor/video2pdf/data/hkyigj/Endodontics | Procedural Complications | INBDE, ADAT.mp4   \n",
       "4       /home/vedant/Desktop/glimpsify/most_info_frame_extractor/video2pdf/data/yysaqx/Oral Surgery | PRACTICE QUESTIONS | INBDE, ADAT.mp4   \n",
       "\n",
       "                                                                                                                                                                   cached_processed_frames_path  \\\n",
       "0  /home/vedant/Desktop/glimpsify/most_info_frame_extractor/video2pdf/archives/data_archive_50_python_objects_all_dirs_phash_approval_strategy_v3/ulgywi_fbr_python_object/processed_frames.pkl   \n",
       "1  /home/vedant/Desktop/glimpsify/most_info_frame_extractor/video2pdf/archives/data_archive_50_python_objects_all_dirs_phash_approval_strategy_v3/tabwoi_utc_python_object/processed_frames.pkl   \n",
       "2  /home/vedant/Desktop/glimpsify/most_info_frame_extractor/video2pdf/archives/data_archive_50_python_objects_all_dirs_phash_approval_strategy_v3/srmqde_fys_python_object/processed_frames.pkl   \n",
       "3  /home/vedant/Desktop/glimpsify/most_info_frame_extractor/video2pdf/archives/data_archive_50_python_objects_all_dirs_phash_approval_strategy_v3/hkyigj_dyo_python_object/processed_frames.pkl   \n",
       "4  /home/vedant/Desktop/glimpsify/most_info_frame_extractor/video2pdf/archives/data_archive_50_python_objects_all_dirs_phash_approval_strategy_v3/yysaqx_fmp_python_object/processed_frames.pkl   \n",
       "\n",
       "   frame_count  duration formatted_duration     video_id  \\\n",
       "0          308       924              15:24  ZVYFKRBK0Tc   \n",
       "1          246       738              12:18  GIAhrwnk79Y   \n",
       "2          220       660              11:00  j0VTYFUMW_M   \n",
       "3          244       732              12:12  SGnIYlqel2s   \n",
       "4          590      1770              29:30  Ca0GC0Ph43k   \n",
       "\n",
       "                                     video_url  \n",
       "0  https://www.youtube.com/watch?v=ZVYFKRBK0Tc  \n",
       "1  https://www.youtube.com/watch?v=GIAhrwnk79Y  \n",
       "2  https://www.youtube.com/watch?v=j0VTYFUMW_M  \n",
       "3  https://www.youtube.com/watch?v=SGnIYlqel2s  \n",
       "4  https://www.youtube.com/watch?v=Ca0GC0Ph43k  "
      ]
     },
     "execution_count": 97,
     "metadata": {},
     "output_type": "execute_result"
    }
   ],
   "source": [
    "short_df"
   ]
  },
  {
   "cell_type": "code",
   "execution_count": 98,
   "id": "61b00c915a77b997",
   "metadata": {
    "ExecuteTime": {
     "end_time": "2025-06-30T11:12:31.268449Z",
     "start_time": "2025-06-30T11:12:31.264772Z"
    }
   },
   "outputs": [
    {
     "data": {
      "text/plain": [
       "0    https://www.youtube.com/watch?v=ZVYFKRBK0Tc\n",
       "1    https://www.youtube.com/watch?v=GIAhrwnk79Y\n",
       "2    https://www.youtube.com/watch?v=j0VTYFUMW_M\n",
       "3    https://www.youtube.com/watch?v=SGnIYlqel2s\n",
       "4    https://www.youtube.com/watch?v=Ca0GC0Ph43k\n",
       "Name: video_url, dtype: object"
      ]
     },
     "execution_count": 98,
     "metadata": {},
     "output_type": "execute_result"
    }
   ],
   "source": [
    "short_df[\"video_url\"]"
   ]
  },
  {
   "cell_type": "code",
   "execution_count": 99,
   "id": "9f1204ecc0b19cf9",
   "metadata": {
    "ExecuteTime": {
     "end_time": "2025-06-30T11:12:31.367718Z",
     "start_time": "2025-06-30T11:12:31.364310Z"
    }
   },
   "outputs": [
    {
     "data": {
      "text/plain": [
       "0    /home/vedant/Desktop/glimpsify/most_info_frame_extractor/video2pdf/archives/data_archive_50_python_objects_all_dirs_phash_approval_strategy_v3/ulgywi_fbr_python_object/processed_frames.pkl\n",
       "1    /home/vedant/Desktop/glimpsify/most_info_frame_extractor/video2pdf/archives/data_archive_50_python_objects_all_dirs_phash_approval_strategy_v3/tabwoi_utc_python_object/processed_frames.pkl\n",
       "2    /home/vedant/Desktop/glimpsify/most_info_frame_extractor/video2pdf/archives/data_archive_50_python_objects_all_dirs_phash_approval_strategy_v3/srmqde_fys_python_object/processed_frames.pkl\n",
       "3    /home/vedant/Desktop/glimpsify/most_info_frame_extractor/video2pdf/archives/data_archive_50_python_objects_all_dirs_phash_approval_strategy_v3/hkyigj_dyo_python_object/processed_frames.pkl\n",
       "4    /home/vedant/Desktop/glimpsify/most_info_frame_extractor/video2pdf/archives/data_archive_50_python_objects_all_dirs_phash_approval_strategy_v3/yysaqx_fmp_python_object/processed_frames.pkl\n",
       "Name: cached_processed_frames_path, dtype: object"
      ]
     },
     "execution_count": 99,
     "metadata": {},
     "output_type": "execute_result"
    }
   ],
   "source": [
    "short_df[\"cached_processed_frames_path\"]"
   ]
  },
  {
   "cell_type": "code",
   "execution_count": 100,
   "id": "6f4cf514b9071bc7",
   "metadata": {
    "ExecuteTime": {
     "end_time": "2025-06-30T11:12:31.420887Z",
     "start_time": "2025-06-30T11:12:31.418937Z"
    }
   },
   "outputs": [],
   "source": [
    "human_annotations_file_path = \"/home/vedant/Desktop/human_annotations.csv\""
   ]
  },
  {
   "cell_type": "code",
   "execution_count": 101,
   "id": "2087b2c4e1b77119",
   "metadata": {
    "ExecuteTime": {
     "end_time": "2025-06-30T11:12:31.476536Z",
     "start_time": "2025-06-30T11:12:31.469478Z"
    }
   },
   "outputs": [
    {
     "data": {
      "text/html": [
       "<div>\n",
       "<style scoped>\n",
       "    .dataframe tbody tr th:only-of-type {\n",
       "        vertical-align: middle;\n",
       "    }\n",
       "\n",
       "    .dataframe tbody tr th {\n",
       "        vertical-align: top;\n",
       "    }\n",
       "\n",
       "    .dataframe thead th {\n",
       "        text-align: right;\n",
       "    }\n",
       "</style>\n",
       "<table border=\"1\" class=\"dataframe\">\n",
       "  <thead>\n",
       "    <tr style=\"text-align: right;\">\n",
       "      <th></th>\n",
       "      <th>video_id</th>\n",
       "      <th>timestamps</th>\n",
       "    </tr>\n",
       "  </thead>\n",
       "  <tbody>\n",
       "    <tr>\n",
       "      <th>0</th>\n",
       "      <td>ZVYFKRBK0Tc</td>\n",
       "      <td>0:29,0:57,1:07,1:25,2:50,5:22,6:20,7:50,8:59,12:19,14:05</td>\n",
       "    </tr>\n",
       "    <tr>\n",
       "      <th>1</th>\n",
       "      <td>GIAhrwnk79Y</td>\n",
       "      <td>1:17,2:13,2:46,3:44,6:13,6:39,7:02,7:34,7:41,8:46,10:59,13:05</td>\n",
       "    </tr>\n",
       "  </tbody>\n",
       "</table>\n",
       "</div>"
      ],
      "text/plain": [
       "      video_id                                                     timestamps\n",
       "0  ZVYFKRBK0Tc       0:29,0:57,1:07,1:25,2:50,5:22,6:20,7:50,8:59,12:19,14:05\n",
       "1  GIAhrwnk79Y  1:17,2:13,2:46,3:44,6:13,6:39,7:02,7:34,7:41,8:46,10:59,13:05"
      ]
     },
     "execution_count": 101,
     "metadata": {},
     "output_type": "execute_result"
    }
   ],
   "source": [
    "timestamps_df = pd.read_csv(human_annotations_file_path, sep=\"\\t\")\n",
    "timestamps_df.head()"
   ]
  },
  {
   "cell_type": "code",
   "execution_count": 102,
   "id": "62c2c6f91d68eb70",
   "metadata": {
    "ExecuteTime": {
     "end_time": "2025-06-30T11:12:31.531650Z",
     "start_time": "2025-06-30T11:12:31.525103Z"
    }
   },
   "outputs": [
    {
     "data": {
      "text/html": [
       "<div>\n",
       "<style scoped>\n",
       "    .dataframe tbody tr th:only-of-type {\n",
       "        vertical-align: middle;\n",
       "    }\n",
       "\n",
       "    .dataframe tbody tr th {\n",
       "        vertical-align: top;\n",
       "    }\n",
       "\n",
       "    .dataframe thead th {\n",
       "        text-align: right;\n",
       "    }\n",
       "</style>\n",
       "<table border=\"1\" class=\"dataframe\">\n",
       "  <thead>\n",
       "    <tr style=\"text-align: right;\">\n",
       "      <th></th>\n",
       "      <th>video_name</th>\n",
       "      <th>video_path</th>\n",
       "      <th>cached_processed_frames_path</th>\n",
       "      <th>frame_count</th>\n",
       "      <th>duration</th>\n",
       "      <th>formatted_duration</th>\n",
       "      <th>video_id</th>\n",
       "      <th>video_url</th>\n",
       "    </tr>\n",
       "  </thead>\n",
       "  <tbody>\n",
       "    <tr>\n",
       "      <th>0</th>\n",
       "      <td>Prosthodontics | Mechanical Properties | INBDE, ADAT</td>\n",
       "      <td>/home/vedant/Desktop/glimpsify/most_info_frame_extractor/video2pdf/data/ulgywi/Prosthodontics | Mechanical Properties | INBDE, ADAT.mp4</td>\n",
       "      <td>/home/vedant/Desktop/glimpsify/most_info_frame_extractor/video2pdf/archives/data_archive_50_python_objects_all_dirs_phash_approval_strategy_v3/ulgywi_fbr_python_object/processed_frames.pkl</td>\n",
       "      <td>308</td>\n",
       "      <td>924</td>\n",
       "      <td>15:24</td>\n",
       "      <td>ZVYFKRBK0Tc</td>\n",
       "      <td>https://www.youtube.com/watch?v=ZVYFKRBK0Tc</td>\n",
       "    </tr>\n",
       "    <tr>\n",
       "      <th>1</th>\n",
       "      <td>Histology- Taste Buds and Lingual Papillae</td>\n",
       "      <td>/home/vedant/Desktop/glimpsify/most_info_frame_extractor/video2pdf/data/tabwoi/Histology- Taste Buds and Lingual Papillae.mp4</td>\n",
       "      <td>/home/vedant/Desktop/glimpsify/most_info_frame_extractor/video2pdf/archives/data_archive_50_python_objects_all_dirs_phash_approval_strategy_v3/tabwoi_utc_python_object/processed_frames.pkl</td>\n",
       "      <td>246</td>\n",
       "      <td>738</td>\n",
       "      <td>12:18</td>\n",
       "      <td>GIAhrwnk79Y</td>\n",
       "      <td>https://www.youtube.com/watch?v=GIAhrwnk79Y</td>\n",
       "    </tr>\n",
       "    <tr>\n",
       "      <th>2</th>\n",
       "      <td>Evidence-Based Dentistry Part 2</td>\n",
       "      <td>/home/vedant/Desktop/glimpsify/most_info_frame_extractor/video2pdf/data/srmqde/Evidence-Based Dentistry Part 2.mp4</td>\n",
       "      <td>/home/vedant/Desktop/glimpsify/most_info_frame_extractor/video2pdf/archives/data_archive_50_python_objects_all_dirs_phash_approval_strategy_v3/srmqde_fys_python_object/processed_frames.pkl</td>\n",
       "      <td>220</td>\n",
       "      <td>660</td>\n",
       "      <td>11:00</td>\n",
       "      <td>j0VTYFUMW_M</td>\n",
       "      <td>https://www.youtube.com/watch?v=j0VTYFUMW_M</td>\n",
       "    </tr>\n",
       "    <tr>\n",
       "      <th>3</th>\n",
       "      <td>Endodontics | Procedural Complications | INBDE, ADAT</td>\n",
       "      <td>/home/vedant/Desktop/glimpsify/most_info_frame_extractor/video2pdf/data/hkyigj/Endodontics | Procedural Complications | INBDE, ADAT.mp4</td>\n",
       "      <td>/home/vedant/Desktop/glimpsify/most_info_frame_extractor/video2pdf/archives/data_archive_50_python_objects_all_dirs_phash_approval_strategy_v3/hkyigj_dyo_python_object/processed_frames.pkl</td>\n",
       "      <td>244</td>\n",
       "      <td>732</td>\n",
       "      <td>12:12</td>\n",
       "      <td>SGnIYlqel2s</td>\n",
       "      <td>https://www.youtube.com/watch?v=SGnIYlqel2s</td>\n",
       "    </tr>\n",
       "    <tr>\n",
       "      <th>4</th>\n",
       "      <td>Oral Surgery | PRACTICE QUESTIONS | INBDE, ADAT</td>\n",
       "      <td>/home/vedant/Desktop/glimpsify/most_info_frame_extractor/video2pdf/data/yysaqx/Oral Surgery | PRACTICE QUESTIONS | INBDE, ADAT.mp4</td>\n",
       "      <td>/home/vedant/Desktop/glimpsify/most_info_frame_extractor/video2pdf/archives/data_archive_50_python_objects_all_dirs_phash_approval_strategy_v3/yysaqx_fmp_python_object/processed_frames.pkl</td>\n",
       "      <td>590</td>\n",
       "      <td>1770</td>\n",
       "      <td>29:30</td>\n",
       "      <td>Ca0GC0Ph43k</td>\n",
       "      <td>https://www.youtube.com/watch?v=Ca0GC0Ph43k</td>\n",
       "    </tr>\n",
       "  </tbody>\n",
       "</table>\n",
       "</div>"
      ],
      "text/plain": [
       "                                             video_name  \\\n",
       "0  Prosthodontics | Mechanical Properties | INBDE, ADAT   \n",
       "1            Histology- Taste Buds and Lingual Papillae   \n",
       "2                       Evidence-Based Dentistry Part 2   \n",
       "3  Endodontics | Procedural Complications | INBDE, ADAT   \n",
       "4       Oral Surgery | PRACTICE QUESTIONS | INBDE, ADAT   \n",
       "\n",
       "                                                                                                                                video_path  \\\n",
       "0  /home/vedant/Desktop/glimpsify/most_info_frame_extractor/video2pdf/data/ulgywi/Prosthodontics | Mechanical Properties | INBDE, ADAT.mp4   \n",
       "1            /home/vedant/Desktop/glimpsify/most_info_frame_extractor/video2pdf/data/tabwoi/Histology- Taste Buds and Lingual Papillae.mp4   \n",
       "2                       /home/vedant/Desktop/glimpsify/most_info_frame_extractor/video2pdf/data/srmqde/Evidence-Based Dentistry Part 2.mp4   \n",
       "3  /home/vedant/Desktop/glimpsify/most_info_frame_extractor/video2pdf/data/hkyigj/Endodontics | Procedural Complications | INBDE, ADAT.mp4   \n",
       "4       /home/vedant/Desktop/glimpsify/most_info_frame_extractor/video2pdf/data/yysaqx/Oral Surgery | PRACTICE QUESTIONS | INBDE, ADAT.mp4   \n",
       "\n",
       "                                                                                                                                                                   cached_processed_frames_path  \\\n",
       "0  /home/vedant/Desktop/glimpsify/most_info_frame_extractor/video2pdf/archives/data_archive_50_python_objects_all_dirs_phash_approval_strategy_v3/ulgywi_fbr_python_object/processed_frames.pkl   \n",
       "1  /home/vedant/Desktop/glimpsify/most_info_frame_extractor/video2pdf/archives/data_archive_50_python_objects_all_dirs_phash_approval_strategy_v3/tabwoi_utc_python_object/processed_frames.pkl   \n",
       "2  /home/vedant/Desktop/glimpsify/most_info_frame_extractor/video2pdf/archives/data_archive_50_python_objects_all_dirs_phash_approval_strategy_v3/srmqde_fys_python_object/processed_frames.pkl   \n",
       "3  /home/vedant/Desktop/glimpsify/most_info_frame_extractor/video2pdf/archives/data_archive_50_python_objects_all_dirs_phash_approval_strategy_v3/hkyigj_dyo_python_object/processed_frames.pkl   \n",
       "4  /home/vedant/Desktop/glimpsify/most_info_frame_extractor/video2pdf/archives/data_archive_50_python_objects_all_dirs_phash_approval_strategy_v3/yysaqx_fmp_python_object/processed_frames.pkl   \n",
       "\n",
       "   frame_count  duration formatted_duration     video_id  \\\n",
       "0          308       924              15:24  ZVYFKRBK0Tc   \n",
       "1          246       738              12:18  GIAhrwnk79Y   \n",
       "2          220       660              11:00  j0VTYFUMW_M   \n",
       "3          244       732              12:12  SGnIYlqel2s   \n",
       "4          590      1770              29:30  Ca0GC0Ph43k   \n",
       "\n",
       "                                     video_url  \n",
       "0  https://www.youtube.com/watch?v=ZVYFKRBK0Tc  \n",
       "1  https://www.youtube.com/watch?v=GIAhrwnk79Y  \n",
       "2  https://www.youtube.com/watch?v=j0VTYFUMW_M  \n",
       "3  https://www.youtube.com/watch?v=SGnIYlqel2s  \n",
       "4  https://www.youtube.com/watch?v=Ca0GC0Ph43k  "
      ]
     },
     "execution_count": 102,
     "metadata": {},
     "output_type": "execute_result"
    }
   ],
   "source": [
    "short_df"
   ]
  },
  {
   "cell_type": "code",
   "execution_count": 103,
   "id": "b1b4dcb8ffded63f",
   "metadata": {
    "ExecuteTime": {
     "end_time": "2025-06-30T11:12:31.585134Z",
     "start_time": "2025-06-30T11:12:31.580826Z"
    }
   },
   "outputs": [],
   "source": [
    "with_timestamp = short_df.merge(timestamps_df)"
   ]
  },
  {
   "cell_type": "code",
   "execution_count": 104,
   "id": "91b1fe9c38c47a79",
   "metadata": {
    "ExecuteTime": {
     "end_time": "2025-06-30T11:12:31.638787Z",
     "start_time": "2025-06-30T11:12:31.633184Z"
    }
   },
   "outputs": [
    {
     "data": {
      "text/html": [
       "<div>\n",
       "<style scoped>\n",
       "    .dataframe tbody tr th:only-of-type {\n",
       "        vertical-align: middle;\n",
       "    }\n",
       "\n",
       "    .dataframe tbody tr th {\n",
       "        vertical-align: top;\n",
       "    }\n",
       "\n",
       "    .dataframe thead th {\n",
       "        text-align: right;\n",
       "    }\n",
       "</style>\n",
       "<table border=\"1\" class=\"dataframe\">\n",
       "  <thead>\n",
       "    <tr style=\"text-align: right;\">\n",
       "      <th></th>\n",
       "      <th>video_name</th>\n",
       "      <th>video_path</th>\n",
       "      <th>cached_processed_frames_path</th>\n",
       "      <th>frame_count</th>\n",
       "      <th>duration</th>\n",
       "      <th>formatted_duration</th>\n",
       "      <th>video_id</th>\n",
       "      <th>video_url</th>\n",
       "      <th>timestamps</th>\n",
       "    </tr>\n",
       "  </thead>\n",
       "  <tbody>\n",
       "    <tr>\n",
       "      <th>0</th>\n",
       "      <td>Prosthodontics | Mechanical Properties | INBDE, ADAT</td>\n",
       "      <td>/home/vedant/Desktop/glimpsify/most_info_frame_extractor/video2pdf/data/ulgywi/Prosthodontics | Mechanical Properties | INBDE, ADAT.mp4</td>\n",
       "      <td>/home/vedant/Desktop/glimpsify/most_info_frame_extractor/video2pdf/archives/data_archive_50_python_objects_all_dirs_phash_approval_strategy_v3/ulgywi_fbr_python_object/processed_frames.pkl</td>\n",
       "      <td>308</td>\n",
       "      <td>924</td>\n",
       "      <td>15:24</td>\n",
       "      <td>ZVYFKRBK0Tc</td>\n",
       "      <td>https://www.youtube.com/watch?v=ZVYFKRBK0Tc</td>\n",
       "      <td>0:29,0:57,1:07,1:25,2:50,5:22,6:20,7:50,8:59,12:19,14:05</td>\n",
       "    </tr>\n",
       "    <tr>\n",
       "      <th>1</th>\n",
       "      <td>Histology- Taste Buds and Lingual Papillae</td>\n",
       "      <td>/home/vedant/Desktop/glimpsify/most_info_frame_extractor/video2pdf/data/tabwoi/Histology- Taste Buds and Lingual Papillae.mp4</td>\n",
       "      <td>/home/vedant/Desktop/glimpsify/most_info_frame_extractor/video2pdf/archives/data_archive_50_python_objects_all_dirs_phash_approval_strategy_v3/tabwoi_utc_python_object/processed_frames.pkl</td>\n",
       "      <td>246</td>\n",
       "      <td>738</td>\n",
       "      <td>12:18</td>\n",
       "      <td>GIAhrwnk79Y</td>\n",
       "      <td>https://www.youtube.com/watch?v=GIAhrwnk79Y</td>\n",
       "      <td>1:17,2:13,2:46,3:44,6:13,6:39,7:02,7:34,7:41,8:46,10:59,13:05</td>\n",
       "    </tr>\n",
       "  </tbody>\n",
       "</table>\n",
       "</div>"
      ],
      "text/plain": [
       "                                             video_name  \\\n",
       "0  Prosthodontics | Mechanical Properties | INBDE, ADAT   \n",
       "1            Histology- Taste Buds and Lingual Papillae   \n",
       "\n",
       "                                                                                                                                video_path  \\\n",
       "0  /home/vedant/Desktop/glimpsify/most_info_frame_extractor/video2pdf/data/ulgywi/Prosthodontics | Mechanical Properties | INBDE, ADAT.mp4   \n",
       "1            /home/vedant/Desktop/glimpsify/most_info_frame_extractor/video2pdf/data/tabwoi/Histology- Taste Buds and Lingual Papillae.mp4   \n",
       "\n",
       "                                                                                                                                                                   cached_processed_frames_path  \\\n",
       "0  /home/vedant/Desktop/glimpsify/most_info_frame_extractor/video2pdf/archives/data_archive_50_python_objects_all_dirs_phash_approval_strategy_v3/ulgywi_fbr_python_object/processed_frames.pkl   \n",
       "1  /home/vedant/Desktop/glimpsify/most_info_frame_extractor/video2pdf/archives/data_archive_50_python_objects_all_dirs_phash_approval_strategy_v3/tabwoi_utc_python_object/processed_frames.pkl   \n",
       "\n",
       "   frame_count  duration formatted_duration     video_id  \\\n",
       "0          308       924              15:24  ZVYFKRBK0Tc   \n",
       "1          246       738              12:18  GIAhrwnk79Y   \n",
       "\n",
       "                                     video_url  \\\n",
       "0  https://www.youtube.com/watch?v=ZVYFKRBK0Tc   \n",
       "1  https://www.youtube.com/watch?v=GIAhrwnk79Y   \n",
       "\n",
       "                                                      timestamps  \n",
       "0       0:29,0:57,1:07,1:25,2:50,5:22,6:20,7:50,8:59,12:19,14:05  \n",
       "1  1:17,2:13,2:46,3:44,6:13,6:39,7:02,7:34,7:41,8:46,10:59,13:05  "
      ]
     },
     "execution_count": 104,
     "metadata": {},
     "output_type": "execute_result"
    }
   ],
   "source": [
    "with_timestamp"
   ]
  },
  {
   "cell_type": "code",
   "execution_count": 105,
   "id": "7cd1ea23ec30bb6b",
   "metadata": {
    "ExecuteTime": {
     "end_time": "2025-06-30T11:12:31.737677Z",
     "start_time": "2025-06-30T11:12:31.734903Z"
    }
   },
   "outputs": [],
   "source": [
    "def get_timestamp_input(timestamps: str) -> str:\n",
    "    timestamps = timestamps.split(\",\")\n",
    "    timestamps = [i.split(\":\") for i in timestamps]\n",
    "    timestamps = [int(i[0])*60 + int(i[1]) for i in timestamps]\n",
    "    timestamp_input = \",\".join(list(map(str, timestamps)))\n",
    "    return timestamp_input\n"
   ]
  },
  {
   "cell_type": "code",
   "execution_count": 106,
   "id": "078a9e7a",
   "metadata": {},
   "outputs": [
    {
     "data": {
      "text/plain": [
       "Index(['video_name', 'video_path', 'cached_processed_frames_path',\n",
       "       'frame_count', 'duration', 'formatted_duration', 'video_id',\n",
       "       'video_url', 'timestamps'],\n",
       "      dtype='object')"
      ]
     },
     "execution_count": 106,
     "metadata": {},
     "output_type": "execute_result"
    }
   ],
   "source": [
    "with_timestamp.columns"
   ]
  },
  {
   "cell_type": "code",
   "execution_count": 107,
   "id": "1ff469bdbe641960",
   "metadata": {
    "ExecuteTime": {
     "end_time": "2025-06-30T11:12:31.786492Z",
     "start_time": "2025-06-30T11:12:31.783627Z"
    }
   },
   "outputs": [],
   "source": [
    "with_timestamp[\"timestamp_input\"] = with_timestamp[\"timestamps\"].apply(get_timestamp_input)"
   ]
  },
  {
   "cell_type": "code",
   "execution_count": 108,
   "id": "3685e370f6e7b8b1",
   "metadata": {
    "ExecuteTime": {
     "end_time": "2025-06-30T11:12:31.840421Z",
     "start_time": "2025-06-30T11:12:31.833978Z"
    }
   },
   "outputs": [
    {
     "data": {
      "text/html": [
       "<div>\n",
       "<style scoped>\n",
       "    .dataframe tbody tr th:only-of-type {\n",
       "        vertical-align: middle;\n",
       "    }\n",
       "\n",
       "    .dataframe tbody tr th {\n",
       "        vertical-align: top;\n",
       "    }\n",
       "\n",
       "    .dataframe thead th {\n",
       "        text-align: right;\n",
       "    }\n",
       "</style>\n",
       "<table border=\"1\" class=\"dataframe\">\n",
       "  <thead>\n",
       "    <tr style=\"text-align: right;\">\n",
       "      <th></th>\n",
       "      <th>video_name</th>\n",
       "      <th>video_path</th>\n",
       "      <th>cached_processed_frames_path</th>\n",
       "      <th>frame_count</th>\n",
       "      <th>duration</th>\n",
       "      <th>formatted_duration</th>\n",
       "      <th>video_id</th>\n",
       "      <th>video_url</th>\n",
       "      <th>timestamps</th>\n",
       "      <th>timestamp_input</th>\n",
       "    </tr>\n",
       "  </thead>\n",
       "  <tbody>\n",
       "    <tr>\n",
       "      <th>0</th>\n",
       "      <td>Prosthodontics | Mechanical Properties | INBDE, ADAT</td>\n",
       "      <td>/home/vedant/Desktop/glimpsify/most_info_frame_extractor/video2pdf/data/ulgywi/Prosthodontics | Mechanical Properties | INBDE, ADAT.mp4</td>\n",
       "      <td>/home/vedant/Desktop/glimpsify/most_info_frame_extractor/video2pdf/archives/data_archive_50_python_objects_all_dirs_phash_approval_strategy_v3/ulgywi_fbr_python_object/processed_frames.pkl</td>\n",
       "      <td>308</td>\n",
       "      <td>924</td>\n",
       "      <td>15:24</td>\n",
       "      <td>ZVYFKRBK0Tc</td>\n",
       "      <td>https://www.youtube.com/watch?v=ZVYFKRBK0Tc</td>\n",
       "      <td>0:29,0:57,1:07,1:25,2:50,5:22,6:20,7:50,8:59,12:19,14:05</td>\n",
       "      <td>29,57,67,85,170,322,380,470,539,739,845</td>\n",
       "    </tr>\n",
       "    <tr>\n",
       "      <th>1</th>\n",
       "      <td>Histology- Taste Buds and Lingual Papillae</td>\n",
       "      <td>/home/vedant/Desktop/glimpsify/most_info_frame_extractor/video2pdf/data/tabwoi/Histology- Taste Buds and Lingual Papillae.mp4</td>\n",
       "      <td>/home/vedant/Desktop/glimpsify/most_info_frame_extractor/video2pdf/archives/data_archive_50_python_objects_all_dirs_phash_approval_strategy_v3/tabwoi_utc_python_object/processed_frames.pkl</td>\n",
       "      <td>246</td>\n",
       "      <td>738</td>\n",
       "      <td>12:18</td>\n",
       "      <td>GIAhrwnk79Y</td>\n",
       "      <td>https://www.youtube.com/watch?v=GIAhrwnk79Y</td>\n",
       "      <td>1:17,2:13,2:46,3:44,6:13,6:39,7:02,7:34,7:41,8:46,10:59,13:05</td>\n",
       "      <td>77,133,166,224,373,399,422,454,461,526,659,785</td>\n",
       "    </tr>\n",
       "  </tbody>\n",
       "</table>\n",
       "</div>"
      ],
      "text/plain": [
       "                                             video_name  \\\n",
       "0  Prosthodontics | Mechanical Properties | INBDE, ADAT   \n",
       "1            Histology- Taste Buds and Lingual Papillae   \n",
       "\n",
       "                                                                                                                                video_path  \\\n",
       "0  /home/vedant/Desktop/glimpsify/most_info_frame_extractor/video2pdf/data/ulgywi/Prosthodontics | Mechanical Properties | INBDE, ADAT.mp4   \n",
       "1            /home/vedant/Desktop/glimpsify/most_info_frame_extractor/video2pdf/data/tabwoi/Histology- Taste Buds and Lingual Papillae.mp4   \n",
       "\n",
       "                                                                                                                                                                   cached_processed_frames_path  \\\n",
       "0  /home/vedant/Desktop/glimpsify/most_info_frame_extractor/video2pdf/archives/data_archive_50_python_objects_all_dirs_phash_approval_strategy_v3/ulgywi_fbr_python_object/processed_frames.pkl   \n",
       "1  /home/vedant/Desktop/glimpsify/most_info_frame_extractor/video2pdf/archives/data_archive_50_python_objects_all_dirs_phash_approval_strategy_v3/tabwoi_utc_python_object/processed_frames.pkl   \n",
       "\n",
       "   frame_count  duration formatted_duration     video_id  \\\n",
       "0          308       924              15:24  ZVYFKRBK0Tc   \n",
       "1          246       738              12:18  GIAhrwnk79Y   \n",
       "\n",
       "                                     video_url  \\\n",
       "0  https://www.youtube.com/watch?v=ZVYFKRBK0Tc   \n",
       "1  https://www.youtube.com/watch?v=GIAhrwnk79Y   \n",
       "\n",
       "                                                      timestamps  \\\n",
       "0       0:29,0:57,1:07,1:25,2:50,5:22,6:20,7:50,8:59,12:19,14:05   \n",
       "1  1:17,2:13,2:46,3:44,6:13,6:39,7:02,7:34,7:41,8:46,10:59,13:05   \n",
       "\n",
       "                                  timestamp_input  \n",
       "0         29,57,67,85,170,322,380,470,539,739,845  \n",
       "1  77,133,166,224,373,399,422,454,461,526,659,785  "
      ]
     },
     "execution_count": 108,
     "metadata": {},
     "output_type": "execute_result"
    }
   ],
   "source": [
    "with_timestamp"
   ]
  },
  {
   "cell_type": "code",
   "execution_count": 109,
   "id": "e060ec31f939a2a9",
   "metadata": {
    "ExecuteTime": {
     "end_time": "2025-06-30T11:12:31.890608Z",
     "start_time": "2025-06-30T11:12:31.888574Z"
    }
   },
   "outputs": [],
   "source": [
    "import subprocess"
   ]
  },
  {
   "cell_type": "code",
   "execution_count": 110,
   "id": "5cd470d1734106d2",
   "metadata": {
    "ExecuteTime": {
     "end_time": "2025-06-30T11:12:38.577394Z",
     "start_time": "2025-06-30T11:12:31.988587Z"
    }
   },
   "outputs": [
    {
     "name": "stdout",
     "output_type": "stream",
     "text": [
      "CompletedProcess(args=['python', '/home/vedant/Desktop/glimpsify/most_info_frame_extractor/video2pdf/main.py', '--input=pickle', '--dir=ulgywi_fbr_python_object', '--ocr_approval=reject_all', '--extraction=timestamps', '--timestamps=29,57,67,85,170,322,380,470,539,739,845'], returncode=0, stdout=b\"2025-06-30 17:54:18,596 - INFO - Internal ID: '/home/vedant/Desktop/glimpsify/most_info_frame_extractor/video2pdf/archives/data_archive_50_python_objects_all_dirs_phash_approval_strategy_v3/ulgywi_fbr_jpl'\\n2025-06-30 17:54:18,596 - INFO - Video path: '/home/vedant/Desktop/glimpsify/most_info_frame_extractor/video2pdf/data/ulgywi/Prosthodontics | Mechanical Properties | INBDE, ADAT.mp4'\\n2025-06-30 17:54:18,596 - INFO - Internal ID for video /home/vedant/Desktop/glimpsify/most_info_frame_extractor/video2pdf/data/ulgywi/Prosthodontics | Mechanical Properties | INBDE, ADAT.mp4: '/home/vedant/Desktop/glimpsify/most_info_frame_extractor/video2pdf/archives/data_archive_50_python_objects_all_dirs_phash_approval_strategy_v3/ulgywi_fbr_jpl'\\n2025-06-30 17:54:18,596 - INFO - Saving internal_id to video_id mapping\\n2025-06-30 17:54:18,671 - INFO - Getting frames...\\n2025-06-30 17:54:18,671 - INFO - Number of frames: 308\\n2025-06-30 17:54:18,683 - INFO - Extracting frames...\\n2025-06-30 17:54:18,684 - INFO - Number of extracted frames: 11\\n2025-06-30 17:54:18,684 - INFO - Saving extracted frames...\\n2025-06-30 17:54:18,817 - INFO - Extracted frames directory: '/home/vedant/Desktop/glimpsify/most_info_frame_extractor/video2pdf/archives/data_archive_50_python_objects_all_dirs_phash_approval_strategy_v3/ulgywi_fbr_jpl_extracted_frames'\\n2025-06-30 17:54:18,817 - INFO - Post processing...\\n2025-06-30 17:54:18,817 - INFO - Post processing done successfully\\n2025-06-30 17:54:18,817 - INFO - Creating PDF...\\n2025-06-30 17:54:18,878 - INFO - PDF path: '/home/vedant/Desktop/glimpsify/most_info_frame_extractor/video2pdf/archives/data_archive_50_python_objects_all_dirs_phash_approval_strategy_v3/ulgywi_fbr_jpl.pdf'\\n2025-06-30 17:54:18,878 - INFO - PDF for video '/home/vedant/Desktop/glimpsify/most_info_frame_extractor/video2pdf/data/ulgywi/Prosthodontics | Mechanical Properties | INBDE, ADAT.mp4': '/home/vedant/Desktop/glimpsify/most_info_frame_extractor/video2pdf/archives/data_archive_50_python_objects_all_dirs_phash_approval_strategy_v3/ulgywi_fbr_jpl.pdf'\\n2025-06-30 17:54:18,878 - INFO - Saved PDF to '/home/vedant/Desktop/glimpsify/most_info_frame_extractor/video2pdf/archives/data_archive_50_python_objects_all_dirs_phash_approval_strategy_v3/ulgywi_fbr_jpl.pdf' for video 'Prosthodontics | Mechanical Properties | INBDE, ADAT.mp4'\\n\", stderr=b'')\n",
      "CompletedProcess(args=['python', '/home/vedant/Desktop/glimpsify/most_info_frame_extractor/video2pdf/main.py', '--input=pickle', '--dir=tabwoi_utc_python_object', '--ocr_approval=reject_all', '--extraction=timestamps', '--timestamps=77,133,166,224,373,399,422,454,461,526,659,785'], returncode=0, stdout=b\"2025-06-30 17:54:22,496 - INFO - Internal ID: '/home/vedant/Desktop/glimpsify/most_info_frame_extractor/video2pdf/archives/data_archive_50_python_objects_all_dirs_phash_approval_strategy_v3/tabwoi_utc_kjz'\\n2025-06-30 17:54:22,496 - INFO - Video path: '/home/vedant/Desktop/glimpsify/most_info_frame_extractor/video2pdf/data/tabwoi/Histology- Taste Buds and Lingual Papillae.mp4'\\n2025-06-30 17:54:22,496 - INFO - Internal ID for video /home/vedant/Desktop/glimpsify/most_info_frame_extractor/video2pdf/data/tabwoi/Histology- Taste Buds and Lingual Papillae.mp4: '/home/vedant/Desktop/glimpsify/most_info_frame_extractor/video2pdf/archives/data_archive_50_python_objects_all_dirs_phash_approval_strategy_v3/tabwoi_utc_kjz'\\n2025-06-30 17:54:22,497 - INFO - Saving internal_id to video_id mapping\\n2025-06-30 17:54:22,571 - INFO - Getting frames...\\n2025-06-30 17:54:22,571 - INFO - Number of frames: 246\\n2025-06-30 17:54:22,582 - INFO - Extracting frames...\\n2025-06-30 17:54:22,582 - INFO - Number of extracted frames: 12\\n2025-06-30 17:54:22,582 - INFO - Saving extracted frames...\\n2025-06-30 17:54:22,732 - INFO - Extracted frames directory: '/home/vedant/Desktop/glimpsify/most_info_frame_extractor/video2pdf/archives/data_archive_50_python_objects_all_dirs_phash_approval_strategy_v3/tabwoi_utc_kjz_extracted_frames'\\n2025-06-30 17:54:22,733 - INFO - Post processing...\\n2025-06-30 17:54:22,733 - INFO - Post processing done successfully\\n2025-06-30 17:54:22,733 - INFO - Creating PDF...\\n2025-06-30 17:54:22,796 - INFO - PDF path: '/home/vedant/Desktop/glimpsify/most_info_frame_extractor/video2pdf/archives/data_archive_50_python_objects_all_dirs_phash_approval_strategy_v3/tabwoi_utc_kjz.pdf'\\n2025-06-30 17:54:22,796 - INFO - PDF for video '/home/vedant/Desktop/glimpsify/most_info_frame_extractor/video2pdf/data/tabwoi/Histology- Taste Buds and Lingual Papillae.mp4': '/home/vedant/Desktop/glimpsify/most_info_frame_extractor/video2pdf/archives/data_archive_50_python_objects_all_dirs_phash_approval_strategy_v3/tabwoi_utc_kjz.pdf'\\n2025-06-30 17:54:22,796 - INFO - Saved PDF to '/home/vedant/Desktop/glimpsify/most_info_frame_extractor/video2pdf/archives/data_archive_50_python_objects_all_dirs_phash_approval_strategy_v3/tabwoi_utc_kjz.pdf' for video 'Histology- Taste Buds and Lingual Papillae.mp4'\\n\", stderr=b'')\n"
     ]
    }
   ],
   "source": [
    "for timestamp_input, cached_processed_frames_path in with_timestamp[[\"timestamp_input\", \"cached_processed_frames_path\"]].values:\n",
    "    input_ = Path(cached_processed_frames_path).parent.name\n",
    "    args = [\n",
    "        \"python\", \"/home/vedant/Desktop/glimpsify/most_info_frame_extractor/video2pdf/main.py\",\n",
    "        \"--input=pickle\",\n",
    "        f\"--dir={input_}\",\n",
    "        '--ocr_approval=reject_all',\n",
    "        '--extraction=timestamps',\n",
    "        f'--timestamps={timestamp_input}'\n",
    "    ]\n",
    "    result = subprocess.run(\n",
    "        args, capture_output=True\n",
    "    )\n",
    "    print(result)"
   ]
  },
  {
   "cell_type": "code",
   "execution_count": 118,
   "id": "ebf4b1537cf85888",
   "metadata": {
    "ExecuteTime": {
     "end_time": "2025-06-30T11:12:38.983525Z",
     "start_time": "2025-06-30T11:12:38.663482Z"
    }
   },
   "outputs": [],
   "source": [
    "row1 = {\n",
    "    \"video_id\": \"ZVYFKRBK0Tc\",\n",
    "    \"pdf_path_generated\": \"/home/vedant/Desktop/glimpsify/most_info_frame_extractor/video2pdf/archives/data_archive_55_5_short_videos_2_pdfs/ulgywi_fbr_cht.pdf\",\n",
    "    \"pdf_path_reference\": '/home/vedant/Desktop/glimpsify/most_info_frame_extractor/video2pdf/archives/data_archive_50_python_objects_all_dirs_phash_approval_strategy_v3/ulgywi_fbr_jpl.pdf'\n",
    "\n",
    "}\n",
    "row2 = {\n",
    "    \"video_id\": \"GIAhrwnk79Y\",\n",
    "    \"pdf_path_generated\": \"/home/vedant/Desktop/glimpsify/most_info_frame_extractor/video2pdf/archives/data_archive_55_5_short_videos_2_pdfs/tabwoi_utc_pal.pdf\",\n",
    "    \"pdf_path_reference\": '/home/vedant/Desktop/glimpsify/most_info_frame_extractor/video2pdf/archives/data_archive_50_python_objects_all_dirs_phash_approval_strategy_v3/tabwoi_utc_kjz.pdf'\n",
    "\n",
    "}\n",
    "evaluation_data = pd.DataFrame([row1, row2])"
   ]
  },
  {
   "cell_type": "code",
   "execution_count": 119,
   "id": "dc5ede2044e845a0",
   "metadata": {
    "ExecuteTime": {
     "end_time": "2025-06-30T11:12:39.051971Z",
     "start_time": "2025-06-30T11:12:39.049650Z"
    }
   },
   "outputs": [],
   "source": [
    "_output_dir = Path(\"./40\")\n",
    "_output_dir.mkdir(parents=True, exist_ok=True)"
   ]
  },
  {
   "cell_type": "code",
   "execution_count": 120,
   "id": "c4bd058ca7834150",
   "metadata": {
    "ExecuteTime": {
     "end_time": "2025-06-30T11:12:39.099695Z",
     "start_time": "2025-06-30T11:12:39.097587Z"
    }
   },
   "outputs": [],
   "source": [
    "report_file_path = _output_dir / \"report.csv\""
   ]
  },
  {
   "cell_type": "markdown",
   "id": "c9e5e8392212aa96",
   "metadata": {},
   "source": [
    "| **Metric**              | **Formula**             | **Value**                                     | **Interpretation**                                  |\n",
    "| ----------------------- | ----------------------- | --------------------------------------------- | --------------------------------------------------- |\n",
    "| **Precision**           | TP / (TP + FP)          | `6 / (6 + 2) = 0.75`                          | Of all results returned, how many were correct      |\n",
    "| **Recall**              | TP / (TP + FN)          | `6 / (6 + 5) = 0.545`                         | Of all actual positives, how many were found        |\n",
    "| **F1 Score**            | 2 × (P × R) / (P + R)   | `2 × (0.75 × 0.545) / (0.75 + 0.545) ≈ 0.631` | Harmonic mean of precision and recall               |\n",
    "| **Accuracy** (limited)  | TP / Total Ground Truth | `6 / 11 ≈ 0.545`                              | How much of the total truth set was correctly found |\n",
    "| **False Positive Rate** | FP / (TP + FP + FN)     | `2 / 13 ≈ 0.154`                              | Share of incorrect predictions among all considered |\n",
    "| **Duplicate Rate**      | FP / (TP + FP + FN)     | `2 / 13 ≈ 0.154`                              | Percent of results that were duplicates             |\n",
    "| **Miss Rate**           | FN / Total Ground Truth | `5 / 11 ≈ 0.455`                              | How much of the truth set was missed                |\n"
   ]
  },
  {
   "cell_type": "code",
   "execution_count": 114,
   "id": "ff54848d",
   "metadata": {},
   "outputs": [],
   "source": [
    "\n",
    "def load_images_from_pdf(pdf_path, dpi=200):\n",
    "    \"\"\"\n",
    "    Converts each page of a PDF into a NumPy image.\n",
    "\n",
    "    Args:\n",
    "        pdf_path (str): Path to the input PDF file.\n",
    "        dpi (int): Resolution for rendering the PDF pages.\n",
    "\n",
    "    Returns:\n",
    "        list of np.ndarray: Each image as a NumPy array in BGR format.\n",
    "    \"\"\"\n",
    "    # Convert PDF pages to PIL Images\n",
    "    pil_images = convert_from_path(pdf_path, dpi=dpi)\n",
    "\n",
    "    # Convert PIL images to OpenCV-compatible NumPy arrays (BGR)\n",
    "    image_list = []\n",
    "    for img in pil_images:\n",
    "        img_np = np.array(img)               # PIL to RGB NumPy\n",
    "        img_bgr = img_np[:, :, ::-1]         # Convert RGB to BGR (OpenCV format)\n",
    "        image_list.append(img_bgr)\n",
    "\n",
    "    return image_list"
   ]
  },
  {
   "cell_type": "code",
   "execution_count": 121,
   "id": "901bcdd7a448c302",
   "metadata": {
    "ExecuteTime": {
     "end_time": "2025-06-30T11:12:48.890531Z",
     "start_time": "2025-06-30T11:12:41.250087Z"
    }
   },
   "outputs": [],
   "source": [
    "def evaluate_(video_id, pdf_path_generated, pdf_path_reference):\n",
    "\n",
    "    generated_images = convert_from_path(pdf_path_generated, dpi=200)\n",
    "    expected_images = convert_from_path(pdf_path_reference, dpi=200)\n",
    "\n",
    "    timestamp_ = pd.Timestamp.now().strftime(\"%Y%m%d-%H%M%S\")\n",
    "\n",
    "    category = Path(\"metrics\") / timestamp_ / video_id\n",
    "    category.mkdir(parents=True, exist_ok=True)\n",
    "\n",
    "    def images_are_perceptually_similar(img1, img2, threshold=0.95):\n",
    "        score, _ = ssim(img1, img2, full=True)\n",
    "        return score > threshold\n",
    "\n",
    "    # Convert images to grayscale arrays for SSIM\n",
    "    generated_gray = [np.array(img.convert(\"L\")) for img in generated_images]\n",
    "    expected_gray = [np.array(img.convert(\"L\")) for img in expected_images]\n",
    "\n",
    "    # Recalculate metrics using SSIM-based comparison\n",
    "    TP = 0\n",
    "    FP = 0\n",
    "    FN = 0\n",
    "    duplicates = 0\n",
    "    used = set()\n",
    "    TP_indexes = set()\n",
    "\n",
    "    # Match generated to expected\n",
    "    for i, g_img in enumerate(generated_gray):\n",
    "        match_found = False\n",
    "        for idx, e_img in enumerate(expected_gray):\n",
    "            if idx not in used and images_are_perceptually_similar(g_img, e_img):\n",
    "                TP += 1\n",
    "                used.add(idx)\n",
    "                match_found = True\n",
    "                TP_indexes.add(idx)\n",
    "                generated_images[i].save(f'metrics/{timestamp_}/{video_id}/TP-generated_{i}.png')\n",
    "                break\n",
    "        if not match_found:\n",
    "            FP += 1\n",
    "            generated_images[i].save(f'metrics/{timestamp_}/{video_id}/duplicate-generated_{i}.png')\n",
    "\n",
    "    # Save unmatched expected images as FN\n",
    "    FN = len(expected_gray) - TP\n",
    "    for idx in range(len(expected_gray)):\n",
    "        if idx not in TP_indexes:\n",
    "            expected_images[idx].save(f'metrics/{timestamp_}/{video_id}/FN-expected_{idx}.png')\n",
    "\n",
    "    duplicates = FP  # assuming all FP are duplicates\n",
    "\n",
    "    # Compute metrics\n",
    "    metrics = {\n",
    "        \"TP\": TP,\n",
    "        \"FP\": FP,\n",
    "        \"FN\": FN,\n",
    "        \"Duplicates\": duplicates,\n",
    "        \"Precision\": TP / (TP + FP) if (TP + FP) > 0 else 0,\n",
    "        \"Recall\": TP / (TP + FN) if (TP + FN) > 0 else 0,\n",
    "        \"F1 Score\": 0,\n",
    "        \"Accuracy\": TP / len(expected_gray) if expected_gray else 0,\n",
    "        \"False Positive Rate\": FP / (TP + FP + FN) if (TP + FP + FN) > 0 else 0,\n",
    "        \"Duplicate Rate\": duplicates / (TP + FP + FN) if (TP + FP + FN) > 0 else 0,\n",
    "        \"Miss Rate\": FN / len(expected_gray) if expected_gray else 0,\n",
    "    }\n",
    "\n",
    "    # Calculate F1 Score\n",
    "    P = metrics[\"Precision\"]\n",
    "    R = metrics[\"Recall\"]\n",
    "    metrics[\"F1 Score\"] = 2 * P * R / (P + R) if (P + R) > 0 else 0\n",
    "\n",
    "    # Final values\n",
    "    return metrics\n"
   ]
  },
  {
   "cell_type": "code",
   "execution_count": 122,
   "id": "8315851b",
   "metadata": {},
   "outputs": [],
   "source": [
    "metrics_df = pd.DataFrame()"
   ]
  },
  {
   "cell_type": "code",
   "execution_count": 123,
   "id": "a0d948e6",
   "metadata": {},
   "outputs": [],
   "source": [
    "for index, row in evaluation_data.iterrows():\n",
    "    video_id = row[\"video_id\"]\n",
    "    pdf_path_generated = row[\"pdf_path_generated\"]\n",
    "    pdf_path_reference = row[\"pdf_path_reference\"]\n",
    "\n",
    "    metrics = evaluate_(video_id, pdf_path_generated, pdf_path_reference)\n",
    "    metrics[\"video_id\"] = video_id\n",
    "    metrics_df = pd.concat([metrics_df, pd.DataFrame([metrics])], ignore_index=True)"
   ]
  },
  {
   "cell_type": "code",
   "execution_count": 124,
   "id": "9aa57a35",
   "metadata": {},
   "outputs": [
    {
     "data": {
      "text/html": [
       "<div>\n",
       "<style scoped>\n",
       "    .dataframe tbody tr th:only-of-type {\n",
       "        vertical-align: middle;\n",
       "    }\n",
       "\n",
       "    .dataframe tbody tr th {\n",
       "        vertical-align: top;\n",
       "    }\n",
       "\n",
       "    .dataframe thead th {\n",
       "        text-align: right;\n",
       "    }\n",
       "</style>\n",
       "<table border=\"1\" class=\"dataframe\">\n",
       "  <thead>\n",
       "    <tr style=\"text-align: right;\">\n",
       "      <th></th>\n",
       "      <th>TP</th>\n",
       "      <th>FP</th>\n",
       "      <th>FN</th>\n",
       "      <th>Duplicates</th>\n",
       "      <th>Precision</th>\n",
       "      <th>Recall</th>\n",
       "      <th>F1 Score</th>\n",
       "      <th>Accuracy</th>\n",
       "      <th>False Positive Rate</th>\n",
       "      <th>Duplicate Rate</th>\n",
       "      <th>Miss Rate</th>\n",
       "      <th>video_id</th>\n",
       "    </tr>\n",
       "  </thead>\n",
       "  <tbody>\n",
       "    <tr>\n",
       "      <th>0</th>\n",
       "      <td>6</td>\n",
       "      <td>2</td>\n",
       "      <td>5</td>\n",
       "      <td>2</td>\n",
       "      <td>0.750000</td>\n",
       "      <td>0.545455</td>\n",
       "      <td>0.631579</td>\n",
       "      <td>0.545455</td>\n",
       "      <td>0.153846</td>\n",
       "      <td>0.153846</td>\n",
       "      <td>0.454545</td>\n",
       "      <td>ZVYFKRBK0Tc</td>\n",
       "    </tr>\n",
       "    <tr>\n",
       "      <th>1</th>\n",
       "      <td>5</td>\n",
       "      <td>1</td>\n",
       "      <td>6</td>\n",
       "      <td>1</td>\n",
       "      <td>0.833333</td>\n",
       "      <td>0.454545</td>\n",
       "      <td>0.588235</td>\n",
       "      <td>0.454545</td>\n",
       "      <td>0.083333</td>\n",
       "      <td>0.083333</td>\n",
       "      <td>0.545455</td>\n",
       "      <td>GIAhrwnk79Y</td>\n",
       "    </tr>\n",
       "  </tbody>\n",
       "</table>\n",
       "</div>"
      ],
      "text/plain": [
       "   TP  FP  FN  Duplicates  Precision    Recall  F1 Score  Accuracy  \\\n",
       "0   6   2   5           2   0.750000  0.545455  0.631579  0.545455   \n",
       "1   5   1   6           1   0.833333  0.454545  0.588235  0.454545   \n",
       "\n",
       "   False Positive Rate  Duplicate Rate  Miss Rate     video_id  \n",
       "0             0.153846        0.153846   0.454545  ZVYFKRBK0Tc  \n",
       "1             0.083333        0.083333   0.545455  GIAhrwnk79Y  "
      ]
     },
     "execution_count": 124,
     "metadata": {},
     "output_type": "execute_result"
    }
   ],
   "source": [
    "metrics_df.head()"
   ]
  },
  {
   "cell_type": "code",
   "execution_count": 125,
   "id": "0d49b2f3",
   "metadata": {},
   "outputs": [
    {
     "data": {
      "text/plain": [
       "2"
      ]
     },
     "execution_count": 125,
     "metadata": {},
     "output_type": "execute_result"
    }
   ],
   "source": [
    "len(metrics_df)"
   ]
  },
  {
   "cell_type": "code",
   "execution_count": 126,
   "id": "888db143",
   "metadata": {},
   "outputs": [],
   "source": [
    "pdf_path_generated = evaluation_data.iloc[0][\"pdf_path_generated\"]\n",
    "pdf_path_reference = evaluation_data.iloc[0][\"pdf_path_reference\"]"
   ]
  },
  {
   "cell_type": "code",
   "execution_count": 127,
   "id": "b0e7e3b7",
   "metadata": {},
   "outputs": [
    {
     "data": {
      "text/plain": [
       "0"
      ]
     },
     "execution_count": 127,
     "metadata": {},
     "output_type": "execute_result"
    }
   ],
   "source": [
    "os.system(f\"xdg-open {pdf_path_generated}\")\n",
    "os.system(f\"xdg-open {pdf_path_reference}\")"
   ]
  },
  {
   "cell_type": "code",
   "execution_count": null,
   "id": "717b60a2",
   "metadata": {},
   "outputs": [],
   "source": []
  }
 ],
 "metadata": {
  "kernelspec": {
   "display_name": "base",
   "language": "python",
   "name": "python3"
  },
  "language_info": {
   "codemirror_mode": {
    "name": "ipython",
    "version": 3
   },
   "file_extension": ".py",
   "mimetype": "text/x-python",
   "name": "python",
   "nbconvert_exporter": "python",
   "pygments_lexer": "ipython3",
   "version": "3.12.2"
  }
 },
 "nbformat": 4,
 "nbformat_minor": 5
}
