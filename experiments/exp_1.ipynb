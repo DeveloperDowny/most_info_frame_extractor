{
 "cells": [
  {
   "cell_type": "code",
   "execution_count": 1,
   "metadata": {},
   "outputs": [],
   "source": [
    "from pytubefix import Playlist, YouTube"
   ]
  },
  {
   "cell_type": "code",
   "execution_count": 2,
   "metadata": {},
   "outputs": [],
   "source": [
    "# video_url = \"https://www.youtube.com/watch?v=5N242XcKAsM&t=3s\"\n",
    "video_url = \"https://m.youtube.com/watch?v=s30sjjG12HY\""
   ]
  },
  {
   "cell_type": "code",
   "execution_count": 3,
   "metadata": {},
   "outputs": [],
   "source": [
    "video = YouTube(video_url)"
   ]
  },
  {
   "cell_type": "code",
   "execution_count": 4,
   "metadata": {},
   "outputs": [
    {
     "data": {
      "text/plain": [
       "[<KeyMoment: Maintainable code is easy to understand, plenty of unitary tests. | 0:00:10>,\n",
       " <KeyMoment: Extract method and extract class Applied indirection | 0:00:39>,\n",
       " <KeyMoment: Less parameters is better than more parameters Don't be afraid to use introduce parameter object if needed | 0:01:19>,\n",
       " <KeyMoment: Command and query separation Queries return something Commands change the state of the system and don't return. | 0:01:56>,\n",
       " <KeyMoment: Encapsulation is a friend Hide your state. Use smart objects. | 0:02:35>,\n",
       " <KeyMoment: Polymorphism is not always a friend Don't use polymorphism if it leads to complexity | 0:03:11>,\n",
       " <KeyMoment: 20. Always use TDD | 0:04:28>,\n",
       " <KeyMoment: Data Clumps - Some fields seem to naturally group together. Use Extract Class to put them in the same class or introduce Parameter Object. | 0:10:06>,\n",
       " <KeyMoment: Lazy class-A class that isn't doing enough to be worth having. Usually a side effect of refactoring. Use Inline Class. | 0:10:42>,\n",
       " <KeyMoment: Middle man - The opposite of message chains. Too much encapsulation leads to a lot of middle men hiding the chain. Use Remove middle man or Inline Method if possible | 0:11:21>,\n",
       " <KeyMoment: Comment - Comments mean you failed to express yourself with code. Use extract method and take advantage of naming things to express yourself. | 0:12:02>,\n",
       " <KeyMoment: Extract method - the most important refactoring technique. Basic use of Indirection to functions code. | 0:12:11>,\n",
       " <KeyMoment: Split temporary variable-a variable is assigned more than once, not inside a loop or collecting a temporary variable; split it into multiple variables with proper names | 0:13:01>,\n",
       " <KeyMoment: Move Method - A method is using another class more than it's own- it suffers from feature envy move it to the class it is envious upon | 0:13:44>,\n",
       " <KeyMoment: Hide Delegate - Encapsulate to avoid train wrecks, or Message chains, even if just using wrappers. From object A you get Object from with you get object to call method Encapsulate the state of B. Add to it method even if it is just a wrapper for CXO. | 0:14:19>,\n",
       " <KeyMoment: Self encapsulate field -add getters and setters | 0:15:06>,\n",
       " <KeyMoment: Replace Array with Object. An array has elements that mean different things- , low cohesion. Turn the array into an object with a field for each element. | 0:15:47>,\n",
       " <KeyMoment: Replace Magic Number with Symbollo Constant Never use numbers and strings in code as types or special meaning. Use constants instead. | 0:16:31>,\n",
       " <KeyMoment: Replace Type Code with Class. Instead of keeping Strings and Numbers for certain types like Blood Type move them into their own Blood Type class | 0:17:06>,\n",
       " <KeyMoment: Decompose conditional same as beautify predicate move predicates/conditional/the part inside if into well named methods | 0:17:50>,\n",
       " <KeyMoment: Replace Conditional with Polymorphism added complexity | 0:18:37>,\n",
       " <KeyMoment: Rename Method - When the name of the method doesn't reveal it's purpose, rename it | 0:19:12>,\n",
       " <KeyMoment: Parameterize Method - several method do similar things but with different values inside the method of the body, replace them with a value that uses a parang increase tyTenpercento: increasehityTwentyPercent(): replace them with increase it percentage | 0:19:44>,\n",
       " <KeyMoment: Remove setting method a field should be set of creation and never changed: remove it's better | 0:20:41>,\n",
       " <KeyMoment: Replace Exception with test. Check inside the caler rather than inside the callee and throwing an exception; defensive programming is a code smel unless you are working with data from users | 0:21:15>,\n",
       " <KeyMoment: Push up field and method, pulldown field and method-move members up and down when it makes sense | 0:21:26>,\n",
       " <KeyMoment: Collapse Hierarchy a superclass and subclass are not very different,merge them together | 0:22:06>,\n",
       " <KeyMoment: Tease Apart Inheritance - You have an inheritance hierarchy that is doing two jobs at once. Create two hierarchies and use delegation to invoke one from the other delegation is about the | 0:22:50>]"
      ]
     },
     "execution_count": 4,
     "metadata": {},
     "output_type": "execute_result"
    }
   ],
   "source": [
    "video.key_moments"
   ]
  },
  {
   "cell_type": "code",
   "execution_count": 9,
   "metadata": {},
   "outputs": [
    {
     "data": {
      "text/plain": [
       "28"
      ]
     },
     "execution_count": 9,
     "metadata": {},
     "output_type": "execute_result"
    }
   ],
   "source": [
    "key_moments = video.key_moments\n",
    "len(key_moments)"
   ]
  },
  {
   "cell_type": "code",
   "execution_count": 10,
   "metadata": {},
   "outputs": [
    {
     "data": {
      "text/plain": [
       "10"
      ]
     },
     "execution_count": 10,
     "metadata": {},
     "output_type": "execute_result"
    }
   ],
   "source": [
    "key_moments[0].start_seconds"
   ]
  },
  {
   "cell_type": "code",
   "execution_count": 5,
   "metadata": {},
   "outputs": [
    {
     "data": {
      "text/plain": [
       "'1427'"
      ]
     },
     "execution_count": 5,
     "metadata": {},
     "output_type": "execute_result"
    }
   ],
   "source": [
    "str(video.length)"
   ]
  },
  {
   "cell_type": "code",
   "execution_count": 6,
   "metadata": {},
   "outputs": [
    {
     "data": {
      "text/plain": [
       "'32 Programming concepts to help you write Maintainable Code - Cheat Sheet'"
      ]
     },
     "execution_count": 6,
     "metadata": {},
     "output_type": "execute_result"
    }
   ],
   "source": [
    "video.title"
   ]
  },
  {
   "cell_type": "code",
   "execution_count": 7,
   "metadata": {},
   "outputs": [
    {
     "data": {
      "text/plain": [
       "['https://www.youtube.com/watch?v=3MPkc-PFSRI', 'https://www.youtube.com/watch?v=4KiwoeDJFiA', 'https://www.youtube.com/watch?v=IpuvKyeCrvU', 'https://www.youtube.com/watch?v=0RxLUf4fxs8', 'https://www.youtube.com/watch?v=oQuBvLAKUM8']"
      ]
     },
     "execution_count": 7,
     "metadata": {},
     "output_type": "execute_result"
    }
   ],
   "source": [
    "playlist_url = \"https://www.youtube.com/playlist?list=PLBlnK6fEyqRgj06MEnp2VebJ8DgMpF0Zj\"\n",
    "playlist = Playlist(playlist_url)\n",
    "playlist.video_urls"
   ]
  },
  {
   "cell_type": "code",
   "execution_count": 8,
   "metadata": {},
   "outputs": [
    {
     "data": {
      "text/plain": [
       "5"
      ]
     },
     "execution_count": 8,
     "metadata": {},
     "output_type": "execute_result"
    }
   ],
   "source": [
    "video_urls = playlist.video_urls\n",
    "len(video_urls)"
   ]
  }
 ],
 "metadata": {
  "kernelspec": {
   "display_name": "base",
   "language": "python",
   "name": "python3"
  },
  "language_info": {
   "codemirror_mode": {
    "name": "ipython",
    "version": 3
   },
   "file_extension": ".py",
   "mimetype": "text/x-python",
   "name": "python",
   "nbconvert_exporter": "python",
   "pygments_lexer": "ipython3",
   "version": "3.12.2"
  }
 },
 "nbformat": 4,
 "nbformat_minor": 2
}
