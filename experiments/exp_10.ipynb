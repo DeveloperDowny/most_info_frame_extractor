{
 "cells": [
  {
   "cell_type": "markdown",
   "metadata": {},
   "source": [
    "The smooth and find peak and use that value as K approach won't work if `pixel_comparison` is used\n",
    "So the existing code needs to be modified so that if ocr is not permitted for a particular frames, it should be given the same ocr_text as that of the previous frame. This will ensure that the ocr_text is not empty for any frame and the code will work as expected."
   ]
  }
 ],
 "metadata": {
  "language_info": {
   "name": "python"
  }
 },
 "nbformat": 4,
 "nbformat_minor": 2
}
