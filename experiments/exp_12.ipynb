{
 "cells": [
  {
   "cell_type": "code",
   "execution_count": 1,
   "metadata": {},
   "outputs": [],
   "source": [
    "from pytubefix import YouTube\n",
    "from datetime import datetime\n",
    "\n",
    "def format_time(seconds):\n",
    "    \"\"\"Convert seconds to HH:MM:SS format\"\"\"\n",
    "    return str(datetime.fromtimestamp(seconds).strftime('%H:%M:%S'))\n",
    "\n",
    "def download_video_and_get_chapters(url):\n",
    "    try:\n",
    "        # Create YouTube object\n",
    "        yt = YouTube(url)\n",
    "        \n",
    "        # Print video title\n",
    "        print(f\"Video Title: {yt.title}\\n\")\n",
    "        \n",
    "        # Get and print chapters\n",
    "        if yt.chapters:\n",
    "            print(\"Chapter Information:\")\n",
    "            print(\"-\" * 50)\n",
    "            for i, chapter in enumerate(yt.chapters, 1):\n",
    "                start_time = format_time(chapter.start_seconds)\n",
    "                \n",
    "                # Calculate end time\n",
    "                if i < len(yt.chapters):\n",
    "                    end_time = format_time(yt.chapters[i].start_seconds)\n",
    "                else:\n",
    "                    end_time = format_time(yt.length)\n",
    "                \n",
    "                print(f\"Chapter {i}: {chapter.title}\")\n",
    "                print(f\"Start Time: {start_time}\")\n",
    "                print(f\"End Time: {end_time}\")\n",
    "                print(\"-\" * 50)\n",
    "        else:\n",
    "            print(\"No chapters found in this video\")\n",
    "        \n",
    "        # Download the video\n",
    "        print(\"\\nStarting video download...\")\n",
    "        stream = yt.streams.get_highest_resolution()\n",
    "        stream.download()\n",
    "        print(f\"Video downloaded successfully as: {stream.default_filename}\")\n",
    "        \n",
    "    except Exception as e:\n",
    "        print(f\"An error occurred: {str(e)}\")\n"
   ]
  },
  {
   "cell_type": "code",
   "execution_count": 2,
   "metadata": {},
   "outputs": [
    {
     "name": "stdout",
     "output_type": "stream",
     "text": [
      "Video Title: Neural Networks Part 6 Cross Entropy\n",
      "\n",
      "Chapter Information:\n",
      "--------------------------------------------------\n",
      "Chapter 1: Awesome song and introduction\n",
      "Start Time: 05:30:00\n",
      "End Time: 05:31:48\n",
      "--------------------------------------------------\n",
      "Chapter 2: Cross Entropy defined\n",
      "Start Time: 05:31:48\n",
      "End Time: 05:32:50\n",
      "--------------------------------------------------\n",
      "Chapter 3: General equation for Cross Entropy\n",
      "Start Time: 05:32:50\n",
      "End Time: 05:34:11\n",
      "--------------------------------------------------\n",
      "Chapter 4: Calculating Total Cross Entropy\n",
      "Start Time: 05:34:11\n",
      "End Time: 05:35:41\n",
      "--------------------------------------------------\n",
      "Chapter 5: Why Cross Entropy and not SSR?\n",
      "Start Time: 05:35:41\n",
      "End Time: 05:39:31\n",
      "--------------------------------------------------\n",
      "\n",
      "Starting video download...\n",
      "Video downloaded successfully as: Neural Networks Part 6 Cross Entropy.mp4\n"
     ]
    }
   ],
   "source": [
    "\n",
    "# video_url = \"https://www.youtube.com/watch?v=uojIxD6Ofy0\"\n",
    "video_url = \"https://www.youtube.com/watch?v=6ArSys5qHAU\"\n",
    "download_video_and_get_chapters(video_url)"
   ]
  },
  {
   "cell_type": "code",
   "execution_count": 3,
   "metadata": {},
   "outputs": [],
   "source": [
    "yt = YouTube(video_url)\n"
   ]
  },
  {
   "cell_type": "code",
   "execution_count": 4,
   "metadata": {},
   "outputs": [
    {
     "data": {
      "text/plain": [
       "list"
      ]
     },
     "execution_count": 4,
     "metadata": {},
     "output_type": "execute_result"
    }
   ],
   "source": [
    "\n",
    "type(yt.chapters)"
   ]
  },
  {
   "cell_type": "code",
   "execution_count": 5,
   "metadata": {},
   "outputs": [
    {
     "data": {
      "text/plain": [
       "0"
      ]
     },
     "execution_count": 5,
     "metadata": {},
     "output_type": "execute_result"
    }
   ],
   "source": [
    "yt.chapters[0].start_seconds"
   ]
  },
  {
   "cell_type": "code",
   "execution_count": null,
   "metadata": {},
   "outputs": [],
   "source": []
  }
 ],
 "metadata": {
  "kernelspec": {
   "display_name": "base",
   "language": "python",
   "name": "python3"
  },
  "language_info": {
   "codemirror_mode": {
    "name": "ipython",
    "version": 3
   },
   "file_extension": ".py",
   "mimetype": "text/x-python",
   "name": "python",
   "nbconvert_exporter": "python",
   "pygments_lexer": "ipython3",
   "version": "3.12.2"
  }
 },
 "nbformat": 4,
 "nbformat_minor": 2
}
