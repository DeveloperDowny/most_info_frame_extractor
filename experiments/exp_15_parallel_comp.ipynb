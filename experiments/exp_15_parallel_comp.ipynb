{
 "cells": [
  {
   "cell_type": "code",
   "execution_count": 2,
   "metadata": {},
   "outputs": [
    {
     "name": "stdout",
     "output_type": "stream",
     "text": [
      "Hello, world!\n"
     ]
    }
   ],
   "source": [
    "import sys\n",
    "fp = \"/media/vedant/New Volume/DPythonProjects/yt_summarizer\"\n",
    "\n",
    "sys.path.insert(1, fp)   \n",
    "fp = \"/media/vedant/New Volume/DPythonProjects/yt_summarizer/v2\"\n",
    "\n",
    "sys.path.insert(1, fp)   \n",
    "\n",
    "from v2.helper import Helper\n",
    "\n",
    "Helper.log(\"Hello, world!\")\n"
   ]
  },
  {
   "cell_type": "code",
   "execution_count": 15,
   "metadata": {},
   "outputs": [],
   "source": [
    "fp = r\"/media/vedant/New Volume/DPythonProjects/yt_summarizer/v2/data/kncgdn/The F Function of DES (Mangler Function).mp4\""
   ]
  },
  {
   "cell_type": "code",
   "execution_count": 19,
   "metadata": {},
   "outputs": [],
   "source": [
    "from input_strategy_factory import InputStrategyFactory\n",
    "from ocr_strategy_factory import OCRStrategyFactory\n",
    "from extraction_strategy_factory import ExtractionStrategyFactory\n",
    "from input_strategy import InputStrategy\n",
    "from ocr_approval.ocr_approval_strategy_factory import OCRApprovalStrategyFactory\n",
    "\n",
    "\n",
    "ocr_approval_type = \"pixel_comparison\"\n",
    "# ocr_approval_type = \"approve_all\"\n",
    "ocr_approval_strategy = OCRApprovalStrategyFactory.create_strategy(\n",
    "    ocr_approval_type\n",
    ")\n",
    "\n",
    "# ocr_type = input(\"Enter OCR type: \")\n",
    "ocr_type = \"tesseract\"\n",
    "# ocr_type = \"easy\"\n",
    "ocr_strategy = OCRStrategyFactory.create_ocr_strategy(ocr_type)\n",
    "\n",
    "extraction_type = \"k_transactions\"\n",
    "# extraction_type = \"key_moments\"\n",
    "extraction_strategy = ExtractionStrategyFactory.create_extraction_strategy(\n",
    "    extraction_type\n",
    ")"
   ]
  },
  {
   "cell_type": "code",
   "execution_count": 20,
   "metadata": {},
   "outputs": [],
   "source": [
    "# from v2.video_processor import VideoProcessor\n",
    "from v2.processed_frame import ProcessedFrame \n",
    "\n"
   ]
  },
  {
   "cell_type": "code",
   "execution_count": 23,
   "metadata": {},
   "outputs": [
    {
     "name": "stdout",
     "output_type": "stream",
     "text": [
      "9.74 s ± 215 ms per loop (mean ± std. dev. of 7 runs, 1 loop each)\n"
     ]
    }
   ],
   "source": [
    "%%timeit\n",
    "processed_frames = ProcessedFrame.from_video(fp, ocr_strategy, ocr_approval_strategy)\n",
    "\n"
   ]
  },
  {
   "cell_type": "code",
   "execution_count": 21,
   "metadata": {},
   "outputs": [
    {
     "data": {
      "text/plain": [
       "210"
      ]
     },
     "execution_count": 21,
     "metadata": {},
     "output_type": "execute_result"
    }
   ],
   "source": [
    "len(processed_frames)"
   ]
  },
  {
   "cell_type": "code",
   "execution_count": 24,
   "metadata": {},
   "outputs": [
    {
     "name": "stdout",
     "output_type": "stream",
     "text": [
      "5.47 s ± 359 ms per loop (mean ± std. dev. of 7 runs, 1 loop each)\n"
     ]
    }
   ],
   "source": [
    "%%timeit\n",
    "processed_frames_parallel = ProcessedFrame.from_video_parallel(fp, ocr_strategy, ocr_approval_strategy)"
   ]
  },
  {
   "cell_type": "code",
   "execution_count": 25,
   "metadata": {},
   "outputs": [
    {
     "data": {
      "text/plain": [
       "208"
      ]
     },
     "execution_count": 25,
     "metadata": {},
     "output_type": "execute_result"
    }
   ],
   "source": [
    "len(processed_frames_parallel)"
   ]
  },
  {
   "cell_type": "code",
   "execution_count": 28,
   "metadata": {},
   "outputs": [
    {
     "data": {
      "text/plain": [
       "False"
      ]
     },
     "execution_count": 28,
     "metadata": {},
     "output_type": "execute_result"
    }
   ],
   "source": [
    "processed_frames[:5] == processed_frames_parallel[:5]"
   ]
  },
  {
   "cell_type": "code",
   "execution_count": 29,
   "metadata": {},
   "outputs": [
    {
     "name": "stdout",
     "output_type": "stream",
     "text": [
      "20.5 s ± 1.23 s per loop (mean ± std. dev. of 7 runs, 1 loop each)\n"
     ]
    }
   ],
   "source": [
    "%%timeit\n",
    "processed_frames_parallel = ProcessedFrame.from_video_parallel(fp, ocr_strategy, ocr_approval_strategy, num_replicas=8)"
   ]
  },
  {
   "cell_type": "code",
   "execution_count": 30,
   "metadata": {},
   "outputs": [
    {
     "name": "stdout",
     "output_type": "stream",
     "text": [
      "5.99 s ± 358 ms per loop (mean ± std. dev. of 7 runs, 1 loop each)\n"
     ]
    }
   ],
   "source": [
    "%%timeit\n",
    "processed_frames_parallel = ProcessedFrame.from_video_parallel(fp, ocr_strategy, ocr_approval_strategy, num_replicas=5)"
   ]
  },
  {
   "cell_type": "code",
   "execution_count": 31,
   "metadata": {},
   "outputs": [
    {
     "name": "stdout",
     "output_type": "stream",
     "text": [
      "6.65 s ± 58.5 ms per loop (mean ± std. dev. of 7 runs, 1 loop each)\n"
     ]
    }
   ],
   "source": [
    "%%timeit\n",
    "processed_frames_parallel = ProcessedFrame.from_video_parallel(fp, ocr_strategy, ocr_approval_strategy, num_replicas=2)"
   ]
  },
  {
   "cell_type": "code",
   "execution_count": 32,
   "metadata": {},
   "outputs": [
    {
     "name": "stdout",
     "output_type": "stream",
     "text": [
      "5.76 s ± 78.6 ms per loop (mean ± std. dev. of 7 runs, 1 loop each)\n"
     ]
    }
   ],
   "source": [
    "%%timeit\n",
    "processed_frames_parallel = ProcessedFrame.from_video_parallel(fp, ocr_strategy, ocr_approval_strategy, num_replicas=3)"
   ]
  },
  {
   "cell_type": "code",
   "execution_count": null,
   "metadata": {},
   "outputs": [],
   "source": []
  }
 ],
 "metadata": {
  "kernelspec": {
   "display_name": "base",
   "language": "python",
   "name": "python3"
  },
  "language_info": {
   "codemirror_mode": {
    "name": "ipython",
    "version": 3
   },
   "file_extension": ".py",
   "mimetype": "text/x-python",
   "name": "python",
   "nbconvert_exporter": "python",
   "pygments_lexer": "ipython3",
   "version": "3.12.2"
  }
 },
 "nbformat": 4,
 "nbformat_minor": 2
}
