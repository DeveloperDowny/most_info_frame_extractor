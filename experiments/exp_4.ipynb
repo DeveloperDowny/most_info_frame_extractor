{
 "cells": [
  {
   "cell_type": "code",
   "execution_count": 8,
   "metadata": {},
   "outputs": [
    {
     "name": "stdout",
     "output_type": "stream",
     "text": [
      "Hello, world!\n"
     ]
    }
   ],
   "source": [
    "import sys\n",
    "fp = \"/media/vedant/New Volume/DPythonProjects/yt_summarizer\"\n",
    "\n",
    "sys.path.insert(1, fp)   \n",
    "fp = \"/media/vedant/New Volume/DPythonProjects/yt_summarizer/v2\"\n",
    "\n",
    "sys.path.insert(1, fp)   \n",
    "\n",
    "from v2.helper import Helper\n",
    "\n",
    "Helper.log(\"Hello, world!\")\n"
   ]
  },
  {
   "cell_type": "code",
   "execution_count": 9,
   "metadata": {},
   "outputs": [],
   "source": [
    "from v2.key_moments_extraction_strategy import KeyMomentsExtractionStrategy"
   ]
  },
  {
   "cell_type": "code",
   "execution_count": 10,
   "metadata": {},
   "outputs": [],
   "source": [
    "from v2.processed_frame import ProcessedFrame"
   ]
  },
  {
   "cell_type": "code",
   "execution_count": 11,
   "metadata": {},
   "outputs": [],
   "source": [
    "base_dir = \"../v2/data/xlngxh\" \n",
    "directory = \"../v2/data/xlngxh_python_object\" \n",
    "import os\n",
    "\n",
    "os.listdir(directory)\n",
    "\n",
    "# directory + \"processed_frames.pkl\"\n",
    "processed_frames_path = os.path.join(directory, \"processed_frames.pkl\")"
   ]
  },
  {
   "cell_type": "code",
   "execution_count": 12,
   "metadata": {},
   "outputs": [],
   "source": [
    "processed_frames = Helper.load_python_object(processed_frames_path)"
   ]
  },
  {
   "cell_type": "code",
   "execution_count": 13,
   "metadata": {},
   "outputs": [
    {
     "data": {
      "text/plain": [
       "0"
      ]
     },
     "execution_count": 13,
     "metadata": {},
     "output_type": "execute_result"
    }
   ],
   "source": [
    "processed_frames[0].frame_number"
   ]
  },
  {
   "cell_type": "code",
   "execution_count": 14,
   "metadata": {},
   "outputs": [],
   "source": [
    "from v2.directory_manager import DirectoryManager"
   ]
  },
  {
   "cell_type": "code",
   "execution_count": 15,
   "metadata": {},
   "outputs": [],
   "source": [
    "extraction_strategy = KeyMomentsExtractionStrategy()\n",
    "extraction_strategy.video_url  = \"https://m.youtube.com/watch?v=s30sjjG12HY\"\n",
    "\n",
    "video_path = DirectoryManager.get_video_path(base_dir)\n",
    "extraction_strategy.frame_rate = Helper.get_frame_rate(video_path)"
   ]
  },
  {
   "cell_type": "code",
   "execution_count": 16,
   "metadata": {},
   "outputs": [],
   "source": [
    "final_frames = extraction_strategy.extract_frames(processed_frames)"
   ]
  },
  {
   "cell_type": "code",
   "execution_count": 17,
   "metadata": {},
   "outputs": [
    {
     "data": {
      "text/plain": [
       "[<processed_frame.ProcessedFrame at 0x7e301c168f80>,\n",
       " <processed_frame.ProcessedFrame at 0x7e300b7b7590>,\n",
       " <processed_frame.ProcessedFrame at 0x7e300b7b75c0>,\n",
       " <processed_frame.ProcessedFrame at 0x7e300b7b7560>,\n",
       " <processed_frame.ProcessedFrame at 0x7e300b7b7620>,\n",
       " <processed_frame.ProcessedFrame at 0x7e300b7b7650>,\n",
       " <processed_frame.ProcessedFrame at 0x7e300b7b75f0>,\n",
       " <processed_frame.ProcessedFrame at 0x7e300b7b76b0>,\n",
       " <processed_frame.ProcessedFrame at 0x7e300b7b7710>,\n",
       " <processed_frame.ProcessedFrame at 0x7e300b7b7680>,\n",
       " <processed_frame.ProcessedFrame at 0x7e300b7b7770>,\n",
       " <processed_frame.ProcessedFrame at 0x7e300b7b77a0>,\n",
       " <processed_frame.ProcessedFrame at 0x7e300b7b7740>,\n",
       " <processed_frame.ProcessedFrame at 0x7e300b7b7830>,\n",
       " <processed_frame.ProcessedFrame at 0x7e300b7b7860>,\n",
       " <processed_frame.ProcessedFrame at 0x7e300b7b77d0>,\n",
       " <processed_frame.ProcessedFrame at 0x7e300b7b78f0>,\n",
       " <processed_frame.ProcessedFrame at 0x7e300b7b7920>,\n",
       " <processed_frame.ProcessedFrame at 0x7e300b7b78c0>,\n",
       " <processed_frame.ProcessedFrame at 0x7e300b7b7980>,\n",
       " <processed_frame.ProcessedFrame at 0x7e300b7b79b0>,\n",
       " <processed_frame.ProcessedFrame at 0x7e300b7b7950>,\n",
       " <processed_frame.ProcessedFrame at 0x7e300b7b7a10>,\n",
       " <processed_frame.ProcessedFrame at 0x7e300b7b7a40>,\n",
       " <processed_frame.ProcessedFrame at 0x7e300b7b79e0>,\n",
       " <processed_frame.ProcessedFrame at 0x7e300b7b7aa0>,\n",
       " <processed_frame.ProcessedFrame at 0x7e300b7b7ad0>,\n",
       " <processed_frame.ProcessedFrame at 0x7e300b7b7a70>]"
      ]
     },
     "execution_count": 17,
     "metadata": {},
     "output_type": "execute_result"
    }
   ],
   "source": [
    "final_frames"
   ]
  },
  {
   "cell_type": "code",
   "execution_count": null,
   "metadata": {},
   "outputs": [],
   "source": []
  }
 ],
 "metadata": {
  "kernelspec": {
   "display_name": "base",
   "language": "python",
   "name": "python3"
  },
  "language_info": {
   "codemirror_mode": {
    "name": "ipython",
    "version": 3
   },
   "file_extension": ".py",
   "mimetype": "text/x-python",
   "name": "python",
   "nbconvert_exporter": "python",
   "pygments_lexer": "ipython3",
   "version": "3.12.2"
  }
 },
 "nbformat": 4,
 "nbformat_minor": 2
}
