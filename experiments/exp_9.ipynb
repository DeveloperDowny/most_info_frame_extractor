{
 "cells": [
  {
   "cell_type": "markdown",
   "metadata": {},
   "source": [
    "This experiment is to come up with a script to get random digestible chunk from a playlist for revision/learning.\n",
    "\n",
    "## Extensions\n",
    "\n",
    "- This could be extended to be used with the other project to mail yourself the digestible chunk daily for revision."
   ]
  },
  {
   "cell_type": "code",
   "execution_count": 2,
   "metadata": {},
   "outputs": [
    {
     "name": "stdout",
     "output_type": "stream",
     "text": [
      "Hello, world!\n"
     ]
    }
   ],
   "source": [
    "import sys\n",
    "fp = \"/media/vedant/New Volume/DPythonProjects/yt_summarizer\"\n",
    "\n",
    "sys.path.insert(1, fp)   \n",
    "fp = \"/media/vedant/New Volume/DPythonProjects/yt_summarizer/v2\"\n",
    "\n",
    "sys.path.insert(1, fp)   \n",
    "\n",
    "from v2.helper import Helper\n",
    "\n",
    "Helper.log(\"Hello, world!\")\n"
   ]
  },
  {
   "cell_type": "code",
   "execution_count": 3,
   "metadata": {},
   "outputs": [],
   "source": [
    "from utils.file_util import FileUtil"
   ]
  },
  {
   "cell_type": "code",
   "execution_count": 5,
   "metadata": {},
   "outputs": [
    {
     "data": {
      "text/plain": [
       "['data/ismtqg -> data/ismtqg/Environment and Development [Intro Video].mp4\\n',\n",
       " 'data/nsfulj -> data/nsfulj/Lec 1 Development Economic Growth and Sustainable Development.mp4\\n',\n",
       " 'data/kokqzu -> data/kokqzu/Lec 2 Basic Ecosystem Ecology.mp4\\n',\n",
       " 'data/dgpuox -> data/dgpuox/Lec 3 Environmentalism.mp4\\n',\n",
       " 'data/sumhcf -> data/sumhcf/Lec 4 Environmental movement.mp4\\n']"
      ]
     },
     "execution_count": 5,
     "metadata": {},
     "output_type": "execute_result"
    }
   ],
   "source": [
    "inputs = FileUtil.get_inputs(\"../v2/scripts/data/results.txt\")\n",
    "inputs[:5]"
   ]
  },
  {
   "cell_type": "code",
   "execution_count": 6,
   "metadata": {},
   "outputs": [],
   "source": [
    "from utils.text_util import TextUtil"
   ]
  },
  {
   "cell_type": "code",
   "execution_count": 9,
   "metadata": {},
   "outputs": [
    {
     "data": {
      "text/plain": [
       "('ismtqg', 'Environment and Development [Intro Video]')"
      ]
     },
     "execution_count": 9,
     "metadata": {},
     "output_type": "execute_result"
    }
   ],
   "source": [
    "directory, video_name = TextUtil.get_directory_and_video_name(inputs[0])\n",
    "directory, video_name"
   ]
  },
  {
   "cell_type": "code",
   "execution_count": 17,
   "metadata": {},
   "outputs": [],
   "source": [
    "base_dir = \"../data\""
   ]
  },
  {
   "cell_type": "code",
   "execution_count": 18,
   "metadata": {},
   "outputs": [
    {
     "data": {
      "text/plain": [
       "'../data/ismtqg_extracted_frames'"
      ]
     },
     "execution_count": 18,
     "metadata": {},
     "output_type": "execute_result"
    }
   ],
   "source": [
    "working_dir = f\"{base_dir}/{directory}_extracted_frames\"\n",
    "working_dir"
   ]
  },
  {
   "cell_type": "code",
   "execution_count": 19,
   "metadata": {},
   "outputs": [],
   "source": [
    "from file_frame import FileFrame"
   ]
  },
  {
   "cell_type": "code",
   "execution_count": 21,
   "metadata": {},
   "outputs": [
    {
     "data": {
      "text/plain": [
       "['frame_10944.jpg',\n",
       " 'frame_11304.jpg',\n",
       " 'frame_11520.jpg',\n",
       " 'frame_216.jpg',\n",
       " 'frame_360.jpg']"
      ]
     },
     "execution_count": 21,
     "metadata": {},
     "output_type": "execute_result"
    }
   ],
   "source": [
    "import os\n",
    "frames = os.listdir(working_dir)\n",
    "frames[:5]"
   ]
  },
  {
   "cell_type": "code",
   "execution_count": 22,
   "metadata": {},
   "outputs": [
    {
     "data": {
      "text/plain": [
       "'frame_216.jpg'"
      ]
     },
     "execution_count": 22,
     "metadata": {},
     "output_type": "execute_result"
    }
   ],
   "source": [
    "import random\n",
    "\n",
    "random_frame = random.choice(frames)\n",
    "random_frame"
   ]
  },
  {
   "cell_type": "code",
   "execution_count": 23,
   "metadata": {},
   "outputs": [
    {
     "data": {
      "text/plain": [
       "'fhh'"
      ]
     },
     "execution_count": 23,
     "metadata": {},
     "output_type": "execute_result"
    }
   ],
   "source": [
    "from random_generator import RandomGenerator\n",
    "\n",
    "new_directory = RandomGenerator.generate_random_word(3)\n",
    "new_directory"
   ]
  },
  {
   "cell_type": "code",
   "execution_count": 26,
   "metadata": {},
   "outputs": [],
   "source": [
    "from directory_manager import DirectoryManager\n",
    "\n",
    "DirectoryManager.create_directory(f\"data/{new_directory}\")\n"
   ]
  },
  {
   "cell_type": "code",
   "execution_count": 27,
   "metadata": {},
   "outputs": [
    {
     "data": {
      "text/plain": [
       "'data/fhh'"
      ]
     },
     "execution_count": 27,
     "metadata": {},
     "output_type": "execute_result"
    }
   ],
   "source": [
    "output_dir = f\"data/{new_directory}\"\n",
    "output_dir"
   ]
  },
  {
   "cell_type": "code",
   "execution_count": 28,
   "metadata": {},
   "outputs": [
    {
     "data": {
      "text/plain": [
       "'data/fhh/frame_216.jpg'"
      ]
     },
     "execution_count": 28,
     "metadata": {},
     "output_type": "execute_result"
    }
   ],
   "source": [
    "import shutil\n",
    "\n",
    "shutil.copy(f\"{working_dir}/{random_frame}\", output_dir)"
   ]
  },
  {
   "cell_type": "code",
   "execution_count": 35,
   "metadata": {},
   "outputs": [],
   "source": [
    "from random_generator import RandomGenerator\n",
    "from directory_manager import DirectoryManager\n",
    "from utils.file_util import FileUtil\n",
    "\n",
    "inputs = FileUtil.get_inputs(\"../v2/scripts/data/results.txt\")\n",
    "\n",
    "\n",
    "\n",
    "new_directory = RandomGenerator.generate_random_word(3)\n",
    "\n",
    "output_dir = f\"data/{new_directory}\"\n",
    "DirectoryManager.create_directory(output_dir) \n",
    "\n",
    "\n",
    "for input in inputs:\n",
    "    directory, video_name = TextUtil.get_directory_and_video_name(input)\n",
    "    working_dir = f\"{base_dir}/{directory}_extracted_frames\"\n",
    "    frames = os.listdir(working_dir)\n",
    "    random_frame = random.choice(frames)  \n",
    "    # shutil.copy(f\"{working_dir}/{random_frame}\", output_dir)\n",
    "    output_file_name = f\"{output_dir}/{video_name}.jpg\"\n",
    "    shutil.copy(f\"{working_dir}/{random_frame}\", output_file_name)"
   ]
  },
  {
   "cell_type": "code",
   "execution_count": null,
   "metadata": {},
   "outputs": [],
   "source": []
  }
 ],
 "metadata": {
  "kernelspec": {
   "display_name": "base",
   "language": "python",
   "name": "python3"
  },
  "language_info": {
   "codemirror_mode": {
    "name": "ipython",
    "version": 3
   },
   "file_extension": ".py",
   "mimetype": "text/x-python",
   "name": "python",
   "nbconvert_exporter": "python",
   "pygments_lexer": "ipython3",
   "version": "3.12.2"
  }
 },
 "nbformat": 4,
 "nbformat_minor": 2
}
