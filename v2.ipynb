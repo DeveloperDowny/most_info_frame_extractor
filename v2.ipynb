{
 "cells": [
  {
   "cell_type": "code",
   "execution_count": 1,
   "metadata": {},
   "outputs": [],
   "source": [
    "from yt_down import *\n",
    "\n",
    "import os"
   ]
  },
  {
   "cell_type": "code",
   "execution_count": 2,
   "metadata": {},
   "outputs": [],
   "source": [
    "out_dir = \"data\""
   ]
  },
  {
   "cell_type": "code",
   "execution_count": 4,
   "metadata": {},
   "outputs": [],
   "source": [
    "# download_youtube_video(\"https://www.youtube.com/watch?v=q_zyuPOd3PQ\", \"data\")"
   ]
  },
  {
   "cell_type": "code",
   "execution_count": 5,
   "metadata": {},
   "outputs": [],
   "source": [
    "fp = os.path.join(out_dir, \"v1.mp4\")"
   ]
  },
  {
   "cell_type": "code",
   "execution_count": 6,
   "metadata": {},
   "outputs": [],
   "source": [
    "# 2:27 se\n",
    "# 3:14 ka snap aana chahiye\n",
    "# 3:26 ka video clip karo"
   ]
  },
  {
   "cell_type": "code",
   "execution_count": 7,
   "metadata": {},
   "outputs": [],
   "source": [
    "import ffmpeg\n"
   ]
  },
  {
   "cell_type": "code",
   "execution_count": 9,
   "metadata": {},
   "outputs": [
    {
     "data": {
      "text/plain": [
       "(None, None)"
      ]
     },
     "execution_count": 9,
     "metadata": {},
     "output_type": "execute_result"
    }
   ],
   "source": [
    "\n",
    "start_time = '00:03:45' # Start time for trimming (HH:MM:SS)\n",
    "end_time = '00:10:00' # End time for trimming (HH:MM:SS)\n",
    "\n",
    "(\n",
    "\tffmpeg.input(\"data/v1.mp4\", ss=start_time, to=end_time)\n",
    "\t.output(\"data/v1_t5.mp4\")\n",
    "\t.run()\n",
    ")"
   ]
  },
  {
   "cell_type": "code",
   "execution_count": null,
   "metadata": {},
   "outputs": [],
   "source": [
    "# ocr code, run on every frame, if improvement in text, save that frame (overwrite). If no improvement, create new frame\n",
    "\n",
    "# How to define improvement, some content same as old content. We can do this. Blur the noise or remove it (like remove the cursor). Calculate point wise difference between previous frame. If information content is more in new frame, then save the new frame.\n",
    "\n",
    "# Brute force will be continuous ocr"
   ]
  },
  {
   "cell_type": "code",
   "execution_count": null,
   "metadata": {},
   "outputs": [],
   "source": [
    "from u1 import *"
   ]
  },
  {
   "cell_type": "code",
   "execution_count": null,
   "metadata": {},
   "outputs": [],
   "source": []
  }
 ],
 "metadata": {
  "kernelspec": {
   "display_name": "base",
   "language": "python",
   "name": "python3"
  },
  "language_info": {
   "codemirror_mode": {
    "name": "ipython",
    "version": 3
   },
   "file_extension": ".py",
   "mimetype": "text/x-python",
   "name": "python",
   "nbconvert_exporter": "python",
   "pygments_lexer": "ipython3",
   "version": "3.11.8"
  }
 },
 "nbformat": 4,
 "nbformat_minor": 2
}
