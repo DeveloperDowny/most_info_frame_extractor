{
 "cells": [
  {
   "metadata": {
    "ExecuteTime": {
     "end_time": "2025-05-21T16:55:04.235979Z",
     "start_time": "2025-05-21T16:55:04.233804Z"
    }
   },
   "cell_type": "code",
   "source": [
    "import subprocess\n",
    "\n",
    "import pandas as pd\n",
    "from pathlib import Path\n"
   ],
   "id": "9605b6710e1012d2",
   "outputs": [],
   "execution_count": 6
  },
  {
   "metadata": {
    "ExecuteTime": {
     "end_time": "2025-05-21T16:55:05.444527Z",
     "start_time": "2025-05-21T16:55:05.421272Z"
    }
   },
   "cell_type": "code",
   "source": [
    "\n",
    "reference_pdfs_folder_path = Path(r\"/home/vedant/Downloads/reference-pdfs-v1\")\n",
    "from video2pdf.utils.evaluation import get_pdf_files, build_pdf_files_df, clean_df\n",
    "\n",
    "# ---- Get pdf files from folder\n",
    "reference_pdf_files = get_pdf_files(reference_pdfs_folder_path)\n",
    "\n",
    "# ---- Build df for the pdf files\n",
    "# ---- Columns would be `internal_id`, `pdf_path`\n",
    "reference_pdf_files_df = build_pdf_files_df(reference_pdf_files)\n",
    "\n",
    "# ---- Clean df; drop duplicate pdfs for same internal_id\n",
    "reference_pdf_files_df = clean_df(reference_pdf_files_df)\n"
   ],
   "id": "cfab1b2f1341ee01",
   "outputs": [],
   "execution_count": 7
  },
  {
   "metadata": {
    "ExecuteTime": {
     "end_time": "2025-05-21T16:55:07.508421Z",
     "start_time": "2025-05-21T16:55:07.505916Z"
    }
   },
   "cell_type": "code",
   "source": [
    "\n",
    "input_file = \"/home/vedant/Desktop/glimpsify/most_info_frame_extractor/experiments/27/ref_timestamps_with_internal_id.csv\"\n"
   ],
   "id": "3fff1f1ec106e021",
   "outputs": [],
   "execution_count": 8
  },
  {
   "metadata": {
    "ExecuteTime": {
     "end_time": "2025-05-21T16:55:11.298415Z",
     "start_time": "2025-05-21T16:55:11.293775Z"
    }
   },
   "cell_type": "code",
   "source": [
    "df = pd.read_csv(input_file)\n",
    "df.shape"
   ],
   "id": "635698b065b77088",
   "outputs": [
    {
     "data": {
      "text/plain": [
       "(120, 4)"
      ]
     },
     "execution_count": 9,
     "metadata": {},
     "output_type": "execute_result"
    }
   ],
   "execution_count": 9
  },
  {
   "metadata": {
    "ExecuteTime": {
     "end_time": "2025-05-21T16:55:12.273029Z",
     "start_time": "2025-05-21T16:55:12.267963Z"
    }
   },
   "cell_type": "code",
   "source": "df.head()",
   "id": "53626c71245746cc",
   "outputs": [
    {
     "data": {
      "text/plain": [
       "  internal_id     video_id                                         video_name  \\\n",
       "0      mhhqzg  _BvFr9HEiQg  Human Biology Lecture: Chapter 18- Reproductio...   \n",
       "1      yaldqc  _e_B8rTl_rU  Pediatric Dentistry | Developmental Disturbanc...   \n",
       "2      znavfo  1gB90u2JOYg   Head & Neck Anatomy | Cranial Nerves | INBDE.mp4   \n",
       "3      aqqzpy  2No3_SGYWhk  Prosthodontics | Mandibular Edentulous Anatomy...   \n",
       "4      sdcniw  2RkiPyrUxw8     Periodontics | Local Factors | INBDE, ADAT.mp4   \n",
       "\n",
       "                                          timestamps  \n",
       "0  [24.961, 70.2913, 107.3214, 145.5609, 187.3366...  \n",
       "1  [32.3223, 48.3223, 95.8223, 258.6495, 273.6494...  \n",
       "2  [19.1948, 290.0761, 361.9277, 607.3729, 684.87...  \n",
       "3  [19.3056, 164.3056, 249.3056, 382.3056, 490.80...  \n",
       "4  [21.7656, 206.4182, 236.9182, 390.9182, 470.91...  "
      ],
      "text/html": [
       "<div>\n",
       "<style scoped>\n",
       "    .dataframe tbody tr th:only-of-type {\n",
       "        vertical-align: middle;\n",
       "    }\n",
       "\n",
       "    .dataframe tbody tr th {\n",
       "        vertical-align: top;\n",
       "    }\n",
       "\n",
       "    .dataframe thead th {\n",
       "        text-align: right;\n",
       "    }\n",
       "</style>\n",
       "<table border=\"1\" class=\"dataframe\">\n",
       "  <thead>\n",
       "    <tr style=\"text-align: right;\">\n",
       "      <th></th>\n",
       "      <th>internal_id</th>\n",
       "      <th>video_id</th>\n",
       "      <th>video_name</th>\n",
       "      <th>timestamps</th>\n",
       "    </tr>\n",
       "  </thead>\n",
       "  <tbody>\n",
       "    <tr>\n",
       "      <th>0</th>\n",
       "      <td>mhhqzg</td>\n",
       "      <td>_BvFr9HEiQg</td>\n",
       "      <td>Human Biology Lecture: Chapter 18- Reproductio...</td>\n",
       "      <td>[24.961, 70.2913, 107.3214, 145.5609, 187.3366...</td>\n",
       "    </tr>\n",
       "    <tr>\n",
       "      <th>1</th>\n",
       "      <td>yaldqc</td>\n",
       "      <td>_e_B8rTl_rU</td>\n",
       "      <td>Pediatric Dentistry | Developmental Disturbanc...</td>\n",
       "      <td>[32.3223, 48.3223, 95.8223, 258.6495, 273.6494...</td>\n",
       "    </tr>\n",
       "    <tr>\n",
       "      <th>2</th>\n",
       "      <td>znavfo</td>\n",
       "      <td>1gB90u2JOYg</td>\n",
       "      <td>Head &amp; Neck Anatomy | Cranial Nerves | INBDE.mp4</td>\n",
       "      <td>[19.1948, 290.0761, 361.9277, 607.3729, 684.87...</td>\n",
       "    </tr>\n",
       "    <tr>\n",
       "      <th>3</th>\n",
       "      <td>aqqzpy</td>\n",
       "      <td>2No3_SGYWhk</td>\n",
       "      <td>Prosthodontics | Mandibular Edentulous Anatomy...</td>\n",
       "      <td>[19.3056, 164.3056, 249.3056, 382.3056, 490.80...</td>\n",
       "    </tr>\n",
       "    <tr>\n",
       "      <th>4</th>\n",
       "      <td>sdcniw</td>\n",
       "      <td>2RkiPyrUxw8</td>\n",
       "      <td>Periodontics | Local Factors | INBDE, ADAT.mp4</td>\n",
       "      <td>[21.7656, 206.4182, 236.9182, 390.9182, 470.91...</td>\n",
       "    </tr>\n",
       "  </tbody>\n",
       "</table>\n",
       "</div>"
      ]
     },
     "execution_count": 10,
     "metadata": {},
     "output_type": "execute_result"
    }
   ],
   "execution_count": 10
  },
  {
   "metadata": {
    "ExecuteTime": {
     "end_time": "2025-05-21T16:55:14.995593Z",
     "start_time": "2025-05-21T16:55:14.991130Z"
    }
   },
   "cell_type": "code",
   "source": [
    "df = df[df[\"internal_id\"].isin(reference_pdf_files_df[\"internal_id\"])]\n",
    "df.shape\n"
   ],
   "id": "36897eaedde0c7b1",
   "outputs": [
    {
     "data": {
      "text/plain": [
       "(91, 4)"
      ]
     },
     "execution_count": 11,
     "metadata": {},
     "output_type": "execute_result"
    }
   ],
   "execution_count": 11
  },
  {
   "metadata": {
    "ExecuteTime": {
     "end_time": "2025-05-21T17:11:48.219641Z",
     "start_time": "2025-05-21T17:11:48.216365Z"
    }
   },
   "cell_type": "code",
   "source": [
    "for t in eval(df[df[\"internal_id\"] == \"ruweka\"].iloc[0][\"timestamps\"]):\n",
    "    print(t)\n",
    "    print(\"https://www.youtube.com/watch?v=GxHsvxywvtE\",\"&t=\",round(t),sep=\"\")"
   ],
   "id": "5c33066aaf82d316",
   "outputs": [
    {
     "name": "stdout",
     "output_type": "stream",
     "text": [
      "36.2316\n",
      "https://www.youtube.com/watch?v=GxHsvxywvtE&t=36\n",
      "41.7316\n",
      "https://www.youtube.com/watch?v=GxHsvxywvtE&t=42\n",
      "70.2316\n",
      "https://www.youtube.com/watch?v=GxHsvxywvtE&t=70\n",
      "105.2316\n",
      "https://www.youtube.com/watch?v=GxHsvxywvtE&t=105\n",
      "133.2316\n",
      "https://www.youtube.com/watch?v=GxHsvxywvtE&t=133\n",
      "192.7316\n",
      "https://www.youtube.com/watch?v=GxHsvxywvtE&t=193\n",
      "226.2316\n",
      "https://www.youtube.com/watch?v=GxHsvxywvtE&t=226\n",
      "255.7315\n",
      "https://www.youtube.com/watch?v=GxHsvxywvtE&t=256\n",
      "329.7315\n",
      "https://www.youtube.com/watch?v=GxHsvxywvtE&t=330\n",
      "384.2315\n",
      "https://www.youtube.com/watch?v=GxHsvxywvtE&t=384\n",
      "399.2315\n",
      "https://www.youtube.com/watch?v=GxHsvxywvtE&t=399\n",
      "503.2315\n",
      "https://www.youtube.com/watch?v=GxHsvxywvtE&t=503\n",
      "627.7315\n",
      "https://www.youtube.com/watch?v=GxHsvxywvtE&t=628\n"
     ]
    }
   ],
   "execution_count": 22
  },
  {
   "metadata": {
    "ExecuteTime": {
     "end_time": "2025-05-21T16:57:15.401972Z",
     "start_time": "2025-05-21T16:57:15.398696Z"
    }
   },
   "cell_type": "code",
   "source": "df.columns",
   "id": "321da02efc928d17",
   "outputs": [
    {
     "data": {
      "text/plain": [
       "Index(['internal_id', 'video_id', 'video_name', 'timestamps'], dtype='object')"
      ]
     },
     "execution_count": 13,
     "metadata": {},
     "output_type": "execute_result"
    }
   ],
   "execution_count": 13
  },
  {
   "metadata": {
    "ExecuteTime": {
     "end_time": "2025-05-21T16:57:20.760238Z",
     "start_time": "2025-05-21T16:57:20.754749Z"
    }
   },
   "cell_type": "code",
   "source": [
    "from video2pdf.utils.constants import BASE_DIR\n",
    "\n",
    "picke_inputs = list(Path(BASE_DIR).glob(\"*_python_object\"))\n",
    "picke_inputs[:5]"
   ],
   "id": "e42dacfcd7d87e30",
   "outputs": [
    {
     "data": {
      "text/plain": [
       "[PosixPath('/home/vedant/Desktop/glimpsify/most_info_frame_extractor/video2pdf/archives/data_archive_50_python_objects_all_dirs_phash_approval_strategy_v3/mfewuh_qkh_python_object'),\n",
       " PosixPath('/home/vedant/Desktop/glimpsify/most_info_frame_extractor/video2pdf/archives/data_archive_50_python_objects_all_dirs_phash_approval_strategy_v3/tabwoi_utc_python_object'),\n",
       " PosixPath('/home/vedant/Desktop/glimpsify/most_info_frame_extractor/video2pdf/archives/data_archive_50_python_objects_all_dirs_phash_approval_strategy_v3/dtwoem_nzp_python_object'),\n",
       " PosixPath('/home/vedant/Desktop/glimpsify/most_info_frame_extractor/video2pdf/archives/data_archive_50_python_objects_all_dirs_phash_approval_strategy_v3/xfzngr_gja_python_object'),\n",
       " PosixPath('/home/vedant/Desktop/glimpsify/most_info_frame_extractor/video2pdf/archives/data_archive_50_python_objects_all_dirs_phash_approval_strategy_v3/sosjvp_quh_python_object')]"
      ]
     },
     "execution_count": 14,
     "metadata": {},
     "output_type": "execute_result"
    }
   ],
   "execution_count": 14
  },
  {
   "metadata": {
    "ExecuteTime": {
     "end_time": "2025-05-21T16:57:42.139731Z",
     "start_time": "2025-05-21T16:57:42.136357Z"
    }
   },
   "cell_type": "code",
   "source": [
    "from typing import List\n",
    "\n",
    "\n",
    "def get_pickle_input(internal_id, picke_inputs: List[Path]):\n",
    "    picke_input = [i.name for i in picke_inputs if internal_id in i.name]\n",
    "    return picke_input[0]\n",
    "\n",
    "get_pickle_input(\"adwxvg\", picke_inputs)"
   ],
   "id": "960900dbaca8fa23",
   "outputs": [
    {
     "data": {
      "text/plain": [
       "'adwxvg_gdu_python_object'"
      ]
     },
     "execution_count": 15,
     "metadata": {},
     "output_type": "execute_result"
    }
   ],
   "execution_count": 15
  },
  {
   "cell_type": "code",
   "id": "da2be4714f073596",
   "metadata": {
    "ExecuteTime": {
     "end_time": "2025-05-21T17:02:35.042912Z",
     "start_time": "2025-05-21T16:58:13.933112Z"
    }
   },
   "source": [
    "for internal_id,_,_,timestamps in df.values:\n",
    "    timestamps = eval(timestamps)\n",
    "    # timestamps = str(timestamps)\n",
    "    timestamps = list(map(str, timestamps))\n",
    "    timestamps = f\"{(','.join(timestamps))}\"\n",
    "    if len(internal_id) != 6:\n",
    "        continue\n",
    "    try:\n",
    "        pickle_input = get_pickle_input(internal_id, picke_inputs)\n",
    "        args = [\n",
    "            \"python\", \"/home/vedant/Desktop/glimpsify/most_info_frame_extractor/video2pdf/main.py\",\n",
    "            \"--input=pickle\",\n",
    "            f\"--dir={pickle_input}\",\n",
    "            \"--ocr=tesseract\",\n",
    "            \"--extraction=timestamps\",\n",
    "            f'--timestamps',\n",
    "            timestamps,\n",
    "            '--ocr_approval=reject_all'\n",
    "        ]\n",
    "        subprocess.run(\n",
    "            args\n",
    "        )\n",
    "    except:\n",
    "        print(\"Exception occurred for: \", internal_id)"
   ],
   "outputs": [
    {
     "name": "stderr",
     "output_type": "stream",
     "text": [
      "Traceback (most recent call last):\n",
      "  File \"/home/vedant/Desktop/glimpsify/most_info_frame_extractor/video2pdf/main.py\", line 113, in <module>\n",
      "    main()\n",
      "  File \"/home/vedant/Desktop/glimpsify/most_info_frame_extractor/video2pdf/main.py\", line 103, in main\n",
      "    directory = input_strategy.process()\n",
      "                ^^^^^^^^^^^^^^^^^^^^^^^^\n",
      "  File \"/home/vedant/Desktop/glimpsify/most_info_frame_extractor/video2pdf/input_strategy/base.py\", line 78, in process\n",
      "    output_dir = self.save_frames(extracted_frames)\n",
      "                 ^^^^^^^^^^^^^^^^^^^^^^^^^^^^^^^^^^\n",
      "  File \"/home/vedant/Desktop/glimpsify/most_info_frame_extractor/video2pdf/input_strategy/base.py\", line 148, in save_frames\n",
      "    Helper.save_extracted_frames(\n",
      "  File \"/home/vedant/Desktop/glimpsify/most_info_frame_extractor/video2pdf/utils/helper.py\", line 69, in save_extracted_frames\n",
      "    cv2.imwrite(frame_output_path, frame)\n",
      "cv2.error: OpenCV(4.10.0) /io/opencv/modules/imgcodecs/src/loadsave.cpp:798: error: (-215:Assertion failed) !_img.empty() in function 'imwrite'\n",
      "\n"
     ]
    },
    {
     "name": "stdout",
     "output_type": "stream",
     "text": [
      "Exception occurred for:  cxqeox\n",
      "Exception occurred for:  vqesbr\n",
      "Exception occurred for:  qrxowj\n",
      "Exception occurred for:  pldnrz\n",
      "Exception occurred for:  aryrsb\n",
      "Exception occurred for:  aryrsb\n"
     ]
    }
   ],
   "execution_count": 16
  },
  {
   "metadata": {
    "ExecuteTime": {
     "end_time": "2025-05-11T08:33:36.656997172Z",
     "start_time": "2025-05-11T05:44:01.496993Z"
    }
   },
   "cell_type": "code",
   "source": "",
   "id": "2f5258a7008a7d4f",
   "outputs": [],
   "execution_count": null
  },
  {
   "metadata": {
    "ExecuteTime": {
     "end_time": "2025-05-11T08:33:36.661565039Z",
     "start_time": "2025-05-11T05:44:01.542699Z"
    }
   },
   "cell_type": "code",
   "source": [
    "\n",
    "    dir = \"/home/vedant/Desktop/glimpsify/most_info_frame_extractor/video2pdf/data\"\n"
   ],
   "id": "initial_id",
   "outputs": [],
   "execution_count": 30
  }
 ],
 "metadata": {
  "kernelspec": {
   "display_name": "Python 3",
   "language": "python",
   "name": "python3"
  },
  "language_info": {
   "codemirror_mode": {
    "name": "ipython",
    "version": 2
   },
   "file_extension": ".py",
   "mimetype": "text/x-python",
   "name": "python",
   "nbconvert_exporter": "python",
   "pygments_lexer": "ipython2",
   "version": "2.7.6"
  }
 },
 "nbformat": 4,
 "nbformat_minor": 5
}
