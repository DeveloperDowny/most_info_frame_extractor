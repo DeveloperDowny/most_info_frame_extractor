{
 "cells": [
  {
   "metadata": {
    "ExecuteTime": {
     "end_time": "2025-05-17T13:01:35.029195Z",
     "start_time": "2025-05-17T13:01:34.844418Z"
    }
   },
   "cell_type": "code",
   "source": [
    "import subprocess\n",
    "\n",
    "import pandas as pd\n",
    "from pathlib import Path\n"
   ],
   "id": "9605b6710e1012d2",
   "outputs": [],
   "execution_count": 2
  },
  {
   "metadata": {
    "ExecuteTime": {
     "end_time": "2025-05-17T13:01:36.603921Z",
     "start_time": "2025-05-17T13:01:36.561425Z"
    }
   },
   "cell_type": "code",
   "source": [
    "\n",
    "reference_pdfs_folder_path = Path(r\"/home/vedant/Downloads/reference-pdfs-v1\")\n",
    "from video2pdf.utils.evaluation import get_pdf_files, build_pdf_files_df, clean_df\n",
    "\n",
    "# ---- Get pdf files from folder\n",
    "reference_pdf_files = get_pdf_files(reference_pdfs_folder_path)\n",
    "\n",
    "# ---- Build df for the pdf files\n",
    "# ---- Columns would be `internal_id`, `pdf_path`\n",
    "reference_pdf_files_df = build_pdf_files_df(reference_pdf_files)\n",
    "\n",
    "# ---- Clean df; drop duplicate pdfs for same internal_id\n",
    "reference_pdf_files_df = clean_df(reference_pdf_files_df)\n"
   ],
   "id": "cfab1b2f1341ee01",
   "outputs": [],
   "execution_count": 3
  },
  {
   "metadata": {
    "ExecuteTime": {
     "end_time": "2025-05-17T13:01:39.308046Z",
     "start_time": "2025-05-17T13:01:39.302813Z"
    }
   },
   "cell_type": "code",
   "source": [
    "\n",
    "input_file = \"/home/vedant/Desktop/glimpsify/most_info_frame_extractor/experiments/27/ref_timestamps_with_internal_id.csv\"\n"
   ],
   "id": "3fff1f1ec106e021",
   "outputs": [],
   "execution_count": 4
  },
  {
   "metadata": {
    "ExecuteTime": {
     "end_time": "2025-05-17T13:01:42.716776Z",
     "start_time": "2025-05-17T13:01:42.705508Z"
    }
   },
   "cell_type": "code",
   "source": [
    "df = pd.read_csv(input_file)\n",
    "df.shape"
   ],
   "id": "635698b065b77088",
   "outputs": [
    {
     "data": {
      "text/plain": [
       "(120, 4)"
      ]
     },
     "execution_count": 5,
     "metadata": {},
     "output_type": "execute_result"
    }
   ],
   "execution_count": 5
  },
  {
   "metadata": {
    "ExecuteTime": {
     "end_time": "2025-05-17T13:01:46.601316Z",
     "start_time": "2025-05-17T13:01:46.591657Z"
    }
   },
   "cell_type": "code",
   "source": [
    "df = df[df[\"internal_id\"].isin(reference_pdf_files_df[\"internal_id\"])]\n",
    "df.shape\n"
   ],
   "id": "36897eaedde0c7b1",
   "outputs": [
    {
     "data": {
      "text/plain": [
       "(91, 4)"
      ]
     },
     "execution_count": 6,
     "metadata": {},
     "output_type": "execute_result"
    }
   ],
   "execution_count": 6
  },
  {
   "metadata": {
    "ExecuteTime": {
     "end_time": "2025-05-17T13:01:48.363036Z",
     "start_time": "2025-05-17T13:01:48.360151Z"
    }
   },
   "cell_type": "code",
   "source": "df.columns",
   "id": "321da02efc928d17",
   "outputs": [
    {
     "data": {
      "text/plain": [
       "Index(['internal_id', 'video_id', 'video_name', 'timestamps'], dtype='object')"
      ]
     },
     "execution_count": 7,
     "metadata": {},
     "output_type": "execute_result"
    }
   ],
   "execution_count": 7
  },
  {
   "metadata": {
    "ExecuteTime": {
     "end_time": "2025-05-17T13:07:05.885088Z",
     "start_time": "2025-05-17T13:07:05.879107Z"
    }
   },
   "cell_type": "code",
   "source": [
    "from video2pdf.utils.constants import BASE_DIR\n",
    "\n",
    "picke_inputs = list(Path(BASE_DIR).glob(\"*_python_object\"))"
   ],
   "id": "e42dacfcd7d87e30",
   "outputs": [],
   "execution_count": 12
  },
  {
   "metadata": {
    "ExecuteTime": {
     "end_time": "2025-05-17T13:07:09.152924Z",
     "start_time": "2025-05-17T13:07:09.148833Z"
    }
   },
   "cell_type": "code",
   "source": [
    "from typing import List\n",
    "\n",
    "\n",
    "def get_pickle_input(internal_id, picke_inputs: List[Path]):\n",
    "    picke_input = [i.name for i in picke_inputs if internal_id in i.name]\n",
    "    return picke_input[0]\n",
    "\n",
    "get_pickle_input(\"adwxvg\", picke_inputs)"
   ],
   "id": "960900dbaca8fa23",
   "outputs": [
    {
     "data": {
      "text/plain": [
       "'adwxvg_oua_python_object'"
      ]
     },
     "execution_count": 13,
     "metadata": {},
     "output_type": "execute_result"
    }
   ],
   "execution_count": 13
  },
  {
   "cell_type": "code",
   "id": "da2be4714f073596",
   "metadata": {
    "ExecuteTime": {
     "end_time": "2025-05-17T13:14:19.789750Z",
     "start_time": "2025-05-17T13:09:33.965645Z"
    }
   },
   "source": [
    "for internal_id,_,_,timestamps in df.values:\n",
    "    timestamps = eval(timestamps)\n",
    "    # timestamps = str(timestamps)\n",
    "    timestamps = list(map(str, timestamps))\n",
    "    timestamps = f\"{(','.join(timestamps))}\"\n",
    "    if len(internal_id) != 6:\n",
    "        continue\n",
    "    try:\n",
    "        pickle_input = get_pickle_input(internal_id, picke_inputs)\n",
    "        args = [\n",
    "            \"python\", \"/home/vedant/Desktop/glimpsify/most_info_frame_extractor/video2pdf/main.py\",\n",
    "            \"--input=pickle\",\n",
    "            f\"--dir={pickle_input}\",\n",
    "            \"--ocr=tesseract\",\n",
    "            \"--extraction=timestamps\",\n",
    "            f'--timestamps',\n",
    "            timestamps,\n",
    "            '--ocr_approval=reject_all'\n",
    "        ]\n",
    "        subprocess.run(\n",
    "            args\n",
    "        )\n",
    "    except:\n",
    "        print(\"Exception occurred for: \", internal_id)"
   ],
   "outputs": [
    {
     "name": "stderr",
     "output_type": "stream",
     "text": [
      "Traceback (most recent call last):\n",
      "  File \"/home/vedant/Desktop/glimpsify/most_info_frame_extractor/video2pdf/main.py\", line 119, in <module>\n",
      "    main()\n",
      "  File \"/home/vedant/Desktop/glimpsify/most_info_frame_extractor/video2pdf/main.py\", line 109, in main\n",
      "    directory = input_strategy.process()\n",
      "                ^^^^^^^^^^^^^^^^^^^^^^^^\n",
      "  File \"/home/vedant/Desktop/glimpsify/most_info_frame_extractor/video2pdf/input_strategy/base.py\", line 75, in process\n",
      "    output_dir = self.save_frames(extracted_frames)\n",
      "                 ^^^^^^^^^^^^^^^^^^^^^^^^^^^^^^^^^^\n",
      "  File \"/home/vedant/Desktop/glimpsify/most_info_frame_extractor/video2pdf/input_strategy/base.py\", line 145, in save_frames\n",
      "    Helper.save_extracted_frames(\n",
      "  File \"/home/vedant/Desktop/glimpsify/most_info_frame_extractor/video2pdf/utils/helper.py\", line 67, in save_extracted_frames\n",
      "    cv2.imwrite(frame_output_path, frame)\n",
      "cv2.error: OpenCV(4.10.0) /io/opencv/modules/imgcodecs/src/loadsave.cpp:798: error: (-215:Assertion failed) !_img.empty() in function 'imwrite'\n",
      "\n",
      "Traceback (most recent call last):\n",
      "  File \"/home/vedant/Desktop/glimpsify/most_info_frame_extractor/video2pdf/main.py\", line 119, in <module>\n",
      "    main()\n",
      "  File \"/home/vedant/Desktop/glimpsify/most_info_frame_extractor/video2pdf/main.py\", line 109, in main\n",
      "    directory = input_strategy.process()\n",
      "                ^^^^^^^^^^^^^^^^^^^^^^^^\n",
      "  File \"/home/vedant/Desktop/glimpsify/most_info_frame_extractor/video2pdf/input_strategy/base.py\", line 44, in process\n",
      "    frames = self.get_frames()\n",
      "             ^^^^^^^^^^^^^^^^^\n",
      "  File \"/home/vedant/Desktop/glimpsify/most_info_frame_extractor/video2pdf/input_strategy/pickle.py\", line 30, in get_frames\n",
      "    processed_frames = Helper.load_python_object(python_object_path)\n",
      "                       ^^^^^^^^^^^^^^^^^^^^^^^^^^^^^^^^^^^^^^^^^^^^^\n",
      "  File \"/home/vedant/Desktop/glimpsify/most_info_frame_extractor/video2pdf/utils/helper.py\", line 112, in load_python_object\n",
      "    return pickle.load(f)\n",
      "           ^^^^^^^^^^^^^^\n",
      "ModuleNotFoundError: No module named 'processed_frame'\n",
      "Traceback (most recent call last):\n",
      "  File \"/home/vedant/Desktop/glimpsify/most_info_frame_extractor/video2pdf/main.py\", line 119, in <module>\n",
      "    main()\n",
      "  File \"/home/vedant/Desktop/glimpsify/most_info_frame_extractor/video2pdf/main.py\", line 109, in main\n",
      "    directory = input_strategy.process()\n",
      "                ^^^^^^^^^^^^^^^^^^^^^^^^\n",
      "  File \"/home/vedant/Desktop/glimpsify/most_info_frame_extractor/video2pdf/input_strategy/base.py\", line 44, in process\n",
      "    frames = self.get_frames()\n",
      "             ^^^^^^^^^^^^^^^^^\n",
      "  File \"/home/vedant/Desktop/glimpsify/most_info_frame_extractor/video2pdf/input_strategy/pickle.py\", line 30, in get_frames\n",
      "    processed_frames = Helper.load_python_object(python_object_path)\n",
      "                       ^^^^^^^^^^^^^^^^^^^^^^^^^^^^^^^^^^^^^^^^^^^^^\n",
      "  File \"/home/vedant/Desktop/glimpsify/most_info_frame_extractor/video2pdf/utils/helper.py\", line 112, in load_python_object\n",
      "    return pickle.load(f)\n",
      "           ^^^^^^^^^^^^^^\n",
      "ModuleNotFoundError: No module named 'processed_frame'\n"
     ]
    }
   ],
   "execution_count": 16
  },
  {
   "metadata": {
    "ExecuteTime": {
     "end_time": "2025-05-11T08:33:36.656997172Z",
     "start_time": "2025-05-11T05:44:01.496993Z"
    }
   },
   "cell_type": "code",
   "source": "",
   "id": "2f5258a7008a7d4f",
   "outputs": [],
   "execution_count": null
  },
  {
   "metadata": {
    "ExecuteTime": {
     "end_time": "2025-05-11T08:33:36.661565039Z",
     "start_time": "2025-05-11T05:44:01.542699Z"
    }
   },
   "cell_type": "code",
   "source": [
    "\n",
    "    dir = \"/home/vedant/Desktop/glimpsify/most_info_frame_extractor/video2pdf/data\"\n"
   ],
   "id": "initial_id",
   "outputs": [],
   "execution_count": 30
  }
 ],
 "metadata": {
  "kernelspec": {
   "display_name": "Python 3",
   "language": "python",
   "name": "python3"
  },
  "language_info": {
   "codemirror_mode": {
    "name": "ipython",
    "version": 2
   },
   "file_extension": ".py",
   "mimetype": "text/x-python",
   "name": "python",
   "nbconvert_exporter": "python",
   "pygments_lexer": "ipython2",
   "version": "2.7.6"
  }
 },
 "nbformat": 4,
 "nbformat_minor": 5
}
