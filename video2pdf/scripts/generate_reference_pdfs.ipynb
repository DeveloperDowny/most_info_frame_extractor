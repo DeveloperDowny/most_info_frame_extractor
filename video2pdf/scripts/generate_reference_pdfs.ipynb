{
 "cells": [
  {
   "metadata": {
    "ExecuteTime": {
     "end_time": "2025-05-11T08:33:54.595268Z",
     "start_time": "2025-05-11T08:33:54.342244Z"
    }
   },
   "cell_type": "code",
   "source": [
    "import subprocess\n",
    "\n",
    "import pandas as pd"
   ],
   "id": "9605b6710e1012d2",
   "outputs": [],
   "execution_count": 1
  },
  {
   "metadata": {
    "ExecuteTime": {
     "end_time": "2025-05-11T08:33:54.663443Z",
     "start_time": "2025-05-11T08:33:54.661826Z"
    }
   },
   "cell_type": "code",
   "source": [
    "\n",
    "input_file = \"/home/vedant/Desktop/glimpsify/most_info_frame_extractor/experiments/27/ref_timestamps_with_internal_id.csv\"\n"
   ],
   "id": "3fff1f1ec106e021",
   "outputs": [],
   "execution_count": 2
  },
  {
   "metadata": {
    "ExecuteTime": {
     "end_time": "2025-05-11T08:33:54.732043Z",
     "start_time": "2025-05-11T08:33:54.721578Z"
    }
   },
   "cell_type": "code",
   "source": [
    "df = pd.read_csv(input_file)\n",
    "df.head()\n"
   ],
   "id": "36897eaedde0c7b1",
   "outputs": [
    {
     "data": {
      "text/plain": [
       "  internal_id     video_id                                         video_name  \\\n",
       "0      mhhqzg  _BvFr9HEiQg  Human Biology Lecture: Chapter 18- Reproductio...   \n",
       "1      yaldqc  _e_B8rTl_rU  Pediatric Dentistry | Developmental Disturbanc...   \n",
       "2      znavfo  1gB90u2JOYg   Head & Neck Anatomy | Cranial Nerves | INBDE.mp4   \n",
       "3      aqqzpy  2No3_SGYWhk  Prosthodontics | Mandibular Edentulous Anatomy...   \n",
       "4      sdcniw  2RkiPyrUxw8     Periodontics | Local Factors | INBDE, ADAT.mp4   \n",
       "\n",
       "                                          timestamps  \n",
       "0  [24.961, 70.2913, 107.3214, 145.5609, 187.3366...  \n",
       "1  [32.3223, 48.3223, 95.8223, 258.6495, 273.6494...  \n",
       "2  [19.1948, 290.0761, 361.9277, 607.3729, 684.87...  \n",
       "3  [19.3056, 164.3056, 249.3056, 382.3056, 490.80...  \n",
       "4  [21.7656, 206.4182, 236.9182, 390.9182, 470.91...  "
      ],
      "text/html": [
       "<div>\n",
       "<style scoped>\n",
       "    .dataframe tbody tr th:only-of-type {\n",
       "        vertical-align: middle;\n",
       "    }\n",
       "\n",
       "    .dataframe tbody tr th {\n",
       "        vertical-align: top;\n",
       "    }\n",
       "\n",
       "    .dataframe thead th {\n",
       "        text-align: right;\n",
       "    }\n",
       "</style>\n",
       "<table border=\"1\" class=\"dataframe\">\n",
       "  <thead>\n",
       "    <tr style=\"text-align: right;\">\n",
       "      <th></th>\n",
       "      <th>internal_id</th>\n",
       "      <th>video_id</th>\n",
       "      <th>video_name</th>\n",
       "      <th>timestamps</th>\n",
       "    </tr>\n",
       "  </thead>\n",
       "  <tbody>\n",
       "    <tr>\n",
       "      <th>0</th>\n",
       "      <td>mhhqzg</td>\n",
       "      <td>_BvFr9HEiQg</td>\n",
       "      <td>Human Biology Lecture: Chapter 18- Reproductio...</td>\n",
       "      <td>[24.961, 70.2913, 107.3214, 145.5609, 187.3366...</td>\n",
       "    </tr>\n",
       "    <tr>\n",
       "      <th>1</th>\n",
       "      <td>yaldqc</td>\n",
       "      <td>_e_B8rTl_rU</td>\n",
       "      <td>Pediatric Dentistry | Developmental Disturbanc...</td>\n",
       "      <td>[32.3223, 48.3223, 95.8223, 258.6495, 273.6494...</td>\n",
       "    </tr>\n",
       "    <tr>\n",
       "      <th>2</th>\n",
       "      <td>znavfo</td>\n",
       "      <td>1gB90u2JOYg</td>\n",
       "      <td>Head &amp; Neck Anatomy | Cranial Nerves | INBDE.mp4</td>\n",
       "      <td>[19.1948, 290.0761, 361.9277, 607.3729, 684.87...</td>\n",
       "    </tr>\n",
       "    <tr>\n",
       "      <th>3</th>\n",
       "      <td>aqqzpy</td>\n",
       "      <td>2No3_SGYWhk</td>\n",
       "      <td>Prosthodontics | Mandibular Edentulous Anatomy...</td>\n",
       "      <td>[19.3056, 164.3056, 249.3056, 382.3056, 490.80...</td>\n",
       "    </tr>\n",
       "    <tr>\n",
       "      <th>4</th>\n",
       "      <td>sdcniw</td>\n",
       "      <td>2RkiPyrUxw8</td>\n",
       "      <td>Periodontics | Local Factors | INBDE, ADAT.mp4</td>\n",
       "      <td>[21.7656, 206.4182, 236.9182, 390.9182, 470.91...</td>\n",
       "    </tr>\n",
       "  </tbody>\n",
       "</table>\n",
       "</div>"
      ]
     },
     "execution_count": 3,
     "metadata": {},
     "output_type": "execute_result"
    }
   ],
   "execution_count": 3
  },
  {
   "metadata": {
    "ExecuteTime": {
     "end_time": "2025-05-11T08:33:54.822295Z",
     "start_time": "2025-05-11T08:33:54.816621Z"
    }
   },
   "cell_type": "code",
   "source": "df.columns",
   "id": "321da02efc928d17",
   "outputs": [
    {
     "data": {
      "text/plain": [
       "Index(['internal_id', 'video_id', 'video_name', 'timestamps'], dtype='object')"
      ]
     },
     "execution_count": 4,
     "metadata": {},
     "output_type": "execute_result"
    }
   ],
   "execution_count": 4
  },
  {
   "cell_type": "code",
   "id": "da2be4714f073596",
   "metadata": {
    "jupyter": {
     "is_executing": true
    },
    "ExecuteTime": {
     "start_time": "2025-05-11T08:33:54.872132Z"
    }
   },
   "source": [
    "for internal_id,_,_,timestamps in df.values:\n",
    "    timestamps = eval(timestamps)\n",
    "    # timestamps = str(timestamps)\n",
    "    timestamps = list(map(str, timestamps))\n",
    "    timestamps = f\"{(','.join(timestamps))}\"\n",
    "    if len(internal_id) != 6:\n",
    "        continue\n",
    "    try:\n",
    "        args = [\n",
    "            \"python\", \"/home/vedant/Desktop/glimpsify/most_info_frame_extractor/video2pdf/main.py\",\n",
    "            \"--input=local\",\n",
    "            f\"--dir={internal_id}\",\n",
    "            \"--ocr=tesseract\",\n",
    "            \"--extraction=timestamps\",\n",
    "            f'--timestamps',\n",
    "            timestamps,\n",
    "            '--ocr_approval=reject_all'\n",
    "        ]\n",
    "        print(args)\n",
    "        subprocess.run(\n",
    "            args\n",
    "        )\n",
    "    except:\n",
    "        print(\"Exception occurred for: \", internal_id)"
   ],
   "outputs": [
    {
     "name": "stdout",
     "output_type": "stream",
     "text": [
      "['python', '/home/vedant/Desktop/glimpsify/most_info_frame_extractor/video2pdf/main.py', '--input=local', '--dir=mhhqzg', '--ocr=tesseract', '--extraction=timestamps', '--timestamps', '24.961,70.2913,107.3214,145.5609,187.3366,192.8236,205.3429,224.0745,262.083,380.5809,493.1816,515.3795,563.1552,596.7536,632.3407,677.7231,720.4485,741.1738,792.9128,811.8972,1110.519,1188.5773,1236.5091,1307.1052,1357.3302,1402.4769,1551.9644,1605.2989,1659.4705,1715.3827,1769.7411,1792.2949,1874.8464,1894.9419,1902.2482,1919.7455,1937.0351,1976.6208,2061.0764,2075.3232,2156.3919', '--ocr_approval=reject_all']\n",
      "Created /home/vedant/Desktop/glimpsify/most_info_frame_extractor/video2pdf/data/mhhqzg_lpy\n"
     ]
    },
    {
     "name": "stderr",
     "output_type": "stream",
     "text": [
      "Processing Frames: 763it [00:07, 104.04it/s]\n"
     ]
    },
    {
     "name": "stdout",
     "output_type": "stream",
     "text": [
      "Processed 763 frames\n",
      "Extracted frames to /home/vedant/Desktop/glimpsify/most_info_frame_extractor/video2pdf/data/mhhqzg_lpy_extracted_frames\n",
      "Saved PDF to /home/vedant/Desktop/glimpsify/most_info_frame_extractor/video2pdf/data/mhhqzg_lpy.pdf for Human Biology Lecture: Chapter 18- Reproduction and Development.mp4\n",
      "['python', '/home/vedant/Desktop/glimpsify/most_info_frame_extractor/video2pdf/main.py', '--input=local', '--dir=yaldqc', '--ocr=tesseract', '--extraction=timestamps', '--timestamps', '32.3223,48.3223,95.8223,258.6495,273.6494,330.6494,379.6494,447.1494,500.6493,502.6492,549.6492,558.1492,640.6492,752.1492,800.1491,856.6491,867.1491,1053.8505,1091.3505,1186.1302,1290.4699,1420.4699,1500.4699,1540.4699,1598.4699', '--ocr_approval=reject_all']\n",
      "Created /home/vedant/Desktop/glimpsify/most_info_frame_extractor/video2pdf/data/yaldqc_fdi\n"
     ]
    },
    {
     "name": "stderr",
     "output_type": "stream",
     "text": [
      "Processing Frames: 554it [00:05, 97.76it/s] \n"
     ]
    },
    {
     "name": "stdout",
     "output_type": "stream",
     "text": [
      "Processed 554 frames\n",
      "Extracted frames to /home/vedant/Desktop/glimpsify/most_info_frame_extractor/video2pdf/data/yaldqc_fdi_extracted_frames\n",
      "Saved PDF to /home/vedant/Desktop/glimpsify/most_info_frame_extractor/video2pdf/data/yaldqc_fdi.pdf for Pediatric Dentistry | Developmental Disturbances of Teeth | INBDE, ADAT.mp4\n",
      "['python', '/home/vedant/Desktop/glimpsify/most_info_frame_extractor/video2pdf/main.py', '--input=local', '--dir=znavfo', '--ocr=tesseract', '--extraction=timestamps', '--timestamps', '19.1948,290.0761,361.9277,607.3729,684.8728,721.3727,749.3726,837.3726,961.8725,1114.8384,1136.8383,1303.8977,1336.3976,1509.8772,1602.3772,1628.8771,1652.377', '--ocr_approval=reject_all']\n",
      "Created /home/vedant/Desktop/glimpsify/most_info_frame_extractor/video2pdf/data/znavfo_jcc\n"
     ]
    },
    {
     "name": "stderr",
     "output_type": "stream",
     "text": [
      "Processing Frames: 570it [00:07, 76.63it/s]\n"
     ]
    },
    {
     "name": "stdout",
     "output_type": "stream",
     "text": [
      "Processed 570 frames\n",
      "Extracted frames to /home/vedant/Desktop/glimpsify/most_info_frame_extractor/video2pdf/data/znavfo_jcc_extracted_frames\n",
      "Saved PDF to /home/vedant/Desktop/glimpsify/most_info_frame_extractor/video2pdf/data/znavfo_jcc.pdf for Head & Neck Anatomy | Cranial Nerves | INBDE.mp4\n",
      "['python', '/home/vedant/Desktop/glimpsify/most_info_frame_extractor/video2pdf/main.py', '--input=local', '--dir=aqqzpy', '--ocr=tesseract', '--extraction=timestamps', '--timestamps', '19.3056,164.3056,249.3056,382.3056,490.8056,587.8056,724.3055,825.8055,1004.3055,1076.8055', '--ocr_approval=reject_all']\n",
      "Created /home/vedant/Desktop/glimpsify/most_info_frame_extractor/video2pdf/data/aqqzpy_awf\n"
     ]
    },
    {
     "name": "stderr",
     "output_type": "stream",
     "text": [
      "Processing Frames: 364it [00:03, 99.73it/s] \n"
     ]
    },
    {
     "name": "stdout",
     "output_type": "stream",
     "text": [
      "Processed 364 frames\n",
      "Extracted frames to /home/vedant/Desktop/glimpsify/most_info_frame_extractor/video2pdf/data/aqqzpy_awf_extracted_frames\n",
      "Saved PDF to /home/vedant/Desktop/glimpsify/most_info_frame_extractor/video2pdf/data/aqqzpy_awf.pdf for Prosthodontics | Mandibular Edentulous Anatomy | INBDE, ADAT.mp4\n",
      "['python', '/home/vedant/Desktop/glimpsify/most_info_frame_extractor/video2pdf/main.py', '--input=local', '--dir=sdcniw', '--ocr=tesseract', '--extraction=timestamps', '--timestamps', '21.7656,206.4182,236.9182,390.9182,470.9182,529.9182,574.9182,618.9182,660.9182,661.4182,661.9182,662.4182,662.9181', '--ocr_approval=reject_all']\n",
      "Created /home/vedant/Desktop/glimpsify/most_info_frame_extractor/video2pdf/data/sdcniw_bht\n"
     ]
    },
    {
     "name": "stderr",
     "output_type": "stream",
     "text": [
      "Processing Frames: 232it [00:02, 94.02it/s] \n"
     ]
    },
    {
     "name": "stdout",
     "output_type": "stream",
     "text": [
      "Processed 232 frames\n",
      "Extracted frames to /home/vedant/Desktop/glimpsify/most_info_frame_extractor/video2pdf/data/sdcniw_bht_extracted_frames\n",
      "Saved PDF to /home/vedant/Desktop/glimpsify/most_info_frame_extractor/video2pdf/data/sdcniw_bht.pdf for Periodontics | Local Factors | INBDE, ADAT.mp4\n",
      "['python', '/home/vedant/Desktop/glimpsify/most_info_frame_extractor/video2pdf/main.py', '--input=local', '--dir=mlvdvr', '--ocr=tesseract', '--extraction=timestamps', '--timestamps', '8.3906,28.3906,55.3906,63.3906,129.8906,183.3906,239.3906,314.3906,512.8906,658.8905,880.8905,939.3905,980.8905,1085.3905,1112.3904,1179.3904,1352.8904,1445.8904,1499.8904,1594.3904,1698.3904,1806.3903,1826.3902,1929.8902,1935.3902,2022.3902,2134.8902,2153.8902,2308.589', '--ocr_approval=reject_all']\n",
      "Created /home/vedant/Desktop/glimpsify/most_info_frame_extractor/video2pdf/data/mlvdvr_mwp\n"
     ]
    },
    {
     "name": "stderr",
     "output_type": "stream",
     "text": [
      "Processing Frames: 774it [00:06, 112.78it/s]\n"
     ]
    },
    {
     "name": "stdout",
     "output_type": "stream",
     "text": [
      "Processed 774 frames\n",
      "Extracted frames to /home/vedant/Desktop/glimpsify/most_info_frame_extractor/video2pdf/data/mlvdvr_mwp_extracted_frames\n",
      "Saved PDF to /home/vedant/Desktop/glimpsify/most_info_frame_extractor/video2pdf/data/mlvdvr_mwp.pdf for Human Biology: Ch 16.3- Cardiovascular System Part 1.mp4\n",
      "['python', '/home/vedant/Desktop/glimpsify/most_info_frame_extractor/video2pdf/main.py', '--input=local', '--dir=ufwmpg', '--ocr=tesseract', '--extraction=timestamps', '--timestamps', '34.6345,172.8143,372.4801,408.8358,540.6162,670.6417,767.6717,799.66,915.429,960.9334,997.1781,1031.8956,1041.3937,1151.5828,1235.6291,1289.6898,1373.6502,1409.447,1472.6337,1481.6163,1511.7311,1623.2534,1794.8679,1920.4819,2011.5358,2068.3363,2117.4052,2155.3621,2168.7298,2200.957,2227.2025,2252.3476,2279.3145,2280.8145,2285.6258,2294.4625,2294.9625,2295.4625,2295.9625,2297.4625,2444.3303,2461.0738,2509.4128,2510.9128,2547.8833,2691.2533,2704.7857,2734.9463,2763.0267,2811.501,2942.4321,3047.5591,3100.1727,3145.2881,3292.0634,3426.3799,3604.2797,3690.4769,3737.8248,3812.5615,3935.5059,4015.6052,4114.5698,4163.9039,4195.8893', '--ocr_approval=reject_all']\n"
     ]
    },
    {
     "name": "stderr",
     "output_type": "stream",
     "text": [
      "Processing Frames: 6it [00:00, 59.93it/s]"
     ]
    },
    {
     "name": "stdout",
     "output_type": "stream",
     "text": [
      "Created /home/vedant/Desktop/glimpsify/most_info_frame_extractor/video2pdf/data/ufwmpg_ehc\n"
     ]
    },
    {
     "name": "stderr",
     "output_type": "stream",
     "text": [
      "Processing Frames: 1425it [00:19, 73.68it/s]\n"
     ]
    },
    {
     "name": "stdout",
     "output_type": "stream",
     "text": [
      "['python', '/home/vedant/Desktop/glimpsify/most_info_frame_extractor/video2pdf/main.py', '--input=local', '--dir=sktpkr', '--ocr=tesseract', '--extraction=timestamps', '--timestamps', '16.9142,60.4142,84.9142,115.9142,251.9142,434.4142,451.4142', '--ocr_approval=reject_all']\n",
      "Created /home/vedant/Desktop/glimpsify/most_info_frame_extractor/video2pdf/data/sktpkr_hee\n"
     ]
    },
    {
     "name": "stderr",
     "output_type": "stream",
     "text": [
      "Processing Frames: 173it [00:01, 87.80it/s] \n"
     ]
    },
    {
     "name": "stdout",
     "output_type": "stream",
     "text": [
      "Processed 173 frames\n",
      "Extracted frames to /home/vedant/Desktop/glimpsify/most_info_frame_extractor/video2pdf/data/sktpkr_hee_extracted_frames\n",
      "Saved PDF to /home/vedant/Desktop/glimpsify/most_info_frame_extractor/video2pdf/data/sktpkr_hee.pdf for STATIC OCCLUSION - Occlusal Contacts & Picket Fence.mp4\n",
      "['python', '/home/vedant/Desktop/glimpsify/most_info_frame_extractor/video2pdf/main.py', '--input=local', '--dir=trlhdz', '--ocr=tesseract', '--extraction=timestamps', '--timestamps', '63.9349,112.2957,169.2957,221.7957,267.2957,294.7956,329.2956,384.2956,404.2955,406.7955,416.7955,473.7955,583.7955,625.7955,649.2955,675.2955,676.7954,779.2954,813.7954,889.2954,953.2954,959.7953,965.7953,985.2953,1025.7953,1042.7953,1072.2953,1131.2953', '--ocr_approval=reject_all']\n"
     ]
    },
    {
     "name": "stderr",
     "output_type": "stream",
     "text": [
      "Processing Frames: 11it [00:00, 102.14it/s]"
     ]
    },
    {
     "name": "stdout",
     "output_type": "stream",
     "text": [
      "Created /home/vedant/Desktop/glimpsify/most_info_frame_extractor/video2pdf/data/trlhdz_hcj\n"
     ]
    },
    {
     "name": "stderr",
     "output_type": "stream",
     "text": [
      "Processing Frames: 292it [00:02, 100.01it/s]\n"
     ]
    },
    {
     "name": "stdout",
     "output_type": "stream",
     "text": [
      "Processed 292 frames\n"
     ]
    },
    {
     "name": "stderr",
     "output_type": "stream",
     "text": [
      "Traceback (most recent call last):\n",
      "  File \"/home/vedant/Desktop/glimpsify/most_info_frame_extractor/video2pdf/main.py\", line 119, in <module>\n",
      "    main()\n",
      "  File \"/home/vedant/Desktop/glimpsify/most_info_frame_extractor/video2pdf/main.py\", line 109, in main\n",
      "    directory = input_strategy.proceed()\n",
      "                ^^^^^^^^^^^^^^^^^^^^^^^^\n",
      "  File \"/home/vedant/Desktop/glimpsify/most_info_frame_extractor/video2pdf/input_strategy/local_video_input_strategy.py\", line 84, in proceed\n",
      "    Helper.save_extracted_frames(\n",
      "  File \"/home/vedant/Desktop/glimpsify/most_info_frame_extractor/video2pdf/utils/helper.py\", line 66, in save_extracted_frames\n",
      "    cv2.imwrite(frame_output_path, frame)\n",
      "cv2.error: OpenCV(4.10.0) /io/opencv/modules/imgcodecs/src/loadsave.cpp:798: error: (-215:Assertion failed) !_img.empty() in function 'imwrite'\n",
      "\n"
     ]
    },
    {
     "name": "stdout",
     "output_type": "stream",
     "text": [
      "['python', '/home/vedant/Desktop/glimpsify/most_info_frame_extractor/video2pdf/main.py', '--input=local', '--dir=mfewuh', '--ocr=tesseract', '--extraction=timestamps', '--timestamps', '28.5358,73.5357,97.5357,169.0357,304.5357,390.5357,447.5357,513.0357,581.5357,610.0356,621.0356,628.0356,676.5356,692.0355,727.5354,813.0354,821.5353,917.0353,963.5353,981.0352,1107.5352,1241.0352,1277.0351,1307.535,1326.5349,1361.5349,1429.0349,1472.0349,1500.0349,1566.5349,1613.5349,1638.0349,1689.5348,1802.0348,1825.0348', '--ocr_approval=reject_all']\n",
      "Created /home/vedant/Desktop/glimpsify/most_info_frame_extractor/video2pdf/data/mfewuh_krc\n"
     ]
    },
    {
     "name": "stderr",
     "output_type": "stream",
     "text": [
      "Processing Frames: 633it [00:05, 109.94it/s]\n"
     ]
    },
    {
     "name": "stdout",
     "output_type": "stream",
     "text": [
      "Processed 633 frames\n",
      "Extracted frames to /home/vedant/Desktop/glimpsify/most_info_frame_extractor/video2pdf/data/mfewuh_krc_extracted_frames\n",
      "Saved PDF to /home/vedant/Desktop/glimpsify/most_info_frame_extractor/video2pdf/data/mfewuh_krc.pdf for Human Biology Lecture: Chapter 7- Cellular Basis of Inheritance (Meiosis).mp4\n",
      "['python', '/home/vedant/Desktop/glimpsify/most_info_frame_extractor/video2pdf/main.py', '--input=local', '--dir=wayvbl', '--ocr=tesseract', '--extraction=timestamps', '--timestamps', '4.5,61.5,204.0,275.5,352.5,364.5,422.0,589.5,661.0,691.5,819.0,834.5,843.5,887.0,992.0,1049.0,1108.0,1171.0,1187.0,1200.5,1230.5,1330.0,1362.5,1439.5,1568.5,1646.5,1786.5,1807.0,1884.5,1971.5,2058.0,2218.0,2327.5,2433.0,2446.5,2489.5,2527.9999,2557.9999,2608.4999,2660.9999,2736.9999,2821.4999,2909.9999,3164.9999,3208.9999,3223.4999,3270.9999,3530.9999,3620.4998,3651.4998,3667.9998,3711.4998,3729.4998,3767.9998,3800.4998,3860.4998,3972.9998,3994.9998,3995.9998', '--ocr_approval=reject_all']\n",
      "Created /home/vedant/Desktop/glimpsify/most_info_frame_extractor/video2pdf/data/wayvbl_vbg\n"
     ]
    },
    {
     "name": "stderr",
     "output_type": "stream",
     "text": [
      "Processing Frames: 1351it [00:16, 84.44it/s]\n"
     ]
    }
   ],
   "execution_count": null
  },
  {
   "metadata": {
    "ExecuteTime": {
     "end_time": "2025-05-11T08:33:36.656997172Z",
     "start_time": "2025-05-11T05:44:01.496993Z"
    }
   },
   "cell_type": "code",
   "source": "",
   "id": "2f5258a7008a7d4f",
   "outputs": [],
   "execution_count": null
  },
  {
   "metadata": {
    "ExecuteTime": {
     "end_time": "2025-05-11T08:33:36.661565039Z",
     "start_time": "2025-05-11T05:44:01.542699Z"
    }
   },
   "cell_type": "code",
   "source": [
    "\n",
    "    dir = \"/home/vedant/Desktop/glimpsify/most_info_frame_extractor/video2pdf/data\"\n"
   ],
   "id": "initial_id",
   "outputs": [],
   "execution_count": 30
  }
 ],
 "metadata": {
  "kernelspec": {
   "display_name": "Python 3",
   "language": "python",
   "name": "python3"
  },
  "language_info": {
   "codemirror_mode": {
    "name": "ipython",
    "version": 2
   },
   "file_extension": ".py",
   "mimetype": "text/x-python",
   "name": "python",
   "nbconvert_exporter": "python",
   "pygments_lexer": "ipython2",
   "version": "2.7.6"
  }
 },
 "nbformat": 4,
 "nbformat_minor": 5
}
